{
 "cells": [
  {
   "cell_type": "markdown",
   "metadata": {},
   "source": [
    "# Capstone 3 - Modeling\n",
    "\n",
    "Objective:\n",
    "\n",
    "Procedure:\n",
    "\n",
    "Build pipeline\n",
    "\n",
    "onehotencode categorical features\n",
    "ordinal encode\n",
    "standard scale numerical features\n",
    "\n",
    "Results:\n",
    "\n",
    "Conclusion:"
   ]
  },
  {
   "cell_type": "markdown",
   "metadata": {},
   "source": [
    "# Import Modules"
   ]
  },
  {
   "cell_type": "code",
   "execution_count": 1,
   "metadata": {
    "ExecuteTime": {
     "end_time": "2021-10-07T15:55:27.631179Z",
     "start_time": "2021-10-07T15:55:27.104011Z"
    }
   },
   "outputs": [],
   "source": [
    "import pandas as pd\n",
    "import numpy as np\n",
    "import matplotlib.pyplot as plt\n",
    "import seaborn as sns\n",
    "\n",
    "%matplotlib inline"
   ]
  },
  {
   "cell_type": "code",
   "execution_count": 16,
   "metadata": {
    "ExecuteTime": {
     "end_time": "2021-10-07T19:40:50.691765Z",
     "start_time": "2021-10-07T19:40:50.633748Z"
    }
   },
   "outputs": [],
   "source": [
    "# sklearn libraries\n",
    "\n",
    "from sklearn.compose import make_column_transformer\n",
    "\n",
    "from sklearn.model_selection import train_test_split\n",
    "from sklearn.model_selection import TimeSeriesSplit, GridSearchCV, RandomizedSearchCV, TimeSeriesSplit\n",
    "\n",
    "from sklearn.preprocessing import StandardScaler, OneHotEncoder, OrdinalEncoder\n",
    "\n",
    "from sklearn.model_selection import cross_validate\n",
    "\n",
    "\n",
    "from sklearn.decomposition import PCA\n",
    "from sklearn.decomposition import NMF\n",
    "\n",
    "from sklearn.tree import DecisionTreeClassifier\n",
    "\n",
    "from sklearn.linear_model import LogisticRegression\n",
    "from sklearn.linear_model import LinearRegression\n",
    "from sklearn.linear_model import Lasso\n",
    "from sklearn.linear_model import ElasticNet\n",
    "\n",
    "\n",
    "from sklearn.ensemble import RandomForestRegressor\n",
    "from sklearn.ensemble import GradientBoostingRegressor\n",
    "from sklearn.experimental import enable_hist_gradient_boosting\n",
    "from sklearn.ensemble import HistGradientBoostingRegressor\n",
    "\n",
    "\n",
    "#Model Metrics\n",
    "from sklearn.metrics import mean_squared_error\n",
    "from sklearn.metrics import mean_absolute_error\n",
    "from sklearn.metrics import r2_score\n",
    "\n",
    "from sklearn.pipeline import Pipeline\n",
    "from sklearn.pipeline import make_pipeline\n",
    "from sklearn.svm import LinearSVC\n",
    "\n",
    "import xgboost as xgb \n",
    "\n",
    "from sklearn.pipeline import Pipeline\n"
   ]
  },
  {
   "cell_type": "code",
   "execution_count": 3,
   "metadata": {
    "scrolled": true
   },
   "outputs": [
    {
     "name": "stdout",
     "output_type": "stream",
     "text": [
      "Capstone 3 Data Wrangling Ed Gatdula.ipynb\r\n",
      "Capstone 3 EDA Ed Gatdula.ipynb\r\n",
      "Capstone 3 Modeling - Ed Gatdula.ipynb\r\n",
      "Capstone 3 Modeling - TimeSeriesSplit Version.ipynb\r\n",
      "Capstone 3 Modeling Notes.ipynb\r\n",
      "Capstone 3 Modeling Tests.ipynb\r\n",
      "Feature Union Worksheet.ipynb\r\n",
      "\u001b[34mcapstone 3 project data\u001b[m\u001b[m\r\n",
      "capstone_3\r\n",
      "capstone_3_test_data\r\n",
      "capstone_3_train_data\r\n",
      "capstone_3_wrnglng_results\r\n",
      "kaggle_submission2_random_forest\r\n",
      "kaggle_submission3_xgboost\r\n",
      "kaggle_submission4_randomforest_randomsearchcv\r\n",
      "kaggle_submission5_randomforest_randomsearchcv\r\n",
      "kaggle_submission_test\r\n"
     ]
    }
   ],
   "source": [
    "!ls"
   ]
  },
  {
   "cell_type": "markdown",
   "metadata": {},
   "source": [
    "# Import Data\n"
   ]
  },
  {
   "cell_type": "markdown",
   "metadata": {},
   "source": [
    "## Test set: OneHotEncode, OrdinalEncoder"
   ]
  },
  {
   "cell_type": "code",
   "execution_count": 3,
   "metadata": {
    "ExecuteTime": {
     "end_time": "2021-10-07T15:55:34.284032Z",
     "start_time": "2021-10-07T15:55:34.097830Z"
    }
   },
   "outputs": [
    {
     "name": "stdout",
     "output_type": "stream",
     "text": [
      "df_test shape: (115064, 18)\n",
      "\n",
      "<class 'pandas.core.frame.DataFrame'>\n",
      "RangeIndex: 115064 entries, 0 to 115063\n",
      "Data columns (total 18 columns):\n",
      " #   Column        Non-Null Count   Dtype  \n",
      "---  ------        --------------   -----  \n",
      " 0   Date          115064 non-null  object \n",
      " 1   Store         115064 non-null  int64  \n",
      " 2   Dept          115064 non-null  int64  \n",
      " 3   IsHoliday     115064 non-null  int64  \n",
      " 4   Temperature   115064 non-null  float64\n",
      " 5   Fuel_Price    115064 non-null  float64\n",
      " 6   MarkDown1     115064 non-null  float64\n",
      " 7   MarkDown2     115064 non-null  float64\n",
      " 8   MarkDown3     115064 non-null  float64\n",
      " 9   MarkDown4     115064 non-null  float64\n",
      " 10  MarkDown5     115064 non-null  float64\n",
      " 11  CPI           115064 non-null  float64\n",
      " 12  Unemployment  115064 non-null  float64\n",
      " 13  isocalendar   115064 non-null  object \n",
      " 14  Week          115064 non-null  int64  \n",
      " 15  Type          115064 non-null  object \n",
      " 16  Size          115064 non-null  int64  \n",
      " 17  cci_value     115064 non-null  float64\n",
      "dtypes: float64(10), int64(5), object(3)\n",
      "memory usage: 15.8+ MB\n"
     ]
    },
    {
     "data": {
      "text/html": [
       "<div>\n",
       "<style scoped>\n",
       "    .dataframe tbody tr th:only-of-type {\n",
       "        vertical-align: middle;\n",
       "    }\n",
       "\n",
       "    .dataframe tbody tr th {\n",
       "        vertical-align: top;\n",
       "    }\n",
       "\n",
       "    .dataframe thead th {\n",
       "        text-align: right;\n",
       "    }\n",
       "</style>\n",
       "<table border=\"1\" class=\"dataframe\">\n",
       "  <thead>\n",
       "    <tr style=\"text-align: right;\">\n",
       "      <th></th>\n",
       "      <th>Date</th>\n",
       "      <th>Store</th>\n",
       "      <th>Dept</th>\n",
       "      <th>IsHoliday</th>\n",
       "      <th>Temperature</th>\n",
       "      <th>Fuel_Price</th>\n",
       "      <th>MarkDown1</th>\n",
       "      <th>MarkDown2</th>\n",
       "      <th>MarkDown3</th>\n",
       "      <th>MarkDown4</th>\n",
       "      <th>MarkDown5</th>\n",
       "      <th>CPI</th>\n",
       "      <th>Unemployment</th>\n",
       "      <th>isocalendar</th>\n",
       "      <th>Week</th>\n",
       "      <th>Type</th>\n",
       "      <th>Size</th>\n",
       "      <th>cci_value</th>\n",
       "    </tr>\n",
       "  </thead>\n",
       "  <tbody>\n",
       "    <tr>\n",
       "      <th>0</th>\n",
       "      <td>2012-11-02</td>\n",
       "      <td>1</td>\n",
       "      <td>1</td>\n",
       "      <td>0</td>\n",
       "      <td>55.32</td>\n",
       "      <td>3.386</td>\n",
       "      <td>6766.44</td>\n",
       "      <td>5147.7</td>\n",
       "      <td>50.82</td>\n",
       "      <td>3639.9</td>\n",
       "      <td>2737.42</td>\n",
       "      <td>223.462779</td>\n",
       "      <td>6.573</td>\n",
       "      <td>(2012, 44)</td>\n",
       "      <td>44</td>\n",
       "      <td>A</td>\n",
       "      <td>151315</td>\n",
       "      <td>99.00362</td>\n",
       "    </tr>\n",
       "    <tr>\n",
       "      <th>1</th>\n",
       "      <td>2012-11-02</td>\n",
       "      <td>1</td>\n",
       "      <td>2</td>\n",
       "      <td>0</td>\n",
       "      <td>55.32</td>\n",
       "      <td>3.386</td>\n",
       "      <td>6766.44</td>\n",
       "      <td>5147.7</td>\n",
       "      <td>50.82</td>\n",
       "      <td>3639.9</td>\n",
       "      <td>2737.42</td>\n",
       "      <td>223.462779</td>\n",
       "      <td>6.573</td>\n",
       "      <td>(2012, 44)</td>\n",
       "      <td>44</td>\n",
       "      <td>A</td>\n",
       "      <td>151315</td>\n",
       "      <td>99.00362</td>\n",
       "    </tr>\n",
       "    <tr>\n",
       "      <th>2</th>\n",
       "      <td>2012-11-02</td>\n",
       "      <td>1</td>\n",
       "      <td>3</td>\n",
       "      <td>0</td>\n",
       "      <td>55.32</td>\n",
       "      <td>3.386</td>\n",
       "      <td>6766.44</td>\n",
       "      <td>5147.7</td>\n",
       "      <td>50.82</td>\n",
       "      <td>3639.9</td>\n",
       "      <td>2737.42</td>\n",
       "      <td>223.462779</td>\n",
       "      <td>6.573</td>\n",
       "      <td>(2012, 44)</td>\n",
       "      <td>44</td>\n",
       "      <td>A</td>\n",
       "      <td>151315</td>\n",
       "      <td>99.00362</td>\n",
       "    </tr>\n",
       "    <tr>\n",
       "      <th>3</th>\n",
       "      <td>2012-11-02</td>\n",
       "      <td>1</td>\n",
       "      <td>4</td>\n",
       "      <td>0</td>\n",
       "      <td>55.32</td>\n",
       "      <td>3.386</td>\n",
       "      <td>6766.44</td>\n",
       "      <td>5147.7</td>\n",
       "      <td>50.82</td>\n",
       "      <td>3639.9</td>\n",
       "      <td>2737.42</td>\n",
       "      <td>223.462779</td>\n",
       "      <td>6.573</td>\n",
       "      <td>(2012, 44)</td>\n",
       "      <td>44</td>\n",
       "      <td>A</td>\n",
       "      <td>151315</td>\n",
       "      <td>99.00362</td>\n",
       "    </tr>\n",
       "    <tr>\n",
       "      <th>4</th>\n",
       "      <td>2012-11-02</td>\n",
       "      <td>1</td>\n",
       "      <td>5</td>\n",
       "      <td>0</td>\n",
       "      <td>55.32</td>\n",
       "      <td>3.386</td>\n",
       "      <td>6766.44</td>\n",
       "      <td>5147.7</td>\n",
       "      <td>50.82</td>\n",
       "      <td>3639.9</td>\n",
       "      <td>2737.42</td>\n",
       "      <td>223.462779</td>\n",
       "      <td>6.573</td>\n",
       "      <td>(2012, 44)</td>\n",
       "      <td>44</td>\n",
       "      <td>A</td>\n",
       "      <td>151315</td>\n",
       "      <td>99.00362</td>\n",
       "    </tr>\n",
       "  </tbody>\n",
       "</table>\n",
       "</div>"
      ],
      "text/plain": [
       "         Date  Store  Dept  IsHoliday  Temperature  Fuel_Price  MarkDown1  \\\n",
       "0  2012-11-02      1     1          0        55.32       3.386    6766.44   \n",
       "1  2012-11-02      1     2          0        55.32       3.386    6766.44   \n",
       "2  2012-11-02      1     3          0        55.32       3.386    6766.44   \n",
       "3  2012-11-02      1     4          0        55.32       3.386    6766.44   \n",
       "4  2012-11-02      1     5          0        55.32       3.386    6766.44   \n",
       "\n",
       "   MarkDown2  MarkDown3  MarkDown4  MarkDown5         CPI  Unemployment  \\\n",
       "0     5147.7      50.82     3639.9    2737.42  223.462779         6.573   \n",
       "1     5147.7      50.82     3639.9    2737.42  223.462779         6.573   \n",
       "2     5147.7      50.82     3639.9    2737.42  223.462779         6.573   \n",
       "3     5147.7      50.82     3639.9    2737.42  223.462779         6.573   \n",
       "4     5147.7      50.82     3639.9    2737.42  223.462779         6.573   \n",
       "\n",
       "  isocalendar  Week Type    Size  cci_value  \n",
       "0  (2012, 44)    44    A  151315   99.00362  \n",
       "1  (2012, 44)    44    A  151315   99.00362  \n",
       "2  (2012, 44)    44    A  151315   99.00362  \n",
       "3  (2012, 44)    44    A  151315   99.00362  \n",
       "4  (2012, 44)    44    A  151315   99.00362  "
      ]
     },
     "execution_count": 3,
     "metadata": {},
     "output_type": "execute_result"
    }
   ],
   "source": [
    "# test set for kaggle prediction\n",
    "\n",
    "df_test = pd.read_csv('./capstone_3_test_data')\n",
    "print('df_test shape: {}\\n'.format(df_test.shape))\n",
    "df_test.info()\n",
    "df_test.head()"
   ]
  },
  {
   "cell_type": "markdown",
   "metadata": {},
   "source": [
    "## Train Set: OneHotEncoder, OrdinalEncoder\n",
    "\n",
    "Using OrdinalEncoder, OneHotEncoder, StandardScaler to:\n",
    "\n",
    "1. prepare data for model use\n",
    "2. prepare columntransformer in pipeline"
   ]
  },
  {
   "cell_type": "code",
   "execution_count": 4,
   "metadata": {
    "ExecuteTime": {
     "end_time": "2021-10-07T15:55:37.963686Z",
     "start_time": "2021-10-07T15:55:37.450938Z"
    },
    "scrolled": false
   },
   "outputs": [
    {
     "name": "stdout",
     "output_type": "stream",
     "text": [
      "df_train shape: (421570, 19)\n",
      "\n",
      "<class 'pandas.core.frame.DataFrame'>\n",
      "RangeIndex: 421570 entries, 0 to 421569\n",
      "Data columns (total 19 columns):\n",
      " #   Column        Non-Null Count   Dtype  \n",
      "---  ------        --------------   -----  \n",
      " 0   Date          421570 non-null  object \n",
      " 1   Store         421570 non-null  int64  \n",
      " 2   Dept          421570 non-null  int64  \n",
      " 3   Weekly_Sales  421570 non-null  float64\n",
      " 4   IsHoliday     421570 non-null  int64  \n",
      " 5   Temperature   421570 non-null  float64\n",
      " 6   Fuel_Price    421570 non-null  float64\n",
      " 7   MarkDown1     421570 non-null  float64\n",
      " 8   MarkDown2     421570 non-null  float64\n",
      " 9   MarkDown3     421570 non-null  float64\n",
      " 10  MarkDown4     421570 non-null  float64\n",
      " 11  MarkDown5     421570 non-null  float64\n",
      " 12  CPI           421570 non-null  float64\n",
      " 13  Unemployment  421570 non-null  float64\n",
      " 14  isocalendar   421570 non-null  object \n",
      " 15  Week          421570 non-null  int64  \n",
      " 16  Type          421570 non-null  object \n",
      " 17  Size          421570 non-null  int64  \n",
      " 18  cci_value     421570 non-null  float64\n",
      "dtypes: float64(11), int64(5), object(3)\n",
      "memory usage: 61.1+ MB\n"
     ]
    },
    {
     "data": {
      "text/html": [
       "<div>\n",
       "<style scoped>\n",
       "    .dataframe tbody tr th:only-of-type {\n",
       "        vertical-align: middle;\n",
       "    }\n",
       "\n",
       "    .dataframe tbody tr th {\n",
       "        vertical-align: top;\n",
       "    }\n",
       "\n",
       "    .dataframe thead th {\n",
       "        text-align: right;\n",
       "    }\n",
       "</style>\n",
       "<table border=\"1\" class=\"dataframe\">\n",
       "  <thead>\n",
       "    <tr style=\"text-align: right;\">\n",
       "      <th></th>\n",
       "      <th>Date</th>\n",
       "      <th>Store</th>\n",
       "      <th>Dept</th>\n",
       "      <th>Weekly_Sales</th>\n",
       "      <th>IsHoliday</th>\n",
       "      <th>Temperature</th>\n",
       "      <th>Fuel_Price</th>\n",
       "      <th>MarkDown1</th>\n",
       "      <th>MarkDown2</th>\n",
       "      <th>MarkDown3</th>\n",
       "      <th>MarkDown4</th>\n",
       "      <th>MarkDown5</th>\n",
       "      <th>CPI</th>\n",
       "      <th>Unemployment</th>\n",
       "      <th>isocalendar</th>\n",
       "      <th>Week</th>\n",
       "      <th>Type</th>\n",
       "      <th>Size</th>\n",
       "      <th>cci_value</th>\n",
       "    </tr>\n",
       "  </thead>\n",
       "  <tbody>\n",
       "    <tr>\n",
       "      <th>0</th>\n",
       "      <td>2010-02-05</td>\n",
       "      <td>1</td>\n",
       "      <td>1</td>\n",
       "      <td>24924.50</td>\n",
       "      <td>0</td>\n",
       "      <td>42.31</td>\n",
       "      <td>2.572</td>\n",
       "      <td>0.0</td>\n",
       "      <td>0.0</td>\n",
       "      <td>0.0</td>\n",
       "      <td>0.0</td>\n",
       "      <td>0.0</td>\n",
       "      <td>211.096358</td>\n",
       "      <td>8.106</td>\n",
       "      <td>(2010, 5)</td>\n",
       "      <td>5</td>\n",
       "      <td>A</td>\n",
       "      <td>151315</td>\n",
       "      <td>98.22324</td>\n",
       "    </tr>\n",
       "    <tr>\n",
       "      <th>1</th>\n",
       "      <td>2010-02-05</td>\n",
       "      <td>1</td>\n",
       "      <td>2</td>\n",
       "      <td>50605.27</td>\n",
       "      <td>0</td>\n",
       "      <td>42.31</td>\n",
       "      <td>2.572</td>\n",
       "      <td>0.0</td>\n",
       "      <td>0.0</td>\n",
       "      <td>0.0</td>\n",
       "      <td>0.0</td>\n",
       "      <td>0.0</td>\n",
       "      <td>211.096358</td>\n",
       "      <td>8.106</td>\n",
       "      <td>(2010, 5)</td>\n",
       "      <td>5</td>\n",
       "      <td>A</td>\n",
       "      <td>151315</td>\n",
       "      <td>98.22324</td>\n",
       "    </tr>\n",
       "    <tr>\n",
       "      <th>2</th>\n",
       "      <td>2010-02-05</td>\n",
       "      <td>1</td>\n",
       "      <td>3</td>\n",
       "      <td>13740.12</td>\n",
       "      <td>0</td>\n",
       "      <td>42.31</td>\n",
       "      <td>2.572</td>\n",
       "      <td>0.0</td>\n",
       "      <td>0.0</td>\n",
       "      <td>0.0</td>\n",
       "      <td>0.0</td>\n",
       "      <td>0.0</td>\n",
       "      <td>211.096358</td>\n",
       "      <td>8.106</td>\n",
       "      <td>(2010, 5)</td>\n",
       "      <td>5</td>\n",
       "      <td>A</td>\n",
       "      <td>151315</td>\n",
       "      <td>98.22324</td>\n",
       "    </tr>\n",
       "    <tr>\n",
       "      <th>3</th>\n",
       "      <td>2010-02-05</td>\n",
       "      <td>1</td>\n",
       "      <td>4</td>\n",
       "      <td>39954.04</td>\n",
       "      <td>0</td>\n",
       "      <td>42.31</td>\n",
       "      <td>2.572</td>\n",
       "      <td>0.0</td>\n",
       "      <td>0.0</td>\n",
       "      <td>0.0</td>\n",
       "      <td>0.0</td>\n",
       "      <td>0.0</td>\n",
       "      <td>211.096358</td>\n",
       "      <td>8.106</td>\n",
       "      <td>(2010, 5)</td>\n",
       "      <td>5</td>\n",
       "      <td>A</td>\n",
       "      <td>151315</td>\n",
       "      <td>98.22324</td>\n",
       "    </tr>\n",
       "    <tr>\n",
       "      <th>4</th>\n",
       "      <td>2010-02-05</td>\n",
       "      <td>1</td>\n",
       "      <td>5</td>\n",
       "      <td>32229.38</td>\n",
       "      <td>0</td>\n",
       "      <td>42.31</td>\n",
       "      <td>2.572</td>\n",
       "      <td>0.0</td>\n",
       "      <td>0.0</td>\n",
       "      <td>0.0</td>\n",
       "      <td>0.0</td>\n",
       "      <td>0.0</td>\n",
       "      <td>211.096358</td>\n",
       "      <td>8.106</td>\n",
       "      <td>(2010, 5)</td>\n",
       "      <td>5</td>\n",
       "      <td>A</td>\n",
       "      <td>151315</td>\n",
       "      <td>98.22324</td>\n",
       "    </tr>\n",
       "  </tbody>\n",
       "</table>\n",
       "</div>"
      ],
      "text/plain": [
       "         Date  Store  Dept  Weekly_Sales  IsHoliday  Temperature  Fuel_Price  \\\n",
       "0  2010-02-05      1     1      24924.50          0        42.31       2.572   \n",
       "1  2010-02-05      1     2      50605.27          0        42.31       2.572   \n",
       "2  2010-02-05      1     3      13740.12          0        42.31       2.572   \n",
       "3  2010-02-05      1     4      39954.04          0        42.31       2.572   \n",
       "4  2010-02-05      1     5      32229.38          0        42.31       2.572   \n",
       "\n",
       "   MarkDown1  MarkDown2  MarkDown3  MarkDown4  MarkDown5         CPI  \\\n",
       "0        0.0        0.0        0.0        0.0        0.0  211.096358   \n",
       "1        0.0        0.0        0.0        0.0        0.0  211.096358   \n",
       "2        0.0        0.0        0.0        0.0        0.0  211.096358   \n",
       "3        0.0        0.0        0.0        0.0        0.0  211.096358   \n",
       "4        0.0        0.0        0.0        0.0        0.0  211.096358   \n",
       "\n",
       "   Unemployment isocalendar  Week Type    Size  cci_value  \n",
       "0         8.106   (2010, 5)     5    A  151315   98.22324  \n",
       "1         8.106   (2010, 5)     5    A  151315   98.22324  \n",
       "2         8.106   (2010, 5)     5    A  151315   98.22324  \n",
       "3         8.106   (2010, 5)     5    A  151315   98.22324  \n",
       "4         8.106   (2010, 5)     5    A  151315   98.22324  "
      ]
     },
     "execution_count": 4,
     "metadata": {},
     "output_type": "execute_result"
    }
   ],
   "source": [
    "# training data\n",
    "df_train = pd.read_csv('./capstone_3_train_data')\n",
    "print('df_train shape: {}\\n'.format(df_train.shape))\n",
    "df_train.info()\n",
    "df_train.head()"
   ]
  },
  {
   "cell_type": "code",
   "execution_count": 6,
   "metadata": {},
   "outputs": [
    {
     "data": {
      "text/plain": [
       "['Date',\n",
       " 'Store',\n",
       " 'Dept',\n",
       " 'Weekly_Sales',\n",
       " 'IsHoliday',\n",
       " 'Temperature',\n",
       " 'Fuel_Price',\n",
       " 'MarkDown1',\n",
       " 'MarkDown2',\n",
       " 'MarkDown3',\n",
       " 'MarkDown4',\n",
       " 'MarkDown5',\n",
       " 'CPI',\n",
       " 'Unemployment',\n",
       " 'isocalendar',\n",
       " 'Week',\n",
       " 'Type',\n",
       " 'Size',\n",
       " 'cci_value']"
      ]
     },
     "execution_count": 6,
     "metadata": {},
     "output_type": "execute_result"
    }
   ],
   "source": [
    "train_features = df_train.columns.to_list()\n",
    "train_features"
   ]
  },
  {
   "cell_type": "markdown",
   "metadata": {},
   "source": [
    "## Column Transformer Setup"
   ]
  },
  {
   "cell_type": "code",
   "execution_count": 172,
   "metadata": {
    "ExecuteTime": {
     "end_time": "2021-10-08T23:31:56.380920Z",
     "start_time": "2021-10-08T23:31:56.165144Z"
    }
   },
   "outputs": [
    {
     "data": {
      "text/plain": [
       "ColumnTransformer(sparse_threshold=0,\n",
       "                  transformers=[('standardscaler', StandardScaler(),\n",
       "                                 ['Temperature', 'Fuel_Price', 'MarkDown1',\n",
       "                                  'MarkDown2', 'MarkDown3', 'MarkDown4',\n",
       "                                  'MarkDown5', 'CPI', 'Unemployment', 'Size',\n",
       "                                  'cci_value']),\n",
       "                                ('onehotencoder',\n",
       "                                 OneHotEncoder(handle_unknown='ignore'),\n",
       "                                 ['IsHoliday', 'Dept']),\n",
       "                                ('ordinalencoder', OrdinalEncoder(),\n",
       "                                 ['Week', 'Type'])])"
      ]
     },
     "execution_count": 172,
     "metadata": {},
     "output_type": "execute_result"
    }
   ],
   "source": [
    "# Nominal Categories: 'IsHoliday', 'Dept'\n",
    "\n",
    "ohe=OneHotEncoder(handle_unknown='ignore')\n",
    "ohe.fit_transform(df_train[[\"IsHoliday\",'Dept']])\n",
    "ohe.categories_\n",
    "\n",
    "# Ordinal Categories: 'Week','Type'\n",
    "oe = OrdinalEncoder()\n",
    "oe.fit_transform(df_train[['Week','Type']])\n",
    "oe.categories_\n",
    "\n",
    "# Standard Scaler for Numerical Features\n",
    "scaler = StandardScaler()\n",
    "scaler.fit_transform(df_train[['Temperature', 'Fuel_Price', 'MarkDown1',\n",
    "                                  'MarkDown2', 'MarkDown3', 'MarkDown4',\n",
    "                                  'MarkDown5', 'CPI', 'Unemployment', 'Size',\n",
    "                                  'cci_value']])\n",
    "\n",
    "# Instantiate make_column_transformer using standard scaler, onehotencoder, ordinalencoder\n",
    "\n",
    "column_transform = make_column_transformer((scaler,['Temperature', 'Fuel_Price','MarkDown1',\n",
    "                                                              'MarkDown2', 'MarkDown3', 'MarkDown4',\n",
    "                                                              'MarkDown5', 'CPI', 'Unemployment', 'Size',\n",
    "                                                              'cci_value']),\n",
    "                                           (ohe,['IsHoliday','Dept']), \n",
    "                                           (oe,['Week','Type']),sparse_threshold=0)\n",
    "column_transform"
   ]
  },
  {
   "cell_type": "code",
   "execution_count": 9,
   "metadata": {
    "ExecuteTime": {
     "end_time": "2021-10-07T15:55:55.895995Z",
     "start_time": "2021-10-07T15:55:55.483243Z"
    }
   },
   "outputs": [
    {
     "data": {
      "text/plain": [
       "array([[-0.96379804, -1.72083413, -0.42794328, ...,  0.        ,\n",
       "         4.        ,  0.        ],\n",
       "       [-0.96379804, -1.72083413, -0.42794328, ...,  0.        ,\n",
       "         4.        ,  0.        ],\n",
       "       [-0.96379804, -1.72083413, -0.42794328, ...,  0.        ,\n",
       "         4.        ,  0.        ],\n",
       "       ...,\n",
       "       [-0.06721947,  1.13622153,  0.23607828, ...,  0.        ,\n",
       "        42.        ,  1.        ],\n",
       "       [-0.06721947,  1.13622153,  0.23607828, ...,  0.        ,\n",
       "        42.        ,  1.        ],\n",
       "       [-0.06721947,  1.13622153,  0.23607828, ...,  0.        ,\n",
       "        42.        ,  1.        ]])"
      ]
     },
     "execution_count": 9,
     "metadata": {},
     "output_type": "execute_result"
    }
   ],
   "source": [
    "#fit_transform make_column_transformer object\n",
    "column_transform.fit_transform(df_train.drop(columns = ['Weekly_Sales']))"
   ]
  },
  {
   "cell_type": "code",
   "execution_count": 54,
   "metadata": {
    "scrolled": true
   },
   "outputs": [
    {
     "data": {
      "text/plain": [
       "(421570, 19)"
      ]
     },
     "execution_count": 54,
     "metadata": {},
     "output_type": "execute_result"
    }
   ],
   "source": [
    "df_train.shape\n"
   ]
  },
  {
   "cell_type": "markdown",
   "metadata": {},
   "source": [
    "# Linear Regression\n",
    "## Linear Regression - TimeSeriesSplit, Manual Cross-Validation"
   ]
  },
  {
   "cell_type": "code",
   "execution_count": 10,
   "metadata": {
    "ExecuteTime": {
     "end_time": "2021-10-07T15:56:02.570414Z",
     "start_time": "2021-10-07T15:55:59.595719Z"
    }
   },
   "outputs": [
    {
     "name": "stdout",
     "output_type": "stream",
     "text": [
      "train index: [    0     1     2 ... 70262 70263 70264] \n",
      " test index: [ 70265  70266  70267 ... 140523 140524 140525]\n",
      "\n",
      "MSE: 324000754.2885835 \n",
      " R2: 0.5541379530762023\n",
      " MAE: 11117.761883394573\n",
      "\n",
      "train index: [     0      1      2 ... 140523 140524 140525] \n",
      " test index: [140526 140527 140528 ... 210784 210785 210786]\n",
      "\n",
      "MSE: 213120326.64475587 \n",
      " R2: 0.5505436938748478\n",
      " MAE: 9207.368946684197\n",
      "\n",
      "train index: [     0      1      2 ... 210784 210785 210786] \n",
      " test index: [210787 210788 210789 ... 281045 281046 281047]\n",
      "\n",
      "MSE: 199697775.75773942 \n",
      " R2: 0.5825134080063902\n",
      " MAE: 10461.067971648241\n",
      "\n",
      "train index: [     0      1      2 ... 281045 281046 281047] \n",
      " test index: [281048 281049 281050 ... 351306 351307 351308]\n",
      "\n",
      "MSE: 171316989.3971584 \n",
      " R2: 0.4944909928001926\n",
      " MAE: 9286.607933528692\n",
      "\n",
      "train index: [     0      1      2 ... 351306 351307 351308] \n",
      " test index: [351309 351310 351311 ... 421567 421568 421569]\n",
      "\n",
      "MSE: 134651204.03547618 \n",
      " R2: 0.6368581826261748\n",
      " MAE: 8186.817128848152\n",
      "\n",
      "Cross-Validation Scores:\n",
      " MSE: 208557410.02474266, R2: 0.5637088460767615, MAE: 9651.924772820772\n"
     ]
    }
   ],
   "source": [
    "# Column Transform df_train before split\n",
    "X =df_train.drop(columns = ['Weekly_Sales'])\n",
    "Y=df_train.Weekly_Sales\n",
    "X = column_transform.fit_transform(df_train.drop(columns = ['Weekly_Sales']))\n",
    "\n",
    "#Time Based Splits\n",
    "ts_cv = TimeSeriesSplit(n_splits=5)\n",
    "all_splits = list(ts_cv.split(X, Y))\n",
    "all_splits\n",
    "\n",
    "#Loop through 5 splits, each time calculating MSE, R2\n",
    "\n",
    "MSE_results = []\n",
    "R2_results = []\n",
    "MAE_results = []\n",
    "\n",
    "for num in range(5):\n",
    "    train_index , test_index = all_splits[num]\n",
    "\n",
    "    #define train, test sets\n",
    "    x_train = X[train_index]\n",
    "    y_train = Y[train_index]\n",
    "    x_test = X[test_index]\n",
    "    y_test = Y[test_index]\n",
    "    print('train index: {} \\n test index: {}\\n'.format(train_index, test_index))\n",
    "    \n",
    "    #fit, predict\n",
    "    lr = LinearRegression()\n",
    "    lr.fit(x_train,y_train)\n",
    "    y_pred = lr.predict(x_test)\n",
    "    \n",
    "    #score\n",
    "    metric = mean_squared_error(y_test, y_pred)\n",
    "    MSE_results.append(metric)\n",
    "    \n",
    "    metric2 = r2_score(y_test, y_pred)\n",
    "    R2_results.append(metric2)\n",
    "    \n",
    "    metric3 = mean_absolute_error(y_pred,y_test)\n",
    "    MAE_results.append(metric3)\n",
    "    \n",
    "    print('MSE: {} \\n R2: {}\\n MAE: {}\\n'.format(metric, metric2, metric3))\n",
    "    \n",
    "print(\"Cross-Validation Scores:\\n MSE: {}, R2: {}, MAE: {}\".format(np.mean(MSE_results), np.mean(R2_results),\n",
    "                                                         np.mean(MAE_results)))"
   ]
  },
  {
   "cell_type": "markdown",
   "metadata": {},
   "source": [
    "## Linear Regression - GridSearchCV, PCA, TimeSeriesSplit \n",
    "\n",
    "Results:  PCA does not improve Linear Regression Root Mean Absolute Error"
   ]
  },
  {
   "cell_type": "code",
   "execution_count": 71,
   "metadata": {
    "ExecuteTime": {
     "end_time": "2021-10-08T06:13:00.987074Z",
     "start_time": "2021-10-08T06:12:32.730628Z"
    }
   },
   "outputs": [
    {
     "data": {
      "text/plain": [
       "GridSearchCV(cv=TimeSeriesSplit(gap=0, max_train_size=None, n_splits=5, test_size=None),\n",
       "             estimator=Pipeline(steps=[('reducer', PCA()),\n",
       "                                       ('linear',\n",
       "                                        LinearRegression(normalize=True))]),\n",
       "             param_grid={'reducer__n_components': [1, 2, 3, 4, 5, 6, 7]},\n",
       "             return_train_score=True)"
      ]
     },
     "execution_count": 71,
     "metadata": {},
     "output_type": "execute_result"
    }
   ],
   "source": [
    "# define steps\n",
    "\n",
    "# instantiate pipeline object\n",
    "\n",
    "steps = [#('transform', column_transform),\n",
    "        ('reducer', PCA()),\n",
    "        ('linear', LinearRegression(normalize=True))]\n",
    "\n",
    "pipe = Pipeline(steps)\n",
    "\n",
    "# define gridsearch parameters dict\n",
    "\n",
    "param_grid = {'reducer__n_components':[1,2,3,4,5,6,7]}\n",
    "\n",
    "# split data into test train split\n",
    "X = df_train.drop(columns = ['Weekly_Sales'])\n",
    "Y = df_train['Weekly_Sales']\n",
    "X = column_transform.fit_transform(df_train.drop(columns = ['Weekly_Sales']))\n",
    "\n",
    "# instantiate GridSearchCV object using pipeline, parameters dict\n",
    "cv = TimeSeriesSplit(n_splits=5)\n",
    "lr_grid_search = GridSearchCV(pipe, param_grid ,cv=cv, return_train_score = True)\n",
    "\n",
    "# grid search fit\n",
    "lr_grid_search.fit(X,Y)\n"
   ]
  },
  {
   "cell_type": "code",
   "execution_count": 72,
   "metadata": {
    "ExecuteTime": {
     "end_time": "2021-10-08T06:13:06.511644Z",
     "start_time": "2021-10-08T06:13:06.507722Z"
    }
   },
   "outputs": [
    {
     "name": "stdout",
     "output_type": "stream",
     "text": [
      "0.2590147106584233\n"
     ]
    }
   ],
   "source": [
    "print(#grid_search.best_estimator_,\n",
    "      grid_search.best_score_,\n",
    "      #grid_search.cv_results_\n",
    "     )"
   ]
  },
  {
   "cell_type": "code",
   "execution_count": 73,
   "metadata": {
    "ExecuteTime": {
     "end_time": "2021-10-08T06:14:10.419962Z",
     "start_time": "2021-10-08T06:13:09.641840Z"
    },
    "scrolled": true
   },
   "outputs": [
    {
     "name": "stdout",
     "output_type": "stream",
     "text": [
      "[-7.01395523e+08 -4.56818095e+08 -4.86671890e+08 -3.44259404e+08\n",
      " -3.64694540e+08]\n",
      "[ 0.03479964  0.03660164 -0.01743241 -0.01581419  0.01645263]\n",
      "[-18146.72739442 -14877.74060831 -16153.69709053 -13685.21827966\n",
      " -12951.72571218]\n"
     ]
    }
   ],
   "source": [
    "# cross validate gridsearchcv model\n",
    "\n",
    "cv = TimeSeriesSplit(n_splits=5)\n",
    "lr_scores = cross_validate(lr_grid_search, X, Y, cv=cv,\n",
    "                        scoring=('r2', 'neg_mean_squared_error', 'neg_mean_absolute_error'))\n",
    "print(lr_scores['test_neg_mean_squared_error'])\n",
    "print(lr_scores['test_r2'])\n",
    "print(lr_scores['test_neg_mean_absolute_error'])\n",
    "\n"
   ]
  },
  {
   "cell_type": "code",
   "execution_count": 34,
   "metadata": {
    "ExecuteTime": {
     "end_time": "2021-10-07T20:34:19.130568Z",
     "start_time": "2021-10-07T20:34:19.120792Z"
    }
   },
   "outputs": [
    {
     "data": {
      "text/plain": [
       "['accuracy',\n",
       " 'adjusted_mutual_info_score',\n",
       " 'adjusted_rand_score',\n",
       " 'average_precision',\n",
       " 'balanced_accuracy',\n",
       " 'completeness_score',\n",
       " 'explained_variance',\n",
       " 'f1',\n",
       " 'f1_macro',\n",
       " 'f1_micro',\n",
       " 'f1_samples',\n",
       " 'f1_weighted',\n",
       " 'fowlkes_mallows_score',\n",
       " 'homogeneity_score',\n",
       " 'jaccard',\n",
       " 'jaccard_macro',\n",
       " 'jaccard_micro',\n",
       " 'jaccard_samples',\n",
       " 'jaccard_weighted',\n",
       " 'max_error',\n",
       " 'mutual_info_score',\n",
       " 'neg_brier_score',\n",
       " 'neg_log_loss',\n",
       " 'neg_mean_absolute_error',\n",
       " 'neg_mean_absolute_percentage_error',\n",
       " 'neg_mean_gamma_deviance',\n",
       " 'neg_mean_poisson_deviance',\n",
       " 'neg_mean_squared_error',\n",
       " 'neg_mean_squared_log_error',\n",
       " 'neg_median_absolute_error',\n",
       " 'neg_root_mean_squared_error',\n",
       " 'normalized_mutual_info_score',\n",
       " 'precision',\n",
       " 'precision_macro',\n",
       " 'precision_micro',\n",
       " 'precision_samples',\n",
       " 'precision_weighted',\n",
       " 'r2',\n",
       " 'rand_score',\n",
       " 'recall',\n",
       " 'recall_macro',\n",
       " 'recall_micro',\n",
       " 'recall_samples',\n",
       " 'recall_weighted',\n",
       " 'roc_auc',\n",
       " 'roc_auc_ovo',\n",
       " 'roc_auc_ovo_weighted',\n",
       " 'roc_auc_ovr',\n",
       " 'roc_auc_ovr_weighted',\n",
       " 'top_k_accuracy',\n",
       " 'v_measure_score']"
      ]
     },
     "execution_count": 34,
     "metadata": {},
     "output_type": "execute_result"
    }
   ],
   "source": [
    "sorted(sklearn.metrics.SCORERS.keys())"
   ]
  },
  {
   "cell_type": "markdown",
   "metadata": {},
   "source": [
    "# ElasticNet - GridSearchCV"
   ]
  },
  {
   "cell_type": "code",
   "execution_count": 47,
   "metadata": {
    "ExecuteTime": {
     "end_time": "2021-10-07T21:19:33.390802Z",
     "start_time": "2021-10-07T21:19:16.100002Z"
    }
   },
   "outputs": [
    {
     "data": {
      "text/plain": [
       "GridSearchCV(cv=TimeSeriesSplit(gap=0, max_train_size=None, n_splits=4, test_size=None),\n",
       "             estimator=Pipeline(steps=[('linear', ElasticNet())]),\n",
       "             param_grid={'linear__alpha': [0.1, 0.2, 0.3, 0.4, 0.5, 0.6, 0.7,\n",
       "                                           0.8, 0.9, 1.0]},\n",
       "             return_train_score=True)"
      ]
     },
     "execution_count": 47,
     "metadata": {},
     "output_type": "execute_result"
    }
   ],
   "source": [
    "# create steps\n",
    "\n",
    "steps = [#('transform', column_transform),\n",
    "         ('linear',ElasticNet())]\n",
    "\n",
    "#instantiate pipeline object\n",
    "pipe = Pipeline(steps)\n",
    "\n",
    "# split df_train into test and train sets \n",
    "# Column Transform df_train before split\n",
    "X =df_train.drop(columns = ['Weekly_Sales'])\n",
    "Y=df_train.Weekly_Sales\n",
    "\n",
    "X = column_transform.fit_transform(df_train.drop(columns = ['Weekly_Sales']))\n",
    "\n",
    "# GridSearchCV parameters\n",
    "param_grid = {'linear__alpha':[0.1,0.2,0.3,0.4,0.5,0.6,0.7,0.8,0.9,1.0]}\n",
    "\n",
    "scoring = {'R2': 'r2_score', 'MAE': 'mean_absolute_error', 'MSE': 'mean_squared_error'}\n",
    "\n",
    "cv = TimeSeriesSplit(n_splits=4)\n",
    "# instantiate GridSearchCV object using pipeline, parameters dict\n",
    "elastic_grid_search = GridSearchCV(pipe, param_grid, cv=cv, return_train_score = True)\n",
    "elastic_grid_search.fit(X, Y)\n",
    "\n"
   ]
  },
  {
   "cell_type": "code",
   "execution_count": 48,
   "metadata": {
    "ExecuteTime": {
     "end_time": "2021-10-07T21:21:07.233264Z",
     "start_time": "2021-10-07T21:21:07.228771Z"
    }
   },
   "outputs": [
    {
     "name": "stdout",
     "output_type": "stream",
     "text": [
      "Best parameters: {'linear__alpha': 0.1}\n"
     ]
    }
   ],
   "source": [
    "print(\"Best parameters: {}\".format(elastic_grid_search.best_params_))"
   ]
  },
  {
   "cell_type": "code",
   "execution_count": 50,
   "metadata": {
    "ExecuteTime": {
     "end_time": "2021-10-07T21:22:16.868973Z",
     "start_time": "2021-10-07T21:21:48.175772Z"
    }
   },
   "outputs": [
    {
     "name": "stdout",
     "output_type": "stream",
     "text": [
      "[-4.99324090e+08 -3.85074665e+08 -3.37834879e+08 -2.43326815e+08]\n",
      "[0.2313872  0.2502969  0.25669631 0.29767843]\n",
      "[-15100.53674486 -13567.04520204 -13250.71541317 -10342.84359559]\n"
     ]
    }
   ],
   "source": [
    "# cross validate gridsearchcv model\n",
    "\n",
    "cv = TimeSeriesSplit(n_splits=4)\n",
    "elastic_scores = cross_validate(grid_search, X, Y, cv=cv,\n",
    "                        scoring=('r2', 'neg_mean_squared_error', 'neg_mean_absolute_error'), n_jobs=-1)\n",
    "print(elastic_scores['test_neg_mean_squared_error'])\n",
    "print(elastic_scores['test_r2'])\n",
    "print(elastic_scores['test_neg_mean_absolute_error'])"
   ]
  },
  {
   "cell_type": "markdown",
   "metadata": {},
   "source": [
    "# Random Forest Regression\n"
   ]
  },
  {
   "cell_type": "markdown",
   "metadata": {},
   "source": [
    "## Random Forest Regressor - No Tuning, No TimeSeries Split"
   ]
  },
  {
   "cell_type": "code",
   "execution_count": null,
   "metadata": {},
   "outputs": [],
   "source": [
    "# define training and test sets\n",
    "# splitting dataset into X, y\n",
    "y = df_train['Weekly_Sales']\n",
    "X = df_train_select_encode\n",
    "X_train, X_test, y_train, y_test = train_test_split(X, y, train_size=0.7)\n",
    "\n",
    "# instantiate randomforestregressor\n",
    "forest = RandomForestRegressor()\n",
    "forest.fit(X_train, y_train)\n",
    "\n",
    "# predict using X_test.  evaluate regression model performance\n",
    "name_ = \"Random Forest\"\n",
    "y_pred = forest.predict(X_test)\n",
    "params_ = forest.get_params\n",
    "RMSE_score = mean_squared_error(y_test, y_pred, squared=False)\n",
    "train_score = forest.score(X_train, y_train)\n",
    "test_score = forest.score(X_test, y_test)\n",
    "\n",
    "print(\"RandomForest training set score:{:.2f}\".format(\n",
    "    forest.score(X_train, y_train)))\n",
    "print(\"RandomForest best parameters:{}\".format(params_))\n",
    "print(\"RandomForest test set score:{:.2f}\".format(\n",
    "    forest.score(X_test, y_test)))\n",
    "print(\"RMSE Score:{}\".format(mean_squared_error(y_test, y_pred, squared=False)))\n",
    "\"\"\"\n",
    "# append RandomForestRegressor() information to df_summary\n",
    "df_summary = df_summary.append({'name': name_, 'parameters': params_, 'train set score': test_score,\n",
    "                                'test set score': train_score,"
   ]
  },
  {
   "cell_type": "markdown",
   "metadata": {},
   "source": [
    "## Random Forest Regressor - TimeSeriesSplit, CV the hard way"
   ]
  },
  {
   "cell_type": "code",
   "execution_count": null,
   "metadata": {},
   "outputs": [],
   "source": [
    "# Column Transform df_train before split\n",
    "X =df_train.drop(columns = ['Weekly_Sales'])\n",
    "Y=df_train.Weekly_Sales\n",
    "\n",
    "X = column_transform.fit_transform(df_train.drop(columns = ['Weekly_Sales']))\n",
    "\n",
    "#Time Based Splits\n",
    "ts_cv = TimeSeriesSplit(n_splits=5)\n",
    "all_splits = list(ts_cv.split(X, Y))\n",
    "all_splits\n",
    "\n",
    "#Loop through 5 splits, each time calculating MSE, R2\n",
    "\n",
    "MSE_results = []\n",
    "R2_results = []\n",
    "MAE_results = []\n",
    "\n",
    "for num in range(5):\n",
    "    train_index , test_index = all_splits[num]\n",
    "\n",
    "    #define train, test sets\n",
    "    x_train = X[train_index]\n",
    "    y_train = Y[train_index]\n",
    "    x_test = X[test_index]\n",
    "    y_test = Y[test_index]\n",
    "    print('train index: {} \\n test index: {}\\n'.format(train_index, test_index))\n",
    "    \n",
    "    #fit, predict\n",
    "    model = RandomForestRegressor(n_jobs=-1)\n",
    "    model.fit(x_train,y_train)\n",
    "    y_pred = model.predict(x_test)\n",
    "    \n",
    "    #score\n",
    "    metric = mean_squared_error(y_test, y_pred)\n",
    "    MSE_results.append(metric)\n",
    "    \n",
    "    metric2 = r2_score(y_test, y_pred)\n",
    "    R2_results.append(metric2)\n",
    "    \n",
    "    metric3 = mean_absolute_error(y_pred,y_test)\n",
    "    MAE_results.append(metric3)\n",
    "    \n",
    "    print('MSE: {} \\n R2: {}\\n MAE: {}\\n'.format(metric, metric2, metric3))\n",
    "    \n",
    "print(\"Cross-Validation Scores:\\n MSE: {}, R2: {}, MAE: {}\".format(np.mean(MSE_results), np.mean(R2_results),\n",
    "                                                         np.mean(MAE_results)))"
   ]
  },
  {
   "cell_type": "markdown",
   "metadata": {},
   "source": []
  },
  {
   "cell_type": "code",
   "execution_count": null,
   "metadata": {
    "hide_input": false
   },
   "outputs": [],
   "source": []
  },
  {
   "cell_type": "markdown",
   "metadata": {},
   "source": [
    "# Random Forest Regressor GridSearchCV"
   ]
  },
  {
   "cell_type": "code",
   "execution_count": 54,
   "metadata": {
    "ExecuteTime": {
     "end_time": "2021-10-07T22:27:39.816930Z",
     "start_time": "2021-10-07T21:26:29.739240Z"
    },
    "scrolled": false
   },
   "outputs": [
    {
     "name": "stdout",
     "output_type": "stream",
     "text": [
      "{'RandomForest__n_estimators': [1, 2, 3, 4, 5, 6, 7, 8, 9, 10, 11, 12, 13, 14, 15, 16, 17, 18, 19, 20, 21, 22, 23, 24, 25, 26, 27, 28, 29, 30, 31, 32, 33, 34, 35, 36, 37, 38, 39, 40, 41, 42, 43, 44, 45, 46, 47, 48, 49, 50, 51, 52, 53, 54, 55, 56, 57, 58, 59, 60, 61, 62, 63, 64, 65, 66, 67, 68, 69, 70, 71, 72, 73, 74, 75, 76, 77, 78, 79, 80, 81, 82, 83, 84, 85, 86, 87, 88, 89, 90, 91, 92, 93, 94, 95, 96, 97, 98, 99, 100], 'RandomForest__max_depth': [1, 1, 2, 3, 4, 5, 6, 7, 8, 9, 10, None]}\n",
      "Fitting 5 folds for each of 50 candidates, totalling 250 fits\n"
     ]
    },
    {
     "data": {
      "text/plain": [
       "RandomizedSearchCV(cv=TimeSeriesSplit(gap=0, max_train_size=None, n_splits=5, test_size=None),\n",
       "                   estimator=Pipeline(steps=[('RandomForest',\n",
       "                                              RandomForestRegressor(n_jobs=-1))]),\n",
       "                   n_iter=50,\n",
       "                   param_distributions={'RandomForest__max_depth': [1, 1, 2, 3,\n",
       "                                                                    4, 5, 6, 7,\n",
       "                                                                    8, 9, 10,\n",
       "                                                                    None],\n",
       "                                        'RandomForest__n_estimators': [1, 2, 3,\n",
       "                                                                       4, 5, 6,\n",
       "                                                                       7, 8, 9,\n",
       "                                                                       10, 11,\n",
       "                                                                       12, 13,\n",
       "                                                                       14, 15,\n",
       "                                                                       16, 17,\n",
       "                                                                       18, 19,\n",
       "                                                                       20, 21,\n",
       "                                                                       22, 23,\n",
       "                                                                       24, 25,\n",
       "                                                                       26, 27,\n",
       "                                                                       28, 29,\n",
       "                                                                       30, ...]},\n",
       "                   verbose=1)"
      ]
     },
     "execution_count": 54,
     "metadata": {},
     "output_type": "execute_result"
    }
   ],
   "source": [
    "# GridSearchCV Lasso Regressor using column_transform\n",
    "\n",
    "# create steps\n",
    "\n",
    "steps = [#('transform', column_transform),\n",
    "         ('RandomForest', RandomForestRegressor(n_jobs=-1))]\n",
    "\n",
    "#instantiate pipeline object\n",
    "pipe = Pipeline(steps)\n",
    "\n",
    "# split df_train into test and train sets \n",
    "X = column_transform.fit_transform(df_train.drop(columns = ['Weekly_Sales']))\n",
    "#X = df_train.drop(columns = ['Weekly_Sales'])\n",
    "Y = df_train['Weekly_Sales']        \n",
    "#x_train, x_test, y_train, y_test = train_test_split(X, Y, test_size=0.25)\n",
    "\n",
    "# GridSearchCV parameters\n",
    "# Number of trees in random forest\n",
    "n_estimators = [int(x) for x in np.linspace(start = 1, stop = 100, num = 100)]\n",
    "# Number of features to consider at every split\n",
    "max_features = ['auto', 'sqrt']\n",
    "# Maximum number of levels in tree\n",
    "max_depth = [int(x) for x in np.linspace(1, 10, num = 11)]\n",
    "max_depth.append(None)\n",
    "#max_depth.append(None)\n",
    "\n",
    "param_grid = {'RandomForest__n_estimators': n_estimators,\n",
    "             #  'max_features': max_features,\n",
    "               'RandomForest__max_depth': max_depth}\n",
    "             #  'min_samples_split': min_samples_split,\n",
    "             #  'min_samples_leaf': min_samples_leaf,\n",
    "             #  'bootstrap': bootstrap}\n",
    "\n",
    "print(param_grid)\n",
    "\n",
    "tscv = TimeSeriesSplit(n_splits=5)\n",
    "rf_random = RandomizedSearchCV(pipe, param_distributions = param_grid, n_iter = 50, cv = tscv, verbose=1)\n",
    "\n",
    "# Fit the random search model\n",
    "rf_random.fit(X,Y)\n",
    "\n",
    "\n"
   ]
  },
  {
   "cell_type": "code",
   "execution_count": 55,
   "metadata": {
    "ExecuteTime": {
     "end_time": "2021-10-08T00:13:59.787316Z",
     "start_time": "2021-10-07T22:28:10.980408Z"
    }
   },
   "outputs": [
    {
     "name": "stdout",
     "output_type": "stream",
     "text": [
      "[-1.99191420e+08 -2.75168339e+08 -2.30033307e+08 -1.28038430e+08]\n",
      "[0.69338336 0.46427388 0.49388113 0.63043879]\n",
      "[-7031.50851195 -9856.82949878 -8811.19889254 -5295.15467241]\n"
     ]
    }
   ],
   "source": [
    "# cross validate gridsearchcv model\n",
    "\n",
    "cv = TimeSeriesSplit(n_splits=4)\n",
    "rf_scores = cross_validate(rf_random, X, Y, cv=cv,\n",
    "                        scoring=('r2', 'neg_mean_squared_error', 'neg_mean_absolute_error'), n_jobs=-1)\n",
    "print(rf_scores['test_neg_mean_squared_error'])\n",
    "print(rf_scores['test_r2'])\n",
    "print(rf_scores['test_neg_mean_absolute_error'])"
   ]
  },
  {
   "cell_type": "code",
   "execution_count": null,
   "metadata": {
    "code_folding": [
     0
    ]
   },
   "outputs": [],
   "source": [
    "# Kaggle Predictions\n",
    "y_pred = rf_random.predict(df_test)\n",
    "\n",
    "df_submission = pd.DataFrame()\n",
    "df_submission['id'] = df_test['Store'].astype('str') + \"_\" + df_test['Dept'].astype('str') + \"_\" + df_test['Date'].astype(str)\n",
    "df_submission['Weekly_Sales'] = y_pred\n",
    "df_submission\n",
    "\n",
    "# write submission dataframe to file\n",
    "df_submission.to_csv('kaggle_submission5_randomforest_randomsearchcv', index=False)"
   ]
  },
  {
   "cell_type": "markdown",
   "metadata": {},
   "source": [
    "# XGB Boost Regressor \n",
    "## No Tuning"
   ]
  },
  {
   "cell_type": "code",
   "execution_count": 22,
   "metadata": {},
   "outputs": [
    {
     "name": "stdout",
     "output_type": "stream",
     "text": [
      "train index: [    0     1     2 ... 70262 70263 70264] \n",
      " test index: [ 70265  70266  70267 ... 140523 140524 140525]\n",
      "\n",
      "MSE: 237573303.09018126 \n",
      " R2: 0.6730719981105662\n",
      " MAE: 9445.36615030448\n",
      "\n",
      "train index: [     0      1      2 ... 140523 140524 140525] \n",
      " test index: [140526 140527 140528 ... 210784 210785 210786]\n",
      "\n",
      "MSE: 148607570.12029877 \n",
      " R2: 0.6865967194211432\n",
      " MAE: 7553.955566525546\n",
      "\n",
      "train index: [     0      1      2 ... 210784 210785 210786] \n",
      " test index: [210787 210788 210789 ... 281045 281046 281047]\n",
      "\n",
      "MSE: 145878831.8852291 \n",
      " R2: 0.6950268667906647\n",
      " MAE: 8444.385104555688\n",
      "\n",
      "train index: [     0      1      2 ... 281045 281046 281047] \n",
      " test index: [281048 281049 281050 ... 351306 351307 351308]\n",
      "\n",
      "MSE: 190761055.7200775 \n",
      " R2: 0.4371169361032269\n",
      " MAE: 9026.715303125153\n",
      "\n",
      "train index: [     0      1      2 ... 351306 351307 351308] \n",
      " test index: [351309 351310 351311 ... 421567 421568 421569]\n",
      "\n",
      "MSE: 99073158.24661352 \n",
      " R2: 0.7328088746301824\n",
      " MAE: 6825.0118240033535\n",
      "\n",
      "Cross-Validation Scores:\n",
      " MSE: 164378783.81248003, R2: 0.6449242790111567, MAE: 8259.086789702844\n"
     ]
    }
   ],
   "source": [
    "# Column Transform df_train before split\n",
    "X =df_train.drop(columns = ['Weekly_Sales'])\n",
    "Y=df_train.Weekly_Sales\n",
    "\n",
    "X = column_transform.fit_transform(df_train.drop(columns = ['Weekly_Sales']))\n",
    "\n",
    "#Time Based Splits\n",
    "ts_cv = TimeSeriesSplit(n_splits=5)\n",
    "all_splits = list(ts_cv.split(X, Y))\n",
    "all_splits\n",
    "\n",
    "#Loop through 5 splits, each time calculating MSE, R2\n",
    "\n",
    "MSE_results = []\n",
    "R2_results = []\n",
    "MAE_results = []\n",
    "\n",
    "for num in range(5):\n",
    "    train_index , test_index = all_splits[num]\n",
    "\n",
    "    #define train, test sets\n",
    "    x_train = X[train_index]\n",
    "    y_train = Y[train_index]\n",
    "    x_test = X[test_index]\n",
    "    y_test = Y[test_index]\n",
    "    print('train index: {} \\n test index: {}\\n'.format(train_index, test_index))\n",
    "    \n",
    "    #fit, predict\n",
    "    model = GradientBoostingRegressor(n_estimators=50, max_depth=10, random_state=0)\n",
    "#                  'xgb__n_estimators' : np.linspace(10,100,10),\n",
    "#                  'xgb__max_depth'    : [4,6,8,10]\n",
    "    \n",
    "    model.fit(x_train,y_train)\n",
    "    y_pred = model.predict(x_test)\n",
    "    \n",
    "    #score\n",
    "    metric = mean_squared_error(y_test, y_pred)\n",
    "    MSE_results.append(metric)\n",
    "    \n",
    "    metric2 = r2_score(y_test, y_pred)\n",
    "    R2_results.append(metric2)\n",
    "    \n",
    "    metric3 = mean_absolute_error(y_pred,y_test)\n",
    "    MAE_results.append(metric3)\n",
    "    \n",
    "    print('MSE: {} \\n R2: {}\\n MAE: {}\\n'.format(metric, metric2, metric3))\n",
    "    \n",
    "print(\"Cross-Validation Scores:\\n MSE: {}, R2: {}, MAE: {}\".format(np.mean(MSE_results), np.mean(R2_results),\n",
    "                                                         np.mean(MAE_results)))"
   ]
  },
  {
   "cell_type": "markdown",
   "metadata": {},
   "source": [
    "## XGB Boost Regressor - TimeSeriesSplit, GridSearchCV"
   ]
  },
  {
   "cell_type": "code",
   "execution_count": 55,
   "metadata": {},
   "outputs": [
    {
     "data": {
      "text/plain": [
       "dict_keys(['alpha', 'ccp_alpha', 'criterion', 'init', 'learning_rate', 'loss', 'max_depth', 'max_features', 'max_leaf_nodes', 'min_impurity_decrease', 'min_impurity_split', 'min_samples_leaf', 'min_samples_split', 'min_weight_fraction_leaf', 'n_estimators', 'n_iter_no_change', 'random_state', 'subsample', 'tol', 'validation_fraction', 'verbose', 'warm_start'])"
      ]
     },
     "execution_count": 55,
     "metadata": {},
     "output_type": "execute_result"
    }
   ],
   "source": [
    "reg = GradientBoostingRegressor(random_state=0)\n",
    "reg.get_params().keys()"
   ]
  },
  {
   "cell_type": "code",
   "execution_count": 68,
   "metadata": {
    "scrolled": false
   },
   "outputs": [
    {
     "name": "stdout",
     "output_type": "stream",
     "text": [
      "Fitting 4 folds for each of 12 candidates, totalling 48 fits\n"
     ]
    },
    {
     "name": "stderr",
     "output_type": "stream",
     "text": [
      "/Users/marshallbanana/opt/anaconda3/lib/python3.8/site-packages/joblib/externals/loky/process_executor.py:688: UserWarning: A worker stopped while some jobs were given to the executor. This can be caused by a too short worker timeout or by a memory leak.\n",
      "  warnings.warn(\n"
     ]
    },
    {
     "name": "stdout",
     "output_type": "stream",
     "text": [
      "Best parameters found:  {'xgb__max_depth': 10, 'xgb__n_estimators': 30}\n",
      "Lowest RMSE found:  13845.771637345691\n"
     ]
    }
   ],
   "source": [
    "# GridSearchCV Example\n",
    "\n",
    "# GridSearchCV xgbboost Regressor using column_transform\n",
    "\n",
    "# create steps\n",
    "steps = [#('transform', column_transform),\n",
    "        ('xgb', GradientBoostingRegressor())]\n",
    "\n",
    "\n",
    "#instantiate pipeline object\n",
    "pipe = Pipeline(steps)\n",
    "\n",
    "# Create the parameter grid: gbm_param_grid\n",
    "gbm_param_grid = {#'xgb__learning_rate': [0.01,0.02,0.03,0.04],\n",
    "                  #'xgb__subsample'    : [0.9, 0.5, 0.2, 0.1],\n",
    "                  'xgb__n_estimators' : [10,20,30],\n",
    "                  'xgb__max_depth'    : [4,6,8,10]\n",
    "                 }\n",
    "\n",
    "# split df_train into test and train sets \n",
    "X = column_transform.fit_transform(df_train.drop(columns = ['Weekly_Sales']))\n",
    "#X = df_train.drop(columns = ['Weekly_Sales'])\n",
    "Y = df_train['Weekly_Sales']        \n",
    "\n",
    "\n",
    "# Perform grid search: grid_mse\n",
    "cv = TimeSeriesSplit(n_splits=4)\n",
    "xgb_gridsearch = GridSearchCV(pipe, param_grid=gbm_param_grid, scoring='neg_mean_squared_error', cv=cv, verbose=1,\n",
    "                       n_jobs=-1)\n",
    "#GridSearchCV(pipe, param_grid, cv=5, return_train_score = True)\n",
    "\n",
    "# Fit grid_mse to the data\n",
    "xgb_gridsearch.fit(X,Y)\n"
   ]
  },
  {
   "cell_type": "code",
   "execution_count": 76,
   "metadata": {
    "ExecuteTime": {
     "end_time": "2021-10-08T06:17:08.590040Z",
     "start_time": "2021-10-08T06:16:06.491564Z"
    }
   },
   "outputs": [
    {
     "name": "stdout",
     "output_type": "stream",
     "text": [
      "[-7.01395523e+08 -4.56818095e+08 -4.86671890e+08 -3.44259404e+08\n",
      " -3.64694540e+08]\n",
      "[ 0.03479964  0.03660164 -0.01743241 -0.01581419  0.01645263]\n",
      "[-18146.72739442 -14877.74060831 -16153.69709053 -13685.21827966\n",
      " -12951.72571218]\n"
     ]
    }
   ],
   "source": [
    "# cross validate gridsearchcv model\n",
    "\n",
    "cv = TimeSeriesSplit(n_splits=5)\n",
    "xgb_scores = cross_validate(lr_grid_search, X, Y, cv=cv,\n",
    "                        scoring=('r2', 'neg_mean_squared_error', 'neg_mean_absolute_error'))\n",
    "print(xgb_scores['test_neg_mean_squared_error'])\n",
    "print(xgb_scores['test_r2'])\n",
    "print(xgb_scores['test_neg_mean_absolute_error'])"
   ]
  },
  {
   "cell_type": "code",
   "execution_count": 34,
   "metadata": {
    "scrolled": true
   },
   "outputs": [
    {
     "name": "stdout",
     "output_type": "stream",
     "text": [
      "Fitting 2 folds for each of 40 candidates, totalling 80 fits\n"
     ]
    },
    {
     "name": "stderr",
     "output_type": "stream",
     "text": [
      "/Users/marshallbanana/opt/anaconda3/lib/python3.8/site-packages/sklearn/model_selection/_validation.py:610: FitFailedWarning: Estimator fit failed. The score on this train-test partition for these parameters will be set to nan. Details: \n",
      "Traceback (most recent call last):\n",
      "  File \"/Users/marshallbanana/opt/anaconda3/lib/python3.8/site-packages/sklearn/model_selection/_validation.py\", line 593, in _fit_and_score\n",
      "    estimator.fit(X_train, y_train, **fit_params)\n",
      "  File \"/Users/marshallbanana/opt/anaconda3/lib/python3.8/site-packages/sklearn/pipeline.py\", line 346, in fit\n",
      "    self._final_estimator.fit(Xt, y, **fit_params_last_step)\n",
      "  File \"/Users/marshallbanana/opt/anaconda3/lib/python3.8/site-packages/sklearn/ensemble/_gb.py\", line 452, in fit\n",
      "    self._init_state()\n",
      "  File \"/Users/marshallbanana/opt/anaconda3/lib/python3.8/site-packages/sklearn/ensemble/_gb.py\", line 313, in _init_state\n",
      "    self.estimators_ = np.empty((self.n_estimators, self.loss_.K),\n",
      "TypeError: 'numpy.float64' object cannot be interpreted as an integer\n",
      "\n",
      "  warnings.warn(\"Estimator fit failed. The score on this train-test\"\n",
      "/Users/marshallbanana/opt/anaconda3/lib/python3.8/site-packages/sklearn/model_selection/_validation.py:610: FitFailedWarning: Estimator fit failed. The score on this train-test partition for these parameters will be set to nan. Details: \n",
      "Traceback (most recent call last):\n",
      "  File \"/Users/marshallbanana/opt/anaconda3/lib/python3.8/site-packages/sklearn/model_selection/_validation.py\", line 593, in _fit_and_score\n",
      "    estimator.fit(X_train, y_train, **fit_params)\n",
      "  File \"/Users/marshallbanana/opt/anaconda3/lib/python3.8/site-packages/sklearn/pipeline.py\", line 346, in fit\n",
      "    self._final_estimator.fit(Xt, y, **fit_params_last_step)\n",
      "  File \"/Users/marshallbanana/opt/anaconda3/lib/python3.8/site-packages/sklearn/ensemble/_gb.py\", line 452, in fit\n",
      "    self._init_state()\n",
      "  File \"/Users/marshallbanana/opt/anaconda3/lib/python3.8/site-packages/sklearn/ensemble/_gb.py\", line 313, in _init_state\n",
      "    self.estimators_ = np.empty((self.n_estimators, self.loss_.K),\n",
      "TypeError: 'numpy.float64' object cannot be interpreted as an integer\n",
      "\n",
      "  warnings.warn(\"Estimator fit failed. The score on this train-test\"\n",
      "/Users/marshallbanana/opt/anaconda3/lib/python3.8/site-packages/sklearn/model_selection/_validation.py:610: FitFailedWarning: Estimator fit failed. The score on this train-test partition for these parameters will be set to nan. Details: \n",
      "Traceback (most recent call last):\n",
      "  File \"/Users/marshallbanana/opt/anaconda3/lib/python3.8/site-packages/sklearn/model_selection/_validation.py\", line 593, in _fit_and_score\n",
      "    estimator.fit(X_train, y_train, **fit_params)\n",
      "  File \"/Users/marshallbanana/opt/anaconda3/lib/python3.8/site-packages/sklearn/pipeline.py\", line 346, in fit\n",
      "    self._final_estimator.fit(Xt, y, **fit_params_last_step)\n",
      "  File \"/Users/marshallbanana/opt/anaconda3/lib/python3.8/site-packages/sklearn/ensemble/_gb.py\", line 452, in fit\n",
      "    self._init_state()\n",
      "  File \"/Users/marshallbanana/opt/anaconda3/lib/python3.8/site-packages/sklearn/ensemble/_gb.py\", line 313, in _init_state\n",
      "    self.estimators_ = np.empty((self.n_estimators, self.loss_.K),\n",
      "TypeError: 'numpy.float64' object cannot be interpreted as an integer\n",
      "\n",
      "  warnings.warn(\"Estimator fit failed. The score on this train-test\"\n",
      "/Users/marshallbanana/opt/anaconda3/lib/python3.8/site-packages/sklearn/model_selection/_validation.py:610: FitFailedWarning: Estimator fit failed. The score on this train-test partition for these parameters will be set to nan. Details: \n",
      "Traceback (most recent call last):\n",
      "  File \"/Users/marshallbanana/opt/anaconda3/lib/python3.8/site-packages/sklearn/model_selection/_validation.py\", line 593, in _fit_and_score\n",
      "    estimator.fit(X_train, y_train, **fit_params)\n",
      "  File \"/Users/marshallbanana/opt/anaconda3/lib/python3.8/site-packages/sklearn/pipeline.py\", line 346, in fit\n",
      "    self._final_estimator.fit(Xt, y, **fit_params_last_step)\n",
      "  File \"/Users/marshallbanana/opt/anaconda3/lib/python3.8/site-packages/sklearn/ensemble/_gb.py\", line 452, in fit\n",
      "    self._init_state()\n",
      "  File \"/Users/marshallbanana/opt/anaconda3/lib/python3.8/site-packages/sklearn/ensemble/_gb.py\", line 313, in _init_state\n",
      "    self.estimators_ = np.empty((self.n_estimators, self.loss_.K),\n",
      "TypeError: 'numpy.float64' object cannot be interpreted as an integer\n",
      "\n",
      "  warnings.warn(\"Estimator fit failed. The score on this train-test\"\n",
      "/Users/marshallbanana/opt/anaconda3/lib/python3.8/site-packages/sklearn/model_selection/_validation.py:610: FitFailedWarning: Estimator fit failed. The score on this train-test partition for these parameters will be set to nan. Details: \n",
      "Traceback (most recent call last):\n",
      "  File \"/Users/marshallbanana/opt/anaconda3/lib/python3.8/site-packages/sklearn/model_selection/_validation.py\", line 593, in _fit_and_score\n",
      "    estimator.fit(X_train, y_train, **fit_params)\n",
      "  File \"/Users/marshallbanana/opt/anaconda3/lib/python3.8/site-packages/sklearn/pipeline.py\", line 346, in fit\n",
      "    self._final_estimator.fit(Xt, y, **fit_params_last_step)\n",
      "  File \"/Users/marshallbanana/opt/anaconda3/lib/python3.8/site-packages/sklearn/ensemble/_gb.py\", line 452, in fit\n",
      "    self._init_state()\n",
      "  File \"/Users/marshallbanana/opt/anaconda3/lib/python3.8/site-packages/sklearn/ensemble/_gb.py\", line 313, in _init_state\n",
      "    self.estimators_ = np.empty((self.n_estimators, self.loss_.K),\n",
      "TypeError: 'numpy.float64' object cannot be interpreted as an integer\n",
      "\n",
      "  warnings.warn(\"Estimator fit failed. The score on this train-test\"\n",
      "/Users/marshallbanana/opt/anaconda3/lib/python3.8/site-packages/sklearn/model_selection/_validation.py:610: FitFailedWarning: Estimator fit failed. The score on this train-test partition for these parameters will be set to nan. Details: \n",
      "Traceback (most recent call last):\n",
      "  File \"/Users/marshallbanana/opt/anaconda3/lib/python3.8/site-packages/sklearn/model_selection/_validation.py\", line 593, in _fit_and_score\n",
      "    estimator.fit(X_train, y_train, **fit_params)\n",
      "  File \"/Users/marshallbanana/opt/anaconda3/lib/python3.8/site-packages/sklearn/pipeline.py\", line 346, in fit\n",
      "    self._final_estimator.fit(Xt, y, **fit_params_last_step)\n",
      "  File \"/Users/marshallbanana/opt/anaconda3/lib/python3.8/site-packages/sklearn/ensemble/_gb.py\", line 452, in fit\n",
      "    self._init_state()\n",
      "  File \"/Users/marshallbanana/opt/anaconda3/lib/python3.8/site-packages/sklearn/ensemble/_gb.py\", line 313, in _init_state\n",
      "    self.estimators_ = np.empty((self.n_estimators, self.loss_.K),\n",
      "TypeError: 'numpy.float64' object cannot be interpreted as an integer\n",
      "\n",
      "  warnings.warn(\"Estimator fit failed. The score on this train-test\"\n",
      "/Users/marshallbanana/opt/anaconda3/lib/python3.8/site-packages/sklearn/model_selection/_validation.py:610: FitFailedWarning: Estimator fit failed. The score on this train-test partition for these parameters will be set to nan. Details: \n",
      "Traceback (most recent call last):\n",
      "  File \"/Users/marshallbanana/opt/anaconda3/lib/python3.8/site-packages/sklearn/model_selection/_validation.py\", line 593, in _fit_and_score\n",
      "    estimator.fit(X_train, y_train, **fit_params)\n",
      "  File \"/Users/marshallbanana/opt/anaconda3/lib/python3.8/site-packages/sklearn/pipeline.py\", line 346, in fit\n",
      "    self._final_estimator.fit(Xt, y, **fit_params_last_step)\n",
      "  File \"/Users/marshallbanana/opt/anaconda3/lib/python3.8/site-packages/sklearn/ensemble/_gb.py\", line 452, in fit\n",
      "    self._init_state()\n",
      "  File \"/Users/marshallbanana/opt/anaconda3/lib/python3.8/site-packages/sklearn/ensemble/_gb.py\", line 313, in _init_state\n",
      "    self.estimators_ = np.empty((self.n_estimators, self.loss_.K),\n",
      "TypeError: 'numpy.float64' object cannot be interpreted as an integer\n",
      "\n",
      "  warnings.warn(\"Estimator fit failed. The score on this train-test\"\n",
      "/Users/marshallbanana/opt/anaconda3/lib/python3.8/site-packages/sklearn/model_selection/_validation.py:610: FitFailedWarning: Estimator fit failed. The score on this train-test partition for these parameters will be set to nan. Details: \n",
      "Traceback (most recent call last):\n",
      "  File \"/Users/marshallbanana/opt/anaconda3/lib/python3.8/site-packages/sklearn/model_selection/_validation.py\", line 593, in _fit_and_score\n",
      "    estimator.fit(X_train, y_train, **fit_params)\n",
      "  File \"/Users/marshallbanana/opt/anaconda3/lib/python3.8/site-packages/sklearn/pipeline.py\", line 346, in fit\n",
      "    self._final_estimator.fit(Xt, y, **fit_params_last_step)\n",
      "  File \"/Users/marshallbanana/opt/anaconda3/lib/python3.8/site-packages/sklearn/ensemble/_gb.py\", line 452, in fit\n",
      "    self._init_state()\n",
      "  File \"/Users/marshallbanana/opt/anaconda3/lib/python3.8/site-packages/sklearn/ensemble/_gb.py\", line 313, in _init_state\n",
      "    self.estimators_ = np.empty((self.n_estimators, self.loss_.K),\n",
      "TypeError: 'numpy.float64' object cannot be interpreted as an integer\n",
      "\n",
      "  warnings.warn(\"Estimator fit failed. The score on this train-test\"\n",
      "/Users/marshallbanana/opt/anaconda3/lib/python3.8/site-packages/sklearn/model_selection/_validation.py:610: FitFailedWarning: Estimator fit failed. The score on this train-test partition for these parameters will be set to nan. Details: \n",
      "Traceback (most recent call last):\n",
      "  File \"/Users/marshallbanana/opt/anaconda3/lib/python3.8/site-packages/sklearn/model_selection/_validation.py\", line 593, in _fit_and_score\n",
      "    estimator.fit(X_train, y_train, **fit_params)\n",
      "  File \"/Users/marshallbanana/opt/anaconda3/lib/python3.8/site-packages/sklearn/pipeline.py\", line 346, in fit\n",
      "    self._final_estimator.fit(Xt, y, **fit_params_last_step)\n",
      "  File \"/Users/marshallbanana/opt/anaconda3/lib/python3.8/site-packages/sklearn/ensemble/_gb.py\", line 452, in fit\n",
      "    self._init_state()\n",
      "  File \"/Users/marshallbanana/opt/anaconda3/lib/python3.8/site-packages/sklearn/ensemble/_gb.py\", line 313, in _init_state\n",
      "    self.estimators_ = np.empty((self.n_estimators, self.loss_.K),\n",
      "TypeError: 'numpy.float64' object cannot be interpreted as an integer\n",
      "\n",
      "  warnings.warn(\"Estimator fit failed. The score on this train-test\"\n",
      "/Users/marshallbanana/opt/anaconda3/lib/python3.8/site-packages/sklearn/model_selection/_validation.py:610: FitFailedWarning: Estimator fit failed. The score on this train-test partition for these parameters will be set to nan. Details: \n",
      "Traceback (most recent call last):\n",
      "  File \"/Users/marshallbanana/opt/anaconda3/lib/python3.8/site-packages/sklearn/model_selection/_validation.py\", line 593, in _fit_and_score\n",
      "    estimator.fit(X_train, y_train, **fit_params)\n",
      "  File \"/Users/marshallbanana/opt/anaconda3/lib/python3.8/site-packages/sklearn/pipeline.py\", line 346, in fit\n",
      "    self._final_estimator.fit(Xt, y, **fit_params_last_step)\n",
      "  File \"/Users/marshallbanana/opt/anaconda3/lib/python3.8/site-packages/sklearn/ensemble/_gb.py\", line 452, in fit\n",
      "    self._init_state()\n",
      "  File \"/Users/marshallbanana/opt/anaconda3/lib/python3.8/site-packages/sklearn/ensemble/_gb.py\", line 313, in _init_state\n",
      "    self.estimators_ = np.empty((self.n_estimators, self.loss_.K),\n",
      "TypeError: 'numpy.float64' object cannot be interpreted as an integer\n",
      "\n",
      "  warnings.warn(\"Estimator fit failed. The score on this train-test\"\n",
      "/Users/marshallbanana/opt/anaconda3/lib/python3.8/site-packages/sklearn/model_selection/_validation.py:610: FitFailedWarning: Estimator fit failed. The score on this train-test partition for these parameters will be set to nan. Details: \n",
      "Traceback (most recent call last):\n",
      "  File \"/Users/marshallbanana/opt/anaconda3/lib/python3.8/site-packages/sklearn/model_selection/_validation.py\", line 593, in _fit_and_score\n",
      "    estimator.fit(X_train, y_train, **fit_params)\n",
      "  File \"/Users/marshallbanana/opt/anaconda3/lib/python3.8/site-packages/sklearn/pipeline.py\", line 346, in fit\n",
      "    self._final_estimator.fit(Xt, y, **fit_params_last_step)\n",
      "  File \"/Users/marshallbanana/opt/anaconda3/lib/python3.8/site-packages/sklearn/ensemble/_gb.py\", line 452, in fit\n",
      "    self._init_state()\n",
      "  File \"/Users/marshallbanana/opt/anaconda3/lib/python3.8/site-packages/sklearn/ensemble/_gb.py\", line 313, in _init_state\n",
      "    self.estimators_ = np.empty((self.n_estimators, self.loss_.K),\n",
      "TypeError: 'numpy.float64' object cannot be interpreted as an integer\n",
      "\n",
      "  warnings.warn(\"Estimator fit failed. The score on this train-test\"\n",
      "/Users/marshallbanana/opt/anaconda3/lib/python3.8/site-packages/sklearn/model_selection/_validation.py:610: FitFailedWarning: Estimator fit failed. The score on this train-test partition for these parameters will be set to nan. Details: \n",
      "Traceback (most recent call last):\n",
      "  File \"/Users/marshallbanana/opt/anaconda3/lib/python3.8/site-packages/sklearn/model_selection/_validation.py\", line 593, in _fit_and_score\n",
      "    estimator.fit(X_train, y_train, **fit_params)\n",
      "  File \"/Users/marshallbanana/opt/anaconda3/lib/python3.8/site-packages/sklearn/pipeline.py\", line 346, in fit\n",
      "    self._final_estimator.fit(Xt, y, **fit_params_last_step)\n",
      "  File \"/Users/marshallbanana/opt/anaconda3/lib/python3.8/site-packages/sklearn/ensemble/_gb.py\", line 452, in fit\n",
      "    self._init_state()\n",
      "  File \"/Users/marshallbanana/opt/anaconda3/lib/python3.8/site-packages/sklearn/ensemble/_gb.py\", line 313, in _init_state\n",
      "    self.estimators_ = np.empty((self.n_estimators, self.loss_.K),\n",
      "TypeError: 'numpy.float64' object cannot be interpreted as an integer\n",
      "\n",
      "  warnings.warn(\"Estimator fit failed. The score on this train-test\"\n",
      "/Users/marshallbanana/opt/anaconda3/lib/python3.8/site-packages/sklearn/model_selection/_validation.py:610: FitFailedWarning: Estimator fit failed. The score on this train-test partition for these parameters will be set to nan. Details: \n",
      "Traceback (most recent call last):\n",
      "  File \"/Users/marshallbanana/opt/anaconda3/lib/python3.8/site-packages/sklearn/model_selection/_validation.py\", line 593, in _fit_and_score\n",
      "    estimator.fit(X_train, y_train, **fit_params)\n",
      "  File \"/Users/marshallbanana/opt/anaconda3/lib/python3.8/site-packages/sklearn/pipeline.py\", line 346, in fit\n",
      "    self._final_estimator.fit(Xt, y, **fit_params_last_step)\n",
      "  File \"/Users/marshallbanana/opt/anaconda3/lib/python3.8/site-packages/sklearn/ensemble/_gb.py\", line 452, in fit\n",
      "    self._init_state()\n",
      "  File \"/Users/marshallbanana/opt/anaconda3/lib/python3.8/site-packages/sklearn/ensemble/_gb.py\", line 313, in _init_state\n",
      "    self.estimators_ = np.empty((self.n_estimators, self.loss_.K),\n",
      "TypeError: 'numpy.float64' object cannot be interpreted as an integer\n",
      "\n",
      "  warnings.warn(\"Estimator fit failed. The score on this train-test\"\n",
      "/Users/marshallbanana/opt/anaconda3/lib/python3.8/site-packages/sklearn/model_selection/_validation.py:610: FitFailedWarning: Estimator fit failed. The score on this train-test partition for these parameters will be set to nan. Details: \n",
      "Traceback (most recent call last):\n",
      "  File \"/Users/marshallbanana/opt/anaconda3/lib/python3.8/site-packages/sklearn/model_selection/_validation.py\", line 593, in _fit_and_score\n",
      "    estimator.fit(X_train, y_train, **fit_params)\n",
      "  File \"/Users/marshallbanana/opt/anaconda3/lib/python3.8/site-packages/sklearn/pipeline.py\", line 346, in fit\n",
      "    self._final_estimator.fit(Xt, y, **fit_params_last_step)\n",
      "  File \"/Users/marshallbanana/opt/anaconda3/lib/python3.8/site-packages/sklearn/ensemble/_gb.py\", line 452, in fit\n",
      "    self._init_state()\n",
      "  File \"/Users/marshallbanana/opt/anaconda3/lib/python3.8/site-packages/sklearn/ensemble/_gb.py\", line 313, in _init_state\n",
      "    self.estimators_ = np.empty((self.n_estimators, self.loss_.K),\n",
      "TypeError: 'numpy.float64' object cannot be interpreted as an integer\n",
      "\n",
      "  warnings.warn(\"Estimator fit failed. The score on this train-test\"\n",
      "/Users/marshallbanana/opt/anaconda3/lib/python3.8/site-packages/sklearn/model_selection/_validation.py:610: FitFailedWarning: Estimator fit failed. The score on this train-test partition for these parameters will be set to nan. Details: \n",
      "Traceback (most recent call last):\n",
      "  File \"/Users/marshallbanana/opt/anaconda3/lib/python3.8/site-packages/sklearn/model_selection/_validation.py\", line 593, in _fit_and_score\n",
      "    estimator.fit(X_train, y_train, **fit_params)\n",
      "  File \"/Users/marshallbanana/opt/anaconda3/lib/python3.8/site-packages/sklearn/pipeline.py\", line 346, in fit\n",
      "    self._final_estimator.fit(Xt, y, **fit_params_last_step)\n",
      "  File \"/Users/marshallbanana/opt/anaconda3/lib/python3.8/site-packages/sklearn/ensemble/_gb.py\", line 452, in fit\n",
      "    self._init_state()\n",
      "  File \"/Users/marshallbanana/opt/anaconda3/lib/python3.8/site-packages/sklearn/ensemble/_gb.py\", line 313, in _init_state\n",
      "    self.estimators_ = np.empty((self.n_estimators, self.loss_.K),\n",
      "TypeError: 'numpy.float64' object cannot be interpreted as an integer\n",
      "\n",
      "  warnings.warn(\"Estimator fit failed. The score on this train-test\"\n"
     ]
    },
    {
     "name": "stderr",
     "output_type": "stream",
     "text": [
      "/Users/marshallbanana/opt/anaconda3/lib/python3.8/site-packages/sklearn/model_selection/_validation.py:610: FitFailedWarning: Estimator fit failed. The score on this train-test partition for these parameters will be set to nan. Details: \n",
      "Traceback (most recent call last):\n",
      "  File \"/Users/marshallbanana/opt/anaconda3/lib/python3.8/site-packages/sklearn/model_selection/_validation.py\", line 593, in _fit_and_score\n",
      "    estimator.fit(X_train, y_train, **fit_params)\n",
      "  File \"/Users/marshallbanana/opt/anaconda3/lib/python3.8/site-packages/sklearn/pipeline.py\", line 346, in fit\n",
      "    self._final_estimator.fit(Xt, y, **fit_params_last_step)\n",
      "  File \"/Users/marshallbanana/opt/anaconda3/lib/python3.8/site-packages/sklearn/ensemble/_gb.py\", line 452, in fit\n",
      "    self._init_state()\n",
      "  File \"/Users/marshallbanana/opt/anaconda3/lib/python3.8/site-packages/sklearn/ensemble/_gb.py\", line 313, in _init_state\n",
      "    self.estimators_ = np.empty((self.n_estimators, self.loss_.K),\n",
      "TypeError: 'numpy.float64' object cannot be interpreted as an integer\n",
      "\n",
      "  warnings.warn(\"Estimator fit failed. The score on this train-test\"\n",
      "/Users/marshallbanana/opt/anaconda3/lib/python3.8/site-packages/sklearn/model_selection/_validation.py:610: FitFailedWarning: Estimator fit failed. The score on this train-test partition for these parameters will be set to nan. Details: \n",
      "Traceback (most recent call last):\n",
      "  File \"/Users/marshallbanana/opt/anaconda3/lib/python3.8/site-packages/sklearn/model_selection/_validation.py\", line 593, in _fit_and_score\n",
      "    estimator.fit(X_train, y_train, **fit_params)\n",
      "  File \"/Users/marshallbanana/opt/anaconda3/lib/python3.8/site-packages/sklearn/pipeline.py\", line 346, in fit\n",
      "    self._final_estimator.fit(Xt, y, **fit_params_last_step)\n",
      "  File \"/Users/marshallbanana/opt/anaconda3/lib/python3.8/site-packages/sklearn/ensemble/_gb.py\", line 452, in fit\n",
      "    self._init_state()\n",
      "  File \"/Users/marshallbanana/opt/anaconda3/lib/python3.8/site-packages/sklearn/ensemble/_gb.py\", line 313, in _init_state\n",
      "    self.estimators_ = np.empty((self.n_estimators, self.loss_.K),\n",
      "TypeError: 'numpy.float64' object cannot be interpreted as an integer\n",
      "\n",
      "  warnings.warn(\"Estimator fit failed. The score on this train-test\"\n",
      "/Users/marshallbanana/opt/anaconda3/lib/python3.8/site-packages/sklearn/model_selection/_validation.py:610: FitFailedWarning: Estimator fit failed. The score on this train-test partition for these parameters will be set to nan. Details: \n",
      "Traceback (most recent call last):\n",
      "  File \"/Users/marshallbanana/opt/anaconda3/lib/python3.8/site-packages/sklearn/model_selection/_validation.py\", line 593, in _fit_and_score\n",
      "    estimator.fit(X_train, y_train, **fit_params)\n",
      "  File \"/Users/marshallbanana/opt/anaconda3/lib/python3.8/site-packages/sklearn/pipeline.py\", line 346, in fit\n",
      "    self._final_estimator.fit(Xt, y, **fit_params_last_step)\n",
      "  File \"/Users/marshallbanana/opt/anaconda3/lib/python3.8/site-packages/sklearn/ensemble/_gb.py\", line 452, in fit\n",
      "    self._init_state()\n",
      "  File \"/Users/marshallbanana/opt/anaconda3/lib/python3.8/site-packages/sklearn/ensemble/_gb.py\", line 313, in _init_state\n",
      "    self.estimators_ = np.empty((self.n_estimators, self.loss_.K),\n",
      "TypeError: 'numpy.float64' object cannot be interpreted as an integer\n",
      "\n",
      "  warnings.warn(\"Estimator fit failed. The score on this train-test\"\n",
      "/Users/marshallbanana/opt/anaconda3/lib/python3.8/site-packages/sklearn/model_selection/_validation.py:610: FitFailedWarning: Estimator fit failed. The score on this train-test partition for these parameters will be set to nan. Details: \n",
      "Traceback (most recent call last):\n",
      "  File \"/Users/marshallbanana/opt/anaconda3/lib/python3.8/site-packages/sklearn/model_selection/_validation.py\", line 593, in _fit_and_score\n",
      "    estimator.fit(X_train, y_train, **fit_params)\n",
      "  File \"/Users/marshallbanana/opt/anaconda3/lib/python3.8/site-packages/sklearn/pipeline.py\", line 346, in fit\n",
      "    self._final_estimator.fit(Xt, y, **fit_params_last_step)\n",
      "  File \"/Users/marshallbanana/opt/anaconda3/lib/python3.8/site-packages/sklearn/ensemble/_gb.py\", line 452, in fit\n",
      "    self._init_state()\n",
      "  File \"/Users/marshallbanana/opt/anaconda3/lib/python3.8/site-packages/sklearn/ensemble/_gb.py\", line 313, in _init_state\n",
      "    self.estimators_ = np.empty((self.n_estimators, self.loss_.K),\n",
      "TypeError: 'numpy.float64' object cannot be interpreted as an integer\n",
      "\n",
      "  warnings.warn(\"Estimator fit failed. The score on this train-test\"\n",
      "/Users/marshallbanana/opt/anaconda3/lib/python3.8/site-packages/sklearn/model_selection/_validation.py:610: FitFailedWarning: Estimator fit failed. The score on this train-test partition for these parameters will be set to nan. Details: \n",
      "Traceback (most recent call last):\n",
      "  File \"/Users/marshallbanana/opt/anaconda3/lib/python3.8/site-packages/sklearn/model_selection/_validation.py\", line 593, in _fit_and_score\n",
      "    estimator.fit(X_train, y_train, **fit_params)\n",
      "  File \"/Users/marshallbanana/opt/anaconda3/lib/python3.8/site-packages/sklearn/pipeline.py\", line 346, in fit\n",
      "    self._final_estimator.fit(Xt, y, **fit_params_last_step)\n",
      "  File \"/Users/marshallbanana/opt/anaconda3/lib/python3.8/site-packages/sklearn/ensemble/_gb.py\", line 452, in fit\n",
      "    self._init_state()\n",
      "  File \"/Users/marshallbanana/opt/anaconda3/lib/python3.8/site-packages/sklearn/ensemble/_gb.py\", line 313, in _init_state\n",
      "    self.estimators_ = np.empty((self.n_estimators, self.loss_.K),\n",
      "TypeError: 'numpy.float64' object cannot be interpreted as an integer\n",
      "\n",
      "  warnings.warn(\"Estimator fit failed. The score on this train-test\"\n",
      "/Users/marshallbanana/opt/anaconda3/lib/python3.8/site-packages/sklearn/model_selection/_validation.py:610: FitFailedWarning: Estimator fit failed. The score on this train-test partition for these parameters will be set to nan. Details: \n",
      "Traceback (most recent call last):\n",
      "  File \"/Users/marshallbanana/opt/anaconda3/lib/python3.8/site-packages/sklearn/model_selection/_validation.py\", line 593, in _fit_and_score\n",
      "    estimator.fit(X_train, y_train, **fit_params)\n",
      "  File \"/Users/marshallbanana/opt/anaconda3/lib/python3.8/site-packages/sklearn/pipeline.py\", line 346, in fit\n",
      "    self._final_estimator.fit(Xt, y, **fit_params_last_step)\n",
      "  File \"/Users/marshallbanana/opt/anaconda3/lib/python3.8/site-packages/sklearn/ensemble/_gb.py\", line 452, in fit\n",
      "    self._init_state()\n",
      "  File \"/Users/marshallbanana/opt/anaconda3/lib/python3.8/site-packages/sklearn/ensemble/_gb.py\", line 313, in _init_state\n",
      "    self.estimators_ = np.empty((self.n_estimators, self.loss_.K),\n",
      "TypeError: 'numpy.float64' object cannot be interpreted as an integer\n",
      "\n",
      "  warnings.warn(\"Estimator fit failed. The score on this train-test\"\n",
      "/Users/marshallbanana/opt/anaconda3/lib/python3.8/site-packages/sklearn/model_selection/_validation.py:610: FitFailedWarning: Estimator fit failed. The score on this train-test partition for these parameters will be set to nan. Details: \n",
      "Traceback (most recent call last):\n",
      "  File \"/Users/marshallbanana/opt/anaconda3/lib/python3.8/site-packages/sklearn/model_selection/_validation.py\", line 593, in _fit_and_score\n",
      "    estimator.fit(X_train, y_train, **fit_params)\n",
      "  File \"/Users/marshallbanana/opt/anaconda3/lib/python3.8/site-packages/sklearn/pipeline.py\", line 346, in fit\n",
      "    self._final_estimator.fit(Xt, y, **fit_params_last_step)\n",
      "  File \"/Users/marshallbanana/opt/anaconda3/lib/python3.8/site-packages/sklearn/ensemble/_gb.py\", line 452, in fit\n",
      "    self._init_state()\n",
      "  File \"/Users/marshallbanana/opt/anaconda3/lib/python3.8/site-packages/sklearn/ensemble/_gb.py\", line 313, in _init_state\n",
      "    self.estimators_ = np.empty((self.n_estimators, self.loss_.K),\n",
      "TypeError: 'numpy.float64' object cannot be interpreted as an integer\n",
      "\n",
      "  warnings.warn(\"Estimator fit failed. The score on this train-test\"\n",
      "/Users/marshallbanana/opt/anaconda3/lib/python3.8/site-packages/sklearn/model_selection/_validation.py:610: FitFailedWarning: Estimator fit failed. The score on this train-test partition for these parameters will be set to nan. Details: \n",
      "Traceback (most recent call last):\n",
      "  File \"/Users/marshallbanana/opt/anaconda3/lib/python3.8/site-packages/sklearn/model_selection/_validation.py\", line 593, in _fit_and_score\n",
      "    estimator.fit(X_train, y_train, **fit_params)\n",
      "  File \"/Users/marshallbanana/opt/anaconda3/lib/python3.8/site-packages/sklearn/pipeline.py\", line 346, in fit\n",
      "    self._final_estimator.fit(Xt, y, **fit_params_last_step)\n",
      "  File \"/Users/marshallbanana/opt/anaconda3/lib/python3.8/site-packages/sklearn/ensemble/_gb.py\", line 452, in fit\n",
      "    self._init_state()\n",
      "  File \"/Users/marshallbanana/opt/anaconda3/lib/python3.8/site-packages/sklearn/ensemble/_gb.py\", line 313, in _init_state\n",
      "    self.estimators_ = np.empty((self.n_estimators, self.loss_.K),\n",
      "TypeError: 'numpy.float64' object cannot be interpreted as an integer\n",
      "\n",
      "  warnings.warn(\"Estimator fit failed. The score on this train-test\"\n"
     ]
    },
    {
     "name": "stderr",
     "output_type": "stream",
     "text": [
      "/Users/marshallbanana/opt/anaconda3/lib/python3.8/site-packages/sklearn/model_selection/_validation.py:610: FitFailedWarning: Estimator fit failed. The score on this train-test partition for these parameters will be set to nan. Details: \n",
      "Traceback (most recent call last):\n",
      "  File \"/Users/marshallbanana/opt/anaconda3/lib/python3.8/site-packages/sklearn/model_selection/_validation.py\", line 593, in _fit_and_score\n",
      "    estimator.fit(X_train, y_train, **fit_params)\n",
      "  File \"/Users/marshallbanana/opt/anaconda3/lib/python3.8/site-packages/sklearn/pipeline.py\", line 346, in fit\n",
      "    self._final_estimator.fit(Xt, y, **fit_params_last_step)\n",
      "  File \"/Users/marshallbanana/opt/anaconda3/lib/python3.8/site-packages/sklearn/ensemble/_gb.py\", line 452, in fit\n",
      "    self._init_state()\n",
      "  File \"/Users/marshallbanana/opt/anaconda3/lib/python3.8/site-packages/sklearn/ensemble/_gb.py\", line 313, in _init_state\n",
      "    self.estimators_ = np.empty((self.n_estimators, self.loss_.K),\n",
      "TypeError: 'numpy.float64' object cannot be interpreted as an integer\n",
      "\n",
      "  warnings.warn(\"Estimator fit failed. The score on this train-test\"\n",
      "/Users/marshallbanana/opt/anaconda3/lib/python3.8/site-packages/sklearn/model_selection/_validation.py:610: FitFailedWarning: Estimator fit failed. The score on this train-test partition for these parameters will be set to nan. Details: \n",
      "Traceback (most recent call last):\n",
      "  File \"/Users/marshallbanana/opt/anaconda3/lib/python3.8/site-packages/sklearn/model_selection/_validation.py\", line 593, in _fit_and_score\n",
      "    estimator.fit(X_train, y_train, **fit_params)\n",
      "  File \"/Users/marshallbanana/opt/anaconda3/lib/python3.8/site-packages/sklearn/pipeline.py\", line 346, in fit\n",
      "    self._final_estimator.fit(Xt, y, **fit_params_last_step)\n",
      "  File \"/Users/marshallbanana/opt/anaconda3/lib/python3.8/site-packages/sklearn/ensemble/_gb.py\", line 452, in fit\n",
      "    self._init_state()\n",
      "  File \"/Users/marshallbanana/opt/anaconda3/lib/python3.8/site-packages/sklearn/ensemble/_gb.py\", line 313, in _init_state\n",
      "    self.estimators_ = np.empty((self.n_estimators, self.loss_.K),\n",
      "TypeError: 'numpy.float64' object cannot be interpreted as an integer\n",
      "\n",
      "  warnings.warn(\"Estimator fit failed. The score on this train-test\"\n",
      "/Users/marshallbanana/opt/anaconda3/lib/python3.8/site-packages/sklearn/model_selection/_validation.py:610: FitFailedWarning: Estimator fit failed. The score on this train-test partition for these parameters will be set to nan. Details: \n",
      "Traceback (most recent call last):\n",
      "  File \"/Users/marshallbanana/opt/anaconda3/lib/python3.8/site-packages/sklearn/model_selection/_validation.py\", line 593, in _fit_and_score\n",
      "    estimator.fit(X_train, y_train, **fit_params)\n",
      "  File \"/Users/marshallbanana/opt/anaconda3/lib/python3.8/site-packages/sklearn/pipeline.py\", line 346, in fit\n",
      "    self._final_estimator.fit(Xt, y, **fit_params_last_step)\n",
      "  File \"/Users/marshallbanana/opt/anaconda3/lib/python3.8/site-packages/sklearn/ensemble/_gb.py\", line 452, in fit\n",
      "    self._init_state()\n",
      "  File \"/Users/marshallbanana/opt/anaconda3/lib/python3.8/site-packages/sklearn/ensemble/_gb.py\", line 313, in _init_state\n",
      "    self.estimators_ = np.empty((self.n_estimators, self.loss_.K),\n",
      "TypeError: 'numpy.float64' object cannot be interpreted as an integer\n",
      "\n",
      "  warnings.warn(\"Estimator fit failed. The score on this train-test\"\n",
      "/Users/marshallbanana/opt/anaconda3/lib/python3.8/site-packages/sklearn/model_selection/_validation.py:610: FitFailedWarning: Estimator fit failed. The score on this train-test partition for these parameters will be set to nan. Details: \n",
      "Traceback (most recent call last):\n",
      "  File \"/Users/marshallbanana/opt/anaconda3/lib/python3.8/site-packages/sklearn/model_selection/_validation.py\", line 593, in _fit_and_score\n",
      "    estimator.fit(X_train, y_train, **fit_params)\n",
      "  File \"/Users/marshallbanana/opt/anaconda3/lib/python3.8/site-packages/sklearn/pipeline.py\", line 346, in fit\n",
      "    self._final_estimator.fit(Xt, y, **fit_params_last_step)\n",
      "  File \"/Users/marshallbanana/opt/anaconda3/lib/python3.8/site-packages/sklearn/ensemble/_gb.py\", line 452, in fit\n",
      "    self._init_state()\n",
      "  File \"/Users/marshallbanana/opt/anaconda3/lib/python3.8/site-packages/sklearn/ensemble/_gb.py\", line 313, in _init_state\n",
      "    self.estimators_ = np.empty((self.n_estimators, self.loss_.K),\n",
      "TypeError: 'numpy.float64' object cannot be interpreted as an integer\n",
      "\n",
      "  warnings.warn(\"Estimator fit failed. The score on this train-test\"\n",
      "/Users/marshallbanana/opt/anaconda3/lib/python3.8/site-packages/sklearn/model_selection/_validation.py:610: FitFailedWarning: Estimator fit failed. The score on this train-test partition for these parameters will be set to nan. Details: \n",
      "Traceback (most recent call last):\n",
      "  File \"/Users/marshallbanana/opt/anaconda3/lib/python3.8/site-packages/sklearn/model_selection/_validation.py\", line 593, in _fit_and_score\n",
      "    estimator.fit(X_train, y_train, **fit_params)\n",
      "  File \"/Users/marshallbanana/opt/anaconda3/lib/python3.8/site-packages/sklearn/pipeline.py\", line 346, in fit\n",
      "    self._final_estimator.fit(Xt, y, **fit_params_last_step)\n",
      "  File \"/Users/marshallbanana/opt/anaconda3/lib/python3.8/site-packages/sklearn/ensemble/_gb.py\", line 452, in fit\n",
      "    self._init_state()\n",
      "  File \"/Users/marshallbanana/opt/anaconda3/lib/python3.8/site-packages/sklearn/ensemble/_gb.py\", line 313, in _init_state\n",
      "    self.estimators_ = np.empty((self.n_estimators, self.loss_.K),\n",
      "TypeError: 'numpy.float64' object cannot be interpreted as an integer\n",
      "\n",
      "  warnings.warn(\"Estimator fit failed. The score on this train-test\"\n",
      "/Users/marshallbanana/opt/anaconda3/lib/python3.8/site-packages/sklearn/model_selection/_validation.py:610: FitFailedWarning: Estimator fit failed. The score on this train-test partition for these parameters will be set to nan. Details: \n",
      "Traceback (most recent call last):\n",
      "  File \"/Users/marshallbanana/opt/anaconda3/lib/python3.8/site-packages/sklearn/model_selection/_validation.py\", line 593, in _fit_and_score\n",
      "    estimator.fit(X_train, y_train, **fit_params)\n",
      "  File \"/Users/marshallbanana/opt/anaconda3/lib/python3.8/site-packages/sklearn/pipeline.py\", line 346, in fit\n",
      "    self._final_estimator.fit(Xt, y, **fit_params_last_step)\n",
      "  File \"/Users/marshallbanana/opt/anaconda3/lib/python3.8/site-packages/sklearn/ensemble/_gb.py\", line 452, in fit\n",
      "    self._init_state()\n",
      "  File \"/Users/marshallbanana/opt/anaconda3/lib/python3.8/site-packages/sklearn/ensemble/_gb.py\", line 313, in _init_state\n",
      "    self.estimators_ = np.empty((self.n_estimators, self.loss_.K),\n",
      "TypeError: 'numpy.float64' object cannot be interpreted as an integer\n",
      "\n",
      "  warnings.warn(\"Estimator fit failed. The score on this train-test\"\n",
      "/Users/marshallbanana/opt/anaconda3/lib/python3.8/site-packages/sklearn/model_selection/_validation.py:610: FitFailedWarning: Estimator fit failed. The score on this train-test partition for these parameters will be set to nan. Details: \n",
      "Traceback (most recent call last):\n",
      "  File \"/Users/marshallbanana/opt/anaconda3/lib/python3.8/site-packages/sklearn/model_selection/_validation.py\", line 593, in _fit_and_score\n",
      "    estimator.fit(X_train, y_train, **fit_params)\n",
      "  File \"/Users/marshallbanana/opt/anaconda3/lib/python3.8/site-packages/sklearn/pipeline.py\", line 346, in fit\n",
      "    self._final_estimator.fit(Xt, y, **fit_params_last_step)\n",
      "  File \"/Users/marshallbanana/opt/anaconda3/lib/python3.8/site-packages/sklearn/ensemble/_gb.py\", line 452, in fit\n",
      "    self._init_state()\n",
      "  File \"/Users/marshallbanana/opt/anaconda3/lib/python3.8/site-packages/sklearn/ensemble/_gb.py\", line 313, in _init_state\n",
      "    self.estimators_ = np.empty((self.n_estimators, self.loss_.K),\n",
      "TypeError: 'numpy.float64' object cannot be interpreted as an integer\n",
      "\n",
      "  warnings.warn(\"Estimator fit failed. The score on this train-test\"\n",
      "/Users/marshallbanana/opt/anaconda3/lib/python3.8/site-packages/sklearn/model_selection/_validation.py:610: FitFailedWarning: Estimator fit failed. The score on this train-test partition for these parameters will be set to nan. Details: \n",
      "Traceback (most recent call last):\n",
      "  File \"/Users/marshallbanana/opt/anaconda3/lib/python3.8/site-packages/sklearn/model_selection/_validation.py\", line 593, in _fit_and_score\n",
      "    estimator.fit(X_train, y_train, **fit_params)\n",
      "  File \"/Users/marshallbanana/opt/anaconda3/lib/python3.8/site-packages/sklearn/pipeline.py\", line 346, in fit\n",
      "    self._final_estimator.fit(Xt, y, **fit_params_last_step)\n",
      "  File \"/Users/marshallbanana/opt/anaconda3/lib/python3.8/site-packages/sklearn/ensemble/_gb.py\", line 452, in fit\n",
      "    self._init_state()\n",
      "  File \"/Users/marshallbanana/opt/anaconda3/lib/python3.8/site-packages/sklearn/ensemble/_gb.py\", line 313, in _init_state\n",
      "    self.estimators_ = np.empty((self.n_estimators, self.loss_.K),\n",
      "TypeError: 'numpy.float64' object cannot be interpreted as an integer\n",
      "\n",
      "  warnings.warn(\"Estimator fit failed. The score on this train-test\"\n"
     ]
    },
    {
     "name": "stderr",
     "output_type": "stream",
     "text": [
      "/Users/marshallbanana/opt/anaconda3/lib/python3.8/site-packages/sklearn/model_selection/_validation.py:610: FitFailedWarning: Estimator fit failed. The score on this train-test partition for these parameters will be set to nan. Details: \n",
      "Traceback (most recent call last):\n",
      "  File \"/Users/marshallbanana/opt/anaconda3/lib/python3.8/site-packages/sklearn/model_selection/_validation.py\", line 593, in _fit_and_score\n",
      "    estimator.fit(X_train, y_train, **fit_params)\n",
      "  File \"/Users/marshallbanana/opt/anaconda3/lib/python3.8/site-packages/sklearn/pipeline.py\", line 346, in fit\n",
      "    self._final_estimator.fit(Xt, y, **fit_params_last_step)\n",
      "  File \"/Users/marshallbanana/opt/anaconda3/lib/python3.8/site-packages/sklearn/ensemble/_gb.py\", line 452, in fit\n",
      "    self._init_state()\n",
      "  File \"/Users/marshallbanana/opt/anaconda3/lib/python3.8/site-packages/sklearn/ensemble/_gb.py\", line 313, in _init_state\n",
      "    self.estimators_ = np.empty((self.n_estimators, self.loss_.K),\n",
      "TypeError: 'numpy.float64' object cannot be interpreted as an integer\n",
      "\n",
      "  warnings.warn(\"Estimator fit failed. The score on this train-test\"\n",
      "/Users/marshallbanana/opt/anaconda3/lib/python3.8/site-packages/sklearn/model_selection/_validation.py:610: FitFailedWarning: Estimator fit failed. The score on this train-test partition for these parameters will be set to nan. Details: \n",
      "Traceback (most recent call last):\n",
      "  File \"/Users/marshallbanana/opt/anaconda3/lib/python3.8/site-packages/sklearn/model_selection/_validation.py\", line 593, in _fit_and_score\n",
      "    estimator.fit(X_train, y_train, **fit_params)\n",
      "  File \"/Users/marshallbanana/opt/anaconda3/lib/python3.8/site-packages/sklearn/pipeline.py\", line 346, in fit\n",
      "    self._final_estimator.fit(Xt, y, **fit_params_last_step)\n",
      "  File \"/Users/marshallbanana/opt/anaconda3/lib/python3.8/site-packages/sklearn/ensemble/_gb.py\", line 452, in fit\n",
      "    self._init_state()\n",
      "  File \"/Users/marshallbanana/opt/anaconda3/lib/python3.8/site-packages/sklearn/ensemble/_gb.py\", line 313, in _init_state\n",
      "    self.estimators_ = np.empty((self.n_estimators, self.loss_.K),\n",
      "TypeError: 'numpy.float64' object cannot be interpreted as an integer\n",
      "\n",
      "  warnings.warn(\"Estimator fit failed. The score on this train-test\"\n",
      "/Users/marshallbanana/opt/anaconda3/lib/python3.8/site-packages/sklearn/model_selection/_validation.py:610: FitFailedWarning: Estimator fit failed. The score on this train-test partition for these parameters will be set to nan. Details: \n",
      "Traceback (most recent call last):\n",
      "  File \"/Users/marshallbanana/opt/anaconda3/lib/python3.8/site-packages/sklearn/model_selection/_validation.py\", line 593, in _fit_and_score\n",
      "    estimator.fit(X_train, y_train, **fit_params)\n",
      "  File \"/Users/marshallbanana/opt/anaconda3/lib/python3.8/site-packages/sklearn/pipeline.py\", line 346, in fit\n",
      "    self._final_estimator.fit(Xt, y, **fit_params_last_step)\n",
      "  File \"/Users/marshallbanana/opt/anaconda3/lib/python3.8/site-packages/sklearn/ensemble/_gb.py\", line 452, in fit\n",
      "    self._init_state()\n",
      "  File \"/Users/marshallbanana/opt/anaconda3/lib/python3.8/site-packages/sklearn/ensemble/_gb.py\", line 313, in _init_state\n",
      "    self.estimators_ = np.empty((self.n_estimators, self.loss_.K),\n",
      "TypeError: 'numpy.float64' object cannot be interpreted as an integer\n",
      "\n",
      "  warnings.warn(\"Estimator fit failed. The score on this train-test\"\n",
      "/Users/marshallbanana/opt/anaconda3/lib/python3.8/site-packages/sklearn/model_selection/_validation.py:610: FitFailedWarning: Estimator fit failed. The score on this train-test partition for these parameters will be set to nan. Details: \n",
      "Traceback (most recent call last):\n",
      "  File \"/Users/marshallbanana/opt/anaconda3/lib/python3.8/site-packages/sklearn/model_selection/_validation.py\", line 593, in _fit_and_score\n",
      "    estimator.fit(X_train, y_train, **fit_params)\n",
      "  File \"/Users/marshallbanana/opt/anaconda3/lib/python3.8/site-packages/sklearn/pipeline.py\", line 346, in fit\n",
      "    self._final_estimator.fit(Xt, y, **fit_params_last_step)\n",
      "  File \"/Users/marshallbanana/opt/anaconda3/lib/python3.8/site-packages/sklearn/ensemble/_gb.py\", line 452, in fit\n",
      "    self._init_state()\n",
      "  File \"/Users/marshallbanana/opt/anaconda3/lib/python3.8/site-packages/sklearn/ensemble/_gb.py\", line 313, in _init_state\n",
      "    self.estimators_ = np.empty((self.n_estimators, self.loss_.K),\n",
      "TypeError: 'numpy.float64' object cannot be interpreted as an integer\n",
      "\n",
      "  warnings.warn(\"Estimator fit failed. The score on this train-test\"\n",
      "/Users/marshallbanana/opt/anaconda3/lib/python3.8/site-packages/sklearn/model_selection/_validation.py:610: FitFailedWarning: Estimator fit failed. The score on this train-test partition for these parameters will be set to nan. Details: \n",
      "Traceback (most recent call last):\n",
      "  File \"/Users/marshallbanana/opt/anaconda3/lib/python3.8/site-packages/sklearn/model_selection/_validation.py\", line 593, in _fit_and_score\n",
      "    estimator.fit(X_train, y_train, **fit_params)\n",
      "  File \"/Users/marshallbanana/opt/anaconda3/lib/python3.8/site-packages/sklearn/pipeline.py\", line 346, in fit\n",
      "    self._final_estimator.fit(Xt, y, **fit_params_last_step)\n",
      "  File \"/Users/marshallbanana/opt/anaconda3/lib/python3.8/site-packages/sklearn/ensemble/_gb.py\", line 452, in fit\n",
      "    self._init_state()\n",
      "  File \"/Users/marshallbanana/opt/anaconda3/lib/python3.8/site-packages/sklearn/ensemble/_gb.py\", line 313, in _init_state\n",
      "    self.estimators_ = np.empty((self.n_estimators, self.loss_.K),\n",
      "TypeError: 'numpy.float64' object cannot be interpreted as an integer\n",
      "\n",
      "  warnings.warn(\"Estimator fit failed. The score on this train-test\"\n",
      "/Users/marshallbanana/opt/anaconda3/lib/python3.8/site-packages/sklearn/model_selection/_validation.py:610: FitFailedWarning: Estimator fit failed. The score on this train-test partition for these parameters will be set to nan. Details: \n",
      "Traceback (most recent call last):\n",
      "  File \"/Users/marshallbanana/opt/anaconda3/lib/python3.8/site-packages/sklearn/model_selection/_validation.py\", line 593, in _fit_and_score\n",
      "    estimator.fit(X_train, y_train, **fit_params)\n",
      "  File \"/Users/marshallbanana/opt/anaconda3/lib/python3.8/site-packages/sklearn/pipeline.py\", line 346, in fit\n",
      "    self._final_estimator.fit(Xt, y, **fit_params_last_step)\n",
      "  File \"/Users/marshallbanana/opt/anaconda3/lib/python3.8/site-packages/sklearn/ensemble/_gb.py\", line 452, in fit\n",
      "    self._init_state()\n",
      "  File \"/Users/marshallbanana/opt/anaconda3/lib/python3.8/site-packages/sklearn/ensemble/_gb.py\", line 313, in _init_state\n",
      "    self.estimators_ = np.empty((self.n_estimators, self.loss_.K),\n",
      "TypeError: 'numpy.float64' object cannot be interpreted as an integer\n",
      "\n",
      "  warnings.warn(\"Estimator fit failed. The score on this train-test\"\n",
      "/Users/marshallbanana/opt/anaconda3/lib/python3.8/site-packages/sklearn/model_selection/_validation.py:610: FitFailedWarning: Estimator fit failed. The score on this train-test partition for these parameters will be set to nan. Details: \n",
      "Traceback (most recent call last):\n",
      "  File \"/Users/marshallbanana/opt/anaconda3/lib/python3.8/site-packages/sklearn/model_selection/_validation.py\", line 593, in _fit_and_score\n",
      "    estimator.fit(X_train, y_train, **fit_params)\n",
      "  File \"/Users/marshallbanana/opt/anaconda3/lib/python3.8/site-packages/sklearn/pipeline.py\", line 346, in fit\n",
      "    self._final_estimator.fit(Xt, y, **fit_params_last_step)\n",
      "  File \"/Users/marshallbanana/opt/anaconda3/lib/python3.8/site-packages/sklearn/ensemble/_gb.py\", line 452, in fit\n",
      "    self._init_state()\n",
      "  File \"/Users/marshallbanana/opt/anaconda3/lib/python3.8/site-packages/sklearn/ensemble/_gb.py\", line 313, in _init_state\n",
      "    self.estimators_ = np.empty((self.n_estimators, self.loss_.K),\n",
      "TypeError: 'numpy.float64' object cannot be interpreted as an integer\n",
      "\n",
      "  warnings.warn(\"Estimator fit failed. The score on this train-test\"\n",
      "/Users/marshallbanana/opt/anaconda3/lib/python3.8/site-packages/sklearn/model_selection/_validation.py:610: FitFailedWarning: Estimator fit failed. The score on this train-test partition for these parameters will be set to nan. Details: \n",
      "Traceback (most recent call last):\n",
      "  File \"/Users/marshallbanana/opt/anaconda3/lib/python3.8/site-packages/sklearn/model_selection/_validation.py\", line 593, in _fit_and_score\n",
      "    estimator.fit(X_train, y_train, **fit_params)\n",
      "  File \"/Users/marshallbanana/opt/anaconda3/lib/python3.8/site-packages/sklearn/pipeline.py\", line 346, in fit\n",
      "    self._final_estimator.fit(Xt, y, **fit_params_last_step)\n",
      "  File \"/Users/marshallbanana/opt/anaconda3/lib/python3.8/site-packages/sklearn/ensemble/_gb.py\", line 452, in fit\n",
      "    self._init_state()\n",
      "  File \"/Users/marshallbanana/opt/anaconda3/lib/python3.8/site-packages/sklearn/ensemble/_gb.py\", line 313, in _init_state\n",
      "    self.estimators_ = np.empty((self.n_estimators, self.loss_.K),\n",
      "TypeError: 'numpy.float64' object cannot be interpreted as an integer\n",
      "\n",
      "  warnings.warn(\"Estimator fit failed. The score on this train-test\"\n"
     ]
    },
    {
     "name": "stderr",
     "output_type": "stream",
     "text": [
      "/Users/marshallbanana/opt/anaconda3/lib/python3.8/site-packages/sklearn/model_selection/_validation.py:610: FitFailedWarning: Estimator fit failed. The score on this train-test partition for these parameters will be set to nan. Details: \n",
      "Traceback (most recent call last):\n",
      "  File \"/Users/marshallbanana/opt/anaconda3/lib/python3.8/site-packages/sklearn/model_selection/_validation.py\", line 593, in _fit_and_score\n",
      "    estimator.fit(X_train, y_train, **fit_params)\n",
      "  File \"/Users/marshallbanana/opt/anaconda3/lib/python3.8/site-packages/sklearn/pipeline.py\", line 346, in fit\n",
      "    self._final_estimator.fit(Xt, y, **fit_params_last_step)\n",
      "  File \"/Users/marshallbanana/opt/anaconda3/lib/python3.8/site-packages/sklearn/ensemble/_gb.py\", line 452, in fit\n",
      "    self._init_state()\n",
      "  File \"/Users/marshallbanana/opt/anaconda3/lib/python3.8/site-packages/sklearn/ensemble/_gb.py\", line 313, in _init_state\n",
      "    self.estimators_ = np.empty((self.n_estimators, self.loss_.K),\n",
      "TypeError: 'numpy.float64' object cannot be interpreted as an integer\n",
      "\n",
      "  warnings.warn(\"Estimator fit failed. The score on this train-test\"\n",
      "/Users/marshallbanana/opt/anaconda3/lib/python3.8/site-packages/sklearn/model_selection/_validation.py:610: FitFailedWarning: Estimator fit failed. The score on this train-test partition for these parameters will be set to nan. Details: \n",
      "Traceback (most recent call last):\n",
      "  File \"/Users/marshallbanana/opt/anaconda3/lib/python3.8/site-packages/sklearn/model_selection/_validation.py\", line 593, in _fit_and_score\n",
      "    estimator.fit(X_train, y_train, **fit_params)\n",
      "  File \"/Users/marshallbanana/opt/anaconda3/lib/python3.8/site-packages/sklearn/pipeline.py\", line 346, in fit\n",
      "    self._final_estimator.fit(Xt, y, **fit_params_last_step)\n",
      "  File \"/Users/marshallbanana/opt/anaconda3/lib/python3.8/site-packages/sklearn/ensemble/_gb.py\", line 452, in fit\n",
      "    self._init_state()\n",
      "  File \"/Users/marshallbanana/opt/anaconda3/lib/python3.8/site-packages/sklearn/ensemble/_gb.py\", line 313, in _init_state\n",
      "    self.estimators_ = np.empty((self.n_estimators, self.loss_.K),\n",
      "TypeError: 'numpy.float64' object cannot be interpreted as an integer\n",
      "\n",
      "  warnings.warn(\"Estimator fit failed. The score on this train-test\"\n",
      "/Users/marshallbanana/opt/anaconda3/lib/python3.8/site-packages/sklearn/model_selection/_validation.py:610: FitFailedWarning: Estimator fit failed. The score on this train-test partition for these parameters will be set to nan. Details: \n",
      "Traceback (most recent call last):\n",
      "  File \"/Users/marshallbanana/opt/anaconda3/lib/python3.8/site-packages/sklearn/model_selection/_validation.py\", line 593, in _fit_and_score\n",
      "    estimator.fit(X_train, y_train, **fit_params)\n",
      "  File \"/Users/marshallbanana/opt/anaconda3/lib/python3.8/site-packages/sklearn/pipeline.py\", line 346, in fit\n",
      "    self._final_estimator.fit(Xt, y, **fit_params_last_step)\n",
      "  File \"/Users/marshallbanana/opt/anaconda3/lib/python3.8/site-packages/sklearn/ensemble/_gb.py\", line 452, in fit\n",
      "    self._init_state()\n",
      "  File \"/Users/marshallbanana/opt/anaconda3/lib/python3.8/site-packages/sklearn/ensemble/_gb.py\", line 313, in _init_state\n",
      "    self.estimators_ = np.empty((self.n_estimators, self.loss_.K),\n",
      "TypeError: 'numpy.float64' object cannot be interpreted as an integer\n",
      "\n",
      "  warnings.warn(\"Estimator fit failed. The score on this train-test\"\n",
      "/Users/marshallbanana/opt/anaconda3/lib/python3.8/site-packages/sklearn/model_selection/_validation.py:610: FitFailedWarning: Estimator fit failed. The score on this train-test partition for these parameters will be set to nan. Details: \n",
      "Traceback (most recent call last):\n",
      "  File \"/Users/marshallbanana/opt/anaconda3/lib/python3.8/site-packages/sklearn/model_selection/_validation.py\", line 593, in _fit_and_score\n",
      "    estimator.fit(X_train, y_train, **fit_params)\n",
      "  File \"/Users/marshallbanana/opt/anaconda3/lib/python3.8/site-packages/sklearn/pipeline.py\", line 346, in fit\n",
      "    self._final_estimator.fit(Xt, y, **fit_params_last_step)\n",
      "  File \"/Users/marshallbanana/opt/anaconda3/lib/python3.8/site-packages/sklearn/ensemble/_gb.py\", line 452, in fit\n",
      "    self._init_state()\n",
      "  File \"/Users/marshallbanana/opt/anaconda3/lib/python3.8/site-packages/sklearn/ensemble/_gb.py\", line 313, in _init_state\n",
      "    self.estimators_ = np.empty((self.n_estimators, self.loss_.K),\n",
      "TypeError: 'numpy.float64' object cannot be interpreted as an integer\n",
      "\n",
      "  warnings.warn(\"Estimator fit failed. The score on this train-test\"\n",
      "/Users/marshallbanana/opt/anaconda3/lib/python3.8/site-packages/sklearn/model_selection/_validation.py:610: FitFailedWarning: Estimator fit failed. The score on this train-test partition for these parameters will be set to nan. Details: \n",
      "Traceback (most recent call last):\n",
      "  File \"/Users/marshallbanana/opt/anaconda3/lib/python3.8/site-packages/sklearn/model_selection/_validation.py\", line 593, in _fit_and_score\n",
      "    estimator.fit(X_train, y_train, **fit_params)\n",
      "  File \"/Users/marshallbanana/opt/anaconda3/lib/python3.8/site-packages/sklearn/pipeline.py\", line 346, in fit\n",
      "    self._final_estimator.fit(Xt, y, **fit_params_last_step)\n",
      "  File \"/Users/marshallbanana/opt/anaconda3/lib/python3.8/site-packages/sklearn/ensemble/_gb.py\", line 452, in fit\n",
      "    self._init_state()\n",
      "  File \"/Users/marshallbanana/opt/anaconda3/lib/python3.8/site-packages/sklearn/ensemble/_gb.py\", line 313, in _init_state\n",
      "    self.estimators_ = np.empty((self.n_estimators, self.loss_.K),\n",
      "TypeError: 'numpy.float64' object cannot be interpreted as an integer\n",
      "\n",
      "  warnings.warn(\"Estimator fit failed. The score on this train-test\"\n",
      "/Users/marshallbanana/opt/anaconda3/lib/python3.8/site-packages/sklearn/model_selection/_validation.py:610: FitFailedWarning: Estimator fit failed. The score on this train-test partition for these parameters will be set to nan. Details: \n",
      "Traceback (most recent call last):\n",
      "  File \"/Users/marshallbanana/opt/anaconda3/lib/python3.8/site-packages/sklearn/model_selection/_validation.py\", line 593, in _fit_and_score\n",
      "    estimator.fit(X_train, y_train, **fit_params)\n",
      "  File \"/Users/marshallbanana/opt/anaconda3/lib/python3.8/site-packages/sklearn/pipeline.py\", line 346, in fit\n",
      "    self._final_estimator.fit(Xt, y, **fit_params_last_step)\n",
      "  File \"/Users/marshallbanana/opt/anaconda3/lib/python3.8/site-packages/sklearn/ensemble/_gb.py\", line 452, in fit\n",
      "    self._init_state()\n",
      "  File \"/Users/marshallbanana/opt/anaconda3/lib/python3.8/site-packages/sklearn/ensemble/_gb.py\", line 313, in _init_state\n",
      "    self.estimators_ = np.empty((self.n_estimators, self.loss_.K),\n",
      "TypeError: 'numpy.float64' object cannot be interpreted as an integer\n",
      "\n",
      "  warnings.warn(\"Estimator fit failed. The score on this train-test\"\n",
      "/Users/marshallbanana/opt/anaconda3/lib/python3.8/site-packages/sklearn/model_selection/_validation.py:610: FitFailedWarning: Estimator fit failed. The score on this train-test partition for these parameters will be set to nan. Details: \n",
      "Traceback (most recent call last):\n",
      "  File \"/Users/marshallbanana/opt/anaconda3/lib/python3.8/site-packages/sklearn/model_selection/_validation.py\", line 593, in _fit_and_score\n",
      "    estimator.fit(X_train, y_train, **fit_params)\n",
      "  File \"/Users/marshallbanana/opt/anaconda3/lib/python3.8/site-packages/sklearn/pipeline.py\", line 346, in fit\n",
      "    self._final_estimator.fit(Xt, y, **fit_params_last_step)\n",
      "  File \"/Users/marshallbanana/opt/anaconda3/lib/python3.8/site-packages/sklearn/ensemble/_gb.py\", line 452, in fit\n",
      "    self._init_state()\n",
      "  File \"/Users/marshallbanana/opt/anaconda3/lib/python3.8/site-packages/sklearn/ensemble/_gb.py\", line 313, in _init_state\n",
      "    self.estimators_ = np.empty((self.n_estimators, self.loss_.K),\n",
      "TypeError: 'numpy.float64' object cannot be interpreted as an integer\n",
      "\n",
      "  warnings.warn(\"Estimator fit failed. The score on this train-test\"\n",
      "/Users/marshallbanana/opt/anaconda3/lib/python3.8/site-packages/sklearn/model_selection/_validation.py:610: FitFailedWarning: Estimator fit failed. The score on this train-test partition for these parameters will be set to nan. Details: \n",
      "Traceback (most recent call last):\n",
      "  File \"/Users/marshallbanana/opt/anaconda3/lib/python3.8/site-packages/sklearn/model_selection/_validation.py\", line 593, in _fit_and_score\n",
      "    estimator.fit(X_train, y_train, **fit_params)\n",
      "  File \"/Users/marshallbanana/opt/anaconda3/lib/python3.8/site-packages/sklearn/pipeline.py\", line 346, in fit\n",
      "    self._final_estimator.fit(Xt, y, **fit_params_last_step)\n",
      "  File \"/Users/marshallbanana/opt/anaconda3/lib/python3.8/site-packages/sklearn/ensemble/_gb.py\", line 452, in fit\n",
      "    self._init_state()\n",
      "  File \"/Users/marshallbanana/opt/anaconda3/lib/python3.8/site-packages/sklearn/ensemble/_gb.py\", line 313, in _init_state\n",
      "    self.estimators_ = np.empty((self.n_estimators, self.loss_.K),\n",
      "TypeError: 'numpy.float64' object cannot be interpreted as an integer\n",
      "\n",
      "  warnings.warn(\"Estimator fit failed. The score on this train-test\"\n"
     ]
    },
    {
     "name": "stderr",
     "output_type": "stream",
     "text": [
      "/Users/marshallbanana/opt/anaconda3/lib/python3.8/site-packages/sklearn/model_selection/_validation.py:610: FitFailedWarning: Estimator fit failed. The score on this train-test partition for these parameters will be set to nan. Details: \n",
      "Traceback (most recent call last):\n",
      "  File \"/Users/marshallbanana/opt/anaconda3/lib/python3.8/site-packages/sklearn/model_selection/_validation.py\", line 593, in _fit_and_score\n",
      "    estimator.fit(X_train, y_train, **fit_params)\n",
      "  File \"/Users/marshallbanana/opt/anaconda3/lib/python3.8/site-packages/sklearn/pipeline.py\", line 346, in fit\n",
      "    self._final_estimator.fit(Xt, y, **fit_params_last_step)\n",
      "  File \"/Users/marshallbanana/opt/anaconda3/lib/python3.8/site-packages/sklearn/ensemble/_gb.py\", line 452, in fit\n",
      "    self._init_state()\n",
      "  File \"/Users/marshallbanana/opt/anaconda3/lib/python3.8/site-packages/sklearn/ensemble/_gb.py\", line 313, in _init_state\n",
      "    self.estimators_ = np.empty((self.n_estimators, self.loss_.K),\n",
      "TypeError: 'numpy.float64' object cannot be interpreted as an integer\n",
      "\n",
      "  warnings.warn(\"Estimator fit failed. The score on this train-test\"\n",
      "/Users/marshallbanana/opt/anaconda3/lib/python3.8/site-packages/sklearn/model_selection/_validation.py:610: FitFailedWarning: Estimator fit failed. The score on this train-test partition for these parameters will be set to nan. Details: \n",
      "Traceback (most recent call last):\n",
      "  File \"/Users/marshallbanana/opt/anaconda3/lib/python3.8/site-packages/sklearn/model_selection/_validation.py\", line 593, in _fit_and_score\n",
      "    estimator.fit(X_train, y_train, **fit_params)\n",
      "  File \"/Users/marshallbanana/opt/anaconda3/lib/python3.8/site-packages/sklearn/pipeline.py\", line 346, in fit\n",
      "    self._final_estimator.fit(Xt, y, **fit_params_last_step)\n",
      "  File \"/Users/marshallbanana/opt/anaconda3/lib/python3.8/site-packages/sklearn/ensemble/_gb.py\", line 452, in fit\n",
      "    self._init_state()\n",
      "  File \"/Users/marshallbanana/opt/anaconda3/lib/python3.8/site-packages/sklearn/ensemble/_gb.py\", line 313, in _init_state\n",
      "    self.estimators_ = np.empty((self.n_estimators, self.loss_.K),\n",
      "TypeError: 'numpy.float64' object cannot be interpreted as an integer\n",
      "\n",
      "  warnings.warn(\"Estimator fit failed. The score on this train-test\"\n",
      "/Users/marshallbanana/opt/anaconda3/lib/python3.8/site-packages/sklearn/model_selection/_validation.py:610: FitFailedWarning: Estimator fit failed. The score on this train-test partition for these parameters will be set to nan. Details: \n",
      "Traceback (most recent call last):\n",
      "  File \"/Users/marshallbanana/opt/anaconda3/lib/python3.8/site-packages/sklearn/model_selection/_validation.py\", line 593, in _fit_and_score\n",
      "    estimator.fit(X_train, y_train, **fit_params)\n",
      "  File \"/Users/marshallbanana/opt/anaconda3/lib/python3.8/site-packages/sklearn/pipeline.py\", line 346, in fit\n",
      "    self._final_estimator.fit(Xt, y, **fit_params_last_step)\n",
      "  File \"/Users/marshallbanana/opt/anaconda3/lib/python3.8/site-packages/sklearn/ensemble/_gb.py\", line 452, in fit\n",
      "    self._init_state()\n",
      "  File \"/Users/marshallbanana/opt/anaconda3/lib/python3.8/site-packages/sklearn/ensemble/_gb.py\", line 313, in _init_state\n",
      "    self.estimators_ = np.empty((self.n_estimators, self.loss_.K),\n",
      "TypeError: 'numpy.float64' object cannot be interpreted as an integer\n",
      "\n",
      "  warnings.warn(\"Estimator fit failed. The score on this train-test\"\n",
      "/Users/marshallbanana/opt/anaconda3/lib/python3.8/site-packages/sklearn/model_selection/_validation.py:610: FitFailedWarning: Estimator fit failed. The score on this train-test partition for these parameters will be set to nan. Details: \n",
      "Traceback (most recent call last):\n",
      "  File \"/Users/marshallbanana/opt/anaconda3/lib/python3.8/site-packages/sklearn/model_selection/_validation.py\", line 593, in _fit_and_score\n",
      "    estimator.fit(X_train, y_train, **fit_params)\n",
      "  File \"/Users/marshallbanana/opt/anaconda3/lib/python3.8/site-packages/sklearn/pipeline.py\", line 346, in fit\n",
      "    self._final_estimator.fit(Xt, y, **fit_params_last_step)\n",
      "  File \"/Users/marshallbanana/opt/anaconda3/lib/python3.8/site-packages/sklearn/ensemble/_gb.py\", line 452, in fit\n",
      "    self._init_state()\n",
      "  File \"/Users/marshallbanana/opt/anaconda3/lib/python3.8/site-packages/sklearn/ensemble/_gb.py\", line 313, in _init_state\n",
      "    self.estimators_ = np.empty((self.n_estimators, self.loss_.K),\n",
      "TypeError: 'numpy.float64' object cannot be interpreted as an integer\n",
      "\n",
      "  warnings.warn(\"Estimator fit failed. The score on this train-test\"\n",
      "/Users/marshallbanana/opt/anaconda3/lib/python3.8/site-packages/sklearn/model_selection/_validation.py:610: FitFailedWarning: Estimator fit failed. The score on this train-test partition for these parameters will be set to nan. Details: \n",
      "Traceback (most recent call last):\n",
      "  File \"/Users/marshallbanana/opt/anaconda3/lib/python3.8/site-packages/sklearn/model_selection/_validation.py\", line 593, in _fit_and_score\n",
      "    estimator.fit(X_train, y_train, **fit_params)\n",
      "  File \"/Users/marshallbanana/opt/anaconda3/lib/python3.8/site-packages/sklearn/pipeline.py\", line 346, in fit\n",
      "    self._final_estimator.fit(Xt, y, **fit_params_last_step)\n",
      "  File \"/Users/marshallbanana/opt/anaconda3/lib/python3.8/site-packages/sklearn/ensemble/_gb.py\", line 452, in fit\n",
      "    self._init_state()\n",
      "  File \"/Users/marshallbanana/opt/anaconda3/lib/python3.8/site-packages/sklearn/ensemble/_gb.py\", line 313, in _init_state\n",
      "    self.estimators_ = np.empty((self.n_estimators, self.loss_.K),\n",
      "TypeError: 'numpy.float64' object cannot be interpreted as an integer\n",
      "\n",
      "  warnings.warn(\"Estimator fit failed. The score on this train-test\"\n",
      "/Users/marshallbanana/opt/anaconda3/lib/python3.8/site-packages/sklearn/model_selection/_validation.py:610: FitFailedWarning: Estimator fit failed. The score on this train-test partition for these parameters will be set to nan. Details: \n",
      "Traceback (most recent call last):\n",
      "  File \"/Users/marshallbanana/opt/anaconda3/lib/python3.8/site-packages/sklearn/model_selection/_validation.py\", line 593, in _fit_and_score\n",
      "    estimator.fit(X_train, y_train, **fit_params)\n",
      "  File \"/Users/marshallbanana/opt/anaconda3/lib/python3.8/site-packages/sklearn/pipeline.py\", line 346, in fit\n",
      "    self._final_estimator.fit(Xt, y, **fit_params_last_step)\n",
      "  File \"/Users/marshallbanana/opt/anaconda3/lib/python3.8/site-packages/sklearn/ensemble/_gb.py\", line 452, in fit\n",
      "    self._init_state()\n",
      "  File \"/Users/marshallbanana/opt/anaconda3/lib/python3.8/site-packages/sklearn/ensemble/_gb.py\", line 313, in _init_state\n",
      "    self.estimators_ = np.empty((self.n_estimators, self.loss_.K),\n",
      "TypeError: 'numpy.float64' object cannot be interpreted as an integer\n",
      "\n",
      "  warnings.warn(\"Estimator fit failed. The score on this train-test\"\n",
      "/Users/marshallbanana/opt/anaconda3/lib/python3.8/site-packages/sklearn/model_selection/_validation.py:610: FitFailedWarning: Estimator fit failed. The score on this train-test partition for these parameters will be set to nan. Details: \n",
      "Traceback (most recent call last):\n",
      "  File \"/Users/marshallbanana/opt/anaconda3/lib/python3.8/site-packages/sklearn/model_selection/_validation.py\", line 593, in _fit_and_score\n",
      "    estimator.fit(X_train, y_train, **fit_params)\n",
      "  File \"/Users/marshallbanana/opt/anaconda3/lib/python3.8/site-packages/sklearn/pipeline.py\", line 346, in fit\n",
      "    self._final_estimator.fit(Xt, y, **fit_params_last_step)\n",
      "  File \"/Users/marshallbanana/opt/anaconda3/lib/python3.8/site-packages/sklearn/ensemble/_gb.py\", line 452, in fit\n",
      "    self._init_state()\n",
      "  File \"/Users/marshallbanana/opt/anaconda3/lib/python3.8/site-packages/sklearn/ensemble/_gb.py\", line 313, in _init_state\n",
      "    self.estimators_ = np.empty((self.n_estimators, self.loss_.K),\n",
      "TypeError: 'numpy.float64' object cannot be interpreted as an integer\n",
      "\n",
      "  warnings.warn(\"Estimator fit failed. The score on this train-test\"\n",
      "/Users/marshallbanana/opt/anaconda3/lib/python3.8/site-packages/sklearn/model_selection/_validation.py:610: FitFailedWarning: Estimator fit failed. The score on this train-test partition for these parameters will be set to nan. Details: \n",
      "Traceback (most recent call last):\n",
      "  File \"/Users/marshallbanana/opt/anaconda3/lib/python3.8/site-packages/sklearn/model_selection/_validation.py\", line 593, in _fit_and_score\n",
      "    estimator.fit(X_train, y_train, **fit_params)\n",
      "  File \"/Users/marshallbanana/opt/anaconda3/lib/python3.8/site-packages/sklearn/pipeline.py\", line 346, in fit\n",
      "    self._final_estimator.fit(Xt, y, **fit_params_last_step)\n",
      "  File \"/Users/marshallbanana/opt/anaconda3/lib/python3.8/site-packages/sklearn/ensemble/_gb.py\", line 452, in fit\n",
      "    self._init_state()\n",
      "  File \"/Users/marshallbanana/opt/anaconda3/lib/python3.8/site-packages/sklearn/ensemble/_gb.py\", line 313, in _init_state\n",
      "    self.estimators_ = np.empty((self.n_estimators, self.loss_.K),\n",
      "TypeError: 'numpy.float64' object cannot be interpreted as an integer\n",
      "\n",
      "  warnings.warn(\"Estimator fit failed. The score on this train-test\"\n"
     ]
    },
    {
     "name": "stderr",
     "output_type": "stream",
     "text": [
      "/Users/marshallbanana/opt/anaconda3/lib/python3.8/site-packages/sklearn/model_selection/_validation.py:610: FitFailedWarning: Estimator fit failed. The score on this train-test partition for these parameters will be set to nan. Details: \n",
      "Traceback (most recent call last):\n",
      "  File \"/Users/marshallbanana/opt/anaconda3/lib/python3.8/site-packages/sklearn/model_selection/_validation.py\", line 593, in _fit_and_score\n",
      "    estimator.fit(X_train, y_train, **fit_params)\n",
      "  File \"/Users/marshallbanana/opt/anaconda3/lib/python3.8/site-packages/sklearn/pipeline.py\", line 346, in fit\n",
      "    self._final_estimator.fit(Xt, y, **fit_params_last_step)\n",
      "  File \"/Users/marshallbanana/opt/anaconda3/lib/python3.8/site-packages/sklearn/ensemble/_gb.py\", line 452, in fit\n",
      "    self._init_state()\n",
      "  File \"/Users/marshallbanana/opt/anaconda3/lib/python3.8/site-packages/sklearn/ensemble/_gb.py\", line 313, in _init_state\n",
      "    self.estimators_ = np.empty((self.n_estimators, self.loss_.K),\n",
      "TypeError: 'numpy.float64' object cannot be interpreted as an integer\n",
      "\n",
      "  warnings.warn(\"Estimator fit failed. The score on this train-test\"\n",
      "/Users/marshallbanana/opt/anaconda3/lib/python3.8/site-packages/sklearn/model_selection/_validation.py:610: FitFailedWarning: Estimator fit failed. The score on this train-test partition for these parameters will be set to nan. Details: \n",
      "Traceback (most recent call last):\n",
      "  File \"/Users/marshallbanana/opt/anaconda3/lib/python3.8/site-packages/sklearn/model_selection/_validation.py\", line 593, in _fit_and_score\n",
      "    estimator.fit(X_train, y_train, **fit_params)\n",
      "  File \"/Users/marshallbanana/opt/anaconda3/lib/python3.8/site-packages/sklearn/pipeline.py\", line 346, in fit\n",
      "    self._final_estimator.fit(Xt, y, **fit_params_last_step)\n",
      "  File \"/Users/marshallbanana/opt/anaconda3/lib/python3.8/site-packages/sklearn/ensemble/_gb.py\", line 452, in fit\n",
      "    self._init_state()\n",
      "  File \"/Users/marshallbanana/opt/anaconda3/lib/python3.8/site-packages/sklearn/ensemble/_gb.py\", line 313, in _init_state\n",
      "    self.estimators_ = np.empty((self.n_estimators, self.loss_.K),\n",
      "TypeError: 'numpy.float64' object cannot be interpreted as an integer\n",
      "\n",
      "  warnings.warn(\"Estimator fit failed. The score on this train-test\"\n",
      "/Users/marshallbanana/opt/anaconda3/lib/python3.8/site-packages/sklearn/model_selection/_validation.py:610: FitFailedWarning: Estimator fit failed. The score on this train-test partition for these parameters will be set to nan. Details: \n",
      "Traceback (most recent call last):\n",
      "  File \"/Users/marshallbanana/opt/anaconda3/lib/python3.8/site-packages/sklearn/model_selection/_validation.py\", line 593, in _fit_and_score\n",
      "    estimator.fit(X_train, y_train, **fit_params)\n",
      "  File \"/Users/marshallbanana/opt/anaconda3/lib/python3.8/site-packages/sklearn/pipeline.py\", line 346, in fit\n",
      "    self._final_estimator.fit(Xt, y, **fit_params_last_step)\n",
      "  File \"/Users/marshallbanana/opt/anaconda3/lib/python3.8/site-packages/sklearn/ensemble/_gb.py\", line 452, in fit\n",
      "    self._init_state()\n",
      "  File \"/Users/marshallbanana/opt/anaconda3/lib/python3.8/site-packages/sklearn/ensemble/_gb.py\", line 313, in _init_state\n",
      "    self.estimators_ = np.empty((self.n_estimators, self.loss_.K),\n",
      "TypeError: 'numpy.float64' object cannot be interpreted as an integer\n",
      "\n",
      "  warnings.warn(\"Estimator fit failed. The score on this train-test\"\n",
      "/Users/marshallbanana/opt/anaconda3/lib/python3.8/site-packages/sklearn/model_selection/_validation.py:610: FitFailedWarning: Estimator fit failed. The score on this train-test partition for these parameters will be set to nan. Details: \n",
      "Traceback (most recent call last):\n",
      "  File \"/Users/marshallbanana/opt/anaconda3/lib/python3.8/site-packages/sklearn/model_selection/_validation.py\", line 593, in _fit_and_score\n",
      "    estimator.fit(X_train, y_train, **fit_params)\n",
      "  File \"/Users/marshallbanana/opt/anaconda3/lib/python3.8/site-packages/sklearn/pipeline.py\", line 346, in fit\n",
      "    self._final_estimator.fit(Xt, y, **fit_params_last_step)\n",
      "  File \"/Users/marshallbanana/opt/anaconda3/lib/python3.8/site-packages/sklearn/ensemble/_gb.py\", line 452, in fit\n",
      "    self._init_state()\n",
      "  File \"/Users/marshallbanana/opt/anaconda3/lib/python3.8/site-packages/sklearn/ensemble/_gb.py\", line 313, in _init_state\n",
      "    self.estimators_ = np.empty((self.n_estimators, self.loss_.K),\n",
      "TypeError: 'numpy.float64' object cannot be interpreted as an integer\n",
      "\n",
      "  warnings.warn(\"Estimator fit failed. The score on this train-test\"\n",
      "/Users/marshallbanana/opt/anaconda3/lib/python3.8/site-packages/sklearn/model_selection/_validation.py:610: FitFailedWarning: Estimator fit failed. The score on this train-test partition for these parameters will be set to nan. Details: \n",
      "Traceback (most recent call last):\n",
      "  File \"/Users/marshallbanana/opt/anaconda3/lib/python3.8/site-packages/sklearn/model_selection/_validation.py\", line 593, in _fit_and_score\n",
      "    estimator.fit(X_train, y_train, **fit_params)\n",
      "  File \"/Users/marshallbanana/opt/anaconda3/lib/python3.8/site-packages/sklearn/pipeline.py\", line 346, in fit\n",
      "    self._final_estimator.fit(Xt, y, **fit_params_last_step)\n",
      "  File \"/Users/marshallbanana/opt/anaconda3/lib/python3.8/site-packages/sklearn/ensemble/_gb.py\", line 452, in fit\n",
      "    self._init_state()\n",
      "  File \"/Users/marshallbanana/opt/anaconda3/lib/python3.8/site-packages/sklearn/ensemble/_gb.py\", line 313, in _init_state\n",
      "    self.estimators_ = np.empty((self.n_estimators, self.loss_.K),\n",
      "TypeError: 'numpy.float64' object cannot be interpreted as an integer\n",
      "\n",
      "  warnings.warn(\"Estimator fit failed. The score on this train-test\"\n",
      "/Users/marshallbanana/opt/anaconda3/lib/python3.8/site-packages/sklearn/model_selection/_validation.py:610: FitFailedWarning: Estimator fit failed. The score on this train-test partition for these parameters will be set to nan. Details: \n",
      "Traceback (most recent call last):\n",
      "  File \"/Users/marshallbanana/opt/anaconda3/lib/python3.8/site-packages/sklearn/model_selection/_validation.py\", line 593, in _fit_and_score\n",
      "    estimator.fit(X_train, y_train, **fit_params)\n",
      "  File \"/Users/marshallbanana/opt/anaconda3/lib/python3.8/site-packages/sklearn/pipeline.py\", line 346, in fit\n",
      "    self._final_estimator.fit(Xt, y, **fit_params_last_step)\n",
      "  File \"/Users/marshallbanana/opt/anaconda3/lib/python3.8/site-packages/sklearn/ensemble/_gb.py\", line 452, in fit\n",
      "    self._init_state()\n",
      "  File \"/Users/marshallbanana/opt/anaconda3/lib/python3.8/site-packages/sklearn/ensemble/_gb.py\", line 313, in _init_state\n",
      "    self.estimators_ = np.empty((self.n_estimators, self.loss_.K),\n",
      "TypeError: 'numpy.float64' object cannot be interpreted as an integer\n",
      "\n",
      "  warnings.warn(\"Estimator fit failed. The score on this train-test\"\n",
      "/Users/marshallbanana/opt/anaconda3/lib/python3.8/site-packages/sklearn/model_selection/_validation.py:610: FitFailedWarning: Estimator fit failed. The score on this train-test partition for these parameters will be set to nan. Details: \n",
      "Traceback (most recent call last):\n",
      "  File \"/Users/marshallbanana/opt/anaconda3/lib/python3.8/site-packages/sklearn/model_selection/_validation.py\", line 593, in _fit_and_score\n",
      "    estimator.fit(X_train, y_train, **fit_params)\n",
      "  File \"/Users/marshallbanana/opt/anaconda3/lib/python3.8/site-packages/sklearn/pipeline.py\", line 346, in fit\n",
      "    self._final_estimator.fit(Xt, y, **fit_params_last_step)\n",
      "  File \"/Users/marshallbanana/opt/anaconda3/lib/python3.8/site-packages/sklearn/ensemble/_gb.py\", line 452, in fit\n",
      "    self._init_state()\n",
      "  File \"/Users/marshallbanana/opt/anaconda3/lib/python3.8/site-packages/sklearn/ensemble/_gb.py\", line 313, in _init_state\n",
      "    self.estimators_ = np.empty((self.n_estimators, self.loss_.K),\n",
      "TypeError: 'numpy.float64' object cannot be interpreted as an integer\n",
      "\n",
      "  warnings.warn(\"Estimator fit failed. The score on this train-test\"\n",
      "/Users/marshallbanana/opt/anaconda3/lib/python3.8/site-packages/sklearn/model_selection/_validation.py:610: FitFailedWarning: Estimator fit failed. The score on this train-test partition for these parameters will be set to nan. Details: \n",
      "Traceback (most recent call last):\n",
      "  File \"/Users/marshallbanana/opt/anaconda3/lib/python3.8/site-packages/sklearn/model_selection/_validation.py\", line 593, in _fit_and_score\n",
      "    estimator.fit(X_train, y_train, **fit_params)\n",
      "  File \"/Users/marshallbanana/opt/anaconda3/lib/python3.8/site-packages/sklearn/pipeline.py\", line 346, in fit\n",
      "    self._final_estimator.fit(Xt, y, **fit_params_last_step)\n",
      "  File \"/Users/marshallbanana/opt/anaconda3/lib/python3.8/site-packages/sklearn/ensemble/_gb.py\", line 452, in fit\n",
      "    self._init_state()\n",
      "  File \"/Users/marshallbanana/opt/anaconda3/lib/python3.8/site-packages/sklearn/ensemble/_gb.py\", line 313, in _init_state\n",
      "    self.estimators_ = np.empty((self.n_estimators, self.loss_.K),\n",
      "TypeError: 'numpy.float64' object cannot be interpreted as an integer\n",
      "\n",
      "  warnings.warn(\"Estimator fit failed. The score on this train-test\"\n"
     ]
    },
    {
     "name": "stderr",
     "output_type": "stream",
     "text": [
      "/Users/marshallbanana/opt/anaconda3/lib/python3.8/site-packages/sklearn/model_selection/_validation.py:610: FitFailedWarning: Estimator fit failed. The score on this train-test partition for these parameters will be set to nan. Details: \n",
      "Traceback (most recent call last):\n",
      "  File \"/Users/marshallbanana/opt/anaconda3/lib/python3.8/site-packages/sklearn/model_selection/_validation.py\", line 593, in _fit_and_score\n",
      "    estimator.fit(X_train, y_train, **fit_params)\n",
      "  File \"/Users/marshallbanana/opt/anaconda3/lib/python3.8/site-packages/sklearn/pipeline.py\", line 346, in fit\n",
      "    self._final_estimator.fit(Xt, y, **fit_params_last_step)\n",
      "  File \"/Users/marshallbanana/opt/anaconda3/lib/python3.8/site-packages/sklearn/ensemble/_gb.py\", line 452, in fit\n",
      "    self._init_state()\n",
      "  File \"/Users/marshallbanana/opt/anaconda3/lib/python3.8/site-packages/sklearn/ensemble/_gb.py\", line 313, in _init_state\n",
      "    self.estimators_ = np.empty((self.n_estimators, self.loss_.K),\n",
      "TypeError: 'numpy.float64' object cannot be interpreted as an integer\n",
      "\n",
      "  warnings.warn(\"Estimator fit failed. The score on this train-test\"\n",
      "/Users/marshallbanana/opt/anaconda3/lib/python3.8/site-packages/sklearn/model_selection/_validation.py:610: FitFailedWarning: Estimator fit failed. The score on this train-test partition for these parameters will be set to nan. Details: \n",
      "Traceback (most recent call last):\n",
      "  File \"/Users/marshallbanana/opt/anaconda3/lib/python3.8/site-packages/sklearn/model_selection/_validation.py\", line 593, in _fit_and_score\n",
      "    estimator.fit(X_train, y_train, **fit_params)\n",
      "  File \"/Users/marshallbanana/opt/anaconda3/lib/python3.8/site-packages/sklearn/pipeline.py\", line 346, in fit\n",
      "    self._final_estimator.fit(Xt, y, **fit_params_last_step)\n",
      "  File \"/Users/marshallbanana/opt/anaconda3/lib/python3.8/site-packages/sklearn/ensemble/_gb.py\", line 452, in fit\n",
      "    self._init_state()\n",
      "  File \"/Users/marshallbanana/opt/anaconda3/lib/python3.8/site-packages/sklearn/ensemble/_gb.py\", line 313, in _init_state\n",
      "    self.estimators_ = np.empty((self.n_estimators, self.loss_.K),\n",
      "TypeError: 'numpy.float64' object cannot be interpreted as an integer\n",
      "\n",
      "  warnings.warn(\"Estimator fit failed. The score on this train-test\"\n",
      "/Users/marshallbanana/opt/anaconda3/lib/python3.8/site-packages/sklearn/model_selection/_validation.py:610: FitFailedWarning: Estimator fit failed. The score on this train-test partition for these parameters will be set to nan. Details: \n",
      "Traceback (most recent call last):\n",
      "  File \"/Users/marshallbanana/opt/anaconda3/lib/python3.8/site-packages/sklearn/model_selection/_validation.py\", line 593, in _fit_and_score\n",
      "    estimator.fit(X_train, y_train, **fit_params)\n",
      "  File \"/Users/marshallbanana/opt/anaconda3/lib/python3.8/site-packages/sklearn/pipeline.py\", line 346, in fit\n",
      "    self._final_estimator.fit(Xt, y, **fit_params_last_step)\n",
      "  File \"/Users/marshallbanana/opt/anaconda3/lib/python3.8/site-packages/sklearn/ensemble/_gb.py\", line 452, in fit\n",
      "    self._init_state()\n",
      "  File \"/Users/marshallbanana/opt/anaconda3/lib/python3.8/site-packages/sklearn/ensemble/_gb.py\", line 313, in _init_state\n",
      "    self.estimators_ = np.empty((self.n_estimators, self.loss_.K),\n",
      "TypeError: 'numpy.float64' object cannot be interpreted as an integer\n",
      "\n",
      "  warnings.warn(\"Estimator fit failed. The score on this train-test\"\n",
      "/Users/marshallbanana/opt/anaconda3/lib/python3.8/site-packages/sklearn/model_selection/_validation.py:610: FitFailedWarning: Estimator fit failed. The score on this train-test partition for these parameters will be set to nan. Details: \n",
      "Traceback (most recent call last):\n",
      "  File \"/Users/marshallbanana/opt/anaconda3/lib/python3.8/site-packages/sklearn/model_selection/_validation.py\", line 593, in _fit_and_score\n",
      "    estimator.fit(X_train, y_train, **fit_params)\n",
      "  File \"/Users/marshallbanana/opt/anaconda3/lib/python3.8/site-packages/sklearn/pipeline.py\", line 346, in fit\n",
      "    self._final_estimator.fit(Xt, y, **fit_params_last_step)\n",
      "  File \"/Users/marshallbanana/opt/anaconda3/lib/python3.8/site-packages/sklearn/ensemble/_gb.py\", line 452, in fit\n",
      "    self._init_state()\n",
      "  File \"/Users/marshallbanana/opt/anaconda3/lib/python3.8/site-packages/sklearn/ensemble/_gb.py\", line 313, in _init_state\n",
      "    self.estimators_ = np.empty((self.n_estimators, self.loss_.K),\n",
      "TypeError: 'numpy.float64' object cannot be interpreted as an integer\n",
      "\n",
      "  warnings.warn(\"Estimator fit failed. The score on this train-test\"\n",
      "/Users/marshallbanana/opt/anaconda3/lib/python3.8/site-packages/sklearn/model_selection/_validation.py:610: FitFailedWarning: Estimator fit failed. The score on this train-test partition for these parameters will be set to nan. Details: \n",
      "Traceback (most recent call last):\n",
      "  File \"/Users/marshallbanana/opt/anaconda3/lib/python3.8/site-packages/sklearn/model_selection/_validation.py\", line 593, in _fit_and_score\n",
      "    estimator.fit(X_train, y_train, **fit_params)\n",
      "  File \"/Users/marshallbanana/opt/anaconda3/lib/python3.8/site-packages/sklearn/pipeline.py\", line 346, in fit\n",
      "    self._final_estimator.fit(Xt, y, **fit_params_last_step)\n",
      "  File \"/Users/marshallbanana/opt/anaconda3/lib/python3.8/site-packages/sklearn/ensemble/_gb.py\", line 452, in fit\n",
      "    self._init_state()\n",
      "  File \"/Users/marshallbanana/opt/anaconda3/lib/python3.8/site-packages/sklearn/ensemble/_gb.py\", line 313, in _init_state\n",
      "    self.estimators_ = np.empty((self.n_estimators, self.loss_.K),\n",
      "TypeError: 'numpy.float64' object cannot be interpreted as an integer\n",
      "\n",
      "  warnings.warn(\"Estimator fit failed. The score on this train-test\"\n",
      "/Users/marshallbanana/opt/anaconda3/lib/python3.8/site-packages/sklearn/model_selection/_validation.py:610: FitFailedWarning: Estimator fit failed. The score on this train-test partition for these parameters will be set to nan. Details: \n",
      "Traceback (most recent call last):\n",
      "  File \"/Users/marshallbanana/opt/anaconda3/lib/python3.8/site-packages/sklearn/model_selection/_validation.py\", line 593, in _fit_and_score\n",
      "    estimator.fit(X_train, y_train, **fit_params)\n",
      "  File \"/Users/marshallbanana/opt/anaconda3/lib/python3.8/site-packages/sklearn/pipeline.py\", line 346, in fit\n",
      "    self._final_estimator.fit(Xt, y, **fit_params_last_step)\n",
      "  File \"/Users/marshallbanana/opt/anaconda3/lib/python3.8/site-packages/sklearn/ensemble/_gb.py\", line 452, in fit\n",
      "    self._init_state()\n",
      "  File \"/Users/marshallbanana/opt/anaconda3/lib/python3.8/site-packages/sklearn/ensemble/_gb.py\", line 313, in _init_state\n",
      "    self.estimators_ = np.empty((self.n_estimators, self.loss_.K),\n",
      "TypeError: 'numpy.float64' object cannot be interpreted as an integer\n",
      "\n",
      "  warnings.warn(\"Estimator fit failed. The score on this train-test\"\n",
      "/Users/marshallbanana/opt/anaconda3/lib/python3.8/site-packages/sklearn/model_selection/_validation.py:610: FitFailedWarning: Estimator fit failed. The score on this train-test partition for these parameters will be set to nan. Details: \n",
      "Traceback (most recent call last):\n",
      "  File \"/Users/marshallbanana/opt/anaconda3/lib/python3.8/site-packages/sklearn/model_selection/_validation.py\", line 593, in _fit_and_score\n",
      "    estimator.fit(X_train, y_train, **fit_params)\n",
      "  File \"/Users/marshallbanana/opt/anaconda3/lib/python3.8/site-packages/sklearn/pipeline.py\", line 346, in fit\n",
      "    self._final_estimator.fit(Xt, y, **fit_params_last_step)\n",
      "  File \"/Users/marshallbanana/opt/anaconda3/lib/python3.8/site-packages/sklearn/ensemble/_gb.py\", line 452, in fit\n",
      "    self._init_state()\n",
      "  File \"/Users/marshallbanana/opt/anaconda3/lib/python3.8/site-packages/sklearn/ensemble/_gb.py\", line 313, in _init_state\n",
      "    self.estimators_ = np.empty((self.n_estimators, self.loss_.K),\n",
      "TypeError: 'numpy.float64' object cannot be interpreted as an integer\n",
      "\n",
      "  warnings.warn(\"Estimator fit failed. The score on this train-test\"\n",
      "/Users/marshallbanana/opt/anaconda3/lib/python3.8/site-packages/sklearn/model_selection/_validation.py:610: FitFailedWarning: Estimator fit failed. The score on this train-test partition for these parameters will be set to nan. Details: \n",
      "Traceback (most recent call last):\n",
      "  File \"/Users/marshallbanana/opt/anaconda3/lib/python3.8/site-packages/sklearn/model_selection/_validation.py\", line 593, in _fit_and_score\n",
      "    estimator.fit(X_train, y_train, **fit_params)\n",
      "  File \"/Users/marshallbanana/opt/anaconda3/lib/python3.8/site-packages/sklearn/pipeline.py\", line 346, in fit\n",
      "    self._final_estimator.fit(Xt, y, **fit_params_last_step)\n",
      "  File \"/Users/marshallbanana/opt/anaconda3/lib/python3.8/site-packages/sklearn/ensemble/_gb.py\", line 452, in fit\n",
      "    self._init_state()\n",
      "  File \"/Users/marshallbanana/opt/anaconda3/lib/python3.8/site-packages/sklearn/ensemble/_gb.py\", line 313, in _init_state\n",
      "    self.estimators_ = np.empty((self.n_estimators, self.loss_.K),\n",
      "TypeError: 'numpy.float64' object cannot be interpreted as an integer\n",
      "\n",
      "  warnings.warn(\"Estimator fit failed. The score on this train-test\"\n"
     ]
    },
    {
     "name": "stderr",
     "output_type": "stream",
     "text": [
      "/Users/marshallbanana/opt/anaconda3/lib/python3.8/site-packages/sklearn/model_selection/_validation.py:610: FitFailedWarning: Estimator fit failed. The score on this train-test partition for these parameters will be set to nan. Details: \n",
      "Traceback (most recent call last):\n",
      "  File \"/Users/marshallbanana/opt/anaconda3/lib/python3.8/site-packages/sklearn/model_selection/_validation.py\", line 593, in _fit_and_score\n",
      "    estimator.fit(X_train, y_train, **fit_params)\n",
      "  File \"/Users/marshallbanana/opt/anaconda3/lib/python3.8/site-packages/sklearn/pipeline.py\", line 346, in fit\n",
      "    self._final_estimator.fit(Xt, y, **fit_params_last_step)\n",
      "  File \"/Users/marshallbanana/opt/anaconda3/lib/python3.8/site-packages/sklearn/ensemble/_gb.py\", line 452, in fit\n",
      "    self._init_state()\n",
      "  File \"/Users/marshallbanana/opt/anaconda3/lib/python3.8/site-packages/sklearn/ensemble/_gb.py\", line 313, in _init_state\n",
      "    self.estimators_ = np.empty((self.n_estimators, self.loss_.K),\n",
      "TypeError: 'numpy.float64' object cannot be interpreted as an integer\n",
      "\n",
      "  warnings.warn(\"Estimator fit failed. The score on this train-test\"\n",
      "/Users/marshallbanana/opt/anaconda3/lib/python3.8/site-packages/sklearn/model_selection/_validation.py:610: FitFailedWarning: Estimator fit failed. The score on this train-test partition for these parameters will be set to nan. Details: \n",
      "Traceback (most recent call last):\n",
      "  File \"/Users/marshallbanana/opt/anaconda3/lib/python3.8/site-packages/sklearn/model_selection/_validation.py\", line 593, in _fit_and_score\n",
      "    estimator.fit(X_train, y_train, **fit_params)\n",
      "  File \"/Users/marshallbanana/opt/anaconda3/lib/python3.8/site-packages/sklearn/pipeline.py\", line 346, in fit\n",
      "    self._final_estimator.fit(Xt, y, **fit_params_last_step)\n",
      "  File \"/Users/marshallbanana/opt/anaconda3/lib/python3.8/site-packages/sklearn/ensemble/_gb.py\", line 452, in fit\n",
      "    self._init_state()\n",
      "  File \"/Users/marshallbanana/opt/anaconda3/lib/python3.8/site-packages/sklearn/ensemble/_gb.py\", line 313, in _init_state\n",
      "    self.estimators_ = np.empty((self.n_estimators, self.loss_.K),\n",
      "TypeError: 'numpy.float64' object cannot be interpreted as an integer\n",
      "\n",
      "  warnings.warn(\"Estimator fit failed. The score on this train-test\"\n",
      "/Users/marshallbanana/opt/anaconda3/lib/python3.8/site-packages/sklearn/model_selection/_validation.py:610: FitFailedWarning: Estimator fit failed. The score on this train-test partition for these parameters will be set to nan. Details: \n",
      "Traceback (most recent call last):\n",
      "  File \"/Users/marshallbanana/opt/anaconda3/lib/python3.8/site-packages/sklearn/model_selection/_validation.py\", line 593, in _fit_and_score\n",
      "    estimator.fit(X_train, y_train, **fit_params)\n",
      "  File \"/Users/marshallbanana/opt/anaconda3/lib/python3.8/site-packages/sklearn/pipeline.py\", line 346, in fit\n",
      "    self._final_estimator.fit(Xt, y, **fit_params_last_step)\n",
      "  File \"/Users/marshallbanana/opt/anaconda3/lib/python3.8/site-packages/sklearn/ensemble/_gb.py\", line 452, in fit\n",
      "    self._init_state()\n",
      "  File \"/Users/marshallbanana/opt/anaconda3/lib/python3.8/site-packages/sklearn/ensemble/_gb.py\", line 313, in _init_state\n",
      "    self.estimators_ = np.empty((self.n_estimators, self.loss_.K),\n",
      "TypeError: 'numpy.float64' object cannot be interpreted as an integer\n",
      "\n",
      "  warnings.warn(\"Estimator fit failed. The score on this train-test\"\n",
      "/Users/marshallbanana/opt/anaconda3/lib/python3.8/site-packages/sklearn/model_selection/_validation.py:610: FitFailedWarning: Estimator fit failed. The score on this train-test partition for these parameters will be set to nan. Details: \n",
      "Traceback (most recent call last):\n",
      "  File \"/Users/marshallbanana/opt/anaconda3/lib/python3.8/site-packages/sklearn/model_selection/_validation.py\", line 593, in _fit_and_score\n",
      "    estimator.fit(X_train, y_train, **fit_params)\n",
      "  File \"/Users/marshallbanana/opt/anaconda3/lib/python3.8/site-packages/sklearn/pipeline.py\", line 346, in fit\n",
      "    self._final_estimator.fit(Xt, y, **fit_params_last_step)\n",
      "  File \"/Users/marshallbanana/opt/anaconda3/lib/python3.8/site-packages/sklearn/ensemble/_gb.py\", line 452, in fit\n",
      "    self._init_state()\n",
      "  File \"/Users/marshallbanana/opt/anaconda3/lib/python3.8/site-packages/sklearn/ensemble/_gb.py\", line 313, in _init_state\n",
      "    self.estimators_ = np.empty((self.n_estimators, self.loss_.K),\n",
      "TypeError: 'numpy.float64' object cannot be interpreted as an integer\n",
      "\n",
      "  warnings.warn(\"Estimator fit failed. The score on this train-test\"\n",
      "/Users/marshallbanana/opt/anaconda3/lib/python3.8/site-packages/sklearn/model_selection/_validation.py:610: FitFailedWarning: Estimator fit failed. The score on this train-test partition for these parameters will be set to nan. Details: \n",
      "Traceback (most recent call last):\n",
      "  File \"/Users/marshallbanana/opt/anaconda3/lib/python3.8/site-packages/sklearn/model_selection/_validation.py\", line 593, in _fit_and_score\n",
      "    estimator.fit(X_train, y_train, **fit_params)\n",
      "  File \"/Users/marshallbanana/opt/anaconda3/lib/python3.8/site-packages/sklearn/pipeline.py\", line 346, in fit\n",
      "    self._final_estimator.fit(Xt, y, **fit_params_last_step)\n",
      "  File \"/Users/marshallbanana/opt/anaconda3/lib/python3.8/site-packages/sklearn/ensemble/_gb.py\", line 452, in fit\n",
      "    self._init_state()\n",
      "  File \"/Users/marshallbanana/opt/anaconda3/lib/python3.8/site-packages/sklearn/ensemble/_gb.py\", line 313, in _init_state\n",
      "    self.estimators_ = np.empty((self.n_estimators, self.loss_.K),\n",
      "TypeError: 'numpy.float64' object cannot be interpreted as an integer\n",
      "\n",
      "  warnings.warn(\"Estimator fit failed. The score on this train-test\"\n",
      "/Users/marshallbanana/opt/anaconda3/lib/python3.8/site-packages/sklearn/model_selection/_validation.py:610: FitFailedWarning: Estimator fit failed. The score on this train-test partition for these parameters will be set to nan. Details: \n",
      "Traceback (most recent call last):\n",
      "  File \"/Users/marshallbanana/opt/anaconda3/lib/python3.8/site-packages/sklearn/model_selection/_validation.py\", line 593, in _fit_and_score\n",
      "    estimator.fit(X_train, y_train, **fit_params)\n",
      "  File \"/Users/marshallbanana/opt/anaconda3/lib/python3.8/site-packages/sklearn/pipeline.py\", line 346, in fit\n",
      "    self._final_estimator.fit(Xt, y, **fit_params_last_step)\n",
      "  File \"/Users/marshallbanana/opt/anaconda3/lib/python3.8/site-packages/sklearn/ensemble/_gb.py\", line 452, in fit\n",
      "    self._init_state()\n",
      "  File \"/Users/marshallbanana/opt/anaconda3/lib/python3.8/site-packages/sklearn/ensemble/_gb.py\", line 313, in _init_state\n",
      "    self.estimators_ = np.empty((self.n_estimators, self.loss_.K),\n",
      "TypeError: 'numpy.float64' object cannot be interpreted as an integer\n",
      "\n",
      "  warnings.warn(\"Estimator fit failed. The score on this train-test\"\n",
      "/Users/marshallbanana/opt/anaconda3/lib/python3.8/site-packages/sklearn/model_selection/_validation.py:610: FitFailedWarning: Estimator fit failed. The score on this train-test partition for these parameters will be set to nan. Details: \n",
      "Traceback (most recent call last):\n",
      "  File \"/Users/marshallbanana/opt/anaconda3/lib/python3.8/site-packages/sklearn/model_selection/_validation.py\", line 593, in _fit_and_score\n",
      "    estimator.fit(X_train, y_train, **fit_params)\n",
      "  File \"/Users/marshallbanana/opt/anaconda3/lib/python3.8/site-packages/sklearn/pipeline.py\", line 346, in fit\n",
      "    self._final_estimator.fit(Xt, y, **fit_params_last_step)\n",
      "  File \"/Users/marshallbanana/opt/anaconda3/lib/python3.8/site-packages/sklearn/ensemble/_gb.py\", line 452, in fit\n",
      "    self._init_state()\n",
      "  File \"/Users/marshallbanana/opt/anaconda3/lib/python3.8/site-packages/sklearn/ensemble/_gb.py\", line 313, in _init_state\n",
      "    self.estimators_ = np.empty((self.n_estimators, self.loss_.K),\n",
      "TypeError: 'numpy.float64' object cannot be interpreted as an integer\n",
      "\n",
      "  warnings.warn(\"Estimator fit failed. The score on this train-test\"\n",
      "/Users/marshallbanana/opt/anaconda3/lib/python3.8/site-packages/sklearn/model_selection/_validation.py:610: FitFailedWarning: Estimator fit failed. The score on this train-test partition for these parameters will be set to nan. Details: \n",
      "Traceback (most recent call last):\n",
      "  File \"/Users/marshallbanana/opt/anaconda3/lib/python3.8/site-packages/sklearn/model_selection/_validation.py\", line 593, in _fit_and_score\n",
      "    estimator.fit(X_train, y_train, **fit_params)\n",
      "  File \"/Users/marshallbanana/opt/anaconda3/lib/python3.8/site-packages/sklearn/pipeline.py\", line 346, in fit\n",
      "    self._final_estimator.fit(Xt, y, **fit_params_last_step)\n",
      "  File \"/Users/marshallbanana/opt/anaconda3/lib/python3.8/site-packages/sklearn/ensemble/_gb.py\", line 452, in fit\n",
      "    self._init_state()\n",
      "  File \"/Users/marshallbanana/opt/anaconda3/lib/python3.8/site-packages/sklearn/ensemble/_gb.py\", line 313, in _init_state\n",
      "    self.estimators_ = np.empty((self.n_estimators, self.loss_.K),\n",
      "TypeError: 'numpy.float64' object cannot be interpreted as an integer\n",
      "\n",
      "  warnings.warn(\"Estimator fit failed. The score on this train-test\"\n"
     ]
    },
    {
     "name": "stderr",
     "output_type": "stream",
     "text": [
      "/Users/marshallbanana/opt/anaconda3/lib/python3.8/site-packages/sklearn/model_selection/_validation.py:610: FitFailedWarning: Estimator fit failed. The score on this train-test partition for these parameters will be set to nan. Details: \n",
      "Traceback (most recent call last):\n",
      "  File \"/Users/marshallbanana/opt/anaconda3/lib/python3.8/site-packages/sklearn/model_selection/_validation.py\", line 593, in _fit_and_score\n",
      "    estimator.fit(X_train, y_train, **fit_params)\n",
      "  File \"/Users/marshallbanana/opt/anaconda3/lib/python3.8/site-packages/sklearn/pipeline.py\", line 346, in fit\n",
      "    self._final_estimator.fit(Xt, y, **fit_params_last_step)\n",
      "  File \"/Users/marshallbanana/opt/anaconda3/lib/python3.8/site-packages/sklearn/ensemble/_gb.py\", line 452, in fit\n",
      "    self._init_state()\n",
      "  File \"/Users/marshallbanana/opt/anaconda3/lib/python3.8/site-packages/sklearn/ensemble/_gb.py\", line 313, in _init_state\n",
      "    self.estimators_ = np.empty((self.n_estimators, self.loss_.K),\n",
      "TypeError: 'numpy.float64' object cannot be interpreted as an integer\n",
      "\n",
      "  warnings.warn(\"Estimator fit failed. The score on this train-test\"\n",
      "/Users/marshallbanana/opt/anaconda3/lib/python3.8/site-packages/sklearn/model_selection/_search.py:918: UserWarning: One or more of the test scores are non-finite: [nan nan nan nan nan nan nan nan nan nan nan nan nan nan nan nan nan nan\n",
      " nan nan nan nan nan nan nan nan nan nan nan nan nan nan nan nan nan nan\n",
      " nan nan nan nan]\n",
      "  warnings.warn(\n"
     ]
    },
    {
     "ename": "TypeError",
     "evalue": "'numpy.float64' object cannot be interpreted as an integer",
     "output_type": "error",
     "traceback": [
      "\u001b[0;31m---------------------------------------------------------------------------\u001b[0m",
      "\u001b[0;31mTypeError\u001b[0m                                 Traceback (most recent call last)",
      "\u001b[0;32m<ipython-input-34-61527044acec>\u001b[0m in \u001b[0;36m<module>\u001b[0;34m\u001b[0m\n\u001b[0;32m----> 1\u001b[0;31m \u001b[0mgrid_mse\u001b[0m\u001b[0;34m.\u001b[0m\u001b[0mfit\u001b[0m\u001b[0;34m(\u001b[0m\u001b[0mX\u001b[0m\u001b[0;34m.\u001b[0m\u001b[0miloc\u001b[0m\u001b[0;34m[\u001b[0m\u001b[0mtrain_index\u001b[0m\u001b[0;34m]\u001b[0m\u001b[0;34m,\u001b[0m\u001b[0mY\u001b[0m\u001b[0;34m.\u001b[0m\u001b[0miloc\u001b[0m\u001b[0;34m[\u001b[0m\u001b[0mtrain_index\u001b[0m\u001b[0;34m]\u001b[0m\u001b[0;34m)\u001b[0m\u001b[0;34m\u001b[0m\u001b[0;34m\u001b[0m\u001b[0m\n\u001b[0m",
      "\u001b[0;32m~/opt/anaconda3/lib/python3.8/site-packages/sklearn/utils/validation.py\u001b[0m in \u001b[0;36minner_f\u001b[0;34m(*args, **kwargs)\u001b[0m\n\u001b[1;32m     61\u001b[0m             \u001b[0mextra_args\u001b[0m \u001b[0;34m=\u001b[0m \u001b[0mlen\u001b[0m\u001b[0;34m(\u001b[0m\u001b[0margs\u001b[0m\u001b[0;34m)\u001b[0m \u001b[0;34m-\u001b[0m \u001b[0mlen\u001b[0m\u001b[0;34m(\u001b[0m\u001b[0mall_args\u001b[0m\u001b[0;34m)\u001b[0m\u001b[0;34m\u001b[0m\u001b[0;34m\u001b[0m\u001b[0m\n\u001b[1;32m     62\u001b[0m             \u001b[0;32mif\u001b[0m \u001b[0mextra_args\u001b[0m \u001b[0;34m<=\u001b[0m \u001b[0;36m0\u001b[0m\u001b[0;34m:\u001b[0m\u001b[0;34m\u001b[0m\u001b[0;34m\u001b[0m\u001b[0m\n\u001b[0;32m---> 63\u001b[0;31m                 \u001b[0;32mreturn\u001b[0m \u001b[0mf\u001b[0m\u001b[0;34m(\u001b[0m\u001b[0;34m*\u001b[0m\u001b[0margs\u001b[0m\u001b[0;34m,\u001b[0m \u001b[0;34m**\u001b[0m\u001b[0mkwargs\u001b[0m\u001b[0;34m)\u001b[0m\u001b[0;34m\u001b[0m\u001b[0;34m\u001b[0m\u001b[0m\n\u001b[0m\u001b[1;32m     64\u001b[0m \u001b[0;34m\u001b[0m\u001b[0m\n\u001b[1;32m     65\u001b[0m             \u001b[0;31m# extra_args > 0\u001b[0m\u001b[0;34m\u001b[0m\u001b[0;34m\u001b[0m\u001b[0;34m\u001b[0m\u001b[0m\n",
      "\u001b[0;32m~/opt/anaconda3/lib/python3.8/site-packages/sklearn/model_selection/_search.py\u001b[0m in \u001b[0;36mfit\u001b[0;34m(self, X, y, groups, **fit_params)\u001b[0m\n\u001b[1;32m    878\u001b[0m             \u001b[0mrefit_start_time\u001b[0m \u001b[0;34m=\u001b[0m \u001b[0mtime\u001b[0m\u001b[0;34m.\u001b[0m\u001b[0mtime\u001b[0m\u001b[0;34m(\u001b[0m\u001b[0;34m)\u001b[0m\u001b[0;34m\u001b[0m\u001b[0;34m\u001b[0m\u001b[0m\n\u001b[1;32m    879\u001b[0m             \u001b[0;32mif\u001b[0m \u001b[0my\u001b[0m \u001b[0;32mis\u001b[0m \u001b[0;32mnot\u001b[0m \u001b[0;32mNone\u001b[0m\u001b[0;34m:\u001b[0m\u001b[0;34m\u001b[0m\u001b[0;34m\u001b[0m\u001b[0m\n\u001b[0;32m--> 880\u001b[0;31m                 \u001b[0mself\u001b[0m\u001b[0;34m.\u001b[0m\u001b[0mbest_estimator_\u001b[0m\u001b[0;34m.\u001b[0m\u001b[0mfit\u001b[0m\u001b[0;34m(\u001b[0m\u001b[0mX\u001b[0m\u001b[0;34m,\u001b[0m \u001b[0my\u001b[0m\u001b[0;34m,\u001b[0m \u001b[0;34m**\u001b[0m\u001b[0mfit_params\u001b[0m\u001b[0;34m)\u001b[0m\u001b[0;34m\u001b[0m\u001b[0;34m\u001b[0m\u001b[0m\n\u001b[0m\u001b[1;32m    881\u001b[0m             \u001b[0;32melse\u001b[0m\u001b[0;34m:\u001b[0m\u001b[0;34m\u001b[0m\u001b[0;34m\u001b[0m\u001b[0m\n\u001b[1;32m    882\u001b[0m                 \u001b[0mself\u001b[0m\u001b[0;34m.\u001b[0m\u001b[0mbest_estimator_\u001b[0m\u001b[0;34m.\u001b[0m\u001b[0mfit\u001b[0m\u001b[0;34m(\u001b[0m\u001b[0mX\u001b[0m\u001b[0;34m,\u001b[0m \u001b[0;34m**\u001b[0m\u001b[0mfit_params\u001b[0m\u001b[0;34m)\u001b[0m\u001b[0;34m\u001b[0m\u001b[0;34m\u001b[0m\u001b[0m\n",
      "\u001b[0;32m~/opt/anaconda3/lib/python3.8/site-packages/sklearn/pipeline.py\u001b[0m in \u001b[0;36mfit\u001b[0;34m(self, X, y, **fit_params)\u001b[0m\n\u001b[1;32m    344\u001b[0m             \u001b[0;32mif\u001b[0m \u001b[0mself\u001b[0m\u001b[0;34m.\u001b[0m\u001b[0m_final_estimator\u001b[0m \u001b[0;34m!=\u001b[0m \u001b[0;34m'passthrough'\u001b[0m\u001b[0;34m:\u001b[0m\u001b[0;34m\u001b[0m\u001b[0;34m\u001b[0m\u001b[0m\n\u001b[1;32m    345\u001b[0m                 \u001b[0mfit_params_last_step\u001b[0m \u001b[0;34m=\u001b[0m \u001b[0mfit_params_steps\u001b[0m\u001b[0;34m[\u001b[0m\u001b[0mself\u001b[0m\u001b[0;34m.\u001b[0m\u001b[0msteps\u001b[0m\u001b[0;34m[\u001b[0m\u001b[0;34m-\u001b[0m\u001b[0;36m1\u001b[0m\u001b[0;34m]\u001b[0m\u001b[0;34m[\u001b[0m\u001b[0;36m0\u001b[0m\u001b[0;34m]\u001b[0m\u001b[0;34m]\u001b[0m\u001b[0;34m\u001b[0m\u001b[0;34m\u001b[0m\u001b[0m\n\u001b[0;32m--> 346\u001b[0;31m                 \u001b[0mself\u001b[0m\u001b[0;34m.\u001b[0m\u001b[0m_final_estimator\u001b[0m\u001b[0;34m.\u001b[0m\u001b[0mfit\u001b[0m\u001b[0;34m(\u001b[0m\u001b[0mXt\u001b[0m\u001b[0;34m,\u001b[0m \u001b[0my\u001b[0m\u001b[0;34m,\u001b[0m \u001b[0;34m**\u001b[0m\u001b[0mfit_params_last_step\u001b[0m\u001b[0;34m)\u001b[0m\u001b[0;34m\u001b[0m\u001b[0;34m\u001b[0m\u001b[0m\n\u001b[0m\u001b[1;32m    347\u001b[0m \u001b[0;34m\u001b[0m\u001b[0m\n\u001b[1;32m    348\u001b[0m         \u001b[0;32mreturn\u001b[0m \u001b[0mself\u001b[0m\u001b[0;34m\u001b[0m\u001b[0;34m\u001b[0m\u001b[0m\n",
      "\u001b[0;32m~/opt/anaconda3/lib/python3.8/site-packages/sklearn/ensemble/_gb.py\u001b[0m in \u001b[0;36mfit\u001b[0;34m(self, X, y, sample_weight, monitor)\u001b[0m\n\u001b[1;32m    450\u001b[0m         \u001b[0;32mif\u001b[0m \u001b[0;32mnot\u001b[0m \u001b[0mself\u001b[0m\u001b[0;34m.\u001b[0m\u001b[0m_is_initialized\u001b[0m\u001b[0;34m(\u001b[0m\u001b[0;34m)\u001b[0m\u001b[0;34m:\u001b[0m\u001b[0;34m\u001b[0m\u001b[0;34m\u001b[0m\u001b[0m\n\u001b[1;32m    451\u001b[0m             \u001b[0;31m# init state\u001b[0m\u001b[0;34m\u001b[0m\u001b[0;34m\u001b[0m\u001b[0;34m\u001b[0m\u001b[0m\n\u001b[0;32m--> 452\u001b[0;31m             \u001b[0mself\u001b[0m\u001b[0;34m.\u001b[0m\u001b[0m_init_state\u001b[0m\u001b[0;34m(\u001b[0m\u001b[0;34m)\u001b[0m\u001b[0;34m\u001b[0m\u001b[0;34m\u001b[0m\u001b[0m\n\u001b[0m\u001b[1;32m    453\u001b[0m \u001b[0;34m\u001b[0m\u001b[0m\n\u001b[1;32m    454\u001b[0m             \u001b[0;31m# fit initial model and initialize raw predictions\u001b[0m\u001b[0;34m\u001b[0m\u001b[0;34m\u001b[0m\u001b[0;34m\u001b[0m\u001b[0m\n",
      "\u001b[0;32m~/opt/anaconda3/lib/python3.8/site-packages/sklearn/ensemble/_gb.py\u001b[0m in \u001b[0;36m_init_state\u001b[0;34m(self)\u001b[0m\n\u001b[1;32m    311\u001b[0m             \u001b[0mself\u001b[0m\u001b[0;34m.\u001b[0m\u001b[0minit_\u001b[0m \u001b[0;34m=\u001b[0m \u001b[0mself\u001b[0m\u001b[0;34m.\u001b[0m\u001b[0mloss_\u001b[0m\u001b[0;34m.\u001b[0m\u001b[0minit_estimator\u001b[0m\u001b[0;34m(\u001b[0m\u001b[0;34m)\u001b[0m\u001b[0;34m\u001b[0m\u001b[0;34m\u001b[0m\u001b[0m\n\u001b[1;32m    312\u001b[0m \u001b[0;34m\u001b[0m\u001b[0m\n\u001b[0;32m--> 313\u001b[0;31m         self.estimators_ = np.empty((self.n_estimators, self.loss_.K),\n\u001b[0m\u001b[1;32m    314\u001b[0m                                     dtype=object)\n\u001b[1;32m    315\u001b[0m         \u001b[0mself\u001b[0m\u001b[0;34m.\u001b[0m\u001b[0mtrain_score_\u001b[0m \u001b[0;34m=\u001b[0m \u001b[0mnp\u001b[0m\u001b[0;34m.\u001b[0m\u001b[0mzeros\u001b[0m\u001b[0;34m(\u001b[0m\u001b[0;34m(\u001b[0m\u001b[0mself\u001b[0m\u001b[0;34m.\u001b[0m\u001b[0mn_estimators\u001b[0m\u001b[0;34m,\u001b[0m\u001b[0;34m)\u001b[0m\u001b[0;34m,\u001b[0m \u001b[0mdtype\u001b[0m\u001b[0;34m=\u001b[0m\u001b[0mnp\u001b[0m\u001b[0;34m.\u001b[0m\u001b[0mfloat64\u001b[0m\u001b[0;34m)\u001b[0m\u001b[0;34m\u001b[0m\u001b[0;34m\u001b[0m\u001b[0m\n",
      "\u001b[0;31mTypeError\u001b[0m: 'numpy.float64' object cannot be interpreted as an integer"
     ]
    }
   ],
   "source": [
    "#Print the best parameters and lowest RMSE\n",
    "print(\"Best parameters found: \", grid_mse.best_params_)\n",
    "print(\"Lowest RMSE found: \", np.sqrt(np.abs(grid_mse.best_score_)))"
   ]
  },
  {
   "cell_type": "code",
   "execution_count": null,
   "metadata": {},
   "outputs": [],
   "source": [
    "# Kaggle Predictions\n",
    "y_pred = grid_mse.predict(test_kaggle)\n",
    "\n",
    "\n",
    "df_submission = pd.DataFrame()\n",
    "df_submission['id'] = df_test['Store'].astype('str') + \"_\" + df_test['Dept'].astype('str') + \"_\" + df_test['Date'].astype(str)\n",
    "df_submission['Weekly_Sales'] = y_pred\n",
    "\n",
    "df_submission.to_csv('kaggle_submission3_xgboost', index=False)"
   ]
  },
  {
   "cell_type": "markdown",
   "metadata": {},
   "source": [
    "# HistGradientBoosting"
   ]
  },
  {
   "cell_type": "markdown",
   "metadata": {},
   "source": [
    "## HistGradientBoosting- TimeSeriesSplit, Manual Cross-Validation"
   ]
  },
  {
   "cell_type": "code",
   "execution_count": 18,
   "metadata": {},
   "outputs": [
    {
     "name": "stdout",
     "output_type": "stream",
     "text": [
      "train index: [    0     1     2 ... 70262 70263 70264] \n",
      " test index: [ 70265  70266  70267 ... 140523 140524 140525]\n",
      "\n",
      "MSE: 303393357.18071157 \n",
      " R2: 0.5824960853788933\n",
      " MAE: 9427.49528922873\n",
      "\n",
      "train index: [     0      1      2 ... 140523 140524 140525] \n",
      " test index: [140526 140527 140528 ... 210784 210785 210786]\n",
      "\n",
      "MSE: 148437436.54445586 \n",
      " R2: 0.6869555195869935\n",
      " MAE: 6603.540834104873\n",
      "\n",
      "train index: [     0      1      2 ... 210784 210785 210786] \n",
      " test index: [210787 210788 210789 ... 281045 281046 281047]\n",
      "\n",
      "MSE: 151633839.11226693 \n",
      " R2: 0.6829954941577048\n",
      " MAE: 7712.72292451731\n",
      "\n",
      "train index: [     0      1      2 ... 281045 281046 281047] \n",
      " test index: [281048 281049 281050 ... 351306 351307 351308]\n",
      "\n",
      "MSE: 187710688.8662141 \n",
      " R2: 0.4461177242055496\n",
      " MAE: 9076.65382786228\n",
      "\n",
      "train index: [     0      1      2 ... 351306 351307 351308] \n",
      " test index: [351309 351310 351311 ... 421567 421568 421569]\n",
      "\n",
      "MSE: 120736358.38858269 \n",
      " R2: 0.6743852316628686\n",
      " MAE: 7421.971923894877\n",
      "\n",
      "Cross-Validation Scores:\n",
      " MSE: 182382336.0184462, R2: 0.6145900109984019, MAE: 8048.476959921613\n"
     ]
    }
   ],
   "source": [
    "# Column Transform df_train before split\n",
    "X =df_train.drop(columns = ['Weekly_Sales'])\n",
    "Y=df_train.Weekly_Sales\n",
    "\n",
    "X = column_transform.fit_transform(df_train.drop(columns = ['Weekly_Sales']))\n",
    "\n",
    "#Time Based Splits\n",
    "ts_cv = TimeSeriesSplit(n_splits=5)\n",
    "all_splits = list(ts_cv.split(X, Y))\n",
    "all_splits\n",
    "\n",
    "#Loop through 5 splits, each time calculating MSE, R2\n",
    "\n",
    "MSE_results = []\n",
    "R2_results = []\n",
    "MAE_results = []\n",
    "\n",
    "for num in range(5):\n",
    "    train_index , test_index = all_splits[num]\n",
    "\n",
    "    #define train, test sets\n",
    "    x_train = X[train_index]\n",
    "    y_train = Y[train_index]\n",
    "    x_test = X[test_index]\n",
    "    y_test = Y[test_index]\n",
    "    print('train index: {} \\n test index: {}\\n'.format(train_index, test_index))\n",
    "    \n",
    "    #fit, predict\n",
    "    model = HistGradientBoostingRegressor(random_state=0)\n",
    "    model.fit(x_train,y_train)\n",
    "    y_pred = model.predict(x_test)\n",
    "    \n",
    "    #score\n",
    "    metric = mean_squared_error(y_test, y_pred)\n",
    "    MSE_results.append(metric)\n",
    "    \n",
    "    metric2 = r2_score(y_test, y_pred)\n",
    "    R2_results.append(metric2)\n",
    "    \n",
    "    metric3 = mean_absolute_error(y_pred,y_test)\n",
    "    MAE_results.append(metric3)\n",
    "    \n",
    "    print('MSE: {} \\n R2: {}\\n MAE: {}\\n'.format(metric, metric2, metric3))\n",
    "    \n",
    "print(\"Cross-Validation Scores:\\n MSE: {}, R2: {}, MAE: {}\".format(np.mean(MSE_results), np.mean(R2_results),\n",
    "                                                         np.mean(MAE_results)))"
   ]
  },
  {
   "cell_type": "markdown",
   "metadata": {},
   "source": [
    "## HistGradientBoost GridSearch"
   ]
  },
  {
   "cell_type": "code",
   "execution_count": 61,
   "metadata": {
    "ExecuteTime": {
     "end_time": "2021-10-08T02:01:50.069060Z",
     "start_time": "2021-10-08T01:52:56.038322Z"
    },
    "scrolled": false
   },
   "outputs": [
    {
     "name": "stdout",
     "output_type": "stream",
     "text": [
      "Fitting 5 folds for each of 24 candidates, totalling 120 fits\n"
     ]
    },
    {
     "data": {
      "text/plain": [
       "GridSearchCV(cv=TimeSeriesSplit(gap=0, max_train_size=None, n_splits=5, test_size=None),\n",
       "             estimator=Pipeline(steps=[('hist',\n",
       "                                        HistGradientBoostingRegressor())]),\n",
       "             param_grid={'hist__max_depth': [4, 6, 8, 10],\n",
       "                         'hist__min_samples_leaf': [30, 40, 50, 60, 70, 80]},\n",
       "             scoring='neg_mean_squared_error', verbose=1)"
      ]
     },
     "execution_count": 61,
     "metadata": {},
     "output_type": "execute_result"
    }
   ],
   "source": [
    "# GridSearchCV Example\n",
    "\n",
    "# GridSearchCV xgbboost Regressor using column_transform\n",
    "\n",
    "# create steps\n",
    "steps = [#('transform', column_transform),\n",
    "        ('hist', HistGradientBoostingRegressor())]\n",
    "\n",
    "\n",
    "#instantiate pipeline object\n",
    "pipe = Pipeline(steps)\n",
    "\n",
    "# Create the parameter grid: gbm_param_grid\n",
    "gbm_param_grid = {#'xgb__learning_rate': [0.01,0.02,0.03,0.04],\n",
    "                  #'xgb__subsample'    : [0.9, 0.5, 0.2, 0.1],\n",
    "                  'hist__min_samples_leaf' : [30,40,50,60,70,80],\n",
    "                  'hist__max_depth'    : [4,6,8,10]\n",
    "                 }\n",
    "\n",
    "# split df_train into test and train sets \n",
    "X = column_transform.fit_transform(df_train.drop(columns = ['Weekly_Sales']))\n",
    "#X = df_train.drop(columns = ['Weekly_Sales'])\n",
    "Y = df_train['Weekly_Sales']        \n",
    "\n",
    "\n",
    "# Perform grid search: grid_mse\n",
    "cv = TimeSeriesSplit(n_splits=5)\n",
    "hist_gridsearch = GridSearchCV(pipe, param_grid=gbm_param_grid, scoring='neg_mean_squared_error', cv=cv,\n",
    "                               verbose=1)\n",
    "\n",
    "# Fit hist_gridsearch to the data\n",
    "hist_gridsearch.fit(X,Y)\n",
    "\n"
   ]
  },
  {
   "cell_type": "code",
   "execution_count": 63,
   "metadata": {
    "ExecuteTime": {
     "end_time": "2021-10-08T06:08:05.011614Z",
     "start_time": "2021-10-08T05:46:33.248622Z"
    }
   },
   "outputs": [
    {
     "name": "stdout",
     "output_type": "stream",
     "text": [
      "[-3.51398801e+08 -1.49237630e+08 -1.41225078e+08 -1.83557574e+08\n",
      " -9.59487842e+07]\n",
      "[0.51643511 0.68526797 0.70475597 0.45837242 0.74123502]\n",
      "[-10444.87155189  -6861.29768179  -7746.2374835   -9054.95080959\n",
      "  -6735.03877862]\n"
     ]
    }
   ],
   "source": [
    "# cross validate gridsearchcv model\n",
    "\n",
    "cv = TimeSeriesSplit(n_splits=5)\n",
    "hist_scores = cross_validate(hist_gridsearch, X, Y, cv=cv,\n",
    "                        scoring=('r2', 'neg_mean_squared_error', 'neg_mean_absolute_error'), n_jobs=-1)\n",
    "print(hist_scores['test_neg_mean_squared_error'])\n",
    "print(hist_scores['test_r2'])\n",
    "print(hist_scores['test_neg_mean_absolute_error'])\n",
    "\n",
    "\n"
   ]
  },
  {
   "cell_type": "markdown",
   "metadata": {},
   "source": [
    "# Feature Engineering to Improve Predictions\n",
    "\n",
    "General Procedure:\n",
    "\n",
    "1.  Create MarkDown_log Feature.  Apply logrithmic function to all non zero MarkDown values.\n",
    "2.  Drop MarkDown1, MarkDown2, MarkDown3, MarkDown4, MarkDown5 features for HistGradientBoost GridSearch.\n",
    "3.  Drop MarkDown1, MarkDown2, MarkDown3, MarkDown4, MarkDown5 features for ElasticNet GridSearch.\n",
    "\n",
    "Engineered Features Summary:\n",
    "\n",
    "|    | model              |   R2 |   Mean Squared Error, MSE |   Mean Absolute Error, MAE |\n",
    "|---:|:-------------------|-----:|--------------------------:|---------------------------:|\n",
    "|  0 | ElasticNet         | 0.26 |               3.6639e+08  |                   13065.3  |\n",
    "|  1 | ElasticNet+        | 0.27 |               3.52625e+08 |                   12828.1  |\n",
    "|  2 | HistGradientBoost  | 0.62 |               1.84274e+08 |                    8168.48 |\n",
    "|  3 | HistGradientBoost+ | 0.63 |               1.78486e+08 |                    7996.65 |\n",
    "\n",
    "ElasticNet Metric Effects:  \n",
    "*  3.8% increase Coefficient of Determination. \n",
    "*  3.8% reduction Mean Squared Error.  \n",
    "*  1.8% reduction Mean Absolute Error.  \n",
    "    \n",
    "HistGradientBoost Metric Effects:  \n",
    "*  0.016% increase Coefficient of Determination.  \n",
    "*  3.0% reduction Mean Square Error.  \n",
    "*  2.0% reudction Mean Absolute Error.  \n",
    "\n",
    "\n"
   ]
  },
  {
   "cell_type": "code",
   "execution_count": 690,
   "metadata": {
    "ExecuteTime": {
     "end_time": "2021-10-11T05:57:22.810660Z",
     "start_time": "2021-10-11T05:56:42.707447Z"
    },
    "scrolled": false
   },
   "outputs": [
    {
     "data": {
      "image/png": "[encoded data removed]",
      "text/plain": [
       "<Figure size 720x360 with 2 Axes>"
      ]
     },
     "metadata": {
      "needs_background": "light"
     },
     "output_type": "display_data"
    },
    {
     "data": {
      "image/png": "[encoded data removed]",
      "text/plain": [
       "<Figure size 720x360 with 2 Axes>"
      ]
     },
     "metadata": {
      "needs_background": "light"
     },
     "output_type": "display_data"
    },
    {
     "data": {
      "image/png": "[encoded data removed]",
      "text/plain": [
       "<Figure size 720x360 with 2 Axes>"
      ]
     },
     "metadata": {
      "needs_background": "light"
     },
     "output_type": "display_data"
    },
    {
     "data": {
      "image/png": "[encoded data removed]",
      "text/plain": [
       "<Figure size 720x360 with 2 Axes>"
      ]
     },
     "metadata": {
      "needs_background": "light"
     },
     "output_type": "display_data"
    },
    {
     "data": {
      "image/png": "[encoded data removed]",
      "text/plain": [
       "<Figure size 720x360 with 2 Axes>"
      ]
     },
     "metadata": {
      "needs_background": "light"
     },
     "output_type": "display_data"
    },
    {
     "data": {
      "image/png": "[encoded data removed]",
      "text/plain": [
       "<Figure size 720x360 with 2 Axes>"
      ]
     },
     "metadata": {
      "needs_background": "light"
     },
     "output_type": "display_data"
    }
   ],
   "source": [
    "# Create new features by apply logrithmic function to all non zero MarkDown values.  By doing so, the distribution\n",
    "# MarkDown values will become more normalized.\n",
    "\n",
    "list = ['MarkDown1','MarkDown2','MarkDown3','MarkDown4','MarkDown5']\n",
    "names = [x +\"_log\" for x in list]\n",
    "\n",
    "# create new columns containing log values of respective MarkDowns\n",
    "\n",
    "for x_, y_ in zip(names, list):\n",
    "#   print(x_, y_)\n",
    "    df_train[x_]=[np.log(x) if x > 0 else 0 for x in df_train[y_]]\n",
    "\n",
    "df_train    \n",
    "\n",
    "# plot function to compare new features.\n",
    "\n",
    "def compare_plot(before, after):\n",
    "    fig, (ax1, ax2) = plt.subplots(1,2, figsize=(10,5), sharey=True)\n",
    "\n",
    "    sns.histplot(data=df_train[df_train[before]!=0], x=df_train[df_train[before]!=0][before], ax=ax1)\n",
    "    #ax1.set(xlabel=\"High End\", ylim=(0,10000), title=\"Salaries\")\n",
    "\n",
    "\n",
    "    sns.histplot(data=df_train[df_train[after]!=0],\n",
    "    x=df_train[df_train[after]!=0][after], ax=ax2)\n",
    "\n",
    "    plt.show()\n",
    "    \n",
    "compare_plot('MarkDown1', 'MarkDown1_log')\n",
    "\n",
    "for x_, y_ in zip(names, list):\n",
    "    compare_plot(y_, x_)"
   ]
  },
  {
   "cell_type": "code",
   "execution_count": null,
   "metadata": {},
   "outputs": [],
   "source": [
    "# Use log transformed values in place of original MarkDown Features"
   ]
  },
  {
   "cell_type": "code",
   "execution_count": 670,
   "metadata": {
    "ExecuteTime": {
     "end_time": "2021-10-11T04:44:42.687070Z",
     "start_time": "2021-10-11T04:44:42.274664Z"
    },
    "scrolled": true
   },
   "outputs": [
    {
     "data": {
      "text/plain": [
       "ColumnTransformer(sparse_threshold=0,\n",
       "                  transformers=[('standardscaler', StandardScaler(),\n",
       "                                 ['Temperature', 'Fuel_Price', 'MarkDown1_log',\n",
       "                                  'MarkDown2_log', 'MarkDown3_log',\n",
       "                                  'MarkDown4_log', 'MarkDown5_log', 'CPI',\n",
       "                                  'Unemployment', 'Size', 'cci_value']),\n",
       "                                ('onehotencoder',\n",
       "                                 OneHotEncoder(handle_unknown='ignore'),\n",
       "                                 ['IsHoliday', 'Dept']),\n",
       "                                ('ordinalencoder', OrdinalEncoder(),\n",
       "                                 ['Week', 'Type'])])"
      ]
     },
     "execution_count": 670,
     "metadata": {},
     "output_type": "execute_result"
    }
   ],
   "source": [
    "# Nominal Categories: 'IsHoliday', 'Dept'\n",
    "\n",
    "ohe = OneHotEncoder(handle_unknown='ignore')\n",
    "ohe.fit_transform(df_train[[\"IsHoliday\", 'Dept']])\n",
    "ohe.categories_\n",
    "\n",
    "# Ordinal Categories: 'Week','Type'\n",
    "oe = OrdinalEncoder()\n",
    "oe.fit_transform(df_train[['Week', 'Type']])\n",
    "oe.categories_\n",
    "\n",
    "# Standard Scaler for Numerical Features\n",
    "scaler = StandardScaler()\n",
    "scaler.fit_transform(df_train[['Temperature', 'Fuel_Price', 'MarkDown1_log', 'MarkDown2_log', \"MarkDown3_log\",\n",
    "                               \"MarkDown4_log\", \"MarkDown5_log\", 'CPI', 'Unemployment', 'Size',\n",
    "                               'cci_value']])\n",
    "\n",
    "# Instantiate make_column_transformer using standard scaler, onehotencoder, ordinalencoder\n",
    "\n",
    "column_transform = make_column_transformer((scaler, ['Temperature', 'Fuel_Price', 'MarkDown1_log', 'MarkDown2_log', \"MarkDown3_log\",\n",
    "                                                     \"MarkDown4_log\", \"MarkDown5_log\", 'CPI', 'Unemployment', 'Size',\n",
    "                                                     'cci_value']),\n",
    "                                           (ohe, ['IsHoliday', 'Dept']),\n",
    "                                           (oe, ['Week', 'Type']), sparse_threshold=0)\n",
    "column_transform"
   ]
  },
  {
   "cell_type": "markdown",
   "metadata": {},
   "source": [
    "## HistGradientBoosting GridSearch with Engineered Feature"
   ]
  },
  {
   "cell_type": "code",
   "execution_count": 674,
   "metadata": {
    "ExecuteTime": {
     "end_time": "2021-10-11T04:51:49.817951Z",
     "start_time": "2021-10-11T04:47:34.041960Z"
    },
    "scrolled": false
   },
   "outputs": [
    {
     "name": "stdout",
     "output_type": "stream",
     "text": [
      "Fitting 4 folds for each of 24 candidates, totalling 96 fits\n"
     ]
    },
    {
     "data": {
      "text/plain": [
       "GridSearchCV(cv=TimeSeriesSplit(gap=0, max_train_size=None, n_splits=4, test_size=None),\n",
       "             estimator=Pipeline(steps=[('hist',\n",
       "                                        HistGradientBoostingRegressor())]),\n",
       "             n_jobs=-1,\n",
       "             param_grid={'hist__max_depth': [4, 6, 8, 10],\n",
       "                         'hist__min_samples_leaf': [30, 40, 50, 60, 70, 80]},\n",
       "             scoring='neg_mean_squared_error', verbose=1)"
      ]
     },
     "execution_count": 674,
     "metadata": {},
     "output_type": "execute_result"
    }
   ],
   "source": [
    "# GridSearchCV HistGradientBoosting Regressor using column_transform\n",
    "\n",
    "# create steps\n",
    "steps = [  # ('transform', column_transform),\n",
    "    ('hist', HistGradientBoostingRegressor())]\n",
    "\n",
    "\n",
    "# instantiate pipeline object\n",
    "pipe = Pipeline(steps)\n",
    "\n",
    "# Create the parameter grid: gbm_param_grid\n",
    "hist_param_grid = {#'xgb__learning_rate': [0.01,0.02,0.03,0.04],\n",
    "                  #'xgb__subsample'    : [0.9, 0.5, 0.2, 0.1],\n",
    "                  'hist__min_samples_leaf' : [30,40,50,60,70,80],\n",
    "                  'hist__max_depth'    : [4,6,8,10]\n",
    "                 }\n",
    "\n",
    "\n",
    "\n",
    "# split df_train into test and train set\n",
    "X = column_transform.fit_transform(df_train.drop(columns=['Weekly_Sales','MarkDown1', 'MarkDown2',\n",
    "                                                          'MarkDown3', 'MarkDown4','MarkDown5',\"MarkDown_Total\"]))\n",
    "#X = df_train.drop(columns = ['Weekly_Sales'])\n",
    "Y = df_train['Weekly_Sales']\n",
    "\n",
    "\n",
    "# Perform grid search: grid_mse\n",
    "cv = TimeSeriesSplit(n_splits=4)\n",
    "hist_feature_gridsearch = GridSearchCV(pipe, param_grid=hist_param_grid, scoring='neg_mean_squared_error', cv=cv,\n",
    "                              verbose=1, n_jobs=-1)\n",
    "#GridSearchCV(pipe, param_grid, cv=5, return_train_score = True)\n",
    "\n",
    "# Fit grid_mse to the data\n",
    "hist_feature_gridsearch.fit(X, Y)"
   ]
  },
  {
   "cell_type": "code",
   "execution_count": 676,
   "metadata": {
    "ExecuteTime": {
     "end_time": "2021-10-11T05:14:20.094292Z",
     "start_time": "2021-10-11T04:53:44.362223Z"
    }
   },
   "outputs": [
    {
     "name": "stdout",
     "output_type": "stream",
     "text": [
      "[-3.27367783e+08 -1.52736385e+08 -1.44286897e+08 -1.67094852e+08\n",
      " -1.00944790e+08]\n",
      "[0.54950454 0.67788933 0.69835495 0.50694935 0.72776126]\n",
      "[-9878.55731595 -6816.54471817 -7763.29054135 -8673.82312361\n",
      " -6851.05018341]\n"
     ]
    }
   ],
   "source": [
    "# cross validate gridsearchcv model\n",
    "\n",
    "cv = TimeSeriesSplit(n_splits=5)\n",
    "hist_feature_scores = cross_validate(hist_feature_gridsearch, X, Y, cv=cv,\n",
    "                        scoring=('r2', 'neg_mean_squared_error', 'neg_mean_absolute_error'), n_jobs=-1)\n",
    "print(hist_feature_scores['test_neg_mean_squared_error'])\n",
    "print(hist_feature_scores['test_r2'])\n",
    "print(hist_feature_scores['test_neg_mean_absolute_error'])\n",
    "\n"
   ]
  },
  {
   "cell_type": "markdown",
   "metadata": {},
   "source": [
    "## ElasticNet GridSearchCV using Engineered Feature"
   ]
  },
  {
   "cell_type": "code",
   "execution_count": 683,
   "metadata": {
    "ExecuteTime": {
     "end_time": "2021-10-11T05:24:53.177572Z",
     "start_time": "2021-10-11T05:24:17.594961Z"
    }
   },
   "outputs": [
    {
     "data": {
      "text/plain": [
       "GridSearchCV(cv=TimeSeriesSplit(gap=0, max_train_size=None, n_splits=5, test_size=None),\n",
       "             estimator=Pipeline(steps=[('linear', ElasticNet())]),\n",
       "             param_grid={'linear__alpha': [0.1, 0.2, 0.3, 0.4, 0.5, 0.6, 0.7,\n",
       "                                           0.8, 0.9, 1.0]},\n",
       "             return_train_score=True)"
      ]
     },
     "execution_count": 683,
     "metadata": {},
     "output_type": "execute_result"
    }
   ],
   "source": [
    "# create steps\n",
    "\n",
    "steps = [#('transform', column_transform),\n",
    "         ('linear',ElasticNet())]\n",
    "\n",
    "#instantiate pipeline object\n",
    "pipe = Pipeline(steps)\n",
    "\n",
    "# split df_train into test and train sets \n",
    "# Column Transform df_train before split\n",
    "# split df_train into test and train set\n",
    "X = column_transform.fit_transform(df_train.drop(columns=['Weekly_Sales','MarkDown1', 'MarkDown2',\n",
    "                                                          'MarkDown3', 'MarkDown4','MarkDown5',\"MarkDown_Total\"]))\n",
    "\n",
    "Y = df_train['Weekly_Sales']\n",
    "\n",
    "# GridSearchCV parameters\n",
    "param_grid = {'linear__alpha':[0.1,0.2,0.3,0.4,0.5,0.6,0.7,0.8,0.9,1.0]}\n",
    "\n",
    "scoring = {'R2': 'r2_score', 'MAE': 'mean_absolute_error', 'MSE': 'mean_squared_error'}\n",
    "\n",
    "cv = TimeSeriesSplit(n_splits=5)\n",
    "# instantiate GridSearchCV object using pipeline, parameters dict\n",
    "elasticnet_feature_gridsearch = GridSearchCV(pipe, param_grid, cv=cv, return_train_score = True)\n",
    "elasticnet_feature_gridsearch.fit(X, Y)\n"
   ]
  },
  {
   "cell_type": "code",
   "execution_count": 684,
   "metadata": {
    "ExecuteTime": {
     "end_time": "2021-10-11T05:26:21.721066Z",
     "start_time": "2021-10-11T05:24:57.063687Z"
    }
   },
   "outputs": [
    {
     "name": "stdout",
     "output_type": "stream",
     "text": [
      "[-5.53766776e+08 -3.37021514e+08 -3.68602682e+08 -2.42816521e+08\n",
      " -2.60915767e+08]\n",
      "[0.23795366 0.2892445  0.22940215 0.28351567 0.29633436]\n",
      "[-15931.34295373 -12291.74626177 -14168.3220789  -10803.85130496\n",
      " -10945.21752919]\n"
     ]
    }
   ],
   "source": [
    "# cross validate gridsearchcv model\n",
    "\n",
    "cv = TimeSeriesSplit(n_splits=5)\n",
    "elasticnet_feature_scores = cross_validate(elasticnet_feature_gridsearch, X, Y, cv=cv,\n",
    "                        scoring=('r2', 'neg_mean_squared_error', 'neg_mean_absolute_error'), n_jobs=-1)\n",
    "print(elasticnet_feature_scores['test_neg_mean_squared_error'])\n",
    "print(elasticnet_feature_scores['test_r2'])\n",
    "print(elasticnet_feature_scores['test_neg_mean_absolute_error'])\n",
    "\n"
   ]
  },
  {
   "cell_type": "markdown",
   "metadata": {},
   "source": [
    "## Comparing Model Improvement with Engineered Feature"
   ]
  },
  {
   "cell_type": "code",
   "execution_count": null,
   "metadata": {},
   "outputs": [],
   "source": [
    "# Comparison of Tuned Models Performance\n",
    "\n",
    "# build dataframe: model name, r2, mae, mse features\n",
    "names = ['ElasticNet', 'ElasticNet+', 'HistGradientBoost', 'HistGradientBoost+']\n",
    "scores_list = [elastic_scores,elasticnet_feature_scores,hist_scores,hist_feature_scores]\n",
    "\n",
    "df_scores = pd.DataFrame()\n",
    "for x, y in zip(names, scores_list):\n",
    "    df_ = pd.DataFrame(scores(y))\n",
    " \n",
    "    df_['model'] = x\n",
    "    \n",
    "    df_scores= df_scores.append(df_)\n",
    "    \n",
    "    #print(df_)\n",
    "\n",
    "df_scores=df_scores.reset_index(drop=True)\n",
    "df_scores = df_scores[['model','test_r2',\n",
    " 'test_neg_mean_squared_error',\n",
    " 'test_neg_mean_absolute_error']]\n",
    "df_scores = df_scores.rename(columns={'test_r2': 'R2', 'test_neg_mean_squared_error': 'Mean Squared Error, MSE',\n",
    "                   'test_neg_mean_absolute_error':'Mean Absolute Error, MAE'})\n",
    "df_scores"
   ]
  },
  {
   "cell_type": "markdown",
   "metadata": {},
   "source": [
    "# Model Performance Metrics Comparison\n",
    "\n",
    "Summary-\n",
    "\n",
    "|    | model             |        R2 |   Mean Squared Error, MSE |   Mean Absolute Error, MAE |\n",
    "|---:|:------------------|----------:|--------------------------:|---------------------------:|\n",
    "|  0 | Linear Regression | 0.0242201 |               4.70768e+08 |                   15163    |\n",
    "|  1 | ElasticNet        | 0.259015  |               3.6639e+08  |                   13065.3  |\n",
    "|  2 | Random Forest     | 0.570494  |               2.08108e+08 |                    7748.67 |\n",
    "|  3 | XGBoost           | 0.0242201 |               4.70768e+08 |                   15163    |\n",
    "|  4 | HistGradientBoost | 0.621213  |               1.84274e+08 |                    8168.48 |\n",
    "\n",
    "R2, Coefficient of Determination.  Proportion of target variance explained by model. Values range from 0 to 1.  Higher values indicates improved model accuray (in order of best to worst):\n",
    "- HistGradientBoost Model \n",
    "- Random Forest \n",
    "- ElasticNet \n",
    "- XGBoost \n",
    "- Linear Regression \n",
    "\n",
    "Mean Squared Error. Variation of the residuals.  Lower values indicate improved model precision.  (in order of best to worst): \n",
    "- HistGradientBoost Model \n",
    "- Random Forest \n",
    "- ElasticNet \n",
    "- Linear Regression \n",
    "- XGBoost \n",
    "\n",
    "Mean Absolute Error.  Average of residuals.  Lower value indicates more accurate model(in order of best to worst).  In order of best to worst:\n",
    "- HistGradientBoost Model \n",
    "- Random Forest \n",
    "- ElasticNet \n",
    "- Linear Regression \n",
    "- XGBoost \n",
    "\n"
   ]
  },
  {
   "cell_type": "code",
   "execution_count": 677,
   "metadata": {
    "ExecuteTime": {
     "end_time": "2021-10-11T05:14:20.506959Z",
     "start_time": "2021-10-11T05:14:20.494587Z"
    }
   },
   "outputs": [
    {
     "data": {
      "text/plain": [
       "{'test_r2': [0.02],\n",
       " 'test_neg_mean_squared_error': [470767890.33],\n",
       " 'test_neg_mean_absolute_error': [15163.02]}"
      ]
     },
     "execution_count": 677,
     "metadata": {},
     "output_type": "execute_result"
    }
   ],
   "source": [
    "#write a function that returns scores\n",
    "list = {}\n",
    "def scores(name):\n",
    "\n",
    "    keys = ['test_r2','test_neg_mean_squared_error', 'test_neg_mean_absolute_error']\n",
    "    for item in keys:\n",
    "        #print(\"{} average: {:.3f}\".format(item, np.mean(np.abs(name[item])) ))\n",
    "        z = list.update({item:[np.round(np.mean(np.abs(name[item])),2)]})\n",
    "\n",
    "    return list\n",
    "\n",
    "scores(lr_scores)"
   ]
  },
  {
   "cell_type": "markdown",
   "metadata": {},
   "source": [
    "## Comparing Tuned Model Performance Metrics"
   ]
  },
  {
   "cell_type": "code",
   "execution_count": 664,
   "metadata": {
    "ExecuteTime": {
     "end_time": "2021-10-11T01:09:33.011669Z",
     "start_time": "2021-10-11T01:09:32.978067Z"
    }
   },
   "outputs": [
    {
     "data": {
      "text/html": [
       "<div>\n",
       "<style scoped>\n",
       "    .dataframe tbody tr th:only-of-type {\n",
       "        vertical-align: middle;\n",
       "    }\n",
       "\n",
       "    .dataframe tbody tr th {\n",
       "        vertical-align: top;\n",
       "    }\n",
       "\n",
       "    .dataframe thead th {\n",
       "        text-align: right;\n",
       "    }\n",
       "</style>\n",
       "<table border=\"1\" class=\"dataframe\">\n",
       "  <thead>\n",
       "    <tr style=\"text-align: right;\">\n",
       "      <th></th>\n",
       "      <th>model</th>\n",
       "      <th>R2</th>\n",
       "      <th>Mean Squared Error, MSE</th>\n",
       "      <th>Mean Absolute Error, MAE</th>\n",
       "    </tr>\n",
       "  </thead>\n",
       "  <tbody>\n",
       "    <tr>\n",
       "      <th>0</th>\n",
       "      <td>Linear Regression</td>\n",
       "      <td>0.024220</td>\n",
       "      <td>4.707679e+08</td>\n",
       "      <td>15163.021817</td>\n",
       "    </tr>\n",
       "    <tr>\n",
       "      <th>1</th>\n",
       "      <td>ElasticNet</td>\n",
       "      <td>0.259015</td>\n",
       "      <td>3.663901e+08</td>\n",
       "      <td>13065.285239</td>\n",
       "    </tr>\n",
       "    <tr>\n",
       "      <th>2</th>\n",
       "      <td>Random Forest</td>\n",
       "      <td>0.570494</td>\n",
       "      <td>2.081079e+08</td>\n",
       "      <td>7748.672894</td>\n",
       "    </tr>\n",
       "    <tr>\n",
       "      <th>3</th>\n",
       "      <td>XGBoost</td>\n",
       "      <td>0.024220</td>\n",
       "      <td>4.707679e+08</td>\n",
       "      <td>15163.021817</td>\n",
       "    </tr>\n",
       "    <tr>\n",
       "      <th>4</th>\n",
       "      <td>HistGradientBoost</td>\n",
       "      <td>0.621213</td>\n",
       "      <td>1.842736e+08</td>\n",
       "      <td>8168.479261</td>\n",
       "    </tr>\n",
       "  </tbody>\n",
       "</table>\n",
       "</div>"
      ],
      "text/plain": [
       "               model        R2  Mean Squared Error, MSE  \\\n",
       "0  Linear Regression  0.024220             4.707679e+08   \n",
       "1         ElasticNet  0.259015             3.663901e+08   \n",
       "2      Random Forest  0.570494             2.081079e+08   \n",
       "3            XGBoost  0.024220             4.707679e+08   \n",
       "4  HistGradientBoost  0.621213             1.842736e+08   \n",
       "\n",
       "   Mean Absolute Error, MAE  \n",
       "0              15163.021817  \n",
       "1              13065.285239  \n",
       "2               7748.672894  \n",
       "3              15163.021817  \n",
       "4               8168.479261  "
      ]
     },
     "execution_count": 664,
     "metadata": {},
     "output_type": "execute_result"
    }
   ],
   "source": [
    "# Comparison of Tuned Models Performance\n",
    "\n",
    "# build dataframe: model name, r2, mae, mse features\n",
    "names = ['Linear Regression', 'ElasticNet', 'Random Forest', 'XGBoost', 'HistGradientBoost']\n",
    "scores_list = [lr_scores, elastic_scores, rf_scores, xgb_scores, hist_scores]\n",
    "\n",
    "df_scores = pd.DataFrame()\n",
    "for x, y in zip(names, scores_list):\n",
    "    df_ = pd.DataFrame(scores(y))\n",
    " \n",
    "    df_['model'] = x\n",
    "    \n",
    "    df_scores= df_scores.append(df_)\n",
    "    \n",
    "    #print(df_)\n",
    "\n",
    "df_scores=df_scores.reset_index(drop=True)\n",
    "df_scores = df_scores[['model','test_r2',\n",
    " 'test_neg_mean_squared_error',\n",
    " 'test_neg_mean_absolute_error']]\n",
    "df_scores = df_scores.rename(columns={'test_r2': 'R2', 'test_neg_mean_squared_error': 'Mean Squared Error, MSE',\n",
    "                   'test_neg_mean_absolute_error':'Mean Absolute Error, MAE'})\n",
    "df_scores"
   ]
  },
  {
   "cell_type": "code",
   "execution_count": 665,
   "metadata": {
    "ExecuteTime": {
     "end_time": "2021-10-11T01:10:35.993448Z",
     "start_time": "2021-10-11T01:10:35.724249Z"
    }
   },
   "outputs": [
    {
     "data": {
      "image/png": "[encoded data removed]",
      "text/plain": [
       "<Figure size 1008x720 with 3 Axes>"
      ]
     },
     "metadata": {
      "needs_background": "light"
     },
     "output_type": "display_data"
    }
   ],
   "source": [
    "# Create three plots to comparison model performance metrics\n",
    "fig, (ax1, ax2, ax3) = plt.subplots(1,3, figsize=(14,10))\n",
    "\n",
    "\n",
    "sns.barplot(data=df_scores, x='model', y='R2', \n",
    "            order = df_scores.sort_values('R2').model, ax=ax1)\n",
    "ax1.set(xlabel ='Model', ylabel ='Coefficient of Determination, R^2',\n",
    "       title ='R^2 Score')\n",
    "ax1.tick_params(axis = 'x',labelrotation=70)\n",
    "\n",
    "sns.barplot(data=df_scores, x='model', y='Mean Squared Error, MSE',\n",
    "            order = df_scores.sort_values('Mean Squared Error, MSE').model, ax=ax2)\n",
    "ax2.set(xlabel ='Model', ylabel ='Mean Squared Error',\n",
    "       title ='Mean Squared Error, MSE')\n",
    "ax2.tick_params(axis = 'x', labelrotation=70)\n",
    "\n",
    "sns.barplot(data=df_scores, x='model', y='Mean Absolute Error, MAE',\n",
    "            order = df_scores.sort_values('Mean Absolute Error, MAE').model, ax=ax3)\n",
    "ax3.set(xlabel ='Model', ylabel ='Mean Absolute Error, MAE',\n",
    "       title ='Mean Absolute Error, MAE')\n",
    "ax3.tick_params(axis = 'x',labelrotation=70)\n",
    "\n",
    "plt.tight_layout()\n",
    "plt.show()"
   ]
  },
  {
   "cell_type": "code",
   "execution_count": 675,
   "metadata": {
    "ExecuteTime": {
     "end_time": "2021-10-11T04:51:50.161851Z",
     "start_time": "2021-10-11T04:51:50.156805Z"
    }
   },
   "outputs": [
    {
     "name": "stdout",
     "output_type": "stream",
     "text": [
      "|    | model             |        R2 |   Mean Squared Error, MSE |   Mean Absolute Error, MAE |\n",
      "|---:|:------------------|----------:|--------------------------:|---------------------------:|\n",
      "|  0 | Linear Regression | 0.0242201 |               4.70768e+08 |                   15163    |\n",
      "|  1 | ElasticNet        | 0.259015  |               3.6639e+08  |                   13065.3  |\n",
      "|  2 | Random Forest     | 0.570494  |               2.08108e+08 |                    7748.67 |\n",
      "|  3 | XGBoost           | 0.0242201 |               4.70768e+08 |                   15163    |\n",
      "|  4 | HistGradientBoost | 0.621213  |               1.84274e+08 |                    8168.48 |\n"
     ]
    }
   ],
   "source": [
    "### Markdown Table of performance metrics\n",
    "\n",
    "print(df_scores.to_markdown())"
   ]
  },
  {
   "cell_type": "code",
   "execution_count": 686,
   "metadata": {
    "ExecuteTime": {
     "end_time": "2021-10-11T05:35:20.516957Z",
     "start_time": "2021-10-11T05:35:20.482304Z"
    }
   },
   "outputs": [
    {
     "data": {
      "text/html": [
       "<div>\n",
       "<style scoped>\n",
       "    .dataframe tbody tr th:only-of-type {\n",
       "        vertical-align: middle;\n",
       "    }\n",
       "\n",
       "    .dataframe tbody tr th {\n",
       "        vertical-align: top;\n",
       "    }\n",
       "\n",
       "    .dataframe thead th {\n",
       "        text-align: right;\n",
       "    }\n",
       "</style>\n",
       "<table border=\"1\" class=\"dataframe\">\n",
       "  <thead>\n",
       "    <tr style=\"text-align: right;\">\n",
       "      <th></th>\n",
       "      <th>model</th>\n",
       "      <th>R2</th>\n",
       "      <th>Mean Squared Error, MSE</th>\n",
       "      <th>Mean Absolute Error, MAE</th>\n",
       "    </tr>\n",
       "  </thead>\n",
       "  <tbody>\n",
       "    <tr>\n",
       "      <th>0</th>\n",
       "      <td>ElasticNet</td>\n",
       "      <td>0.26</td>\n",
       "      <td>3.663901e+08</td>\n",
       "      <td>13065.29</td>\n",
       "    </tr>\n",
       "    <tr>\n",
       "      <th>1</th>\n",
       "      <td>ElasticNet+</td>\n",
       "      <td>0.27</td>\n",
       "      <td>3.526247e+08</td>\n",
       "      <td>12828.10</td>\n",
       "    </tr>\n",
       "    <tr>\n",
       "      <th>2</th>\n",
       "      <td>HistGradientBoost</td>\n",
       "      <td>0.62</td>\n",
       "      <td>1.842736e+08</td>\n",
       "      <td>8168.48</td>\n",
       "    </tr>\n",
       "    <tr>\n",
       "      <th>3</th>\n",
       "      <td>HistGradientBoost+</td>\n",
       "      <td>0.63</td>\n",
       "      <td>1.784861e+08</td>\n",
       "      <td>7996.65</td>\n",
       "    </tr>\n",
       "  </tbody>\n",
       "</table>\n",
       "</div>"
      ],
      "text/plain": [
       "                model    R2  Mean Squared Error, MSE  Mean Absolute Error, MAE\n",
       "0          ElasticNet  0.26             3.663901e+08                  13065.29\n",
       "1         ElasticNet+  0.27             3.526247e+08                  12828.10\n",
       "2   HistGradientBoost  0.62             1.842736e+08                   8168.48\n",
       "3  HistGradientBoost+  0.63             1.784861e+08                   7996.65"
      ]
     },
     "execution_count": 686,
     "metadata": {},
     "output_type": "execute_result"
    }
   ],
   "source": [
    "# Comparison of Tuned Models Performance\n",
    "\n",
    "# build dataframe: model name, r2, mae, mse features\n",
    "names = ['ElasticNet', 'ElasticNet+', 'HistGradientBoost', 'HistGradientBoost+']\n",
    "scores_list = [elastic_scores,elasticnet_feature_scores,hist_scores,hist_feature_scores]\n",
    "\n",
    "df_scores = pd.DataFrame()\n",
    "for x, y in zip(names, scores_list):\n",
    "    df_ = pd.DataFrame(scores(y))\n",
    " \n",
    "    df_['model'] = x\n",
    "    \n",
    "    df_scores= df_scores.append(df_)\n",
    "    \n",
    "    #print(df_)\n",
    "\n",
    "df_scores=df_scores.reset_index(drop=True)\n",
    "df_scores = df_scores[['model','test_r2',\n",
    " 'test_neg_mean_squared_error',\n",
    " 'test_neg_mean_absolute_error']]\n",
    "df_scores = df_scores.rename(columns={'test_r2': 'R2', 'test_neg_mean_squared_error': 'Mean Squared Error, MSE',\n",
    "                   'test_neg_mean_absolute_error':'Mean Absolute Error, MAE'})\n",
    "df_scores"
   ]
  },
  {
   "cell_type": "code",
   "execution_count": 687,
   "metadata": {
    "ExecuteTime": {
     "end_time": "2021-10-11T05:35:51.203566Z",
     "start_time": "2021-10-11T05:35:50.637273Z"
    }
   },
   "outputs": [
    {
     "data": {
      "image/png": "[encoded data removed]",
      "text/plain": [
       "<Figure size 1008x720 with 3 Axes>"
      ]
     },
     "metadata": {
      "needs_background": "light"
     },
     "output_type": "display_data"
    }
   ],
   "source": [
    "# Create three plots to comparison model performance metrics\n",
    "fig, (ax1, ax2, ax3) = plt.subplots(1,3, figsize=(14,10))\n",
    "\n",
    "\n",
    "sns.barplot(data=df_scores, x='model', y='R2', \n",
    "            order = df_scores.sort_values('R2').model, ax=ax1)\n",
    "ax1.set(xlabel ='Model', ylabel ='Coefficient of Determination, R^2',\n",
    "       title ='R^2 Score')\n",
    "ax1.tick_params(axis = 'x',labelrotation=70)\n",
    "\n",
    "sns.barplot(data=df_scores, x='model', y='Mean Squared Error, MSE',\n",
    "            order = df_scores.sort_values('Mean Squared Error, MSE').model, ax=ax2)\n",
    "ax2.set(xlabel ='Model', ylabel ='Mean Squared Error',\n",
    "       title ='Mean Squared Error, MSE')\n",
    "ax2.tick_params(axis = 'x', labelrotation=70)\n",
    "\n",
    "sns.barplot(data=df_scores, x='model', y='Mean Absolute Error, MAE',\n",
    "            order = df_scores.sort_values('Mean Absolute Error, MAE').model, ax=ax3)\n",
    "ax3.set(xlabel ='Model', ylabel ='Mean Absolute Error, MAE',\n",
    "       title ='Mean Absolute Error, MAE')\n",
    "ax3.tick_params(axis = 'x',labelrotation=70)\n",
    "\n",
    "plt.tight_layout()\n",
    "plt.show()"
   ]
  },
  {
   "cell_type": "code",
   "execution_count": 688,
   "metadata": {
    "ExecuteTime": {
     "end_time": "2021-10-11T05:36:30.058556Z",
     "start_time": "2021-10-11T05:36:30.052976Z"
    }
   },
   "outputs": [
    {
     "name": "stdout",
     "output_type": "stream",
     "text": [
      "|    | model              |   R2 |   Mean Squared Error, MSE |   Mean Absolute Error, MAE |\n",
      "|---:|:-------------------|-----:|--------------------------:|---------------------------:|\n",
      "|  0 | ElasticNet         | 0.26 |               3.6639e+08  |                   13065.3  |\n",
      "|  1 | ElasticNet+        | 0.27 |               3.52625e+08 |                   12828.1  |\n",
      "|  2 | HistGradientBoost  | 0.62 |               1.84274e+08 |                    8168.48 |\n",
      "|  3 | HistGradientBoost+ | 0.63 |               1.78486e+08 |                    7996.65 |\n"
     ]
    }
   ],
   "source": [
    "### Markdown Table of performance metrics\n",
    "\n",
    "print(df_scores.to_markdown())"
   ]
  }
 ],
 "metadata": {
  "kernelspec": {
   "display_name": "Python 3",
   "language": "python",
   "name": "python3"
  },
  "language_info": {
   "codemirror_mode": {
    "name": "ipython",
    "version": 3
   },
   "file_extension": ".py",
   "mimetype": "text/x-python",
   "name": "python",
   "nbconvert_exporter": "python",
   "pygments_lexer": "ipython3",
   "version": "3.8.5"
  },
  "notify_time": "5",
  "toc": {
   "base_numbering": 1,
   "nav_menu": {},
   "number_sections": true,
   "sideBar": true,
   "skip_h1_title": false,
   "title_cell": "Table of Contents",
   "title_sidebar": "Contents",
   "toc_cell": false,
   "toc_position": {
    "height": "calc(100% - 180px)",
    "left": "10px",
    "top": "150px",
    "width": "279px"
   },
   "toc_section_display": true,
   "toc_window_display": true
  },
  "varInspector": {
   "cols": {
    "lenName": 16,
    "lenType": 16,
    "lenVar": 40
   },
   "kernels_config": {
    "python": {
     "delete_cmd_postfix": "",
     "delete_cmd_prefix": "del ",
     "library": "var_list.py",
     "varRefreshCmd": "print(var_dic_list())"
    },
    "r": {
     "delete_cmd_postfix": ") ",
     "delete_cmd_prefix": "rm(",
     "library": "var_list.r",
     "varRefreshCmd": "cat(var_dic_list()) "
    }
   },
   "oldHeight": 391.734375,
   "position": {
    "height": "40px",
    "left": "68.171875px",
    "right": "20px",
    "top": "65px",
    "width": "652px"
   },
   "types_to_exclude": [
    "module",
    "function",
    "builtin_function_or_method",
    "instance",
    "_Feature"
   ],
   "varInspector_section_display": "none",
   "window_display": false
  }
 },
 "nbformat": 4,
 "nbformat_minor": 4
}
