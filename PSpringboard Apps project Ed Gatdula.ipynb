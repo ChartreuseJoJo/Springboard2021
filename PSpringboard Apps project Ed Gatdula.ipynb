{
 "cells": [
  {
   "cell_type": "markdown",
   "metadata": {
    "colab_type": "text",
    "id": "i2RUFW7TFcuh"
   },
   "source": [
    "# Springboard Apps project - Tier 3 - Complete\n",
    "\n",
    "Welcome to the Apps project! To give you a taste of your future career, we're going to walk through exactly the kind of notebook that you'd write as a data scientist. In the process, we'll be sure to signpost the general framework for our investigation - the Data Science Pipeline - as well as give reasons for why we're doing what we're doing. We're also going to apply some of the skills and knowledge you've built up in the previous unit when reading Professor Spiegelhalter's *The Art of Statistics* (hereinafter *AoS*). \n",
    "\n",
    "So let's get cracking!\n",
    "\n",
    "**Brief**\n",
    "\n",
    "Did Apple Store apps receive better reviews than Google Play apps?\n",
    "\n",
    "## Stages of the project\n",
    "\n",
    "1. Sourcing and loading \n",
    "    * Load the two datasets\n",
    "    * Pick the columns that we are going to work with \n",
    "    * Subsetting the data on this basis \n",
    " \n",
    " \n",
    "2. Cleaning, transforming and visualizing\n",
    "    * Check the data types and fix them\n",
    "    * Add a `platform` column to both the `Apple` and the `Google` dataframes\n",
    "    * Changing the column names to prepare for a join \n",
    "    * Join the two data sets\n",
    "    * Eliminate the `NaN` values\n",
    "    * Filter only those apps that have been reviewed at least once\n",
    "    * Summarize the data visually and analytically (by the column `platform`)  \n",
    "  \n",
    "  \n",
    "3. Modelling \n",
    "    * Hypothesis formulation\n",
    "    * Getting the distribution of the data\n",
    "    * Permutation test \n",
    "\n",
    "\n",
    "4. Evaluating and concluding \n",
    "    * What is our conclusion?\n",
    "    * What is our decision?\n",
    "    * Other models we could have used. \n",
    "    "
   ]
  },
  {
   "cell_type": "markdown",
   "metadata": {
    "colab_type": "text",
    "id": "QLUAXtl1Fcuk"
   },
   "source": [
    "## Importing the libraries\n",
    "\n",
    "In this case we are going to import pandas, numpy, scipy, random and matplotlib.pyplot"
   ]
  },
  {
   "cell_type": "code",
   "execution_count": 249,
   "metadata": {
    "colab": {},
    "colab_type": "code",
    "id": "XeXJOlGiFcum"
   },
   "outputs": [],
   "source": [
    "import pandas as pd\n",
    "import numpy as np\n",
    "import matplotlib.pyplot as plt\n",
    "# scipi is a library for statistical tests and visualizations \n",
    "from scipy import stats\n",
    "# random enables us to generate random numbers\n",
    "import random"
   ]
  },
  {
   "cell_type": "markdown",
   "metadata": {
    "colab_type": "text",
    "id": "zVD7NlPAFcup"
   },
   "source": [
    "## Stage 1 -  Sourcing and loading data"
   ]
  },
  {
   "cell_type": "markdown",
   "metadata": {
    "colab_type": "text",
    "id": "KU8bdbImFcuq"
   },
   "source": [
    "### 1a. Source and load the data\n",
    "Let's download the data from Kaggle. Kaggle is a fantastic resource: a kind of social medium for data scientists, it boasts projects, datasets and news on the freshest libraries and technologies all in one place. The data from the Apple Store can be found [here](https://www.kaggle.com/ramamet4/app-store-apple-data-set-10k-apps) and the data from Google Store can be found [here](https://www.kaggle.com/lava18/google-play-store-apps).\n",
    "Download the datasets and save them in your working directory."
   ]
  },
  {
   "cell_type": "code",
   "execution_count": 250,
   "metadata": {
    "colab": {},
    "colab_type": "code",
    "id": "laM1PB76Fcur"
   },
   "outputs": [
    {
     "data": {
      "text/html": [
       "<div>\n",
       "<style scoped>\n",
       "    .dataframe tbody tr th:only-of-type {\n",
       "        vertical-align: middle;\n",
       "    }\n",
       "\n",
       "    .dataframe tbody tr th {\n",
       "        vertical-align: top;\n",
       "    }\n",
       "\n",
       "    .dataframe thead th {\n",
       "        text-align: right;\n",
       "    }\n",
       "</style>\n",
       "<table border=\"1\" class=\"dataframe\">\n",
       "  <thead>\n",
       "    <tr style=\"text-align: right;\">\n",
       "      <th></th>\n",
       "      <th>App</th>\n",
       "      <th>Category</th>\n",
       "      <th>Rating</th>\n",
       "      <th>Reviews</th>\n",
       "      <th>Size</th>\n",
       "      <th>Installs</th>\n",
       "      <th>Type</th>\n",
       "      <th>Price</th>\n",
       "      <th>Content Rating</th>\n",
       "      <th>Genres</th>\n",
       "      <th>Last Updated</th>\n",
       "      <th>Current Ver</th>\n",
       "      <th>Android Ver</th>\n",
       "    </tr>\n",
       "  </thead>\n",
       "  <tbody>\n",
       "    <tr>\n",
       "      <th>0</th>\n",
       "      <td>Photo Editor &amp; Candy Camera &amp; Grid &amp; ScrapBook</td>\n",
       "      <td>ART_AND_DESIGN</td>\n",
       "      <td>4.1</td>\n",
       "      <td>159</td>\n",
       "      <td>19M</td>\n",
       "      <td>10,000+</td>\n",
       "      <td>Free</td>\n",
       "      <td>0</td>\n",
       "      <td>Everyone</td>\n",
       "      <td>Art &amp; Design</td>\n",
       "      <td>January 7, 2018</td>\n",
       "      <td>1.0.0</td>\n",
       "      <td>4.0.3 and up</td>\n",
       "    </tr>\n",
       "    <tr>\n",
       "      <th>1</th>\n",
       "      <td>Coloring book moana</td>\n",
       "      <td>ART_AND_DESIGN</td>\n",
       "      <td>3.9</td>\n",
       "      <td>967</td>\n",
       "      <td>14M</td>\n",
       "      <td>500,000+</td>\n",
       "      <td>Free</td>\n",
       "      <td>0</td>\n",
       "      <td>Everyone</td>\n",
       "      <td>Art &amp; Design;Pretend Play</td>\n",
       "      <td>January 15, 2018</td>\n",
       "      <td>2.0.0</td>\n",
       "      <td>4.0.3 and up</td>\n",
       "    </tr>\n",
       "    <tr>\n",
       "      <th>2</th>\n",
       "      <td>U Launcher Lite – FREE Live Cool Themes, Hide ...</td>\n",
       "      <td>ART_AND_DESIGN</td>\n",
       "      <td>4.7</td>\n",
       "      <td>87510</td>\n",
       "      <td>8.7M</td>\n",
       "      <td>5,000,000+</td>\n",
       "      <td>Free</td>\n",
       "      <td>0</td>\n",
       "      <td>Everyone</td>\n",
       "      <td>Art &amp; Design</td>\n",
       "      <td>August 1, 2018</td>\n",
       "      <td>1.2.4</td>\n",
       "      <td>4.0.3 and up</td>\n",
       "    </tr>\n",
       "    <tr>\n",
       "      <th>3</th>\n",
       "      <td>Sketch - Draw &amp; Paint</td>\n",
       "      <td>ART_AND_DESIGN</td>\n",
       "      <td>4.5</td>\n",
       "      <td>215644</td>\n",
       "      <td>25M</td>\n",
       "      <td>50,000,000+</td>\n",
       "      <td>Free</td>\n",
       "      <td>0</td>\n",
       "      <td>Teen</td>\n",
       "      <td>Art &amp; Design</td>\n",
       "      <td>June 8, 2018</td>\n",
       "      <td>Varies with device</td>\n",
       "      <td>4.2 and up</td>\n",
       "    </tr>\n",
       "    <tr>\n",
       "      <th>4</th>\n",
       "      <td>Pixel Draw - Number Art Coloring Book</td>\n",
       "      <td>ART_AND_DESIGN</td>\n",
       "      <td>4.3</td>\n",
       "      <td>967</td>\n",
       "      <td>2.8M</td>\n",
       "      <td>100,000+</td>\n",
       "      <td>Free</td>\n",
       "      <td>0</td>\n",
       "      <td>Everyone</td>\n",
       "      <td>Art &amp; Design;Creativity</td>\n",
       "      <td>June 20, 2018</td>\n",
       "      <td>1.1</td>\n",
       "      <td>4.4 and up</td>\n",
       "    </tr>\n",
       "  </tbody>\n",
       "</table>\n",
       "</div>"
      ],
      "text/plain": [
       "                                                 App        Category  Rating  \\\n",
       "0     Photo Editor & Candy Camera & Grid & ScrapBook  ART_AND_DESIGN     4.1   \n",
       "1                                Coloring book moana  ART_AND_DESIGN     3.9   \n",
       "2  U Launcher Lite – FREE Live Cool Themes, Hide ...  ART_AND_DESIGN     4.7   \n",
       "3                              Sketch - Draw & Paint  ART_AND_DESIGN     4.5   \n",
       "4              Pixel Draw - Number Art Coloring Book  ART_AND_DESIGN     4.3   \n",
       "\n",
       "  Reviews  Size     Installs  Type Price Content Rating  \\\n",
       "0     159   19M      10,000+  Free     0       Everyone   \n",
       "1     967   14M     500,000+  Free     0       Everyone   \n",
       "2   87510  8.7M   5,000,000+  Free     0       Everyone   \n",
       "3  215644   25M  50,000,000+  Free     0           Teen   \n",
       "4     967  2.8M     100,000+  Free     0       Everyone   \n",
       "\n",
       "                      Genres      Last Updated         Current Ver  \\\n",
       "0               Art & Design   January 7, 2018               1.0.0   \n",
       "1  Art & Design;Pretend Play  January 15, 2018               2.0.0   \n",
       "2               Art & Design    August 1, 2018               1.2.4   \n",
       "3               Art & Design      June 8, 2018  Varies with device   \n",
       "4    Art & Design;Creativity     June 20, 2018                 1.1   \n",
       "\n",
       "    Android Ver  \n",
       "0  4.0.3 and up  \n",
       "1  4.0.3 and up  \n",
       "2  4.0.3 and up  \n",
       "3    4.2 and up  \n",
       "4    4.4 and up  "
      ]
     },
     "execution_count": 250,
     "metadata": {},
     "output_type": "execute_result"
    }
   ],
   "source": [
    "# Now that the files are saved, we want to load them into Python using read_csv and pandas.\n",
    "\n",
    "# Create a variable called google, and store in it the path of the csv file that contains your google dataset. \n",
    "# If your dataset is in the same folder as this notebook, the path will simply be the name of the file. \n",
    "\n",
    "\n",
    "# Read the csv file into a data frame called Google using the read_csv() pandas method.\n",
    "google = pd.read_csv('googleplaystore.csv')\n",
    "\n",
    "# Using the head() pandas method, observe the first three entries.\n",
    "google.head()"
   ]
  },
  {
   "cell_type": "code",
   "execution_count": 251,
   "metadata": {
    "colab": {},
    "colab_type": "code",
    "id": "3AW8EA1wFcuu"
   },
   "outputs": [
    {
     "data": {
      "text/html": [
       "<div>\n",
       "<style scoped>\n",
       "    .dataframe tbody tr th:only-of-type {\n",
       "        vertical-align: middle;\n",
       "    }\n",
       "\n",
       "    .dataframe tbody tr th {\n",
       "        vertical-align: top;\n",
       "    }\n",
       "\n",
       "    .dataframe thead th {\n",
       "        text-align: right;\n",
       "    }\n",
       "</style>\n",
       "<table border=\"1\" class=\"dataframe\">\n",
       "  <thead>\n",
       "    <tr style=\"text-align: right;\">\n",
       "      <th></th>\n",
       "      <th>Unnamed: 0</th>\n",
       "      <th>id</th>\n",
       "      <th>track_name</th>\n",
       "      <th>size_bytes</th>\n",
       "      <th>currency</th>\n",
       "      <th>price</th>\n",
       "      <th>rating_count_tot</th>\n",
       "      <th>rating_count_ver</th>\n",
       "      <th>user_rating</th>\n",
       "      <th>user_rating_ver</th>\n",
       "      <th>ver</th>\n",
       "      <th>cont_rating</th>\n",
       "      <th>prime_genre</th>\n",
       "      <th>sup_devices.num</th>\n",
       "      <th>ipadSc_urls.num</th>\n",
       "      <th>lang.num</th>\n",
       "      <th>vpp_lic</th>\n",
       "    </tr>\n",
       "  </thead>\n",
       "  <tbody>\n",
       "    <tr>\n",
       "      <th>0</th>\n",
       "      <td>1</td>\n",
       "      <td>281656475</td>\n",
       "      <td>PAC-MAN Premium</td>\n",
       "      <td>100788224</td>\n",
       "      <td>USD</td>\n",
       "      <td>3.99</td>\n",
       "      <td>21292</td>\n",
       "      <td>26</td>\n",
       "      <td>4.0</td>\n",
       "      <td>4.5</td>\n",
       "      <td>6.3.5</td>\n",
       "      <td>4+</td>\n",
       "      <td>Games</td>\n",
       "      <td>38</td>\n",
       "      <td>5</td>\n",
       "      <td>10</td>\n",
       "      <td>1</td>\n",
       "    </tr>\n",
       "    <tr>\n",
       "      <th>1</th>\n",
       "      <td>2</td>\n",
       "      <td>281796108</td>\n",
       "      <td>Evernote - stay organized</td>\n",
       "      <td>158578688</td>\n",
       "      <td>USD</td>\n",
       "      <td>0.00</td>\n",
       "      <td>161065</td>\n",
       "      <td>26</td>\n",
       "      <td>4.0</td>\n",
       "      <td>3.5</td>\n",
       "      <td>8.2.2</td>\n",
       "      <td>4+</td>\n",
       "      <td>Productivity</td>\n",
       "      <td>37</td>\n",
       "      <td>5</td>\n",
       "      <td>23</td>\n",
       "      <td>1</td>\n",
       "    </tr>\n",
       "    <tr>\n",
       "      <th>2</th>\n",
       "      <td>3</td>\n",
       "      <td>281940292</td>\n",
       "      <td>WeatherBug - Local Weather, Radar, Maps, Alerts</td>\n",
       "      <td>100524032</td>\n",
       "      <td>USD</td>\n",
       "      <td>0.00</td>\n",
       "      <td>188583</td>\n",
       "      <td>2822</td>\n",
       "      <td>3.5</td>\n",
       "      <td>4.5</td>\n",
       "      <td>5.0.0</td>\n",
       "      <td>4+</td>\n",
       "      <td>Weather</td>\n",
       "      <td>37</td>\n",
       "      <td>5</td>\n",
       "      <td>3</td>\n",
       "      <td>1</td>\n",
       "    </tr>\n",
       "  </tbody>\n",
       "</table>\n",
       "</div>"
      ],
      "text/plain": [
       "   Unnamed: 0         id                                       track_name  \\\n",
       "0           1  281656475                                  PAC-MAN Premium   \n",
       "1           2  281796108                        Evernote - stay organized   \n",
       "2           3  281940292  WeatherBug - Local Weather, Radar, Maps, Alerts   \n",
       "\n",
       "   size_bytes currency  price  rating_count_tot  rating_count_ver  \\\n",
       "0   100788224      USD   3.99             21292                26   \n",
       "1   158578688      USD   0.00            161065                26   \n",
       "2   100524032      USD   0.00            188583              2822   \n",
       "\n",
       "   user_rating  user_rating_ver    ver cont_rating   prime_genre  \\\n",
       "0          4.0              4.5  6.3.5          4+         Games   \n",
       "1          4.0              3.5  8.2.2          4+  Productivity   \n",
       "2          3.5              4.5  5.0.0          4+       Weather   \n",
       "\n",
       "   sup_devices.num  ipadSc_urls.num  lang.num  vpp_lic  \n",
       "0               38                5        10        1  \n",
       "1               37                5        23        1  \n",
       "2               37                5         3        1  "
      ]
     },
     "execution_count": 251,
     "metadata": {},
     "output_type": "execute_result"
    }
   ],
   "source": [
    "# Create a variable called apple, and store in it the path of the csv file that contains your apple dataset. \n",
    "\n",
    "\n",
    "# Read the csv file into a pandas DataFrame object called Apple.\n",
    "apple = pd.read_csv('AppleStore.csv')\n",
    "\n",
    "# Observe the first three entries like you did with your other data. \n",
    "apple.head(3)"
   ]
  },
  {
   "cell_type": "markdown",
   "metadata": {
    "colab_type": "text",
    "id": "vljOHKNTFcuw"
   },
   "source": [
    "### 1b. Pick the columns we'll work with\n",
    "\n",
    "From the documentation of these datasets, we can infer that the most appropriate columns to answer the brief are:\n",
    "\n",
    "1. Google:\n",
    "    * `Category` # Do we need this?\n",
    "    * `Rating`\n",
    "    * `Reviews`\n",
    "    * `Price` (maybe)\n",
    "2. Apple:    \n",
    "    * `prime_genre` # Do we need this?\n",
    "    * `user_rating` \n",
    "    * `rating_count_tot`\n",
    "    * `price` (maybe)"
   ]
  },
  {
   "cell_type": "markdown",
   "metadata": {
    "colab_type": "text",
    "id": "uf69AeTvFcux"
   },
   "source": [
    "### 1c. Subsetting accordingly\n",
    "\n",
    "Let's select only those columns that we want to work with from both datasets. We'll overwrite the subsets in the original variables."
   ]
  },
  {
   "cell_type": "code",
   "execution_count": 252,
   "metadata": {
    "colab": {},
    "colab_type": "code",
    "id": "LNSDXyjdFcuy"
   },
   "outputs": [
    {
     "data": {
      "text/html": [
       "<div>\n",
       "<style scoped>\n",
       "    .dataframe tbody tr th:only-of-type {\n",
       "        vertical-align: middle;\n",
       "    }\n",
       "\n",
       "    .dataframe tbody tr th {\n",
       "        vertical-align: top;\n",
       "    }\n",
       "\n",
       "    .dataframe thead th {\n",
       "        text-align: right;\n",
       "    }\n",
       "</style>\n",
       "<table border=\"1\" class=\"dataframe\">\n",
       "  <thead>\n",
       "    <tr style=\"text-align: right;\">\n",
       "      <th></th>\n",
       "      <th>Category</th>\n",
       "      <th>Rating</th>\n",
       "      <th>Reviews</th>\n",
       "      <th>Price</th>\n",
       "    </tr>\n",
       "  </thead>\n",
       "  <tbody>\n",
       "    <tr>\n",
       "      <th>0</th>\n",
       "      <td>ART_AND_DESIGN</td>\n",
       "      <td>4.1</td>\n",
       "      <td>159</td>\n",
       "      <td>0</td>\n",
       "    </tr>\n",
       "    <tr>\n",
       "      <th>1</th>\n",
       "      <td>ART_AND_DESIGN</td>\n",
       "      <td>3.9</td>\n",
       "      <td>967</td>\n",
       "      <td>0</td>\n",
       "    </tr>\n",
       "    <tr>\n",
       "      <th>2</th>\n",
       "      <td>ART_AND_DESIGN</td>\n",
       "      <td>4.7</td>\n",
       "      <td>87510</td>\n",
       "      <td>0</td>\n",
       "    </tr>\n",
       "  </tbody>\n",
       "</table>\n",
       "</div>"
      ],
      "text/plain": [
       "         Category  Rating Reviews Price\n",
       "0  ART_AND_DESIGN     4.1     159     0\n",
       "1  ART_AND_DESIGN     3.9     967     0\n",
       "2  ART_AND_DESIGN     4.7   87510     0"
      ]
     },
     "execution_count": 252,
     "metadata": {},
     "output_type": "execute_result"
    }
   ],
   "source": [
    "# Subset our DataFrame object Google by selecting just the variables ['Category', 'Rating', 'Reviews', 'Price']\n",
    "google = google[['Category', 'Rating', 'Reviews', 'Price']]\n",
    "\n",
    "# Check the first three entries\n",
    "google.head(3)"
   ]
  },
  {
   "cell_type": "code",
   "execution_count": 253,
   "metadata": {
    "colab": {},
    "colab_type": "code",
    "id": "AVCtENPtFcu0"
   },
   "outputs": [
    {
     "data": {
      "text/html": [
       "<div>\n",
       "<style scoped>\n",
       "    .dataframe tbody tr th:only-of-type {\n",
       "        vertical-align: middle;\n",
       "    }\n",
       "\n",
       "    .dataframe tbody tr th {\n",
       "        vertical-align: top;\n",
       "    }\n",
       "\n",
       "    .dataframe thead th {\n",
       "        text-align: right;\n",
       "    }\n",
       "</style>\n",
       "<table border=\"1\" class=\"dataframe\">\n",
       "  <thead>\n",
       "    <tr style=\"text-align: right;\">\n",
       "      <th></th>\n",
       "      <th>prime_genre</th>\n",
       "      <th>user_rating</th>\n",
       "      <th>rating_count_tot</th>\n",
       "      <th>price</th>\n",
       "    </tr>\n",
       "  </thead>\n",
       "  <tbody>\n",
       "    <tr>\n",
       "      <th>0</th>\n",
       "      <td>Games</td>\n",
       "      <td>4.0</td>\n",
       "      <td>21292</td>\n",
       "      <td>3.99</td>\n",
       "    </tr>\n",
       "    <tr>\n",
       "      <th>1</th>\n",
       "      <td>Productivity</td>\n",
       "      <td>4.0</td>\n",
       "      <td>161065</td>\n",
       "      <td>0.00</td>\n",
       "    </tr>\n",
       "    <tr>\n",
       "      <th>2</th>\n",
       "      <td>Weather</td>\n",
       "      <td>3.5</td>\n",
       "      <td>188583</td>\n",
       "      <td>0.00</td>\n",
       "    </tr>\n",
       "  </tbody>\n",
       "</table>\n",
       "</div>"
      ],
      "text/plain": [
       "    prime_genre  user_rating  rating_count_tot  price\n",
       "0         Games          4.0             21292   3.99\n",
       "1  Productivity          4.0            161065   0.00\n",
       "2       Weather          3.5            188583   0.00"
      ]
     },
     "execution_count": 253,
     "metadata": {},
     "output_type": "execute_result"
    }
   ],
   "source": [
    "# Do the same with our Apple object, selecting just the variables ['prime_genre', 'user_rating', 'rating_count_tot', 'price']\n",
    "apple = apple[ ['prime_genre', 'user_rating', 'rating_count_tot', 'price']]\n",
    "\n",
    "# Let's check the first three entries\n",
    "apple.head(3)"
   ]
  },
  {
   "cell_type": "markdown",
   "metadata": {
    "colab_type": "text",
    "id": "wwK2wH-rFcu2"
   },
   "source": [
    "## Stage 2 -  Cleaning, transforming and visualizing"
   ]
  },
  {
   "cell_type": "markdown",
   "metadata": {
    "colab_type": "text",
    "id": "NsoE5x0JFcu3"
   },
   "source": [
    "### 2a. Check the data types for both Apple and Google, and fix them\n",
    "\n",
    "Types are crucial for data science in Python. Let's determine whether the variables we selected in the previous section belong to the types they should do, or whether there are any errors here. "
   ]
  },
  {
   "cell_type": "code",
   "execution_count": 254,
   "metadata": {
    "colab": {},
    "colab_type": "code",
    "id": "ymw10SaWFcu4"
   },
   "outputs": [
    {
     "data": {
      "text/plain": [
       "prime_genre          object\n",
       "user_rating         float64\n",
       "rating_count_tot      int64\n",
       "price               float64\n",
       "dtype: object"
      ]
     },
     "execution_count": 254,
     "metadata": {},
     "output_type": "execute_result"
    }
   ],
   "source": [
    "# Using the dtypes feature of pandas DataFrame objects, check out the data types within our Apple dataframe.\n",
    "# Are they what you expect?\n",
    "\n",
    "apple.dtypes\n",
    "\n"
   ]
  },
  {
   "cell_type": "markdown",
   "metadata": {
    "colab_type": "text",
    "id": "VAiM6jIxFcu6"
   },
   "source": [
    "This is looking healthy. But what about our Google data frame?"
   ]
  },
  {
   "cell_type": "code",
   "execution_count": 255,
   "metadata": {
    "colab": {},
    "colab_type": "code",
    "id": "kmP8MhqyFcu7"
   },
   "outputs": [
    {
     "data": {
      "text/plain": [
       "Category     object\n",
       "Rating      float64\n",
       "Reviews      object\n",
       "Price        object\n",
       "dtype: object"
      ]
     },
     "execution_count": 255,
     "metadata": {},
     "output_type": "execute_result"
    }
   ],
   "source": [
    "# Using the same dtypes feature, check out the data types of our Google dataframe. \n",
    "google.dtypes"
   ]
  },
  {
   "cell_type": "markdown",
   "metadata": {
    "colab_type": "text",
    "id": "O-dxAy0WFcu9"
   },
   "source": [
    "Weird. The data type for the column 'Price' is 'object', not a numeric data type like a float or an integer. Let's investigate the unique values of this column. "
   ]
  },
  {
   "cell_type": "code",
   "execution_count": 256,
   "metadata": {
    "colab": {},
    "colab_type": "code",
    "id": "Hu08K9y7Fcu9"
   },
   "outputs": [
    {
     "data": {
      "text/plain": [
       "array(['0', '$4.99', '$3.99', '$6.99', '$1.49', '$2.99', '$7.99', '$5.99',\n",
       "       '$3.49', '$1.99', '$9.99', '$7.49', '$0.99', '$9.00', '$5.49',\n",
       "       '$10.00', '$24.99', '$11.99', '$79.99', '$16.99', '$14.99',\n",
       "       '$1.00', '$29.99', '$12.99', '$2.49', '$10.99', '$1.50', '$19.99',\n",
       "       '$15.99', '$33.99', '$74.99', '$39.99', '$3.95', '$4.49', '$1.70',\n",
       "       '$8.99', '$2.00', '$3.88', '$25.99', '$399.99', '$17.99',\n",
       "       '$400.00', '$3.02', '$1.76', '$4.84', '$4.77', '$1.61', '$2.50',\n",
       "       '$1.59', '$6.49', '$1.29', '$5.00', '$13.99', '$299.99', '$379.99',\n",
       "       '$37.99', '$18.99', '$389.99', '$19.90', '$8.49', '$1.75',\n",
       "       '$14.00', '$4.85', '$46.99', '$109.99', '$154.99', '$3.08',\n",
       "       '$2.59', '$4.80', '$1.96', '$19.40', '$3.90', '$4.59', '$15.46',\n",
       "       '$3.04', '$4.29', '$2.60', '$3.28', '$4.60', '$28.99', '$2.95',\n",
       "       '$2.90', '$1.97', '$200.00', '$89.99', '$2.56', '$30.99', '$3.61',\n",
       "       '$394.99', '$1.26', 'Everyone', '$1.20', '$1.04'], dtype=object)"
      ]
     },
     "execution_count": 256,
     "metadata": {},
     "output_type": "execute_result"
    }
   ],
   "source": [
    "# Use the unique() pandas method on the Price column to check its unique values. \n",
    "google.Price.unique()"
   ]
  },
  {
   "cell_type": "markdown",
   "metadata": {
    "colab_type": "text",
    "id": "w_7nkogFFcu_"
   },
   "source": [
    "Aha! Fascinating. There are actually two issues here. \n",
    "\n",
    "- Firstly, there's a price called `Everyone`. That is a massive mistake! \n",
    "- Secondly, there are dollar symbols everywhere! \n",
    "\n",
    "\n",
    "Let's address the first issue first. Let's check the datapoints that have the price value `Everyone`"
   ]
  },
  {
   "cell_type": "code",
   "execution_count": 257,
   "metadata": {
    "colab": {},
    "colab_type": "code",
    "id": "E75WWmhdFcvA"
   },
   "outputs": [
    {
     "data": {
      "text/html": [
       "<div>\n",
       "<style scoped>\n",
       "    .dataframe tbody tr th:only-of-type {\n",
       "        vertical-align: middle;\n",
       "    }\n",
       "\n",
       "    .dataframe tbody tr th {\n",
       "        vertical-align: top;\n",
       "    }\n",
       "\n",
       "    .dataframe thead th {\n",
       "        text-align: right;\n",
       "    }\n",
       "</style>\n",
       "<table border=\"1\" class=\"dataframe\">\n",
       "  <thead>\n",
       "    <tr style=\"text-align: right;\">\n",
       "      <th></th>\n",
       "      <th>Category</th>\n",
       "      <th>Rating</th>\n",
       "      <th>Reviews</th>\n",
       "      <th>Price</th>\n",
       "    </tr>\n",
       "  </thead>\n",
       "  <tbody>\n",
       "    <tr>\n",
       "      <th>10472</th>\n",
       "      <td>1.9</td>\n",
       "      <td>19.0</td>\n",
       "      <td>3.0M</td>\n",
       "      <td>Everyone</td>\n",
       "    </tr>\n",
       "  </tbody>\n",
       "</table>\n",
       "</div>"
      ],
      "text/plain": [
       "      Category  Rating Reviews     Price\n",
       "10472      1.9    19.0    3.0M  Everyone"
      ]
     },
     "execution_count": 257,
     "metadata": {},
     "output_type": "execute_result"
    }
   ],
   "source": [
    "# Let's check which data points have the value 'Everyone' for the 'Price' column by subsetting our Google dataframe.\n",
    "\n",
    "# Subset the Google dataframe on the price column. \n",
    "# To be sure: you want to pick out just those rows whose value for the 'Price' column is just 'Everyone'. \n",
    "google[google.Price == 'Everyone']"
   ]
  },
  {
   "cell_type": "markdown",
   "metadata": {
    "colab_type": "text",
    "id": "ezfLshdRFcvC"
   },
   "source": [
    "Thankfully, it's just one row. We've gotta get rid of it. "
   ]
  },
  {
   "cell_type": "code",
   "execution_count": 258,
   "metadata": {
    "colab": {},
    "colab_type": "code",
    "id": "DBmjUQUkFcvD"
   },
   "outputs": [
    {
     "data": {
      "text/plain": [
       "array(['0', '$4.99', '$3.99', '$6.99', '$1.49', '$2.99', '$7.99', '$5.99',\n",
       "       '$3.49', '$1.99', '$9.99', '$7.49', '$0.99', '$9.00', '$5.49',\n",
       "       '$10.00', '$24.99', '$11.99', '$79.99', '$16.99', '$14.99',\n",
       "       '$1.00', '$29.99', '$12.99', '$2.49', '$10.99', '$1.50', '$19.99',\n",
       "       '$15.99', '$33.99', '$74.99', '$39.99', '$3.95', '$4.49', '$1.70',\n",
       "       '$8.99', '$2.00', '$3.88', '$25.99', '$399.99', '$17.99',\n",
       "       '$400.00', '$3.02', '$1.76', '$4.84', '$4.77', '$1.61', '$2.50',\n",
       "       '$1.59', '$6.49', '$1.29', '$5.00', '$13.99', '$299.99', '$379.99',\n",
       "       '$37.99', '$18.99', '$389.99', '$19.90', '$8.49', '$1.75',\n",
       "       '$14.00', '$4.85', '$46.99', '$109.99', '$154.99', '$3.08',\n",
       "       '$2.59', '$4.80', '$1.96', '$19.40', '$3.90', '$4.59', '$15.46',\n",
       "       '$3.04', '$4.29', '$2.60', '$3.28', '$4.60', '$28.99', '$2.95',\n",
       "       '$2.90', '$1.97', '$200.00', '$89.99', '$2.56', '$30.99', '$3.61',\n",
       "       '$394.99', '$1.26', '$1.20', '$1.04'], dtype=object)"
      ]
     },
     "execution_count": 258,
     "metadata": {},
     "output_type": "execute_result"
    }
   ],
   "source": [
    "# Let's eliminate that row. \n",
    "\n",
    "# Subset our Google dataframe to pick out just those rows whose value for the 'Price' column is NOT 'Everyone'. \n",
    "# Reassign that subset to the Google variable. \n",
    "# You can do this in two lines or one. Your choice! \n",
    "google = google[google.Price != 'Everyone']\n",
    "# Check again the unique values of Google\n",
    "\n",
    "google.Price.unique()"
   ]
  },
  {
   "cell_type": "markdown",
   "metadata": {
    "colab_type": "text",
    "id": "T43TB4qFFcvF"
   },
   "source": [
    "Our second problem remains: I'm seeing dollar symbols when I close my eyes! (And not in a good way). \n",
    "\n",
    "This is a problem because Python actually considers these values strings. So we can't do mathematical and statistical operations on them until we've made them into numbers. "
   ]
  },
  {
   "cell_type": "code",
   "execution_count": 259,
   "metadata": {
    "colab": {},
    "colab_type": "code",
    "id": "W87gVS9BFcvG"
   },
   "outputs": [
    {
     "data": {
      "text/plain": [
       "0        0.0\n",
       "1        0.0\n",
       "2        0.0\n",
       "3        0.0\n",
       "4        0.0\n",
       "        ... \n",
       "10836    0.0\n",
       "10837    0.0\n",
       "10838    0.0\n",
       "10839    0.0\n",
       "10840    0.0\n",
       "Name: Price, Length: 10840, dtype: float64"
      ]
     },
     "execution_count": 259,
     "metadata": {},
     "output_type": "execute_result"
    }
   ],
   "source": [
    "# Let's create a variable called nosymb.\n",
    "# This variable will take the Price column of Google and apply the str.replace() method. \n",
    "nosymb = google.Price.str.replace('$', '')\n",
    "\n",
    "# Now we need to do two things:\n",
    "# i. Make the values in the nosymb variable numeric using the to_numeric() pandas method.\n",
    "# ii. Assign this new set of numeric, dollar-sign-less values to Google['Price']. \n",
    "# You can do this in one line if you wish.\n",
    "\n",
    "pd.to_numeric(nosymb).value_counts\n",
    "\n",
    "pd.unique(nosymb)\n",
    "\n",
    "google.Price = pd.to_numeric(nosymb)\n",
    "google.Price"
   ]
  },
  {
   "cell_type": "markdown",
   "metadata": {
    "colab_type": "text",
    "id": "LxpJQ9yyFcvI"
   },
   "source": [
    "Now let's check the data types for our Google dataframe again, to verify that the 'Price' column really is numeric now."
   ]
  },
  {
   "cell_type": "code",
   "execution_count": 260,
   "metadata": {
    "colab": {},
    "colab_type": "code",
    "id": "Fn5Gt-QbFcvI"
   },
   "outputs": [
    {
     "data": {
      "text/plain": [
       "Category     object\n",
       "Rating      float64\n",
       "Reviews      object\n",
       "Price       float64\n",
       "dtype: object"
      ]
     },
     "execution_count": 260,
     "metadata": {},
     "output_type": "execute_result"
    }
   ],
   "source": [
    "# Use the function dtypes. \n",
    "google.dtypes"
   ]
  },
  {
   "cell_type": "markdown",
   "metadata": {
    "colab_type": "text",
    "id": "FgfuiVo0FcvK"
   },
   "source": [
    "Notice that the column `Reviews` is still an object column. We actually need this column to be a numeric column, too. "
   ]
  },
  {
   "cell_type": "code",
   "execution_count": 261,
   "metadata": {
    "colab": {},
    "colab_type": "code",
    "id": "MiVEWsWBFcvL"
   },
   "outputs": [],
   "source": [
    "# Convert the 'Reviews' column to a numeric data type. \n",
    "google.Reviews = pd.to_numeric(google.Reviews)"
   ]
  },
  {
   "cell_type": "code",
   "execution_count": 262,
   "metadata": {
    "colab": {},
    "colab_type": "code",
    "id": "wWJdXXTTFcvN"
   },
   "outputs": [
    {
     "data": {
      "text/plain": [
       "Category     object\n",
       "Rating      float64\n",
       "Reviews       int64\n",
       "Price       float64\n",
       "dtype: object"
      ]
     },
     "execution_count": 262,
     "metadata": {},
     "output_type": "execute_result"
    }
   ],
   "source": [
    "# Let's check the data types of Google again\n",
    "google.dtypes"
   ]
  },
  {
   "cell_type": "markdown",
   "metadata": {
    "colab_type": "text",
    "id": "OiLm2GEKFcvP"
   },
   "source": [
    "### 2b. Add a `platform` column to both the `Apple` and the `Google` dataframes\n",
    "Let's add a new column to both dataframe objects called `platform`: all of its values in the Google dataframe will be just 'google', and all of its values for the Apple dataframe will be just 'apple'. \n",
    "\n",
    "The reason we're making this column is so that we can ultimately join our Apple and Google data together, and actually test out some hypotheses to solve the problem in our brief. "
   ]
  },
  {
   "cell_type": "code",
   "execution_count": 263,
   "metadata": {
    "colab": {},
    "colab_type": "code",
    "id": "mF-sOcx2FcvQ"
   },
   "outputs": [
    {
     "data": {
      "text/html": [
       "<div>\n",
       "<style scoped>\n",
       "    .dataframe tbody tr th:only-of-type {\n",
       "        vertical-align: middle;\n",
       "    }\n",
       "\n",
       "    .dataframe tbody tr th {\n",
       "        vertical-align: top;\n",
       "    }\n",
       "\n",
       "    .dataframe thead th {\n",
       "        text-align: right;\n",
       "    }\n",
       "</style>\n",
       "<table border=\"1\" class=\"dataframe\">\n",
       "  <thead>\n",
       "    <tr style=\"text-align: right;\">\n",
       "      <th></th>\n",
       "      <th>Category</th>\n",
       "      <th>Rating</th>\n",
       "      <th>Reviews</th>\n",
       "      <th>Price</th>\n",
       "      <th>platform</th>\n",
       "    </tr>\n",
       "  </thead>\n",
       "  <tbody>\n",
       "    <tr>\n",
       "      <th>0</th>\n",
       "      <td>ART_AND_DESIGN</td>\n",
       "      <td>4.1</td>\n",
       "      <td>159</td>\n",
       "      <td>0.0</td>\n",
       "      <td>google</td>\n",
       "    </tr>\n",
       "    <tr>\n",
       "      <th>1</th>\n",
       "      <td>ART_AND_DESIGN</td>\n",
       "      <td>3.9</td>\n",
       "      <td>967</td>\n",
       "      <td>0.0</td>\n",
       "      <td>google</td>\n",
       "    </tr>\n",
       "    <tr>\n",
       "      <th>2</th>\n",
       "      <td>ART_AND_DESIGN</td>\n",
       "      <td>4.7</td>\n",
       "      <td>87510</td>\n",
       "      <td>0.0</td>\n",
       "      <td>google</td>\n",
       "    </tr>\n",
       "    <tr>\n",
       "      <th>3</th>\n",
       "      <td>ART_AND_DESIGN</td>\n",
       "      <td>4.5</td>\n",
       "      <td>215644</td>\n",
       "      <td>0.0</td>\n",
       "      <td>google</td>\n",
       "    </tr>\n",
       "    <tr>\n",
       "      <th>4</th>\n",
       "      <td>ART_AND_DESIGN</td>\n",
       "      <td>4.3</td>\n",
       "      <td>967</td>\n",
       "      <td>0.0</td>\n",
       "      <td>google</td>\n",
       "    </tr>\n",
       "    <tr>\n",
       "      <th>...</th>\n",
       "      <td>...</td>\n",
       "      <td>...</td>\n",
       "      <td>...</td>\n",
       "      <td>...</td>\n",
       "      <td>...</td>\n",
       "    </tr>\n",
       "    <tr>\n",
       "      <th>10836</th>\n",
       "      <td>FAMILY</td>\n",
       "      <td>4.5</td>\n",
       "      <td>38</td>\n",
       "      <td>0.0</td>\n",
       "      <td>google</td>\n",
       "    </tr>\n",
       "    <tr>\n",
       "      <th>10837</th>\n",
       "      <td>FAMILY</td>\n",
       "      <td>5.0</td>\n",
       "      <td>4</td>\n",
       "      <td>0.0</td>\n",
       "      <td>google</td>\n",
       "    </tr>\n",
       "    <tr>\n",
       "      <th>10838</th>\n",
       "      <td>MEDICAL</td>\n",
       "      <td>NaN</td>\n",
       "      <td>3</td>\n",
       "      <td>0.0</td>\n",
       "      <td>google</td>\n",
       "    </tr>\n",
       "    <tr>\n",
       "      <th>10839</th>\n",
       "      <td>BOOKS_AND_REFERENCE</td>\n",
       "      <td>4.5</td>\n",
       "      <td>114</td>\n",
       "      <td>0.0</td>\n",
       "      <td>google</td>\n",
       "    </tr>\n",
       "    <tr>\n",
       "      <th>10840</th>\n",
       "      <td>LIFESTYLE</td>\n",
       "      <td>4.5</td>\n",
       "      <td>398307</td>\n",
       "      <td>0.0</td>\n",
       "      <td>google</td>\n",
       "    </tr>\n",
       "  </tbody>\n",
       "</table>\n",
       "<p>10840 rows × 5 columns</p>\n",
       "</div>"
      ],
      "text/plain": [
       "                  Category  Rating  Reviews  Price platform\n",
       "0           ART_AND_DESIGN     4.1      159    0.0   google\n",
       "1           ART_AND_DESIGN     3.9      967    0.0   google\n",
       "2           ART_AND_DESIGN     4.7    87510    0.0   google\n",
       "3           ART_AND_DESIGN     4.5   215644    0.0   google\n",
       "4           ART_AND_DESIGN     4.3      967    0.0   google\n",
       "...                    ...     ...      ...    ...      ...\n",
       "10836               FAMILY     4.5       38    0.0   google\n",
       "10837               FAMILY     5.0        4    0.0   google\n",
       "10838              MEDICAL     NaN        3    0.0   google\n",
       "10839  BOOKS_AND_REFERENCE     4.5      114    0.0   google\n",
       "10840            LIFESTYLE     4.5   398307    0.0   google\n",
       "\n",
       "[10840 rows x 5 columns]"
      ]
     },
     "execution_count": 263,
     "metadata": {},
     "output_type": "execute_result"
    }
   ],
   "source": [
    "# Create a column called 'platform' in both the Apple and Google dataframes. \n",
    "# Add the value 'apple' and the value 'google' as appropriate. \n",
    "\n",
    "apple['platform'] = 'apple'\n",
    "apple\n",
    "\n",
    "google['platform'] = 'google'\n",
    "google\n"
   ]
  },
  {
   "cell_type": "markdown",
   "metadata": {
    "colab_type": "text",
    "id": "EJcry17IFcvS"
   },
   "source": [
    "### 2c. Changing the column names to prepare for our join of the two datasets \n",
    "Since the easiest way to join two datasets is if they have both:\n",
    "- the same number of columns\n",
    "- the same column names\n",
    "we need to rename the columns of `Apple` so that they're the same as the ones of `Google`, or vice versa.\n",
    "\n",
    "In this case, we're going to change the `Apple` columns names to the names of the `Google` columns. \n",
    "\n",
    "This is an important step to unify the two datasets!"
   ]
  },
  {
   "cell_type": "code",
   "execution_count": 264,
   "metadata": {
    "colab": {},
    "colab_type": "code",
    "id": "bdt9XH2KFcvT"
   },
   "outputs": [
    {
     "name": "stdout",
     "output_type": "stream",
     "text": [
      "Index(['prime_genre', 'user_rating', 'rating_count_tot', 'price', 'platform'], dtype='object') Index(['Category', 'Rating', 'Reviews', 'Price', 'platform'], dtype='object')\n"
     ]
    },
    {
     "data": {
      "text/html": [
       "<div>\n",
       "<style scoped>\n",
       "    .dataframe tbody tr th:only-of-type {\n",
       "        vertical-align: middle;\n",
       "    }\n",
       "\n",
       "    .dataframe tbody tr th {\n",
       "        vertical-align: top;\n",
       "    }\n",
       "\n",
       "    .dataframe thead th {\n",
       "        text-align: right;\n",
       "    }\n",
       "</style>\n",
       "<table border=\"1\" class=\"dataframe\">\n",
       "  <thead>\n",
       "    <tr style=\"text-align: right;\">\n",
       "      <th></th>\n",
       "      <th>Category</th>\n",
       "      <th>Rating</th>\n",
       "      <th>Reviews</th>\n",
       "      <th>Price</th>\n",
       "      <th>platform</th>\n",
       "    </tr>\n",
       "  </thead>\n",
       "  <tbody>\n",
       "    <tr>\n",
       "      <th>0</th>\n",
       "      <td>Games</td>\n",
       "      <td>4.0</td>\n",
       "      <td>21292</td>\n",
       "      <td>3.99</td>\n",
       "      <td>apple</td>\n",
       "    </tr>\n",
       "    <tr>\n",
       "      <th>1</th>\n",
       "      <td>Productivity</td>\n",
       "      <td>4.0</td>\n",
       "      <td>161065</td>\n",
       "      <td>0.00</td>\n",
       "      <td>apple</td>\n",
       "    </tr>\n",
       "    <tr>\n",
       "      <th>2</th>\n",
       "      <td>Weather</td>\n",
       "      <td>3.5</td>\n",
       "      <td>188583</td>\n",
       "      <td>0.00</td>\n",
       "      <td>apple</td>\n",
       "    </tr>\n",
       "    <tr>\n",
       "      <th>3</th>\n",
       "      <td>Shopping</td>\n",
       "      <td>4.0</td>\n",
       "      <td>262241</td>\n",
       "      <td>0.00</td>\n",
       "      <td>apple</td>\n",
       "    </tr>\n",
       "    <tr>\n",
       "      <th>4</th>\n",
       "      <td>Reference</td>\n",
       "      <td>4.5</td>\n",
       "      <td>985920</td>\n",
       "      <td>0.00</td>\n",
       "      <td>apple</td>\n",
       "    </tr>\n",
       "    <tr>\n",
       "      <th>...</th>\n",
       "      <td>...</td>\n",
       "      <td>...</td>\n",
       "      <td>...</td>\n",
       "      <td>...</td>\n",
       "      <td>...</td>\n",
       "    </tr>\n",
       "    <tr>\n",
       "      <th>7192</th>\n",
       "      <td>Games</td>\n",
       "      <td>4.5</td>\n",
       "      <td>142</td>\n",
       "      <td>0.00</td>\n",
       "      <td>apple</td>\n",
       "    </tr>\n",
       "    <tr>\n",
       "      <th>7193</th>\n",
       "      <td>Games</td>\n",
       "      <td>4.5</td>\n",
       "      <td>30</td>\n",
       "      <td>0.00</td>\n",
       "      <td>apple</td>\n",
       "    </tr>\n",
       "    <tr>\n",
       "      <th>7194</th>\n",
       "      <td>Utilities</td>\n",
       "      <td>4.5</td>\n",
       "      <td>15</td>\n",
       "      <td>1.99</td>\n",
       "      <td>apple</td>\n",
       "    </tr>\n",
       "    <tr>\n",
       "      <th>7195</th>\n",
       "      <td>Games</td>\n",
       "      <td>4.5</td>\n",
       "      <td>85</td>\n",
       "      <td>0.00</td>\n",
       "      <td>apple</td>\n",
       "    </tr>\n",
       "    <tr>\n",
       "      <th>7196</th>\n",
       "      <td>Games</td>\n",
       "      <td>5.0</td>\n",
       "      <td>3</td>\n",
       "      <td>0.00</td>\n",
       "      <td>apple</td>\n",
       "    </tr>\n",
       "  </tbody>\n",
       "</table>\n",
       "<p>7197 rows × 5 columns</p>\n",
       "</div>"
      ],
      "text/plain": [
       "          Category  Rating  Reviews  Price platform\n",
       "0            Games     4.0    21292   3.99    apple\n",
       "1     Productivity     4.0   161065   0.00    apple\n",
       "2          Weather     3.5   188583   0.00    apple\n",
       "3         Shopping     4.0   262241   0.00    apple\n",
       "4        Reference     4.5   985920   0.00    apple\n",
       "...            ...     ...      ...    ...      ...\n",
       "7192         Games     4.5      142   0.00    apple\n",
       "7193         Games     4.5       30   0.00    apple\n",
       "7194     Utilities     4.5       15   1.99    apple\n",
       "7195         Games     4.5       85   0.00    apple\n",
       "7196         Games     5.0        3   0.00    apple\n",
       "\n",
       "[7197 rows x 5 columns]"
      ]
     },
     "execution_count": 264,
     "metadata": {},
     "output_type": "execute_result"
    }
   ],
   "source": [
    "# Create a variable called old_names where you'll store the column names of the Apple dataframe. \n",
    "# Use the feature .columns.\n",
    "old_names = apple.columns\n",
    "old_names\n",
    "\n",
    "# Create a variable called new_names where you'll store the column names of the Google dataframe. \n",
    "new_names = google.columns\n",
    "print(old_names, new_names)\n",
    "\n",
    "# Use the rename() DataFrame method to change the columns names. \n",
    "\n",
    "name_dict = {old_names[i]: new_names[i] for i in range(len(old_names))}\n",
    "name_dict\n",
    "\n",
    "apple = apple.rename(columns = name_dict)\n",
    "\n",
    "apple"
   ]
  },
  {
   "cell_type": "markdown",
   "metadata": {
    "colab_type": "text",
    "id": "qewPiLrRFcvX"
   },
   "source": [
    "### 2d. Join the two datasets \n",
    "Let's combine the two datasets into a single data frame called `df`."
   ]
  },
  {
   "cell_type": "code",
   "execution_count": 265,
   "metadata": {
    "colab": {},
    "colab_type": "code",
    "id": "jq6fGfvyFcvY"
   },
   "outputs": [
    {
     "data": {
      "text/html": [
       "<div>\n",
       "<style scoped>\n",
       "    .dataframe tbody tr th:only-of-type {\n",
       "        vertical-align: middle;\n",
       "    }\n",
       "\n",
       "    .dataframe tbody tr th {\n",
       "        vertical-align: top;\n",
       "    }\n",
       "\n",
       "    .dataframe thead th {\n",
       "        text-align: right;\n",
       "    }\n",
       "</style>\n",
       "<table border=\"1\" class=\"dataframe\">\n",
       "  <thead>\n",
       "    <tr style=\"text-align: right;\">\n",
       "      <th></th>\n",
       "      <th>Category</th>\n",
       "      <th>Rating</th>\n",
       "      <th>Reviews</th>\n",
       "      <th>Price</th>\n",
       "      <th>platform</th>\n",
       "    </tr>\n",
       "  </thead>\n",
       "  <tbody>\n",
       "    <tr>\n",
       "      <th>10778</th>\n",
       "      <td>FAMILY</td>\n",
       "      <td>4.0</td>\n",
       "      <td>939</td>\n",
       "      <td>0.00</td>\n",
       "      <td>google</td>\n",
       "    </tr>\n",
       "    <tr>\n",
       "      <th>5013</th>\n",
       "      <td>Games</td>\n",
       "      <td>4.5</td>\n",
       "      <td>62</td>\n",
       "      <td>0.00</td>\n",
       "      <td>apple</td>\n",
       "    </tr>\n",
       "    <tr>\n",
       "      <th>7641</th>\n",
       "      <td>MAPS_AND_NAVIGATION</td>\n",
       "      <td>3.4</td>\n",
       "      <td>168</td>\n",
       "      <td>0.00</td>\n",
       "      <td>google</td>\n",
       "    </tr>\n",
       "    <tr>\n",
       "      <th>544</th>\n",
       "      <td>Games</td>\n",
       "      <td>4.5</td>\n",
       "      <td>32527</td>\n",
       "      <td>0.00</td>\n",
       "      <td>apple</td>\n",
       "    </tr>\n",
       "    <tr>\n",
       "      <th>2168</th>\n",
       "      <td>Games</td>\n",
       "      <td>4.5</td>\n",
       "      <td>2347</td>\n",
       "      <td>2.99</td>\n",
       "      <td>apple</td>\n",
       "    </tr>\n",
       "    <tr>\n",
       "      <th>4349</th>\n",
       "      <td>Games</td>\n",
       "      <td>4.5</td>\n",
       "      <td>342</td>\n",
       "      <td>4.99</td>\n",
       "      <td>apple</td>\n",
       "    </tr>\n",
       "    <tr>\n",
       "      <th>1468</th>\n",
       "      <td>Games</td>\n",
       "      <td>4.5</td>\n",
       "      <td>10748</td>\n",
       "      <td>2.99</td>\n",
       "      <td>apple</td>\n",
       "    </tr>\n",
       "    <tr>\n",
       "      <th>8402</th>\n",
       "      <td>FAMILY</td>\n",
       "      <td>3.0</td>\n",
       "      <td>4</td>\n",
       "      <td>0.00</td>\n",
       "      <td>google</td>\n",
       "    </tr>\n",
       "    <tr>\n",
       "      <th>7812</th>\n",
       "      <td>GAME</td>\n",
       "      <td>4.5</td>\n",
       "      <td>299046</td>\n",
       "      <td>0.00</td>\n",
       "      <td>google</td>\n",
       "    </tr>\n",
       "    <tr>\n",
       "      <th>2535</th>\n",
       "      <td>Games</td>\n",
       "      <td>4.5</td>\n",
       "      <td>10849</td>\n",
       "      <td>0.00</td>\n",
       "      <td>apple</td>\n",
       "    </tr>\n",
       "    <tr>\n",
       "      <th>4695</th>\n",
       "      <td>Games</td>\n",
       "      <td>4.5</td>\n",
       "      <td>2645</td>\n",
       "      <td>0.00</td>\n",
       "      <td>apple</td>\n",
       "    </tr>\n",
       "    <tr>\n",
       "      <th>5074</th>\n",
       "      <td>Games</td>\n",
       "      <td>5.0</td>\n",
       "      <td>21</td>\n",
       "      <td>3.99</td>\n",
       "      <td>apple</td>\n",
       "    </tr>\n",
       "  </tbody>\n",
       "</table>\n",
       "</div>"
      ],
      "text/plain": [
       "                  Category  Rating  Reviews  Price platform\n",
       "10778               FAMILY     4.0      939   0.00   google\n",
       "5013                 Games     4.5       62   0.00    apple\n",
       "7641   MAPS_AND_NAVIGATION     3.4      168   0.00   google\n",
       "544                  Games     4.5    32527   0.00    apple\n",
       "2168                 Games     4.5     2347   2.99    apple\n",
       "4349                 Games     4.5      342   4.99    apple\n",
       "1468                 Games     4.5    10748   2.99    apple\n",
       "8402                FAMILY     3.0        4   0.00   google\n",
       "7812                  GAME     4.5   299046   0.00   google\n",
       "2535                 Games     4.5    10849   0.00    apple\n",
       "4695                 Games     4.5     2645   0.00    apple\n",
       "5074                 Games     5.0       21   3.99    apple"
      ]
     },
     "execution_count": 265,
     "metadata": {},
     "output_type": "execute_result"
    }
   ],
   "source": [
    "# Let's use the append() method to append Apple to Google. \n",
    "df = google.append(apple)\n",
    "\n",
    "# Using the sample() method with the number 12 passed to it, check 12 random points of your dataset.\n",
    "df.sample(12)"
   ]
  },
  {
   "cell_type": "markdown",
   "metadata": {
    "colab_type": "text",
    "id": "FjqsHugWFcvb"
   },
   "source": [
    "### 2e. Eliminate the NaN values\n",
    "\n",
    "As you can see there are some `NaN` values. We want to eliminate all these `NaN` values from the table."
   ]
  },
  {
   "cell_type": "code",
   "execution_count": 266,
   "metadata": {
    "colab": {},
    "colab_type": "code",
    "id": "Gp2q6GLyFcvb"
   },
   "outputs": [
    {
     "name": "stdout",
     "output_type": "stream",
     "text": [
      "(18037, 5)\n",
      "(16563, 5)\n"
     ]
    },
    {
     "data": {
      "text/plain": [
       "Category    0\n",
       "Rating      0\n",
       "Reviews     0\n",
       "Price       0\n",
       "platform    0\n",
       "dtype: int64"
      ]
     },
     "execution_count": 266,
     "metadata": {},
     "output_type": "execute_result"
    }
   ],
   "source": [
    "# Lets check first the dimesions of df before droping `NaN` values. Use the .shape feature. \n",
    "print(df.shape)\n",
    "\n",
    "# Use the dropna() method to eliminate all the NaN values, and overwrite the same dataframe with the result. \n",
    "\n",
    "df.isna().sum()\n",
    "#df.info\n",
    "df[df.Rating.isna()]\n",
    "df = df.dropna()\n",
    "\n",
    "# Check the new dimesions of our dataframe. \n",
    "print(df.shape)\n",
    "df.isna().sum()\n"
   ]
  },
  {
   "cell_type": "markdown",
   "metadata": {
    "colab_type": "text",
    "id": "qtfeQKtAFcvd"
   },
   "source": [
    "### 2f. Filter the data so that we only see whose apps that have been reviewed at least once\n",
    "\n",
    "Apps that haven't been reviewed yet can't help us solve our brief. \n",
    "\n",
    "So let's check to see if any apps have no reviews at all. "
   ]
  },
  {
   "cell_type": "code",
   "execution_count": 267,
   "metadata": {
    "colab": {},
    "colab_type": "code",
    "id": "Ge9OKXLNFcvd"
   },
   "outputs": [
    {
     "data": {
      "text/plain": [
       "Category    929\n",
       "Rating      929\n",
       "Reviews     929\n",
       "Price       929\n",
       "platform    929\n",
       "dtype: int64"
      ]
     },
     "execution_count": 267,
     "metadata": {},
     "output_type": "execute_result"
    }
   ],
   "source": [
    "# Subset your df to pick out just those rows whose value for 'Reviews' is equal to 0. \n",
    "# Do a count() on the result. \n",
    "df[df.Reviews == 0].count()"
   ]
  },
  {
   "cell_type": "markdown",
   "metadata": {
    "colab_type": "text",
    "id": "05f7H0kAFcvg"
   },
   "source": [
    "929 apps do not have reviews, we need to eliminate these points!"
   ]
  },
  {
   "cell_type": "code",
   "execution_count": 268,
   "metadata": {
    "colab": {},
    "colab_type": "code",
    "id": "pD8vmPjkFcvg"
   },
   "outputs": [
    {
     "data": {
      "text/plain": [
       "Category    15634\n",
       "Rating      15634\n",
       "Reviews     15634\n",
       "Price       15634\n",
       "platform    15634\n",
       "dtype: int64"
      ]
     },
     "execution_count": 268,
     "metadata": {},
     "output_type": "execute_result"
    }
   ],
   "source": [
    "# Eliminate the points that have 0 reviews.\n",
    "df = df[df.Reviews != 0]\n",
    "\n",
    "df.count()"
   ]
  },
  {
   "cell_type": "markdown",
   "metadata": {
    "colab_type": "text",
    "id": "ApnKES_bFcvi"
   },
   "source": [
    "### 2g. Summarize the data visually and analytically (by the column `platform`)"
   ]
  },
  {
   "cell_type": "markdown",
   "metadata": {
    "colab_type": "text",
    "id": "2smt9UocFcvj"
   },
   "source": [
    "What we need to solve our brief is a summary of the `Rating` column, but separated by the different platforms."
   ]
  },
  {
   "cell_type": "code",
   "execution_count": 269,
   "metadata": {
    "colab": {},
    "colab_type": "code",
    "id": "Vqckt347Fcvj"
   },
   "outputs": [
    {
     "data": {
      "text/html": [
       "<div>\n",
       "<style scoped>\n",
       "    .dataframe tbody tr th:only-of-type {\n",
       "        vertical-align: middle;\n",
       "    }\n",
       "\n",
       "    .dataframe tbody tr th {\n",
       "        vertical-align: top;\n",
       "    }\n",
       "\n",
       "    .dataframe thead th {\n",
       "        text-align: right;\n",
       "    }\n",
       "</style>\n",
       "<table border=\"1\" class=\"dataframe\">\n",
       "  <thead>\n",
       "    <tr style=\"text-align: right;\">\n",
       "      <th></th>\n",
       "      <th>Rating</th>\n",
       "      <th>Reviews</th>\n",
       "      <th>Price</th>\n",
       "    </tr>\n",
       "    <tr>\n",
       "      <th>platform</th>\n",
       "      <th></th>\n",
       "      <th></th>\n",
       "      <th></th>\n",
       "    </tr>\n",
       "  </thead>\n",
       "  <tbody>\n",
       "    <tr>\n",
       "      <th>apple</th>\n",
       "      <td>4.049697</td>\n",
       "      <td>14803.805520</td>\n",
       "      <td>1.821977</td>\n",
       "    </tr>\n",
       "    <tr>\n",
       "      <th>google</th>\n",
       "      <td>4.191757</td>\n",
       "      <td>514049.836536</td>\n",
       "      <td>0.960928</td>\n",
       "    </tr>\n",
       "  </tbody>\n",
       "</table>\n",
       "</div>"
      ],
      "text/plain": [
       "            Rating        Reviews     Price\n",
       "platform                                   \n",
       "apple     4.049697   14803.805520  1.821977\n",
       "google    4.191757  514049.836536  0.960928"
      ]
     },
     "execution_count": 269,
     "metadata": {},
     "output_type": "execute_result"
    }
   ],
   "source": [
    "# To summarize analytically, let's use the groupby() method on our df.\n",
    "df.groupby(['platform']).mean()"
   ]
  },
  {
   "cell_type": "markdown",
   "metadata": {
    "colab_type": "text",
    "id": "8f9TqMtKFcvl"
   },
   "source": [
    "Interesting! Our means of 4.049697 and 4.191757 don't **seem** all that different! Perhaps we've solved our brief already: there's no significant difference between Google Play app reviews and Apple Store app reviews. We have an ***observed difference*** here: which is simply (4.191757 - 4.049697) = 0.14206. This is just the actual difference that we observed between the mean rating for apps from Google Play, and the mean rating for apps from the Apple Store. Let's look at how we're going to use this observed difference to solve our problem using a statistical test. \n",
    "\n",
    "**Outline of our method:**\n",
    "1. We'll assume that platform (i.e, whether the app was Google or Apple) really doesn’t impact on ratings. \n",
    "\n",
    "\n",
    "2. Given this assumption, we should actually be able to get a difference in mean rating for Apple apps and mean rating for Google apps that's pretty similar to the one we actually got (0.14206) just by: \n",
    "a. shuffling the ratings column, \n",
    "b. keeping the platform column the same,\n",
    "c. calculating the difference between the mean rating for Apple and the mean rating for Google. \n",
    "\n",
    "\n",
    "3. We can make the shuffle more useful by doing it many times, each time calculating the mean rating for Apple apps and the mean rating for Google apps, and the difference between these means. \n",
    "\n",
    "\n",
    "4. We can then take the mean of all these differences, and this will be called our permutation difference. This permutation difference will be great indicator of what the difference would be if our initial assumption were true and platform really doesn’t impact on ratings. \n",
    "\n",
    "\n",
    "5. Now we do a comparison. If the observed difference looks just like the permutation difference, then we stick with the claim that actually, platform doesn’t impact on ratings. If instead, however, the permutation difference differs significantly from the observed difference, we'll conclude: something's going on; the platform does in fact impact on ratings. \n",
    "\n",
    "\n",
    "6. As for what the definition of *significantly* is, we'll get to that. But there’s a brief summary of what we're going to do. Exciting!\n",
    "\n",
    "If you want to look more deeply at the statistics behind this project, check out [this resource](https://www.springboard.com/archeio/download/4ea4d453b0b84014bcef287c50f47f00/)."
   ]
  },
  {
   "cell_type": "markdown",
   "metadata": {
    "colab_type": "text",
    "id": "d6EhTxArFcvm"
   },
   "source": [
    "Let's also get a **visual summary** of the `Rating` column, separated by the different platforms. \n",
    "\n",
    "A good tool to use here is the boxplot!"
   ]
  },
  {
   "cell_type": "code",
   "execution_count": 270,
   "metadata": {
    "colab": {},
    "colab_type": "code",
    "id": "hFKjrlWgFcvm"
   },
   "outputs": [
    {
     "data": {
      "text/plain": [
       "<AxesSubplot:>"
      ]
     },
     "execution_count": 270,
     "metadata": {},
     "output_type": "execute_result"
    },
    {
     "data": {
      "image/png": "[encoded data removed]",
      "text/plain": [
       "<Figure size 432x288 with 1 Axes>"
      ]
     },
     "metadata": {
      "needs_background": "light"
     },
     "output_type": "display_data"
    }
   ],
   "source": [
    "# Call the boxplot() method on our df.\n",
    "df.boxplot(['Rating'])"
   ]
  },
  {
   "cell_type": "markdown",
   "metadata": {
    "colab_type": "text",
    "id": "FqTlAjnmFcvo"
   },
   "source": [
    "Here we see the same information as in the analytical summary, but with a boxplot. Can you see how the boxplot is working here? If you need to revise your boxplots, check out this this [link](https://www.kaggle.com/ramamet4/app-store-apple-data-set-10k-apps). "
   ]
  },
  {
   "cell_type": "markdown",
   "metadata": {
    "colab_type": "text",
    "id": "O8L-s1fgFcvp"
   },
   "source": [
    "## Stage 3 - Modelling"
   ]
  },
  {
   "cell_type": "markdown",
   "metadata": {
    "colab_type": "text",
    "id": "5fbRq2MZFcvq"
   },
   "source": [
    "### 3a. Hypothesis formulation\n",
    "\n",
    "Our **Null hypothesis** is just:\n",
    "\n",
    "**H<sub>null</sub>**: the observed difference in the mean rating of Apple Store and Google Play apps is due to chance (and thus not due to the platform).\n",
    "\n",
    "The more interesting hypothesis is called the **Alternate hypothesis**:\n",
    "\n",
    "**H<sub>alternative</sub>**: the observed difference in the average ratings of apple and google users is not due to chance (and is actually due to platform)\n",
    "\n",
    "We're also going to pick a **significance level** of 0.05. "
   ]
  },
  {
   "cell_type": "markdown",
   "metadata": {
    "colab_type": "text",
    "id": "TjBqkabaFcvq"
   },
   "source": [
    "### 3b. Getting the distribution of the data\n",
    "Now that the hypotheses and significance level are defined, we can select a statistical test to determine which hypothesis to accept. \n",
    "\n",
    "There are many different statistical tests, all with different assumptions. You'll generate an excellent judgement about when to use which statistical tests over the Data Science Career Track course. But in general, one of the most important things to determine is the **distribution of the data**.   "
   ]
  },
  {
   "cell_type": "code",
   "execution_count": 271,
   "metadata": {
    "colab": {},
    "colab_type": "code",
    "id": "bFwVhkeWFcvr"
   },
   "outputs": [
    {
     "data": {
      "text/plain": [
       "0       4.0\n",
       "1       4.0\n",
       "2       3.5\n",
       "3       4.0\n",
       "4       4.5\n",
       "       ... \n",
       "7192    4.5\n",
       "7193    4.5\n",
       "7194    4.5\n",
       "7195    4.5\n",
       "7196    5.0\n",
       "Name: Rating, Length: 6268, dtype: float64"
      ]
     },
     "execution_count": 271,
     "metadata": {},
     "output_type": "execute_result"
    }
   ],
   "source": [
    "# Create a subset of the column 'Rating' by the different platforms.\n",
    "# Call the subsets 'apple' and 'google' \n",
    "\n",
    "\n",
    "google = df[df.platform == 'google'].Rating\n",
    "apple = df[df.platform == 'apple'].Rating\n",
    "apple"
   ]
  },
  {
   "cell_type": "code",
   "execution_count": 272,
   "metadata": {},
   "outputs": [
    {
     "data": {
      "text/plain": [
       "count    6268.000000\n",
       "mean        4.049697\n",
       "std         0.726943\n",
       "min         1.000000\n",
       "25%         4.000000\n",
       "50%         4.500000\n",
       "75%         4.500000\n",
       "max         5.000000\n",
       "Name: Rating, dtype: float64"
      ]
     },
     "execution_count": 272,
     "metadata": {},
     "output_type": "execute_result"
    }
   ],
   "source": [
    "apple.describe()"
   ]
  },
  {
   "cell_type": "code",
   "execution_count": 273,
   "metadata": {
    "colab": {},
    "colab_type": "code",
    "id": "oPPFpwPvFcvu"
   },
   "outputs": [
    {
     "name": "stdout",
     "output_type": "stream",
     "text": [
      "NormaltestResult(statistic=1778.9974234584017, pvalue=0.0)\n"
     ]
    }
   ],
   "source": [
    "# Using the stats.normaltest() method, get an indication of whether the apple data are normally distributed\n",
    "# Save the result in a variable called apple_normal, and print it out\n",
    "apple_normal = stats.normaltest(apple)\n",
    "print(apple_normal)\n"
   ]
  },
  {
   "cell_type": "code",
   "execution_count": 274,
   "metadata": {
    "colab": {},
    "colab_type": "code",
    "id": "rCdh8a8KFcvw"
   },
   "outputs": [
    {
     "name": "stdout",
     "output_type": "stream",
     "text": [
      "NormaltestResult(statistic=3678.6157187516856, pvalue=0.0)\n"
     ]
    }
   ],
   "source": [
    "# Do the same with the google data. \n",
    "google_normal = stats.normaltest(google)\n",
    "print(google_normal)"
   ]
  },
  {
   "cell_type": "markdown",
   "metadata": {
    "colab_type": "text",
    "id": "9gDqu21yFcv0"
   },
   "source": [
    "Since the null hypothesis of the normaltest() is that the data are normally distributed, the lower the p-value in the result of this test, the more likely the data are to be non-normal. \n",
    "\n",
    "Since the p-values is 0 for both tests, regardless of what we pick for the significance level, our conclusion is that the data are not normally distributed. \n",
    "\n",
    "We can actually also check out the distribution of the data visually with a histogram. A normal distribution has the following visual characteristics:\n",
    "    - symmetric\n",
    "    - unimodal (one hump)\n",
    "As well as a roughly identical mean, median and mode. "
   ]
  },
  {
   "cell_type": "code",
   "execution_count": 275,
   "metadata": {
    "colab": {},
    "colab_type": "code",
    "id": "P9tT9RjNFcv1"
   },
   "outputs": [
    {
     "data": {
      "image/png": "[encoded data removed]",
      "text/plain": [
       "<Figure size 432x288 with 1 Axes>"
      ]
     },
     "metadata": {
      "needs_background": "light"
     },
     "output_type": "display_data"
    }
   ],
   "source": [
    "# Create a histogram of the apple reviews distribution\n",
    "_= plt.hist(apple)"
   ]
  },
  {
   "cell_type": "code",
   "execution_count": 276,
   "metadata": {
    "colab": {},
    "colab_type": "code",
    "id": "8dE1uC5iFcv2"
   },
   "outputs": [
    {
     "data": {
      "image/png": "[encoded data removed]",
      "text/plain": [
       "<Figure size 432x288 with 1 Axes>"
      ]
     },
     "metadata": {
      "needs_background": "light"
     },
     "output_type": "display_data"
    }
   ],
   "source": [
    "# Create a histogram of the google data\n",
    "_= plt.hist(google)"
   ]
  },
  {
   "cell_type": "markdown",
   "metadata": {
    "colab_type": "text",
    "id": "QhZV89FzFcv5"
   },
   "source": [
    "### 3c. Permutation test\n",
    "Since the data aren't normally distributed, we're using a *non-parametric* test here. This is simply a label for statistical tests used when the data aren't normally distributed. These tests are extraordinarily powerful due to how few assumptions we need to make.  \n",
    "\n",
    "Check out more about permutations [here.](http://rasbt.github.io/mlxtend/user_guide/evaluate/permutation_test/)"
   ]
  },
  {
   "cell_type": "code",
   "execution_count": 293,
   "metadata": {
    "colab": {},
    "colab_type": "code",
    "id": "bxNhQgpqFcv6"
   },
   "outputs": [
    {
     "data": {
      "text/html": [
       "<div>\n",
       "<style scoped>\n",
       "    .dataframe tbody tr th:only-of-type {\n",
       "        vertical-align: middle;\n",
       "    }\n",
       "\n",
       "    .dataframe tbody tr th {\n",
       "        vertical-align: top;\n",
       "    }\n",
       "\n",
       "    .dataframe thead th {\n",
       "        text-align: right;\n",
       "    }\n",
       "</style>\n",
       "<table border=\"1\" class=\"dataframe\">\n",
       "  <thead>\n",
       "    <tr style=\"text-align: right;\">\n",
       "      <th></th>\n",
       "      <th>count</th>\n",
       "      <th>mean</th>\n",
       "      <th>std</th>\n",
       "      <th>min</th>\n",
       "      <th>25%</th>\n",
       "      <th>50%</th>\n",
       "      <th>75%</th>\n",
       "      <th>max</th>\n",
       "    </tr>\n",
       "    <tr>\n",
       "      <th>platform</th>\n",
       "      <th></th>\n",
       "      <th></th>\n",
       "      <th></th>\n",
       "      <th></th>\n",
       "      <th></th>\n",
       "      <th></th>\n",
       "      <th></th>\n",
       "      <th></th>\n",
       "    </tr>\n",
       "  </thead>\n",
       "  <tbody>\n",
       "    <tr>\n",
       "      <th>apple</th>\n",
       "      <td>6268.0</td>\n",
       "      <td>4.129994</td>\n",
       "      <td>0.617654</td>\n",
       "      <td>1.0</td>\n",
       "      <td>4.0</td>\n",
       "      <td>4.3</td>\n",
       "      <td>4.5</td>\n",
       "      <td>5.0</td>\n",
       "    </tr>\n",
       "    <tr>\n",
       "      <th>google</th>\n",
       "      <td>9366.0</td>\n",
       "      <td>4.138020</td>\n",
       "      <td>0.609798</td>\n",
       "      <td>1.0</td>\n",
       "      <td>4.0</td>\n",
       "      <td>4.3</td>\n",
       "      <td>4.5</td>\n",
       "      <td>5.0</td>\n",
       "    </tr>\n",
       "  </tbody>\n",
       "</table>\n",
       "</div>"
      ],
      "text/plain": [
       "           count      mean       std  min  25%  50%  75%  max\n",
       "platform                                                     \n",
       "apple     6268.0  4.129994  0.617654  1.0  4.0  4.3  4.5  5.0\n",
       "google    9366.0  4.138020  0.609798  1.0  4.0  4.3  4.5  5.0"
      ]
     },
     "execution_count": 293,
     "metadata": {},
     "output_type": "execute_result"
    }
   ],
   "source": [
    "# Create a column called `Permutation1`, and assign to it the result of permuting (shuffling) the Rating column\n",
    "# This assignment will use our numpy object's random.permutation() method\n",
    "df['Permutation1'] = np.random.permutation(df.Rating)\n",
    "\n",
    "# Call the describe() method on our permutation grouped by 'platform'. \n",
    "\n",
    "\n",
    "\n",
    "df.groupby(['platform']).Permutation1.describe()"
   ]
  },
  {
   "cell_type": "code",
   "execution_count": 278,
   "metadata": {
    "colab": {},
    "colab_type": "code",
    "id": "AaGNfPGTFcv7"
   },
   "outputs": [
    {
     "data": {
      "text/html": [
       "<div>\n",
       "<style scoped>\n",
       "    .dataframe tbody tr th:only-of-type {\n",
       "        vertical-align: middle;\n",
       "    }\n",
       "\n",
       "    .dataframe tbody tr th {\n",
       "        vertical-align: top;\n",
       "    }\n",
       "\n",
       "    .dataframe thead th {\n",
       "        text-align: right;\n",
       "    }\n",
       "</style>\n",
       "<table border=\"1\" class=\"dataframe\">\n",
       "  <thead>\n",
       "    <tr style=\"text-align: right;\">\n",
       "      <th></th>\n",
       "      <th>count</th>\n",
       "      <th>mean</th>\n",
       "      <th>std</th>\n",
       "      <th>min</th>\n",
       "      <th>25%</th>\n",
       "      <th>50%</th>\n",
       "      <th>75%</th>\n",
       "      <th>max</th>\n",
       "    </tr>\n",
       "    <tr>\n",
       "      <th>platform</th>\n",
       "      <th></th>\n",
       "      <th></th>\n",
       "      <th></th>\n",
       "      <th></th>\n",
       "      <th></th>\n",
       "      <th></th>\n",
       "      <th></th>\n",
       "      <th></th>\n",
       "    </tr>\n",
       "  </thead>\n",
       "  <tbody>\n",
       "    <tr>\n",
       "      <th>apple</th>\n",
       "      <td>6268.0</td>\n",
       "      <td>4.049697</td>\n",
       "      <td>0.726943</td>\n",
       "      <td>1.0</td>\n",
       "      <td>4.0</td>\n",
       "      <td>4.5</td>\n",
       "      <td>4.5</td>\n",
       "      <td>5.0</td>\n",
       "    </tr>\n",
       "    <tr>\n",
       "      <th>google</th>\n",
       "      <td>9366.0</td>\n",
       "      <td>4.191757</td>\n",
       "      <td>0.515219</td>\n",
       "      <td>1.0</td>\n",
       "      <td>4.0</td>\n",
       "      <td>4.3</td>\n",
       "      <td>4.5</td>\n",
       "      <td>5.0</td>\n",
       "    </tr>\n",
       "  </tbody>\n",
       "</table>\n",
       "</div>"
      ],
      "text/plain": [
       "           count      mean       std  min  25%  50%  75%  max\n",
       "platform                                                     \n",
       "apple     6268.0  4.049697  0.726943  1.0  4.0  4.5  4.5  5.0\n",
       "google    9366.0  4.191757  0.515219  1.0  4.0  4.3  4.5  5.0"
      ]
     },
     "execution_count": 278,
     "metadata": {},
     "output_type": "execute_result"
    }
   ],
   "source": [
    "# Lets compare with the previous analytical summary:\n",
    "df.groupby(['platform']).Rating.describe()"
   ]
  },
  {
   "cell_type": "code",
   "execution_count": 281,
   "metadata": {
    "colab": {},
    "colab_type": "code",
    "id": "aJPNpX0JFcv-"
   },
   "outputs": [
    {
     "name": "stdout",
     "output_type": "stream",
     "text": [
      "[-0.0010542790723722106, -0.0023059346076683696, 0.013273182161273489, -0.0006814455086807669, 0.0021414371879036054, 0.0038191882245781628, 0.004804534071489286, -0.008058223876214576, -0.0044630430833692, -0.004329888239201551, -0.008084854845047396, 0.0001441145252139009, 0.008186667113655233, 0.017347720393150468, 0.00501758182218115, 0.00219469912557102, -0.0068864612474133224, 0.007867095487619657, 0.0006501029331262842, -0.010188701383055054, -0.0069929851227703566, 0.02432503422812715, 0.021155948936668167, -0.039163195476422, -0.008537581315252396, 0.00491105794683655, -0.0077652832190171495, -0.0035842211118062295, -0.003877161768991222, 0.000916412621476681, -0.008644105190605877, 0.006082820575612047, -0.003051601735070797, -0.024169960021884762, -0.009363141349147064, -0.001533636511428682, -0.012478964702943074, 0.0027805804399632095, 0.002354484938600798, -0.0008678622905433642, 0.011781847906471299, -0.020148683727652106, 0.004591486320803639, 0.0035262475673629723, 0.012207943407834598, -0.015967621620432304, 0.002088175250223756, -0.02209274445266729, -0.0028119230155478903, -0.004676090834036195, -0.002305934607639948, 0.005683356043062915, 0.006668701889988249, -0.001507005542591422, 0.008053512269463603, 0.01471125447841537, 0.003339830785520803, -0.005182079241914828, 0.010929656903738483, 0.016389005515075716, -0.0027586610778866927, -0.005714698618657366, 0.007148059329057155, -0.004942400522423895, 0.008772548428033211, -0.01719264618688321, 0.014125373164036503, 0.012527515033873726, -0.006353841870708088, 0.008106774207143452, -0.01000228460121022, -0.006992985122756146, -0.010428380102600165, 0.005550201198906812, 0.008293190988997168, 0.017347720393162902, -0.005847853462836561, -0.014476287365623008, -0.0004151358203303701, 0.009358429742412966, -0.0014271126360911879, 0.005656725074248747, 0.008080143238280435, 0.008293190988979404, -0.003424435298783557, -0.017192646186884097, 0.0005435790577656974, 0.007867095487614328, 0.005656725074230984, -0.0009743861658657593, 0.006695332858846825, -0.009070200691965624, -0.00936314134916394, 0.007547523861589411, -0.007392449655315048, -0.0035575901429494294, -0.0024124584830156337, 0.018918947554452892, -0.002945077859730638, -0.008297902595730378, 0.0015289249047034659, -0.007152770935781483, -0.017645372657086433, 0.016149326795540375, -0.0028651849532268514, 0.00706816642254271, -0.012186024045760746, -0.012159393076909275, -0.01074795172861176, -0.0020928868569756176, -0.0016667913556300817, -0.0017466842621098877, 0.017640661050353224, 0.004937688915657823, -0.004143471457347836, -0.0029450778597182037, 0.001395770060505619, -0.014103453801931565, 0.0019550204060641008, -0.00275866107787337, 0.006615439952316393, 0.017427613299668465, -0.0018798391062784248, 0.010104096869806511, -0.0009211242282063381, 0.009678001368446765, 0.009731263306120397, -0.01740569393755642, -0.00880389100360901, -0.024010174208835444, 0.003126783034826275, -0.011227309167653132, -0.009762605881688202, -0.001560267480265054, 0.008932334241048778, 0.0018751274995532086, 0.010929656903727825, 0.010210620745159993, -0.020867719886217273, 0.003313199816693313, -0.0006281835710062467, -0.01647361002832959, -0.009762605881695308, 0.008000250331773096, 0.009145381991729096, -0.0002287190384624438, 0.01870589980378412, -0.0005216596956758579, 0.013086765379432208, 0.004911057946820563, -0.005767960556338103, -0.0027586610778964626, 0.007973619362956264, -0.014795858991659472, -0.005208710210757417, 0.004511593414297188, -0.019642695319769032, -0.009576189099851362, 0.009118751022898053, 0.002221330094410945, -0.008084854845034961, -0.006673413496731229, -0.0036641140183109044, -0.00017545710079058807, -0.012905060204311702, 0.005789879918409291, 0.0037659262868841026, 0.007946988394102128, -1.5671287791896304e-05, -0.0017466842621285394, 0.0013957700605091716, 0.001821865561886682, 0.005683356043083343, 0.0018218655618928992, 0.001555555873515857, -0.0012140648854002123, 0.005576832167737855, -0.0006281835710062467, 0.0016887107177003813, -0.006247317995373258, 0.001928389437223288, 0.024591343916489983, 0.008346452926646819, -0.0023059346076728104, 0.0011827223098235251, -0.0022260417011494837, -0.0010542790723819806, -0.003957054675485239, -0.006087532182350586, 0.007733940643436021, 0.007893726456442707, -0.01146698788718048, -0.00385053080014508, -0.0014004816672414933, -0.003317911423427411, 0.012021526625994206, 0.025044070386719852, 0.010397037527013708, 0.0007299958396025374, 0.006349130263989089, 0.00975789427495588, -0.004010316613128673, -0.005661436680971299, 0.00850623873965528, 0.0032865688478453947, 0.0053105224793679184, -0.01727253909341364, 0.0023544849386016864, 0.005443677323534679, 0.005550201198899707, 0.006508916076989557, 0.005363784417032669, 0.0016620797488728911, -0.014502918334470039, -0.0012140648853931069, -0.018790504317037104, 0.002088175250237967, 0.007227952235543178, -0.008218009689215933, -0.008510950346419577, -0.012798536328989307, 0.007547523861592964, 0.0013425081228364277, 0.01345959894312454, 0.0166286842345853, 0.015350397730470533, -0.014130084770754614, 0.003792557255716922, 0.0023012230009298307, 0.02262065222265708, 0.0024610088139338515, 0.011302490467416604, 0.016974886829464353, -0.007871807094360861, -0.016606764872502566, -0.0040369475819987954, -0.003211387548076594, -0.0037173759559747666, -0.0002819809761431813, -0.005448388930303416, -0.013943667988916886, 0.0024876397827995334, 0.006721963827660105, -0.004329888239190005, 0.0008098887461223114, -0.010162070414233781, -0.004276626301531472, -0.003557590142956535, 0.005443677323541785, -0.004622828896392761, -0.010162070414233781, -0.015381740306059655, 0.0032066759413407198, -0.0024124584830200746, 0.014498206727719953, -0.009789236850503258, 0.01732108942430788, -0.009629451037516112, -0.00488913858472273, 0.01236772922087681, 0.0163091126085666, 0.0032066759413407198, 0.00784046451877618, -0.0038771617689699056, 0.02437829616580256, 0.009331798773573041, 0.009704632337277808, 0.00144903199817481, 0.0028604733464723253, 0.007760571612280387, 0.0030735210971855054, -0.0021994107323317635, 0.007201321266729899, 0.005283891510530658, 0.003978974037591065, 0.006295868326294141, -0.0032646494857511144, 0.02610930914014986, -0.011360464011832327, 0.007361107079712603, 0.006508916076982452, -0.0015868984491076432, -0.015195323524197946, 0.0039523430687467, 0.004564855351954833, -0.0027053991401988498, 0.0060828205756155995, 0.0027805804399587686, -0.013011584079674066, -0.006220687026524452, -0.004542935989882757, 0.012847086659903972, -0.0023591965453562125, -0.015328478368370924, 0.0044317005077996185, 0.012953610535251237, -0.004463043083366536, 0.00022400743171946402, 0.018439590115424842, -0.003930423706668407, 0.0165221603592407, -0.01088110657279806, 0.0029936281906612905, -0.001347219729587401, -0.005102186335440351, -0.011147416261170662, -0.008297902595727713, 0.021475520562701966, 0.0055502011988881605, -9.556419429035401e-05, 0.0032333069101717626, 0.0012093532786590089, -0.025741187183183634, 0.0011028294033224029, 0.0019816513749031373, -0.0017733152309560296, 0.007520892892761921, 0.008106774207138123, -0.0006548145398364014, -0.006726675434420848, 0.00035716227592175187, -0.019562802413279456, -0.0044364121145532565, 0.008346452926644155, 0.0036860333803874212, 0.010104096869815393, 0.0005435790577497102, 0.0047246411649677356, 0.009837787181461444, 0.0008631506837852854, 0.00573661798074987, 0.0031800449725114532, 0.007440999986254582, -0.014209977677281493, 0.01415200413287998, 0.0021946991255781256, -0.0024124584830103046, 0.004351807601276292, 0.014418313821232154, -0.012026238232731856, -0.0035309591741095048, 0.002034913312560782, 0.007440999986250141, -0.0181513610649775, 0.023952200664428602, -0.010747951728627747, -0.003158125610407403, -0.023956912271200892, 0.00861276261501498, -0.003371173361091273, -0.00427662630153236, 0.005150736666355904, 0.0009963055279671451, -0.015008906742350447, 0.0027006875334540936, -0.00520871021077518, 0.033352932663485824, 0.001875127499530116, -0.005981008307002433, 0.023685890976092416, -0.00542175796146438, 0.017374351361994833, 0.005257260541694286, -0.009176724567295125, -0.002625506233695951, 0.004458331476640431, -0.004995662460090422, 0.006881749640662349, 0.007334476110889554, 0.028159893740508757, -0.012692012453637602, 0.005656725074236313, -0.01298495311081549, -0.017272539093393213, 0.0167085771410882, 0.006801856734170109, -1.5671287781238163e-05, 0.005709987011913498, -0.012931691173163173, -0.002545613327205487, -0.00022871903847754282, -0.004010316613158871, 0.014072111226349548, -0.005981008307017532, -0.009815867819358282, 0.022753807066825615, 0.002540901720457178, -0.015275216430714167, -0.020361731478344858, -0.002518982358362898, 0.0013158771540231484, 0.015350397730450993, 0.0005968409954197895, 0.0157232312941753, 0.005949665731426634, -0.0007613384151845537, 0.0196379837130376, -0.010135439445405403, -0.008058223876207471, 0.016761839078775154, 0.005869772824922848, 0.014977564166774648, -0.016979598436178023, -0.017618741688272266, 0.004298545663613318, -0.0016934223244513547, -0.011387094980693568, 0.01580312420068619, 0.0044849624454776915, -0.008324533564560532, -0.007179401904618743, 0.0029403662529832175, 0.012527515033873726, -0.006194056057708508, -0.004809245678251806, -0.007658759343664556, 0.00043705518243442043, 0.0034463546608600737, 0.004032235975235388, 0.016788470047607973, -0.0011075410100591654, -0.007712021281340853, -0.00643373477720921, 0.00437843857010467, 0.014498206727737717, 0.001768603624198839, 0.009172012960556586, -0.002172779763502497, -0.014050191864256156, -0.0030249707662326486, -0.025394984588313463, -0.0021461487946581315, -0.009363141349150617, -0.0028119230155478903, 0.0018218655618760238, -0.004809245678220719, 0.005603463136570674, -0.0011608029477239157, 0.013912325413322435, -0.004010316613158871, -0.00022871903847310193, -0.012372440827602027, 0.0051241056975319665, -0.004010316613169529, 0.002327853969742222, 0.0008365197149471371, -0.01503553771118149, 0.0028871043153309017, 0.006295868326317233, 0.004564855351971708, 0.008879072303367153, -0.0023325655765153996, -0.008910414878956274, 0.002780580439961433, 0.00025063840056915865, 0.014711254478402935, 0.007094797391374641, -0.015488264181422018, 0.0019283894372144061, 0.010183989776324509, -0.010082177507725554, 0.00041042421359893666, -0.01777852750127007, -0.014715966085157461, 0.010530192371183134, 0.010397037527010156, -0.016393717121818696, -0.0006548145398372895, 0.0029137352841415165, 0.005576832167735191, -0.00427662630152259, 0.00834645292664149, -0.002625506233700392, 0.0008897816526038937, 0.008239929051297779, -0.018417670753334114, 0.0002772693694019779, -0.011706666606702498, -0.01812473009613047, 0.011062811747914125, -0.0017733152309418188, 0.000809888746115206, 0.014391682852374466, 0.010104096869806511, 0.01449820672771196, -0.0033179114234256346, 0.007148059329057155, -0.003690744987114414, -0.0007347074463490699, 0.0025142707516083718, 0.009784525243770936, 0.011355752405087571, 0.014231897039350017, -0.011972976295081317, -0.007658759343647681, -0.023344399987964337, 0.00813340517595762, 0.0059230347626053614, 0.005843141856088252, 0.013646015724980032, -0.024596055523247173, 0.016761839078766272, -0.0013738506984077858, 0.011648693062288551, 0.0015555558735318442, -0.006939723185100277, -0.004063578550836944, -0.0003618738826833834, -0.004622828896381215, 0.02064996052880197, 0.0209162702171648, 0.015510183543475442, 0.013912325413347304, 0.006429023170469783, -0.010641427853277818, 0.0007299958396238537, -0.009389772318002976, 0.008053512269442287, -0.006167425088863254, -0.00888378391011635, -0.0028918159220499007, -0.00632721090187971, 0.01495093319793206, 0.002966997221832024, -6.893322543888303e-05, -0.006513627683714773, 0.00017074549406626005, 0.017241196517811197, 0.0031267830348387093, 0.009944311056803379, 0.005097474728682272, -0.005261972148447036, -0.005874484431667604, -0.01958943338208652, 0.005709987011901063, -0.009336510380306251, -0.005501650867958396, 0.0056833560430709085, 0.006269237357460433, -0.006087532182362132, -0.009016938754306203, -0.025394984588297476, 0.004777903102662684, 0.016708577141076653, -0.007312556748804155, 0.0006767339019351226, 0.001369139091674576, -0.009869129757021256, -0.006353841870734733, 0.0018751274995469913, -0.0008678622905566868, 0.009624739430758034, -0.016660026810167317, 0.010769871090716698, -0.001906470075141442, -0.001879839106299741, -0.01407682283309164, 0.00011748355638374619, 0.0006501029331085206, 0.005070843759844124, 0.002913735284145069, -0.004303257270368732, 0.014578099634237063, 0.011728585968808325, -0.012132762108063133, 0.015270504823963194, 0.0024077468762468968, 0.0024343778451019205, 0.0035528785361904625, 0.006562178014656084, -0.000308611944998205, 0.016122695826709332, -0.025448246525986207, 0.010397037527019037, -0.01831114687797708, 0.0015289249046972486, 0.010210620745155552, -0.008857152941271096, 0.016602053265734718, 0.01945156693118122, 0.011728585968787897, 0.011089442716737175, 0.006136082513283014, -0.0017733152309586941, 0.008213298082475617, 0.011142704654412583, 0.00408549791291879, -0.008963676816622801, -0.016500240997153526, -0.0008678622905344824, -0.006273948964222953, 0.011009549810239605, 0.0014490319981863564, 0.007467630955062532, 0.013140027317088965, 0.006588808983483574, -0.005128817304268729, -0.00353095917411661, 0.0038990811310570805, -0.01583446677625755, -0.00845768840874328, 0.0005968409954357767, 0.010370406558170231, 0.0011827223098235251, -0.0059543773381811604, -0.00022871903848198372, 0.020729853435320855, 0.007946988394116339, -0.017299170062240243, 0.01737435136199572, 0.016389005515071275, -0.015648049994397617, 0.0018218655618751356, -0.007578866437169651, 0.0006234719642579378, -0.002652137202526994, -0.018018206220814292, -0.009203355536151037, -0.005288603117270085, -0.0011075410100538363, 0.01098291884140501, 0.012980241504092938, 0.021262472812014543, 0.006349130263970437, -0.011733297575553081, -0.005634805712123381, 0.009172012960556586, -0.0010010171347039076, 0.01867926883494242, 0.007920357425303948, 0.0065621780146649655, 0.009438322648936293, -0.007019616091609393, -0.0027320301090396626, -0.025075412962270782, 0.015483552574652393, -0.003610852080630167, -0.01034848719608572, -0.011200678198825642, 0.0029669972218284713, -0.0024390894518520057, -0.0020662558881570092, -0.010082177507726442, -0.004196733395011698, 0.00624260638861962, 0.0070947973913524365, 0.02847946536652035, -0.0006814455086896487, 0.01010409686981717, 0.002141437187912487, 0.008213298082470288, 0.004085497912930336, 0.02371252194492346, -0.008937045847801528, -0.00393042370666663, 0.00813340517597716, -0.004729352771716044, -0.004942400522411461, -0.008777260034754875, -0.00989576072587628, 0.0028871043153158027, 0.004112128881753385, -0.011680035637872344, 0.004378438570117993, -0.0005482906645122299, -0.005048924397782706, 0.00911875102289006, -0.000175457100785259, -0.0005216596956838515, -0.020494886322508066, -0.012132762108080009, -0.003823899831294497, 0.015456921605823126, 0.001475662967005853, 0.0040854979129232305, -0.016020883558116594, 0.0005968409954517639, 0.002753949471119732, -0.01855082559751331, 0.004724641164969512, -0.00779191418783487, -0.007738652250179001, -0.015168692555362462, -0.0032912804545990326, -0.00717940190462496, 0.001022936496793747, -0.0019064700751370012, -0.003104863672755087, -0.0025988752648800073, -0.0014271126360796416, 0.008799179396887347, -0.012186024045745647, 0.0017686036242130498, 0.006588808983470251, -0.0014004816672441578, 0.02192824703290608, 0.004405069538945483, 0.007148059329043832, -0.0015602674802730476, -0.012319178889928395, 0.012580776971547358, 0.007946988394121668, 0.011062811747888368, 0.005443677323550666, -0.0004683977579960086, -0.002119517825814654, -0.004995662460070882, 0.001475662967026281, -0.004409781145685798, -0.0037972688624838824, 0.001928389437228617, -0.006167425088862366, -0.004809245678220719, -0.0011874339165398595, 0.0024077468762646603, -0.004489674052214454, -0.006833199309733473, 0.004777903102669789, -0.006353841870692989, 0.0004903171201080525, -0.013757251207066723, -0.00440978114568491, -0.0010276481035340623, 0.012048157594835907, -0.005554912805629364, -0.004969031491247833, -0.015568157087866297, 0.006189344450948653, 0.0037126643492202405, -0.002705399140213949, 0.003020259159519867, -0.0008146003528866075, 0.0024343778451214604, 0.005257260541704056, 0.0006234719642757014, -0.0007347074463570635, -0.01351757248751806, 0.006429023170497317, 0.011488907249286306, 0.009970942025647744, -0.020867719886225267, 0.00041042421358650216, -0.006034270244682283, 0.004644748258483489, -0.0016401603867670644, 0.01519061191744786, 0.004058866944080641, 0.0009164126214891155, 0.01870589980377435, -0.027392307250988956, 0.012447622127376157, 0.013140027317088965, -0.012425702765257896, -0.012452333734108478, 0.010849763997207162, -0.01873724237934926, 0.011169335623235632, -0.008644105190604101, 0.00416539081943057, -0.012292547921092023, -0.009629451037509007, -0.002945077859704881, 0.015723231294152207, -0.0018798391063059583, 0.015936279044837853, -0.005261972148431049, -0.006433734777239408, 0.006588808983507555, 0.005257260541701392, 0.006162713482121163, -0.007845176125504949, 0.011222597560915482, -0.0058212224939984125, -0.029576046695527936, 0.010024203963313383, -0.0044896740521966905, 0.003632771442717342, -0.012931691173132975, -0.009363141349155057, -0.013038215048493562, 0.00975789427497098, 0.006642070921175858, -0.010508273009092406, -0.0009743861658488839, -0.00731255674878728, -0.01564804999441627, -0.0076054974060024705, -0.006433734777216316, 0.019078733367486223, -0.01767200362593435, -0.002492351389526526, 0.003765926286886767, -0.0028119230155381203, -0.01666002681016998, -0.023584078707485467, 0.011222597560923475, 0.015776493231828503, 0.015297135792796013, -0.006433734777229638, -0.0026521372025234413, 0.002088175250243296, 0.022487497378481436, 0.005550201198886384, 0.0043518076012798446, 0.014365051883545199, -0.0019597320127830997, -0.0036108520806221733, -0.0006814455086923132, 0.011648693062277893, -0.0012939577919031109, -0.02347755483212577, 0.004005605006409674, -0.007578866437150111, -0.0022526726699956257, -0.0267797949677675, 0.004857796009176241, -0.012159393076927927, 0.0025941636581157113, -0.012239285983422832, 0.00794698839409147, -0.0049956624600779875, -0.005288603117277191, 0.0026474255957937842, 0.014418313821220607, 0.010556823340036381, 0.01825317333356491, -0.009656082006355149, -0.007312556748782839, -0.002865184953205535, 0.002088175250242408, 0.0021148062190823325, -0.0151154306176835, -0.006300579933048667, 0.017321089424314984, -0.014822489960510943, -0.008404426471062543, -0.017405693937574185, 0.013779170569159227, 0.003739295318063718, 0.005363784417032669, -0.00869736712825464, 0.011915002750634507, 0.012101419532500657, -0.0013472197295927302, -0.00406357855083872, 0.012660669878052033, -0.009895760725858516, -0.0022793036388106813, -0.00757886643716521, 0.011302490467445026, 0.004618117289644452, -0.009203355536130609, 0.0016354487800196438, -0.010827844635120876, -0.012958322141987999, -0.009789236850523686, -0.008457688408734398, 0.0012892461851601311, 0.009145381991719326, -0.002971708828560793, 0.0061360825132990016, 0.0018484965307115075, -0.013171369892675422, -0.0005216596956687525, -0.002838553984369163, -0.0040103166131624235, 0.009678001368442324, 0.007680678705742849, -0.002119517825835082, -0.008191378720387554, 0.003686033380390974, 0.011888371781821228, -0.0025189823583620097, 0.007041535453694792, 0.01931841208700824, 0.005417046354708965, -0.006913092216239924, 0.0009430435903041712, -0.012399071796429517, -0.007951700000845108, 0.01622921970205038, -0.007605497405982042, 0.005656725074235425, -0.0025722442960240954, 0.010423668495851857, -0.00259887526486402, -0.006753306403243009, -0.007445711592974469, 0.007867095487604558, -0.0015868984490978733, -0.0033445423922513484, -0.009549558131007885, -0.014449656396795518, -0.02153349410713723, 0.006429023170463566, -0.005954377338149186, 0.03274042038026348, 0.004618117289642676, 0.005789879918403074, -0.008351164533409339, -0.00025535000731924384, 0.010530192371196456, -0.010162070414223123, 0.0010761984344904718, 0.013539491849629215, 0.0037126643492166878, -0.009416403286827801, 0.006828487703024244, -0.001240695854225038, -0.004116840488494589, -0.009309879411475208, 0.006562178014655196, -0.01602088355810416, 0.03162191968912165, -0.006513627683722767, 0.009385060711240456, -0.0066734134967303405, -0.009522927162175954, -0.007445711592985127, 0.018812423679117174, 0.0007033648707670537, -0.003610852080610627, 0.0036860333803776513, 0.006269237357444446, 0.012394360189690978, -0.015621419025579897, 0.00365940241156526, 0.011355752405106223, -0.00185320813746781, -0.01157351176253485, -0.0038771617689841165, -0.004729352771729367, 0.006029558637951737, 0.004564855351969932, 0.0027273185023046764, -0.005688067649815665, -0.002678768171379353, -0.014689335116320201, 0.0013957700605038426, 0.001289246185169901, -0.012452333734113807, -0.00438315017684765, -0.002891815922046348, -0.004063578550813851, 0.004484962445463481, 0.00011748355639529251, -0.016047514526942308, 0.009358429742410301, -0.0024923513895158678, -0.004835876647069526, -0.0008678622905469169, 3.759064989328209e-05, 0.003126783034841374, 0.00041042421357939673, -0.02616728268453894, -0.0014271126360805297, 0.005523570230048236, 0.02041028180927995, 0.01191500275063806, -0.022625363829391176, 0.0032066759413433843, 0.005097474728701812, -0.004969031491267373, 0.02246086640963796, -0.006087532182348809, -0.003770637893620865, 0.0016887107177128158, 0.0023811159074194066, 1.0959681044475644e-05, -0.0028918159220578943, 0.007680678705772159, -0.003903792737808942, 0.0029936281906870477, 0.0200108172767548, -0.0039037927378302584, -0.0036907449871135256, 0.009464953617759342, -0.0005482906644873609, -0.0020129939504807126, 0.027467488550752428, 0.008106774207128353, -0.013730620238233016, 0.010796502059545965, 0.0012626152163113247, 0.007920357425267532, -0.009123462629609946, -0.006433734777219868, 0.00610945154445286, 0.017667292019189595, 0.009598108461920773, -0.006726675434418183, -0.0011874339165638403, 0.014258528008211258, 0.009464953617769112, -0.004303257270354521, -0.0036108520806230615, 0.01644226745272892, -0.00733918771763431, -0.011866452419716289, 0.0017419726553846715, -0.000974386165894181, 0.012820455691058719, 0.006322499295149164, 0.01359275378732061, 0.003313199816688872, 0.000463686151244147, 0.0006234719642659314, 0.002594163658139692, -0.013544203456397064, -0.009443034255674831, 0.013353075067798592, -0.004383150176870743, -0.012798536328980425, -0.015088799648856899, -0.007951700000852213, 0.0020082823437297392, -0.008431057439890921, 0.014764516416081008, -0.002332565576522505, -0.0031048636727417644, 0.003952343068755582, 0.006189344450973522, -0.006407103808383496, -0.00922998650496698, -0.021267184418750418, -0.004676090834051294, -0.010401749133732707, -0.015195323524192617, 0.011781847906459753, -0.004170102426188649, 0.005976296700266559, 0.00419202178826783, 0.004218652757108643, 0.01479114738492271, 0.005097474728681384, -0.007126139966953993, -0.0016934223244389202, -0.008857152941250668, 0.007494261923898016, -0.0013738506984202203, 0.011222597560927916, -0.005022293428926794, 0.010450299464700663, -0.01985574307044935, -0.013437679581041806, 0.0015555558735371733, 0.0006767339019511098, -0.01817799203381476, 0.0016887107176906113, 0.01130249046743348, -0.002385827514194361, 0.005070843759860999, -0.007525604499476479, 0.0017419726553837833, -0.008111485813869557, 0.0033930927231811125, -0.0025189823583371407, -0.005767960556314122, -0.00203962491928511, -0.003930423706640873, -0.009762605881702413, -0.0190301830365307, 0.0004636861512619106, 0.0035795095050676906, 0.0013158771540124903, -0.008004961938530286, -0.024462900679053767, -0.012931691173164062, 0.0015821868423566698, 0.010423668495834981, 6.422161872610133e-05, 0.001475662967025393, -0.0039037927378249293, 0.0045648553519725965, 0.005150736666345246, 0.006349130263958891, -0.011573511762530408, 0.0062159754198036765, 0.011755216937627821, -0.011094154323489924, 0.0021414371879053817, -0.015914359682776436, -0.014715966085164567, -0.0044630430833692, -0.003530959174115722, -0.008564212284083439, 0.010876394966042646, 0.003313199816692425, 0.007867095487627651, -0.00646036574606601, -0.004196733395014363, 0.0019017584683957978, 0.009385060711244897, 0.006695332858845937, 0.010956287872565085, -0.004223364363832083, 0.009837787181446345, -0.00614079412002333, 0.009518215555439191, 0.0019017584683700406, 0.010343775589343629, -0.000681445508676326, -0.020628041166708577, 0.0012359842475087035, -0.004010316613151765, -0.020521517291361313, 0.016362374546227798, -0.003744006924804033, 0.004378438570137533, -0.006060901213523984, -0.005235341179599118, 0.0008631506837746272, -0.008803891003596576, 0.002594163658120152, 0.0018484965307123957, -0.0006548145398665994, -0.003451066267619929, -0.023131352237280467, 0.004964319884495083, 0.004431700507780079, 0.024671236823007092, 0.01580312420067198, -0.0055282818368151965, -0.00496903149121497, 0.003206675941342496, -0.0002020880696402827, -0.007712021281336412, 0.015456921605786711, -0.006273948964201637, 0.0029137352841361874, 0.016815101016430134, 0.006642070921168752, -0.001187433916557623, 0.011915002750650494, -0.010348487196076839, -0.0009477551970329401, -0.001160802947750561, 0.012287836314352596, 0.010530192371215108, 0.0024610088139294106, 0.003180044972519447, 0.00038379324475368293, 0.003606140473885411, -0.014769228022818659, -0.009576189099848698, 0.01604280292019844, -0.009576189099838928, -0.007605497405980266, -0.018737242379377683, -0.007605497405991812, -0.011946345326220964, 0.00408549791291879, 0.009225274898235547, -0.0007613384151987646, -0.00899030778546095, -0.007658759343668109, -0.010241963320723357, -0.009975653632380954, -0.008750629065928273, -0.003024970766220214, 0.011861740812981303, -0.013144738923838162, 0.0001441145252174536, 0.00019737646288753297, 0.0008631506837861735, -0.011360464011838545, 0.01348622991194226, -0.008777260034760204, 0.0035262475673887295, 0.012740562784545162, 0.009757894274950552, -0.011120785292329849, 0.010530192371193792, -0.0025189823583460225, -0.009576189099851362, -0.0021994107323326517, 0.012341098252020899, -0.0007080764775295734, -0.004676090834060176, -0.00992239169470377, -0.01428987058378528, -0.004516305021033062, -0.006486996714896165, 0.00797361936296781, 0.0011294603721410112, 0.00025063840056827047, -0.026540116248253476, 0.013672646693815516, -0.004809245678247365, -0.0020129939504958116, -0.005048924397755172, 0.011488907249278313, -0.0022260417011521483, 0.006748594796508911, 0.017480875237337656, -9.556419429213037e-05, -0.006167425088868583, 0.0003837932447545711, -0.012585488578312543, 0.01628248163972934, -0.00307823270390184, 0.004112128881772037, 0.003020259159476346, -0.008617474221733978, 0.005283891510538652, -0.015807835807427395, 0.0157764932318587, -0.013331155705697206, 0.014231897039371333, -0.0041434714573354015, -0.009922391694704658, -0.0025722442960347536, 0.010956287872553538, -0.011120785292316526, -0.0017733152309498124, 0.015803124200679086, 0.009172012960560139, 0.0081067742071399, 0.0027539494711259493, 0.000836519714951578, 0.002114806219060128, 0.009172012960569909, -0.0012939577919102163, 0.009065489085235079, -0.0031314946415772482, -0.0012939577919119927, -0.0064869967148890595, 0.010689978184190707, 0.000277269369397537, -0.002678768171377577, 0.002887104315317579, 0.005576832167712986, 0.00805351226945028, 0.005736617980756975, -0.004969031491252274, -0.007845176125526265, -0.014929013835843108, -0.006380472839551565, 0.012394360189694531, -0.0016401603867706172, -0.00036187388265229714, 0.023046747724025707, 0.00025063840058159315, -0.013198000861505577, 0.023286426443522856, 0.00408549791291879, 0.008612762615006098, -0.006726675434437723, 0.008133405175969166, 0.0007566268084424621, 0.006988273516022048, 0.013060134410586954, 0.0024876397827560126, 0.016122695826717326, -0.009682712975197738, -0.022918304486572616, 0.007307845142056735, -0.0039037927378116066, 0.022886961911013692, 0.01806675655174672, -0.00925661747382911, 0.004937688915661376, 0.0045382243831211255, 0.006375761232799704, -0.010055546538901616, 0.0011028294033090802, -0.00725929481114207, -0.0006281835710035821, -0.004809245678237595, -0.001826577168626109, 0.01790697073870806, -0.009682712975182639, -0.013570834425217448, -0.01703286037388274, 0.011302490467421045, -0.0026521372025332113, -0.001746684262111664, -0.005554912805646239, 0.008666024552681506, 0.0003837932447305903, -0.0019331010439618268, 0.015110719010948515, 0.007227952235559165, -0.006220687026540439, 0.0005702100265967402, 0.004005605006410562, 0.0029137352841610564, 0.003366461754337635, 0.010024203963316936, -0.016553502934810282, -0.008351164533409339, -0.006460365746058905, -0.017805158470114435, -0.0020928868569907166, 0.0022213300944242675, 1.0959681043587466e-05, -0.0030516017350645797, -0.00717940190460542, -0.00185320813746781, -0.0055282818367956565, -0.0016934223244398083, 0.0034197236920112672, -0.014369763490286402, 0.008133405175974495, 0.022966854817500604, -0.010268594289556177, 0.0011827223098244133, 0.0009164126214731283, 0.005363784417032669, 0.0002772693693842143, 0.004165390819428794, -0.003744006924808474, 0.008985596178721522, 0.011781847906477516, -0.021160660543405818, 0.019957555339066957, -0.0036374830494807497, 0.003472985629684011, 0.0074942619239166675, 0.014098742195184144, -0.008324533564564085, 0.0162824816397249, -0.005155448273086449, 0.021555413469220852, -0.003451066267601277, -0.0016667913555981073, 0.0006501029331182906, 0.00914538199172199, -0.009975653632389836, -0.005182079241945914, -0.0018265771686269971, -0.004223364363846294, -0.001613529417952897, -0.00414347145733629, -0.009229986504980303, -0.008590843252902047, 0.0023278539697653144, -0.012798536328979537, 0.005257260541699615, 0.011701954999964848, -0.00835116453338447, 0.008772548428031435, -0.0020396249192922156, -0.008883783910113685, 0.0019816513748898146, 0.0007299958396114192, -0.02230579220335116, -0.002945077859735079, 0.006375761232821908, 0.001369139091654148, 0.0014224010293357736, -0.008670736159413828, -0.006247317995367929, 0.018679268834948637, -0.005581543774465736, 0.0037392953180530597, -0.009389772317963008, 0.007920357425289737, -0.002012993950482489, -0.007871807094339545, -0.012958322142003098, 0.000250638400570935, 0.013299813130099203, -0.006966354153933985, 0.017800446863357244, -0.007871807094360861, 0.01369927766266521, -0.00291844689089249, -0.0014271126361009578, -0.006140794120020665, 0.0018751274995647549, 0.007068166422547151, 0.007148059329038503, -0.0024657204206688377, 0.005257260541710274, -0.01612740743344787, 0.0007299958396194128, -0.007951700000846884, 0.005443677323527574, 0.005843141856101575, 0.011249228529750077, 0.0033131998166915366, 0.013060134410590507, -0.013517572487565133, 0.004192021788264277, -0.007339187717648521, -0.0011874339165789394, 0.0019017584683904687, 0.003233306910162881, 0.0008365197149435843, 0.0056567250742292075, -0.011546880793691372, -0.0008412313217096568, -0.004569566958720017, -0.013198000861533998, -0.00387716176898234, -0.0018265771686145627, -0.012532226640594502, 0.0007832577772894922, 0.014764516416076567, -0.0019863629816372352, -0.004170102426178879, 0.010876394966032876, -0.008803891003596576, 0.01103618077906976, 0.008905703272225729, -0.024383007772553533, -0.004223364363837412, -0.00869736712825997, 0.0008631506837808445, -0.013890406051262794, 0.005603463136561793, -0.004223364363839188, -0.026646640123598075, -0.0009211242282027854, -0.005368496023773872, -0.005475019899143341, -0.004196733395014363, 0.003419723692020149, -0.004489674052207349, -0.011653404669038636, 0.009598108461957189, 0.008825810365710396, -0.000628183571008023, 0.003845819193406541, -0.011120785292308533, -0.006540258652584896, 0.0037925572557409026, -0.00558154377447817, 0.003792557255732021, 0.00104956746563456, -0.00486250761591922, 0.0020082823437004294, 0.005203998604031312, 0.018466221084259438, 0.01013072783863933, -0.0025456133271895, 0.001102829403308192, -0.012452333734099597, -0.005235341179607111, 0.0039257120999032225, 0.0004903171201071643, -0.0021461487946670132, 0.007227952235539625, -0.0019863629816585515, 0.010689978184196036, -0.0005216596956492126, -0.00893704584780508, 0.010716609153051948, -0.014795858991643485, -0.0037440069248058094, -0.004782614709395894, -0.004170102426180655, -0.0017999461997959543, -0.006327210901851288, 0.009305167804730452, 0.004511593414303405, -0.006140794120014448, 0.010769871090707817, -0.0018265771686056809, -0.0036374830494683152, 0.0036327714427164537, -0.005208710210767187, -0.010455011071427656, -0.0025988752648613556, -0.023637340645145777, 0.0016620797488640093, 0.015137349979784887, -0.022305792203348496, -0.007925069032005183, 0.00509747472868316, -0.02387701936466602, 0.004937688915672034, 0.001528924904689255, -0.007072878029283913, -0.0034776972364340963, -0.015062168680016086, -0.001906470075131672, -0.011200678198828307, -0.00020208806963406545, 0.02379241485140593, 0.017241196517817414, -0.006087532182347921, -0.009283248442644165, -0.0003086119449893232, 0.01742761329965692, 0.0017419726553695725, 0.005496939261228739, 0.003499616598534594, -0.01570131193208013, -0.0067266754344137425, 0.00714805932904472, -0.011094154323482819, 0.00933179877358814, 0.009118751022900717, -0.0013472197295705257, 0.012447622127353952, 0.005576832167744072, 0.015217242886295779, -0.0038771617689539184, 0.004591486320797422, 0.0008897816526216573, 0.009544846524254247, -0.01357083442521656, 0.006668701889978479, 0.0037925572557266918, -0.005341865054962369, 0.011009549810237829, 0.007654047736924241, 0.017853708801035317, 0.010024203963307166, -0.008218009689201722, 0.0030468901283233762, -0.012798536328990195, -0.008004961938529398, -0.006140794120021553, 0.020010817276736148, 0.004112128881777366, 0.013273182161275265, -0.019056814005381284, -0.005048924397767607, 0.009385060711246673, 0.0018751274995461031, -0.0016934223244362556, -0.001027648103537615, -0.013570834425222777, -0.0052087102107609695, 0.007148059329021628, 0.011808478875295236, -0.002359196545338449, 0.00022400743172212856, -0.004542935989878316, -0.012558857609447749, 0.007946988394104793, -0.005794591525144277, 0.009757894274949663, -0.007072878029291019, 0.0011560913410004758, 0.0016620797488693384, 0.003446354660876949, -0.009842498788211529, -0.0034244352987720106, -0.0065935205902256655, 0.0013425081228159996, -0.0026787681713704714, 0.024644605854176937, 0.004618117289626689, -0.0045163050210383915, -0.0019064700751387775, -0.02246557801636584, -0.0007879693840466828, 0.004192021788268718, -0.00747234256181617, -0.009975653632383619, -0.006486996714884619, 0.007440999986236818, 0.009464953617747796, -0.005261972148447036, -0.00496903149124428, 0.008506238739654393, -0.008244640658060298, -0.004010316613156206, 0.01361938475612856, -0.001533636511443781, -0.009656082006364919, -0.0022260417011734646, 0.00592303476258671, 0.006828487703007369, -0.0011608029477265802, 0.017241196517805868, 0.0015821868423655516, 0.007467630955074078, -0.0055549128056320285, 0.005097474728693818, 0.004964319884512847, 0.002274592032100564, 0.009917680087967895, 0.004644748258486153, -0.0026255062336932866, -0.0020662558881294757, -0.004862507615918332, -0.00017545710082522703, -0.003690744987134842, 0.0075475238615752005, -0.004409781145706226, -0.009096831660806437, 0.004325176632462124, 0.0031800449725016833, 0.014711254478403823, -0.013464310549865743, 0.005150736666356792, -0.018364408815648048, -0.007498973530639219, 0.010982918841401457, 0.008346452926654813, -0.015088799648864004, -0.0019331010439671559, 0.002247961063242876, 0.004698010196137581, 0.010370406558178225, -0.009070200691958519, -9.556419431255847e-05, -0.001027648103557155, -0.014396394459120998, 0.0037392953180708233, -0.004516305021032174, -0.015301847399534552, 0.003046890128316271, -0.015408371274885369, 0.005124105697533743, -0.0005482906645104535, 0.012900348597577604, -0.0042499953326773365, 0.004804534071475075, -0.0014537436049248953, 0.0037392953180628297, -0.0021727797634847335, 0.024884284573674087, 0.002247961063248205, 0.00690838060951382, 0.0025941636581219285, 0.00570998701190728, 0.008133405175966502, 0.012287836314348155, -0.00030861194499998135, -0.0023591965453508834, 0.0035795095050561443, -0.0005749216333263973, -0.003397804329947185, 0.006002927669102043, 0.006535547045811718, 0.00043705518241665686, -0.00030861194499998135, -0.001906470075130784, 0.006935011578346639, -0.016633395841305187, -0.010668058822137283, 0.0057099870119179386, 0.016548791328095724, 0.01242099115852735, -0.0003618738826673962, 0.0018218655618689183, -0.00014882613198885508, -0.0120795001704046, 0.00376592628689032, 0.007014904484871742, -0.0019064700751396657, 0.0093317987735686, 9.085258754737424e-05, 0.00163544878003119, 0.0008897816526287627, 0.010849763997211603, 0.00011748355637752894, 0.01793360170753644, -0.003717375955967661, -0.020681303104373328, -0.007472342561807288, 0.016548791328075296, -0.008164747751535195, -0.0031847565792277877, -0.012878429235487765, 0.012980241504081391, -0.001107541010067159, -0.011573511762532185, 0.0013158771540018321, 0.0078937264564507, -0.00046839775800222583, -0.005022293428920577, 0.010210620745145782, 0.008319821957806894, -0.011520249824848783, 0.019211888211680517, -0.0033711733610983785, -0.012159393076919933, -0.01732580103105885, 0.003925712099895229, 0.0074942619239166675, -0.006140794120010007, 0.0012359842474847227, -0.0022793036388453203, 0.0049376889156604875, -0.0005749216333414964, -0.006566889621392846, 0.020863008279492057, 0.009198643929391181, -0.010668058822116855, 0.0022745920321112223, -0.013570834425219225, -0.0015868984491138605, 0.011808478875311224, -0.011893083388558878, 0.007600785799251497, 0.002860473346470549, -0.008830521972464034, -0.00030861194498754685, -0.0015602674802712713, -0.02150686313828487, 0.001502293935837784, -0.003104863672744429, 0.013246551192430012, -0.01804483718962313, -0.009469665224496104, 0.00637576123279171, -0.002891815922061447, 0.015030826104441175, -0.013118107955009783, -0.00709950899812295, -0.0008412313217025513, -0.011626773700180948, 0.0013425081228355396, -0.01839103978449419, 0.007467630955066085, 0.004192021788276712, 0.002114806219080556, 0.0005169480889382072, -0.006327210901861058, 0.001528924904708795, -0.0022526726699947375, -0.015408371274886257, -0.007179401904612526, 0.005576832167718315, -0.012958322141984446, 0.001741972655357138, -0.020974243761568978, -0.009656082006366695, -0.011866452419723394, -0.0009743861658737529, 0.006056189606776563, -0.0057679605563247804, 0.007281214173237238, 0.012234574376678964, 0.008452976801994971, -0.002652137202521665, 0.014205266070524303, -0.00259887526486402, 0.003419723692021037, -0.01191971435740058, -0.013703989269397532, 0.00626923735745244, -0.01040174913376024, 0.004564855351950392, 0.015110719010958285, 0.0055235702300659995, 0.0027539494711552592, 0.000596840995432224, -6.893322545487024e-05, -0.004942400522423895, -0.003584221111788466, 0.00025063840056027686, 0.01186174081296798, -0.010774582697457902, 0.006002927669093161, 0.003233306910198408, -0.009070200691963848, 0.0006234719642854714, -0.009283248442636172, -0.009949022663539253, -0.021267184418771734, -0.019003552067736962, -0.0025988752648471447, 0.007174690297884645, 0.0019017584683949096, -0.01881713528585216, -0.0013205887607341538, -0.0014271126360902997, -0.010854475603957248, -0.007871807094345762, -0.005554912805649792, 0.0042985456636115416, -0.001586898449091656, 0.012287836314336609, -0.0039570546754941205, 0.002061544281407812, -0.003957054675488791, 0.011249228529759847, 0.013140027317083636, 0.018679268834943308, -0.0020396249193028737, 0.005470308292377268, -0.002625506233719932, -0.0025722442960347536, 0.0008897816526536317, 0.014285158977038748, -0.010108808476558373, -0.006726675434427065, -0.0076587593436707735, -0.009389772317988765, 0.005630094105394612, 0.00792035742527819, 0.027281071768925358, 0.0008365197149675652, -0.016420348090642634, -0.02539498458830547, 0.010769871090713146, -0.008803891003590358, -0.0003885048514797873, 0.02030375793393535, 0.0016620797488533512, -0.005448388930294534, 0.00935842974240142, 0.00949158458659305, 0.0021148062190725625, -0.011733297575550417, -0.005341865054933059, 0.014152004132851559, -0.014715966085154797, -0.0006548145398399541, -0.0010010171347145658, -0.008910414878946504, -0.013464310549872849, -0.0004417667891809529, 0.016948255860629757, -0.0018798391062837538, -0.0012140648854011005, 0.0056567250742292075, 0.002647425595801778, -0.0006281835710089112, 0.0005169480889293254, 0.005150736666375444, -0.00630057993304689, 0.005017581822183814, 0.010397037527011044, 0.00877254842802877, 0.007893726456449812, -0.006087532182362132, -0.022492208985203987, -0.005208710210773404, -0.023557447738642878, 0.011195966592102202, 0.0024077468762850884, -0.000921124228220549, 0.0035262475673638605, 0.009491584586566404, -0.005182079241930815, 0.01162206209344685, 0.006988273516023824, -0.0047826147093950055, -0.010508273009081748, -0.02140033926292606, -0.006806568340905983, 0.0020349133125483476, 0.0013691390916923396, 0.019078733367471123, -0.006407103808376391, -0.01327789376800581, 0.003100152066001449, -0.010960999479306288, 0.007973619362951823, -0.007578866437173204, 0.008692655521524983, 0.007627416768086093, 0.004378438570115328, 0.002514270751594161, -0.007339187717620987, -0.014423025427960035, -0.020894350855059862, -0.008883783910114573, -0.025767818152028, -0.0044630430833700885, -0.00417010242618332, 0.0006501029331236197, 0.001715341686535865, -0.003823899831314037, -0.00611416315120028, 0.007707309674588103, 0.00898559617871797, 0.020410281809259523, -0.011786559513204509, -0.013517572487530494, 0.008000250331774872, 0.007467630955041216, 0.009944311056819366, 0.00238111590743717, 0.012367729220860824, 0.0019550204060525544, 0.01013072783863489, -0.015408371274878263, -0.003051601735080567, 0.001981651374882709, -0.005448388930302528, 0.012420991158535344, -0.004170102426181543, -0.009389772317988765, -0.011999607263923906, 0.011036180779082194, -0.01349094151870478, 0.004431700507813829, 0.0026207946269343196, 0.004192021788274047, 0.008319821957821105, 0.01479114738493248, -0.003317911423412312, 0.002860473346486536, -0.011040892385819845, -0.0023059346076532705, -0.0024390894518315775, 0.001262615216317542, -0.021666648951312872, 0.006721963827700961, 0.016495529390401664, -0.0008678622905344824, 0.0009164126214802337, 0.006056189606772122, 0.016069433889049023, 0.0021414371878956118, -0.007419080624150531, 0.027574012426088146, 0.009518215555431198, 0.010743240121876774, 0.011382383373933713, 0.004511593414284754, -0.006753306403235904, 0.023632629038402797, -0.0006814455086852078, 0.005923034762582269, -0.008883783910105691, -0.003744006924809362, -0.009416403286832242, 0.004671379227302985, 0.004911057946835662, -0.02795155759654211, 0.015057457073283764, 0.001076198434466491, 0.014444944790058756, 0.007574154830413349, 0.010689978184193372, 0.013086765379446419, -0.018630718504027755, -0.007152770935796582, -0.0188171352858717, 0.00011748355638818708, 0.0029936281906568496, 0.003020259159505656, -0.008058223876187931, 0.003153414003679522, 0.007760571612277722, 0.009411691680091927, -0.006140794120033988, -0.004569566958712912, 0.0026474255957840143, 0.000863150683773739, 0.00584314185607937, -0.0019597320127919815, 0.01636237454625178, -0.0037706378936386287, 0.018492852053111797, 0.00565672507423276, -0.00808485484505006, 0.006695332858830838, 0.007813833549933591, 0.00030390033824545526, -0.0178850513766049, 0.009624739430764251, -0.028244498253715555, 0.0037392953180424016, 0.000996305527976915, -0.006087532182347033, -0.00030861194497422417, -0.005554912805625811, 0.018226542364740972, -0.0016934223244264857, 0.008985596178711752, 0.0029669972218293594, 0.01644226745272892, -0.011120785292304092, -0.009469665224519197, 0.027360964675429145, -0.0034510662676128234, -0.012825167297799922, 0.00030390033824101437, 0.002381115907451381, -0.0036374830494683152, -0.005421757961441287, 0.009358429742404084, -0.0021994107323175527, -0.006167425088865919, 0.023472843225385454, -0.000681445508670997, 0.007707309674588103, -0.0020396249193019855, -0.009283248442653935, 0.005763248949581801, 0.009651370399627268, -0.004649459865238903, 0.01039703752701815, -0.0009477551970284992, -0.003264649485744897, -0.009363141349140847, -0.0006814455086825433, 0.004564855351971708, 0.00800025033178553, 0.007707309674596097, -0.014236608646109872, 0.008745917459195063, 0.009251905867079913, -0.0001754571008012462, 0.007094797391373753, 0.0062426063886302785, -0.0052886031172807435, -0.0011608029477185866, -0.0017999461997915134, -0.008590843252921587, 0.010956287872561532, -0.002518982358362898, -0.019243230787250987, 0.004085497912915237, -0.005501650867965502, 0.004564855351969932, -0.0060609012134982265, -0.0010542790723846451, -0.009949022663549023, -0.008537581315247955, 0.001555555873525627, -0.004249995332697765, -0.0019064700751245667, -0.001746684262116105, -0.011387094980693568, -0.005661436680989063, 0.0018484965307301593, -0.008777260034772638, 0.011648693062278781, -0.006407103808387937, -0.008590843252913594, -0.00659352059022833, -0.018524194628683155, -0.011440356918338779, 0.003712664349222905, 0.007600785799231957, -0.014236608646088555, -0.00022871903846066743, -0.0026521372025385404, -6.89332254522057e-05, -0.01761874168824651, 0.007174690297881092, 0.009864418150278276, 0.0016088178111868245, -0.0174589558752265, -0.0004151358203463573, 0.006429023170484882, 0.00789372645646047, 0.003925712099897893, -0.003344542392249572, -0.0017999461997755262, -0.008351164533385358, -0.006034270244684059, -0.01586109774509037, -0.0015602674802606131, 0.010423668495829652, -0.007099508998115844, 0.012394360189703413, -0.0060875321823594675, 0.006269237357464874, 0.00797361936294827, 0.00400560500642122, -0.01873724237935992, -0.009549558131022984, -0.009363141349146176, -0.012984953110835917, -0.015887728713924965, 0.006988273516010501, -0.015221954493036094, 0.010343775589349846, -0.011280571105346304, -0.0017733152309542533, 0.0012359842474793936, -0.0006281835709964767, 0.008133405175961173, -0.010028915570051922, -0.003770637893645734, 0.007520892892749487, -0.028324391160237106, 0.0007566268084540084, -0.0008146003528688439, -0.02289167351775312, 0.012021526626001311, 0.015456921605812468, 0.0036061404738791936, -0.0025722442960391945, -0.0018265771686323262, -0.017512217812923225, 0.0028338423776377297, -0.006966354153925103, 0.003552878536203785, -0.012425702765298752, 0.0009164126214589174, -0.010774582697449908, 0.007813833549927374, -0.002918446890879167, 0.016468898421575062, -0.010801213666280063, -0.015355109337217066, 0.0031800449725114532, 0.0030735210971855054, -0.0016135294179555615, -0.00430325727035008, 0.007973619362945605, 0.0111160736855771, -0.00574132958748752, 0.007467630955069637, -0.014209977677279717, 0.004937688915671146, -0.00166679135560166, -0.0017733152309462596, 0.009891049119122641, 0.02578973751411251, -0.009762605881681985, -0.0025722442960196545, -0.022971566424272005, 0.02584299945177282, -0.008857152941287083, 0.011036180779076865, -0.002119517825823536, -0.01626056227763062, -0.006593520590217672, -0.002945077859728862, 0.012554146002713651, 0.005496939261221634, 0.001928389437218847, 0.01353949184964609, -0.004223364363862281, -0.007179401904613414, 0.012500884065033802, -0.01618066937113838, 0.005097474728671614, 0.0007832577772957094, 0.0019550204060641008, -0.007925069032025611, -0.001160802947731021, -0.005315234086101128, 0.0006234719642757014, 0.010796502059563728, -0.011866452419723394, 0.023685890976071988, -0.0008412313217069922, 0.010796502059553958, -0.0007080764775206916, -0.0017999461997932897, 0.0006501029331067443, -0.008377795502228835, -0.012692012453617174, 0.010663347215369434, 0.0010229364968159516, 0.0206765914976339, 0.010237251713997253, -0.007232663842267506, -0.008111485813881991, 0.00544367732354889, -0.0032646494857528907, 0.012314467283190744, -0.008084854845021638, 0.012234574376682517, -0.0012673268230800616, -0.022865042548917636, -0.012265916952265421, 0.00970463233728136, -0.005954377338174055, -0.012159393076934144, 0.014391682852380683, -0.0074457115929877915, 0.018120018489396372, 0.003659402411550161, 0.028106631802809368, -0.004889138584724506, 0.002700687533450541, 0.02813326277165551, 0.017081410704787636, -0.016739919716684426, -0.01197297629506977, 0.019611352744193233, 0.00898559617870287, 0.0030468901283260408, -0.0003885048515011036, 0.01119596659210309, 0.0048844269780019545, -0.00057492163333972, 0.009598108461950972, 0.009012227147547236, -0.010295225258410312, 0.002247961063257975, 0.011941633719461109, 0.0037126643492140232, 0.003659402411564372, 0.0033664617543589515, -0.0068065683409122, 0.001688710717698605, -0.004303257270366068, -0.014076822833104963, -0.007578866437143894, 0.01782707783221138, -0.014289870583781727, 0.016602053265740047, 0.013033503441748806, 0.0009430435903139411, -0.008537581315238185, 0.010663347215369434, 0.0039523430687449235, 0.002301223000907626, 0.006508916076980675, 0.009385060711242232, 0.009970942025661067, -0.003104863672735547, 0.014258528008179283, -0.010428380102596613, 0.0013957700605047307, -0.008590843252909153, -0.005128817304270505, 0.0019283894372401633, -0.004409781145703562, -0.0053684960237756485, -0.009176724567299566, 0.004644748258465725, 0.005603463136562681, 0.0020349133125918684, 0.009385060711240456, 0.0072812141732239155, -0.0007613384151916591, -0.0009743861658737529, 0.0041653908194483336, -0.029070058287658185, 0.002461008813935628, 0.004405069538956141, 0.0282930485846844, 0.0069350115783679556, -0.0304282376982572, 0.006615439952319058, 0.002301223000940489, 0.00669533285882018, -0.004143471457334513, -0.011067523354643782, 0.011009549810248487, -0.005022293428926794, -0.010002284601228872, 0.012634038909214773, -0.015514895150214869, 0.021502151531541003, 0.0031534140036564295, -0.004329888239186452, 0.001741972655366908, -0.001879839106304182, 0.006215975419799236, -0.029868987352723586, -0.000122195163141825, -0.010375118164901664, 0.0013691390916763524, -0.005554912805633805, 0.008719286490364908, 0.001795234593045869, -0.01932312369374589, -0.008111485813873998, -0.002279303638838215, -0.012052869201571781, 0.005097474728687601, -0.01652687196599789, -0.015142061586547406, -0.00020208806965005266, -0.012159393076897729, -0.0037173759559632202, -0.003930423706663966, -0.009443034255657068, 0.01053019237119468, 0.008719286490348921, -0.003397804329926757, 0.0019017584683984623, -0.021453601200613015, 0.0013691390916585888, -0.0016135294179404625, 3.75906498764067e-05, 0.007121428360227888, -0.003344542392278882, -0.0029450778597430727, 3.759064989239391e-05, 0.012847086659905749, 0.0015555558735336206, 0.00895896520986117, 0.000543579057763921, 0.014471575758871147, -0.005421757961470597, 0.000996305527952046, -0.005981008307011315, 0.0074676309550749664, -0.00837779550224571, 0.009678001368452982, 0.005603463136563569, -0.0048358766470677494, 0.0022213300944233794, -0.0017466842621027823, 0.00022400743173545123, 0.0030735210971615246, 0.0019283894372259525, -0.013331155705690101, -0.013277893768046667, -0.007419080624152308, -0.008803891003619668, -0.003238018516943164, 0.008772548428027882, -0.007658759343663668, 0.006082820575604941, 0.0034996165985221594, 0.000996305527961816, 0.007520892892734388, -0.01610077646461594, -0.0008146003528688439, 0.003419723692009491, -0.014076822833099634, 0.01801349461404822, -0.0007613384152005409, -0.0035309591741032875, 0.007440999986231489, -0.0009743861658755293, 0.004431700507777414, -0.007312556748791721, -0.0021461487946581315, -0.00350432820526958, 0.017773815894529754, 0.005097474728700924, -0.015914359682766666, -0.006513627683748524, 0.01958472177536663, 0.011222597560923475, 0.004405069538958806, 0.002114806219076115, -0.011333833043019936, 0.0250174394178746, -0.016127407433430108, 0.0014224010293437672, 0.002993628190683495, 0.0004636861512583579, 0.017161303611320733, -0.0021461487946492497, 0.00701490448486819, 0.011755216937642032, -0.005395126992633337, 0.004831165040335428, -0.01120067819884163, 0.007733940643422699, 0.010130727838655318, 0.0004104242135838376, 0.035163838544300496, -0.01719264618689209, -0.00273203010904588, 0.0036327714427191182, 0.015483552574630188, 0.01553681451232336, 0.0007033648707750473, -0.004036947582013006, 0.002674056564615057, -0.01149361885602751, 0.008559500677337795, -0.0013205887607528055, -0.006300579933035344, 0.014551468665384704, -0.004622828896380327, -0.007072878029287466, -0.01458281124098626, 0.00144903199818458, 0.004884426977998402, -0.006247317995370594, 0.010317144620499263, 9.08525875447097e-05, -0.001986362981635459, -0.0013472197295794075, -0.0018798391063015174, -0.0020396249193073146, 0.011888371781823004, 0.0018218655618813528, -0.00046839775799778494, 0.006881749640681001, 0.01055682334002217, 0.010024203963302725, 0.008026881300625455, -0.010854475603961689, -0.004676090834053959, 0.01098291884140945, 0.0002506384005789286, -0.00571469861863072, -0.006992985122757922, 0.004831165040310559, -0.011200678198845182, -0.008191378720364462, 0.008612762615015868, 0.0029936281906559614, 0.011435645311613563, 0.0025675326892944383, -0.02371723355166999, -0.026060758809225426, 0.009438322648950503, -0.0014537436049257835, -0.02797818856538914, -0.008910414878949169, 0.017001517798282073, -0.01002891557006702, -0.02291830448656551, 0.005124105697523085, 0.006429023170462678, 0.0015821868423486762, -0.020281838571839295, -0.008590843252914482, 0.009944311056793609, 0.002034913312565223, 0.010317144620504592, -0.009176724567312, 0.017880339769855702, -0.00595437733819093, 0.0016887107177003813, 0.001209353278654568, 0.008692655521512549, -0.010241963320733127, -0.014795858991683453, -0.013970298957750593, -0.002092886857007592, 0.013193289254781249, 0.007707309674605867, 0.00816003614480909, 0.00035716227591908734, -0.005022293428940117, -0.0019863629816425643, 0.006668701889998907, -0.007871807094344874, 0.01649552939042831, 0.014072111226345996, 0.009092120054070563, -0.016020883558101495, 0.0005435790577577038, -0.003317911423438069, 0.006775225765353277, 0.010476930433513054, 0.02523048716856735, 0.010157358807478367, 0.011302490467425486, -0.010854475603948366, -0.01181319048204088, 0.011488907249276537, -0.0020396249193073146, -0.010561534946766038, -0.005315234086118004, -0.0054217579614537215, -0.019030183036547577, -0.00733918771765385, -0.006273948964188314, 0.020010817276727266, 0.0007299958396069783, 0.006855118671841964, 0.01753413717501484, -0.001347219729587401, -0.016899705529689335, 0.00547030829238615, 0.0069350115783723965, -0.002305934607674587, -0.0038771617689947746, -0.024942258118098692, -0.008324533564564973, -0.015834466776238898, -0.0001488261319710915, 0.009198643929397399, -0.0040103166131642, -0.004090209519671539, 0.010183989776325397, 0.006961642547183011, 0.004618117289638235, -0.007552235468319957, -0.008431057439921119, 0.00043705518241310415, 0.024191879383957726, -0.018364408815640054, 0.0007566268084557848, -0.009762605881683761, -0.015701311932088124, 0.013006872472930198, 0.0033131998166853194, 0.00922527489823377, -0.015195323524189952, 0.016761839078785812, 0.008905703272207965, -0.0004683977579826859, -0.010721320759787822, 0.013885694444512708, 0.005283891510530658, -0.01634045518413174, 0.008106774207121248, 0.004298545663619535, -0.008111485813878438, -0.010774582697446355, -0.013703989269396644, 0.006721963827668098, -0.005661436680989951, 0.013219920223596304, -0.003610852080620397, 0.017187934580128683, 0.014125373164041832, 0.006881749640691659, 0.001555555873495429, -0.002545613327195717, -0.013757251207067611, -0.0071794019046311774, 0.0073877380485551924, 0.00706816642252317, 0.0027273185023002355, -0.0011075410100742644, -0.005741329587491073, -0.008431057439924672, -0.020521517291346214, 0.00035716227593507455, 0.004564855351981478, 0.01061008527769669, 0.013086765379407339, -0.013091476986179629, 0.002833842377643059, 0.0008365197149622361, 0.0007033648707643891, 0.0070149044848673014, 0.004857796009143378, 0.009385060711265325, 0.006242606388643601, 0.01356612281845937, 0.0020615442814095886, 0.00789372645643116, -0.008830521972432948, 0.006775225765346171, -0.01615403840228602, -0.001986362981626577, 0.008745917459173747, -0.011946345326244057, 0.009012227147537466, 0.005576832167719203, 0.0018218655618795765, 0.004618117289622248, -0.017618741688218975, 0.009624739430751816, 0.013566122818471804, -0.023184614174947882, -0.008004961938519628, 0.02744085758191872, 0.007547523861592076, 0.009678001368441436, -0.004196733395001928, -0.011626773700212922, -0.0013738506984193322, -0.001933101043977814, -0.007019616091592518, -0.004116840488511464, 0.006748594796530227, -9.556419430989394e-05, 0.007281214173217698, 0.011329121436260081, -0.015594788056747966, -0.0074989735306507654, -0.019695957257437335, 0.0008897816526172164, 0.004192021788274047, -0.0012406958542428015, 0.012234574376681628, -0.0014004816672477105, -0.0049424005224247836, -0.0045429359898898625, 0.0005968409954428822, 0.008639393583848687, 0.001369139091679017, 0.0030202591595065442, 0.02014397212091268, 0.008879072303360047, -0.008750629065936266, 0.027893584052126386, -0.009735974912850942, -0.009602820068673523, -0.008058223876208359, -0.005608174743297667, -0.010934368510479686, 0.003579509505045486, 0.024990808449035562, 0.0034729856296999984, 0.017614030081499088, 0.025976154295956455, 0.015403659668153047, -0.026779794967795922, 0.006402392201642293, -0.011200678198823866, -0.011227309167674449, 0.0018484965307097312, -0.01120067819881676, 0.009278536835910955, -0.02017531469647693, 0.015004195135594145, 0.02136899668736092, 0.0005702100266118393, 0.0033664617543545106, 0.0006234719642712605, -0.00528860311727275, -0.00427662630153236, -0.003397804329937415, -0.010588165915609515, -0.001640160386794598, -0.005688067649831652, 0.009145381991713109, -0.00888378391013056, -0.012692012453640267, 0.0068551186718375234, -0.010641427853269825, -0.004596197927549284, -0.010135439445406291, 0.006721963827656552, -0.0011075410100582772, -0.006700044465585364, -0.006566889621404393, -0.014715966085166343, 0.00307352109714909, 0.012367729220845725, 0.009757894274952328, 0.008319821957829987, -0.0033978043299507377, -0.022172637359168412, 0.002434377845099256, -0.01088110657280783, -0.0031048636727506462, 0.0013691390916923396, 0.0017686036242317016, -0.003104863672735547, 0.002247961063273074, -0.006087532182348809, 0.005177367635193164, 0.0188390546479571, -0.0013205887607483646, -0.002092886856987164, -0.0018798391062970765, -0.011120785292312974, -0.001054279072379316, 0.004458331476627109, 0.015163980948608824, 0.009012227147536578, 0.0022213300944287084, -0.009682712975172869, 0.008905703272197307, 0.0032865688478302957, 0.009464953617727367, 0.004218652757097097, -0.020414993416005167, 0.013699277662651, -0.016420348090647963, 0.0007033648707608364, 0.015297135792789796, 0.006162713482114945, 0.02118257990551431, 0.00019737646287509847, -0.007578866437177645, 0.016042802920217092, 0.00011748355640150976, -0.00025535000731125024, 0.016229219702042386, -0.017325801031063293, 0.009012227147533913, -0.016446979059482558, -0.018790504317045098, -0.001214064885413535, -0.012558857609460183, 0.003472985629698222, -0.0026255062336923984, 0.001528924904689255, -0.0012939577919066636, 0.01029051365166822, -0.006486996714888171, 0.007920357425277302, 0.012500884065046236, 0.029171870556258916, -0.0004950287268288278, 0.002114806219084109, 0.00160881781119393, 0.002407746876267325, -0.005688067649820994, -0.009895760725867397, 0.0021680681567612936, 0.008692655521524983, 0.006002927669091385, -0.016154038402289572, -0.012638750515966635, -0.01088110657279806, -0.007871807094359973, -0.011227309167657573, 0.005576832167722756, 0.00893233424104789, 0.007946988394107457, -0.008697367128270628, 0.010849763997224926, 0.000783257777288604, 0.009118751022895388, 0.002753949471134831, 0.002247961063273074, 0.010050834932155084, 0.01007746590097991, 0.005363784417064643, 0.01231446728318808, -0.0037173759559596675, -0.022811780611263544, -0.010455011071423215, 0.004724641164969512, -0.0016401603867768344, 0.00126261521635751, 0.002780580439971203, -0.00347769723643232, -0.005634805712137592, -0.002012993950482489, 0.004884426977985079, -0.01210613113925163, 0.01612269582671111, -0.024915627149261432, 0.019398304993519133, -0.006700044465580035, 0.00869265552151699, -0.010241963320749115, -0.0050755553665879916, -0.014023560895410014, -0.015195323524194393, -0.0039304237066524195, -0.015674680963259746, 0.0031267830348253867, 0.011382383373934601, 0.0010495674656354481, 0.005789879918411955, 0.004058866944101958, 0.011222597560918146, 0.003020259159479899, 0.014631361571915136, -0.006060901213523984, 0.011994895657155169, -0.023690602582815856, -0.0047826147093950055, 0.0024610088139525033, 0.010716609153044843, -0.012692012453632273, 0.004698010196163338, 0.018865685616780148, 0.009385060711242232, 0.018652637866122035, -0.002838553984369163, 0.00863939358385668, -0.0021994107323255463, -0.009949022663549023, 0.017667292019178937, -0.009389772317992318, -0.010907737541651308, 0.005923034762568058, 0.003872450162238472, -0.005794591525152271, 0.005230629572858803, 0.0003571622759004356, 0.0031800449725167823, -0.017512217812933883, 0.002168068156754188, -0.003903792737814271, 0.0038724501622446894, -0.0046760908340433005, 0.0016354487800267492, -0.00041513582033658736, 0.02118257990552852, -0.0033711733611090366, -0.0046494598652264685, 0.006961642547176794, -0.00685983027861603, -0.013251262799192531, -0.004223364363847182, 0.0037659262868876553, -0.006992985122760587, -0.006380472839558671, 0.0034996165985337058, -0.011999607263903478, -0.012052869201563787, 0.0056034631365564636, 0.0026740565646381498, -0.008963676816641453, 0.017294458455490158, 0.0032599378790187927, -0.0074989735306312255, -0.005981008307032631, -0.008830521972439165, 0.0038458191934278574, 0.01356612281847358, -0.011493618856005305, -0.0017733152309515887, -0.014609442209815526, 0.004405069538949924, 0.023552736131897234, 0.0020349133125732166, 0.017400982330826764, 0.024005462602086247, 0.02190161606407859, -0.0023591965453464425, -0.010455011071418774, -0.00044176678915075485, 0.0009430435903148293, -0.0022526726699743094, -0.0012939577919155454, -0.005874484431673821, 0.020783115372947414, 0.0016354487800143147, -0.0015602674802632777, -0.008723998097113217, 0.0012359842474998217, 0.006375761232807697, -0.009895760725865621, -0.0191633378807321, 0.0058697728249264, -0.001160802947735462, -0.015008906742346895, 0.006242606388640937, -0.0011341719789106364, 0.0013691390916763524, -0.018497563659841454, 0.0004903171200894008, 0.007920357425280855, 0.01689499392294902, 0.004431700507797842, -0.0054483889302705535, 0.010769871090710481, 0.003046890128342028, -0.008431057439893586, -0.0007613384151845537, -0.014209977677272612, -0.010694689790939016, -0.0016401603867768344, 0.010237251713991036, -0.008431057439898915, -0.006087532182355915, 0.011462276280439276, 0.0008098887461143178, -0.002652137202531435, 0.011488907249298741, 0.010370406558177336, -0.005954377338170502, -0.00502229342892857, 0.005177367635181618, 0.011781847906454423, 0.0016088178112116935, 0.017480875237329663, -0.01234580985876299, 0.02195487800174334, 0.013672646693803081, -0.0005216596956580943, 0.014551468665398026, -0.007472342561797518, -0.004063578550835167, 0.009731263306115068, -0.002625506233694175, -0.007046247060455535, -0.005821222493999301, -0.002119517825843076, 0.0008098887461081006, 0.006881749640678336, 0.009145381991738866, 0.01939830499352091, -0.0014004816672610332, -0.002598875264868461, -0.012692012453635826, -0.004755983740566627, -0.01972258822629236, -0.01010880847655482, -0.004063578550852043, 0.006242606388616068, -0.005901115400495094, 0.0024610088139391806, -0.0035309591741023993, 0.002008282343737733, -0.009709343944017235, -0.016260562277632395, -0.005661436680997056, -0.007578866437159881, 0.0006501029331058561, 0.008373083895481415, 0.008586131646175055, -0.004995662460085093, -0.011786559513222272, -0.014103453801931565, -0.008644105190587226, -0.0347957165873396, 0.010503561402352979, 0.0019550204060578835, -0.004356519208032594, 0.014578099634222852, -0.014076822833110292, -0.0021727797634847335, -0.003957054675481686, 0.012314467283198738, -0.006646782527910844, -0.0022526726700098365, -0.013384417643369062, 0.0020082823437297392, 0.002966997221816925, -0.002439089451843124, 0.0026474255958000015, 0.0006501029331120733, -0.003504328205282903, -0.006992985122789008, 0.0006501029330987507, -0.007845176125501396, 0.006828487703023356, -0.0007879693840218138, -0.010614796884446775, -0.001507005542586981, -0.017938313314277643, -0.005554912805653345, 0.007946988394124332, 0.010130727838650877, -0.001906470075130784, -0.004116840488510576, 0.012820455691058719, 0.015084088042107702, -0.0013205887607359301, -0.005022293428933011, 0.0012093532786767724, 0.012074788563678496, 0.007680678705759725, -0.0014803745737763663, -0.01636708615296989, 0.008266560020137703, -0.007206032873450674, 0.004564855351969044, -0.014156715739614967, -0.013490941518711885, 0.023126640630543704, 0.01202152662597289, 0.0049110579468187865, 0.006429023170482218, -0.009602820068693063, -0.0014537436049257835, -0.01191971435739525, -0.004702721802897436, 0.003472985629717762, -0.009549558130999891, 0.010689978184207583, 0.007307845142062064, 0.0071214283602039075, -0.0004151358203143829, -0.008058223876209247, 0.014578099634261044, 0.0043784385701108874, -0.0008944932593530908, 0.006695332858826397, 0.015377028699306017, 0.007201321266713023, 0.0013425081228390923, 0.014072111226351325, 0.0020349133125625585, 0.001369139091689675, -0.007578866437153664, 0.0028871043153007037, 0.007440999986212837, -0.006833199309733473, 0.016628684234611946, -0.002785292046715071, -0.01673991971667199, -0.010907737541653084, 0.0029669972218258067, -0.005182079241938808, 0.015510183543471001, 0.00288710431532202, 0.005363784417018458, 0.00760078579923551, 0.0025675326892802275, -0.0036641140183020227, -0.001214064885409094, -0.0014537436049204544, 0.004325176632453243, 0.008559500677339571, -0.027472200157512283, 0.0022479610632553104, 0.015590076449979229, -0.014902382867007624, 0.0314355029072928, -0.004542935989868546, -0.014795858991656807, 0.012767193753399297, 0.0021946991255816783, 0.0015289249046901432, -0.010188701383069265, -0.005022293428906366, 0.0017686036242050562, 0.005230629572857914, 0.0005968409954331122, -0.009682712975190633, -0.014289870583788833, 0.011409014342783408, -0.007845176125535147, -0.005475019899124689, -0.010028915570070573, 0.0031534140036599823, 0.010104096869837598, -0.003371173361115254, -0.003504328205283791, 0.00437843857012421, -0.0034244352987666815, 0.02030375793392647, -0.008697367128271516, 0.024458189072323222, 0.01234109825202534, -0.016207300339947217, -0.004223364363847182, 0.005576832167720092, 0.011488907249271207, 0.0062958683262897, -0.009363141349166604, 0.013299813130109861, -0.0011608029477168103, -0.013650727331715906, -0.012585488578294779, -0.005182079241931703, -0.00022871903848198372, -0.0034510662676128234, 0.003180044972490137, -0.007152770935782371, 0.002381115907450493, -0.004356519208037035, 0.0119150027506425, -0.014156715739605197, 0.011222597560911929, 0.018865685616797023, 0.0007299958396229655, -0.003211387548081923, 0.006349130263950009, 0.02368589097607554, 0.011435645311612674, -0.003610852080600857, -0.01820462300265202, 0.012900348597590039, -0.016660026810169093, 0.026242463984304187, -0.011573511762526856, 0.01737435136199661, 0.004884426978006395, -0.006300579933033568, -0.0018532081374473819, -0.008510950346406254, 0.011302490467429926, -0.0027053991402183897, -0.0009743861658506603, 0.0008897816526314273, -0.00888378391010658, -0.0026787681713695832, 0.016149326795536822, -0.005182079241935256, -0.004782614709392341, -0.006194056057682751, 0.0015022939358440013, -0.0014004816672619214, 0.02139562765619729, -0.007126139966965539, -0.007365818686469794, 0.0014490319981730337, -0.0040902095196573285, 0.014604730603054783, -0.004835876647058868, -0.01812473009613491, -0.005448388930274994, 0.0027006875334647518, 0.002327853969742222, -0.005528281836816085, -0.014529549303299305, 0.005603463136554687, -0.009895760725870062, 0.013086765379425103, 0.0031267830348493675, 0.0007033648707830409, 0.013592753787314393, -0.007392449655314159, 0.000756626808446903, 0.004857796009158477, 0.005230629572881895, 0.007307845142059399, 0.02951807315113264, -0.017485586844082412, 0.014631361571905366, 0.0002506384005629414, 0.0029936281906701723, 0.002301223000921837, -0.010481642040264028, -0.0003086119449777769, -0.01207950017041437, -0.0010542790723704343, 0.004005605006408786, -0.004969031491239839, 0.01242099115852735, 0.004458331476627997, 0.0007832577772743932, 0.0019283894372277288, 0.0104502994646829, -0.001453743604918678, -0.006620151559073584, -0.0018265771686190035, -0.000255350007305033, 0.013859063475654132, 0.0019017584683735933, -0.007525604499486249, -0.013198000861502912, -0.014369763490273968, 0.013193289254774143, -0.009203355536151037, -0.001187433916571834, 0.008186667113631252, 0.003899081131083726, 0.002700687533471857, -0.011253940136493057, -0.013597465394052044, -0.008457688408739727, 0.006322499295120743, -0.014076822833118285, -0.00182657716862078, -0.009789236850552108, 0.007600785799232845, -0.011919714357365052, 0.0027805804399534395, 0.0067219638276796445, -0.0011075410100547245, -0.009443034255647298, -0.006593520590241653, 0.021475520562706407, 0.0021946991255727966, -0.024223221959528196, -0.009869129757028361, -0.006114163151209162, -0.0037440069247907104, 0.019398304993519133, 0.004298545663610653, -0.011280571105335646, 0.00022400743173989213, -0.0006548145398541649, 0.009624739430770468, -0.007126139966949552, 0.004618117289636459, 0.00038379324473680754, 0.0014756629670218402, -0.01668665777901346, -0.00014882613196487426, -0.02390365033351749, -0.0022793036388177867, 0.0015022939358342313, -0.013943667988897346, 0.002061544281397154, -0.0094164032868429, 0.011435645311608233, -0.0007347074463499581, 0.0021946991255683557, -0.013890406051246806, 0.010716609153039514, 0.001156091340966725, -0.005821222493992195, 0.001555555873521186, -0.01191971435739081, 0.006375761232809474, 0.0001441145252218945, -0.0015602674802774885, 0.009012227147541019, 0.00520399860403753, 0.0027006875334532054, 0.002461008813941845, 0.01207478856365718, -0.0159143596827791, 0.0045382243831362246, 0.011195966592068451, -0.009629451037529435, -0.00014882613196576244, 0.004564855351974373, -0.012425702765280988, 0.007787202581094554, -0.003264649485753779, 0.015270504823960529, 0.0024077468762762066, -0.024755841336249418, -0.010987630448158647, 0.002753949471133943, 0.0212358418431835, 0.0088790723033636, 0.011195966592080886, -0.0027586610778769227, -0.0031314946415781364, -0.018311146877998397, -0.010561534946761597, -0.019456278537926863, -0.027019473687271756, 0.00504421279102818, -0.023344399987950126, -0.010481642040245376, 0.013965587351039588, -0.013890406051221937, -0.003957054675468363, -0.0037440069247898222, -0.007179401904616078, 0.0010229364968106225, 0.0004903171200973944, 0.014018849288667923, 0.0008365197149622361, 0.005496939261225187, -0.005821222493985978, -0.0019064700751334485, 0.00959810846194209, 0.005630094105391059, 0.011568800155774994, -0.00440978114570445, 0.005709987011901951, -0.014050191864257933, 0.0075741548304266715, -0.007925069032030052, 0.01644226745274846, -0.001347219729566973, -0.0007613384151889946, -0.02081445794855874, -0.0035309591741130575, -0.0021994107323202172, -0.019562802413260805, 0.004804534071480404, -0.023557447738635773, -0.019243230787242993, -0.0023858275141837026, 0.010343775589333859, 0.00219469912557102, 0.004618117289651558, 0.012021526626011081, -0.015062168680016974, -0.0007613384152076463, 0.0011294603721365704, 0.002940366252981441, -0.005981008306990887, -0.012399071796455274, -0.0005482906644962426, -0.005847853462823238, 0.015243873855117052, 0.0035528785362046733, 0.00011748355639618069, 0.009891049119134188, -0.004862507615906786, 0.008293190988962529, -0.00017545710078614718, -0.005661436680991727, -0.0006281835710160166, -0.004223364363840076, -0.008963676816597932, 0.005869772824915742, -0.009496296193318265, 0.0025142707516021545, 0.002381115907426512, 0.0054436773235364555, 0.007387738048562298, 0.0007299958396247419, 0.016442267452747572, 0.01777381589452265, -0.0015868984491040905, -0.003131494641580801, -0.00044176678916763024, -0.012745274391305905, -0.0016401603867635117, -0.006034270244676954, -0.0022793036388311094, -0.00044176678917207113, -0.0080582238762128, -0.012292547921092911, -0.007206032873467549, -0.014742597053962747, 0.009385060711230686, -0.012905060204321472, 0.014098742195180591, -0.017858420407772968, -0.008377795502208407, 0.004378438570133092, -0.006646782527894857, -0.003557590142961864, 0.009571477493097724, 0.004751272133833417, -0.002891815922050789, 0.007201321266716576, 0.007307845142037195, -0.020761196010891325, -0.0045429359898800925, 0.007361107079725926, -0.015142061586510991, 0.012261205345524218, -0.007498973530651654, 0.0056567250742247666, -0.01735243199989167, 0.009038858116383608, 0.006748594796508023, -0.007552235468328838, -0.01942964756909671, -0.000708076477537567, -0.012212655014591789, -0.011759928544361031, 0.008053512269464491, -0.00022871903847132558, -0.015994252589268676, -0.009123462629649026, 0.010290513651655786, 0.004325176632450578, 0.002354484938593693, -0.011120785292323632, 0.0009430435902979539, -0.00571469861865026, -0.010135439445409844, 0.0060828205756058296, 0.0035528785362064497, 0.007414369017397782, 0.0015821868423806507, 0.008745917459204833, -0.00528860311727275, 0.00949158458660282, -0.017086122311550156, 0.008053512269467156, 0.005097474728694706, -0.003184756579243775, 0.015323766761627944, 0.0018751274995532086, 0.014817778353765299, -0.010268594289566835, -0.011733297575553081, 0.0032599378789965883, 0.0002240074317363394, -0.00028198097613607587, 0.010263882682846948, 0.008026881300604138, -0.006779937372083822, 0.0004370551824148805, -0.006859830278587609, 0.004698010196131364, -0.003078232703887629, -0.004889138584747599, 0.0042452837259476794, -0.016606764872494573, 0.000996305527992014, 0.0074143690173817944, 0.0019017584683762578, -0.0024923513895140914, 0.008239929051318207, 0.01367264669382795, -0.009416403286826913, 0.004671379227321637, -0.009522927162175066, 0.0011560913410040285, -0.02267862576705415, -0.0068065683409184174, -0.0027586610778911336, 0.0033664617543500697, 0.009864418150309362, 0.0015555558735078634, 0.005896403793777871, 0.008932334241039008, 0.0003305313070862681, -0.00808485484504562, -0.008324533564548986, 0.0003571622759244164, -0.005608174743321648, -0.0004950287268368214, 0.001981651374902249, 0.0024077468762691012, -0.005501650867951291, 0.01042366849585008, -0.0036641140182807064, 0.011355752405101782, -0.002918446890862292, 0.004591486320797422, 0.0034197236920379126, -0.0005216596956625352, 0.0026740565646354852, 0.0027273185022886892, -0.0009477551970578091, -0.007685390312491158, 0.0030468901283242644, -0.009443034255655292, 0.016282481639726676, 0.0035795095050570325, 0.004884426977987744, 0.0037392953180619415, 0.001795234593045869, 0.008426345833160376, -0.004915769553595517, 0.010663347215382757, -0.010987630448140884, 0.006136082513267915, 0.004378438570141974, -0.003424435298778228, -0.0003086119449822178, 0.018519483021929517, -0.011014261416954163, 0.011169335623244514, -0.022412316078702865, 0.0072812141732141455, -0.012931691173161397, -0.009070200691986052, -0.01532847836836293, -0.006087532182367461, -0.014209977677286822, 0.009571477493086178, -0.0037972688624634543, 0.0009164126214749047, -0.0175654797505862, 0.006615439952317281, -0.010641427853284924, -0.003637483049481638, -0.018364408815667588, 0.002168068156742642, 0.006935011578353745, -0.012638750515966635, -0.011946345326245833, 0.002647425595797337, 0.0015555558735194097, -0.010960999479310729, 0.0064023922016547274, -0.01719264618687877, -0.009309879411484978, 0.0008631506838021608, 0.008266560020143032, 0.0046181172896408995, -0.012212655014579354, 0.017241196517815638, 0.004431700507783631, -0.009949022663548135, -0.00012219516314271317, 0.0009164126214535884, 0.004298545663594666, 0.00765404773691003, 0.008160036144811755, 0.008426345833171034, 0.019211888211665418, -0.0008944932593708543, -0.008138116782697047, -0.0031581256104162847, 0.016255850670909844, 0.011781847906463305, 0.014045480257506071, -0.014289870583774622, -0.003024970766224655, -0.001214064885393995, 0.005230629572869461, 0.0063224992951402825, 0.012820455691065824, -0.014449656396792854, 0.0024610088139382924, -0.009469665224492552, 0.010423668495849192, -0.005688067649820994, 0.015989540982525696, 0.018253173333585337, -0.011573511762545508, 0.0054969392612198575, 0.0006501029331076325, -0.013890406051255688, -0.010827844635117323, 0.0019550204060481136, 0.010263882682819414, -0.005874484431672933, 0.018146649458247843, -0.005661436680974852, 0.01668194617225449, -0.025208567806457083, 0.0065621780146596365, 0.0024343778451072495, -0.007552235468329727, -0.020015528883475575, 0.0019816513749004727, 0.008639393583845134, -0.013624096362888416, -0.019882374039298156, -0.005741329587485744, 0.019504828868844193, -0.012106131139246301, 0.004112128881756938, -0.005661436680980181, 0.021661937344548576, 0.0010495674656425535, 0.005097474728669837, -0.012052869201587768, -0.0019331010439644913, -0.0016667913556345226, 0.0019550204060587717, -0.006939723185101165, -0.015062168680012533, 0.005736617980732994, 0.009731263306103521, 0.019105364336327035, -0.008644105190581897, 0.0012093532786652261, 0.012447622127343294, -0.006513627683746748, -0.004995662460106409, 0.0007299958396309592, -0.01141372594949619, -0.023211245143774484, -0.005102186335435022, -0.0015336365114242412, 0.0017153416865340887, -0.006034270244684059, -0.010614796884438782, 0.00025063840055761233, -0.00523534117961777, 0.005789879918419061, -0.011706666606698946, -0.0027053991402068434, 0.0013158771539982794, -0.00587448443165961, 0.0056300941054177045, -0.030880964168488845, 0.0003571622759297455, -0.012212655014573137, 0.009251905867064814, 0.002088175250229085, -0.0022526726699849675, 0.002327853969767979, 0.00014411452522367085, -0.011946345326209418, 0.017507506206152712, -0.016154038402307336, 0.006189344450950429, 0.002008282343733292, 0.0034996165985337058, -0.015807835807433612, -0.00869736712827418, -0.010747951728624194, 0.0039257120999085515, 0.014391682852369136, -0.013198000861505577, 0.00035716227591819916, -0.005688067649813, -0.009762605881697972, 0.006535547045839252, 0.008399714864332886, 0.011302490467417492, 0.003978974037577743, -0.00483587664706242, 0.0026207946269583005, 0.01545692160581602, 0.0005702100265772003, 0.0077339406434076, -0.010747951728629523, 0.0011294603721534457, 0.0033664617543536224, -0.010401749133764682, -0.0026255062337074975, -0.004782614709403887, 0.013273182161278818, -0.004249995332690659, -0.005128817304257183, -0.015967621620432304, 0.0015821868423637753, 0.0077339406433916125, -0.014955644804675039, 0.015243873855126822, 0.0011028294033197383, 0.005363784417043327, -0.011520249824865658, 0.007387738048562298, -0.026247175591073812, 0.0017419726553660198, 0.008186667113633916, -0.006779937372075828, 0.006908380609516485, -0.005341865054945494, -0.01708612231154394, -0.004489674052194026, 0.009704632337284913, 0.01889231658561652, -0.004596197927534185, -0.0027852920467088538, -0.0012673268230800616, -0.0064869967148890595, -0.03253208423630749, -0.004729352771743578, 0.011835109844168024, -0.00917672456731733, 0.00022400743172124038, 0.009251905867071919, -0.006673413496732117, 0.002620794626966294, 6.422161869590326e-05, 0.011249228529742972, -0.002385827514165939, -0.00483587664706242, -0.0012140648854224168, -0.0029717088285377002, 0.002727318502313558, 0.021741830251079897, 0.0030202591594985506, 0.003978974037547545, -0.009443034255663285, -0.00297170882855724, -0.005954377338166061, 0.014311789945862685, 0.015936279044860946, 0.006215975419785025, -0.003610852080620397, 0.006562178014648978, 0.01074324012188832, -0.009469665224495216, 0.013353075067776388, -0.013917037020098277, -0.01245233373411292, -0.007951700000856654, -0.013943667988902675, -0.012319178889953264, -0.007285925779958902, -0.0027852920467061892, -0.0018532081374704745, 0.012314467283183639, 0.0018218655618742474, -0.01090773754165042, 0.008186667113643686, 0.005044212791009528, 0.010903025934913657, -0.01724590812454352, -0.0008146003528750612, -0.013996929926600288, 0.009544846524270234, 0.005789879918423502, -0.01966932628861784, -0.018391039784487972, -0.010907737541631768, 0.0012093532786590089, -0.012878429235492206, 0.009811156212624184, -0.01673991971667732, 0.005656725074230984, 0.001049567465639889, 0.012420991158530015, -0.0031581256104011857, 0.011675324031128476, -0.003451066267610159, 0.004298545663613318, -0.008431057439890921, -0.006087532182345257, 0.002887104315338007, 0.016069433889029483, -0.005235341179605335, 0.002913735284133523, 0.006402392201651175, 0.025203856199729202, 0.00014411452523699353, -0.0043298882391873406, 0.0006767339019555507, -0.014130084770747509, -0.0020928868569907166, -0.01168003563785458, -0.007951700000860207, 0.010476930433509501, 0.0021946991255834547, -0.010508273009106617, 0.0008631506837923908, -0.00382389983128828, -0.005901115400482659, 0.0019816513748835973, 0.006429023170472448, 0.005896403793754779, 0.006136082513279462, 0.01694825586060489, 0.008133405175945185, -0.003264649485749338, 0.0045914863207991985, -0.00254561332719927, 0.002088175250259283, 0.013805801537977835, -0.017512217812917896, 0.0007832577772779459, -0.0042766263015137085, 0.003845819193420752, -0.006593520590231883, 0.005709987011908169, -0.0009743861658675357, 0.005736617980736547, -0.006566889621401728, 0.004831165040340757, 0.0111160736855771, -0.003211387548075706, 0.008879072303386693, 0.010050834932139985, 0.0017686036242130498, -0.021586756044803757, 0.004165390819432346, -0.00222604170115126, -0.015967621620446515, -0.002119517825829753, 0.006109451544435096, -0.004755983740559522, -0.002412458483022739, 0.0015022939358386722, -0.010614796884450328, -0.007712021281334636, 0.0013158771540027203, -0.010321856227249349, 0.011116073685576211, -0.0040103166131624235, 0.0012093532786519035, -0.01010880847656459, -0.0014271126360805297, -0.007498973530672082, -0.0012673268230836143, -0.029815725415053507, -0.0014803745737790308, -0.008937045847777547, -0.003584221111773367, 0.002274592032099676, -0.011040892385828727, 0.003978974037591065, 0.012820455691081811, 0.014791147384908498, 0.007094797391371976, -0.0015070055425825402, 0.0009963055279778033, -0.02206611348383447, -0.010455011071413445, 0.0009696745591325495, 0.005017581822168715, -0.005315234086125997, -0.005261972148431937, -0.0033978043299249805, 0.012580776971560681, -0.0053418650549490465, -0.011999607263909695, 0.008106774207139011, -0.013064846017345921, -0.011200678198837188, 0.0028604733464794307, -0.001134171978913301, -0.0037173759559747666, -0.0003086119449946523, -0.0036374830494407817, -0.015062168680012533, -0.003184756579265091, 0.013779170569145904, -0.0010809100412165762, -0.0045961979275430664, 0.005789879918421725, 0.002354484938614121, -0.002146148794644809, 0.002354484938589252, -0.0072326638422950396, 0.0007299958396034256, 0.01372590863147849, -0.011307202074191558, 0.0046713792273340715, 0.010210620745163546, 0.019904293401382667, -0.015488264181370504, -0.006273948964212295, 0.0001973764628857566, -0.006540258652560027, 0.014045480257530052, -0.011866452419716289, -0.006486996714877513, -0.004409781145689351, -0.009789236850520133, 0.006455654139319478, 0.005443677323559548, -0.0022260417011574773, -0.018897028192382592, -0.004915769553574201, -0.007765283218996721, -0.0003885048515002154, -0.00462282889638832, 0.0002772693694099715, -0.004063578550820068, -0.008910414878947392, -0.008164747751559176, -0.009842498788204423, 0.009917680087971448, -0.00028198097615383944, -0.005901115400524404, 0.02533701104387731, 0.013033503441765681, -0.0004950287268226106, -0.0041168404885141285, 0.0053637844170415505, -0.018524194628676938, -0.0009477551970507037, -0.0011608029477381265, 0.005869772824931729, 0.01375253960032996, 0.004192021788274047, -0.014822489960500285, 0.017187934580118025, -0.001986362981647005, 0.0059762967002638945, 0.006881749640690771, -0.00025535000732723745, -0.008431057439907796, -0.0076321283748042035, 0.0010495674656372245, -0.016793181654350953, 0.016815101016423917, -0.016340455184136182, -0.0002287190384704374, 0.004484962445445717, -0.021986220577330684, 0.0017686036242094971, 0.00376592628690009, -0.0028119230155576602, -0.018098099127304756, -0.010561534946752715, 0.014285158977034307, 0.00512410569751065, -0.003397804329942744, 0.009012227147565888, 0.0028871043153184672, 0.000889781652619881, 0.00645565413929905, -0.009576189099843369, -0.004542935989865882, -0.011786559513217831, -0.01253222664062914, -0.0012140648853948832, -0.0007080764775251325, -0.002785292046699084, -0.006486996714888171, -0.00393042370664709, -0.009549558130996338, 0.0035795095050330517, 0.007361107079715268, -0.014263239614939138, 0.012980241504068957, 0.007334476110895771, 0.004245283725935245, -0.006353841870711641, -0.003690744987139283, 0.004138759850600415, 0.015243873855126822, -0.022438947047539237, -0.0006015526021672102, 0.015057457073273994, 0.006935011578371508, 0.010982918841386358, 0.0032865688478542765, 0.0005169480889213318, 0.01535039773045721, -0.000628183571017793, 0.0005702100265931875, 0.013379706036634076, -0.007578866437139453, -0.0007613384151836655, -0.006726675434415519, 0.008612762615006986, 0.005283891510540428, 0.002647425595803554, 0.006189344450956646, -0.011759928544370801, -0.0011075410100698235, 0.005843141856082923, -0.009895760725868286, -0.007072878029281249, 0.00467137922729588, 0.013566122818476245, 0.0043518076012896145, 0.014950933197942717, 0.014338420914711492, -0.0035043282052811264, -0.004090209519660881, -0.009682712975179975, 0.008239929051303108, 0.010050834932146202, 0.008905703272190202, 0.012314467283174757, 0.000703364870793699, 0.012873717628744785, 0.004591486320813409, -0.010108808476537945, -0.019349754662582264, 0.0054170463547293934, 0.0016088178111779428, 0.0019283894372197352, -0.013943667988914221, -0.006726675434409302, 0.005124105697506209, 0.012740562784556708, 0.005949665731431075, 0.012207943407840816, 0.016708577141081093, -0.004249995332684442, 0.0012359842474891636, -0.006087532182346145, -0.018737242379351926, 0.007840464518770851, 0.010450299464695334, -0.02030846954065435, -0.007445711592996673, -0.015328478368378029, 0.0053371534482051786, 0.002700687533461199, 0.005124105697518644, -0.004755983740552416, -0.009389772317986989, 0.007414369017420874, -0.006327210901868163, -0.012905060204320584, 0.01649552939042831, 0.018173280427075333, -0.006380472839558671, 0.01396558735101383, -0.01210613113924186, 0.0025675326892811157, 0.010210620745184862, 0.000809888746115206, -0.0010276481035456086, 0.007787202581094554, -0.0178850513766049, 0.014178635101701254, 0.0025941636581077177, 0.010263882682833625, 0.008399714864318675, -0.0017733152309409306, 0.003978974037565308, -0.0006814455086781024, -0.019882374039307926, -0.013251262799199637, -0.018657349472851692, -0.008004961938543609, -0.008990307785462726, -0.009096831660794003, 0.015616707418824483, -0.009522927162172401, 0.022141294783624588, -0.015541526119065452, -0.0018798391063112874, -0.007605497405975825, -0.027791771783538977, -0.0021195178258226477, -0.013837144113583832, 0.012181312439011549, -0.005182079241943249, 0.017800446863357244, -0.006859830278592938, 0.015377028699306017, 0.015643338387666184, -0.0016667913556247527, -0.0025722442960240954, -0.01908344497421588, -0.019775850163945563, -0.006433734777217204, -0.005261972148467464, -0.006913092216277228, 0.013299813130111637, -0.016553502934812947, 0.01633574357738965, -0.0009211242282054499, 0.00935842974239165, 0.0011028294033170738, -0.004995662460086869, 0.003126783034837821, -0.013144738923852373, 0.0033131998166746612, -0.0006814455086576743, 0.009331798773561495, 0.0154036596681566, 0.0058964037937689895, -0.0062739489642060775, -0.014050191864265038, -0.007738652250163902, -0.013730620238209035, 0.004005605006415003, -0.005235341179614217, 0.012634038909219214, -0.009496296193327147, -0.010641427853269825, 0.0009696745591503131, -0.006753306403251891, -0.0003618738826540735, 0.004591486320784988, -0.006966354153934873, 0.006775225765349724, 0.0022479610632561986, 0.0009696745591334377, -0.0053418650549339475, 0.004511593414301629, -0.00014882613196842698, 0.025310380075064032, -0.0015336365114198003, 0.004724641164963295, 0.007733940643436021, -0.006566889621380412, -0.002838553984398473, -0.008564212284090544, 0.00839971486431157, 0.009917680087963454, -0.0017466842621107759, -0.010348487196087497, 0.010237251713997253, -0.0024390894518324657, -0.005448388930284764, -0.007605497406006911, 0.02413861744629031, 0.011755216937624269, 0.008559500677344012, -0.0033445423922611184, 0.005070843759837906, 0.003872450162232255, -0.002412458482986324, -0.008324533564569414, 0.007654047736918912, -0.006646782527908179, -0.0019064700751396657, -0.002119517825818207, 0.016602053265780015, -0.0019331010439795904, -0.002865184953214417, -0.01136046401184565, -0.007445711592990456, -0.001267326823077397, -0.007472342561818834, 0.004990950853337672, -0.0005482906645095653, -0.006913092216273675, -0.0020396249193259663, 0.01630911260856216, 0.031062669343591587, 0.008213298082488052, -0.0058744844316764855, -0.00984249878818666, 0.004671379227308314, -0.01436976349029262, -0.020095421789982915, 0.015989540982531025, 0.0022479610632455405, 0.009518215555411658, -0.008883783910113685, -0.0031581256104065147, 0.003526247567361196, -0.009336510380323126, 0.011488907249283642, -0.0035043282052873437, 0.000543579057763921, 0.026934869174072062, 0.0062692373574666505, 0.011648693062292104, 0.00043705518242465047, 0.004058866944099293, -0.0029983397974016057, 0.008266560020147473, 0.005230629572860579, 6.422161871366683e-05, 0.004911057946832997, 0.008293190988998944, 0.0005702100265967402, -0.006194056057682751, -0.00978923685051658, -0.0029983397973811776, 0.010476930433507725, -0.013304524736857282, 0.0043251766324576835, -0.002465720420675055, 0.022407604471958997, 0.0073877380485756206, -0.003637483049452328, 0.013086765379432208, -0.010455011071408116, -0.0044364121145337165, 0.0018484965307248302, 0.006775225765327519, -0.0035575901429503176, -0.010774582697451685, -0.023397661925631752, -0.01183982145089324, -0.002439089451844012, 0.008293190988990062, 0.0011028294033215147, 0.020064079214408892, -0.010987630448134666, -0.0023858275141872554, 0.011302490467419268, -0.024782472305086678, -0.0016667913556078773, 0.011568800155781211, 0.005283891510527994, -0.011653404669030643, -0.018098099127300316, 0.001715341686535865, -0.006247317995367041, -0.018231253971481287, -0.003344542392245131, -0.036473467624008826, -0.014875751898171252, -0.005927746369326137, 0.016495529390429198, -0.002172779763482957, 0.015483552574661275, -0.0018265771686243326, -0.02321124514377093, 0.0014224010293393263, -0.009762605881697084, -0.0022526726699991784, 0.01191500275063806, 0.005124105697507986, -0.00148037457375505, 0.013938956382170353, -0.004809245678226937, 0.007041535453691239, 0.010157358807488137, 0.006189344450949541, 0.003925712099901446, 0.00038379324474036025, 0.003126783034851144, -0.0025988752648720137, -0.0071261399669682035, 0.008745917459188846, -0.0037706378936288587, -0.008803891003613451, -0.008324533564564973, -0.015674680963249976, 0.0031267830348458148, -0.002732030109031669, -0.008777260034772638, 0.0027273185023029, 0.01750750620617758, 0.004351807601290503, 0.005363784417038886, -0.015807835807432724, 0.02317990256819158, 0.006935011578336869, -0.013091476986166306, 0.002727318502306453, -0.007765283219013597, 0.0040322359752549275, 0.01244762212736017, -0.013650727331709689, -0.001693422324457572, -0.0011874339165602876, -0.02017531469648315, 0.0024077468762744303, 0.00041042421356962677, 0.014737885447239307, -0.00017545710081101618, -0.010934368510479686, 0.00451159341431584, -0.0037706378936235296, -0.009283248442629954, -0.0005216596956634234, 0.005976296700267447, 0.009278536835926943, 0.020383650840445355, 0.005576832167729862, 0.004804534071502609, 0.004911057946827668, 0.004112128881762267, -0.01785842040776764, 0.0070149044848379916, 0.001608817811199259, -0.008910414878941175, 0.0018484965307017376, -0.027099366593794194, 0.015297135792796901, -0.018763873348184745, -0.0013472197295758548, -0.010907737541632656, 0.010104096869810064, 0.006881749640696988, -0.011786559513208061, -0.004116840488492812, -0.014609442209806645, 0.0028338423776324007, -0.0017466842620992296, -0.0006814455086789906, -0.003158125610411844, -0.009043569723123035, -0.004489674052179815, 0.007387738048564074, 0.009358429742418295, 0.029890906714832965, -0.005821222494001965, -0.0038771617689734583, 0.006935011578353745, -1.567128779988991e-05, 0.0013158771540036085, 0.011275859498601548, -0.0009743861658861874, -0.013277893768019133, -0.016340455184134406, 0.005097474728687601, -0.011120785292325408, 0.002487639782756901, 0.0027539494711303902, 0.01849285205308604, 0.003792557255728468, -0.019349754662575158, 0.014018849288700785, -0.0013472197295687494, 0.004298545663623088, 0.020916270217167465, -0.019882374039297268, 0.00709479739136043, -0.005128817304283828, 0.01194163371948509, 0.003153414003678634, -0.021293815387593007, 0.020223865027429788, -0.0022793036388408794, -9.556419431788754e-05, 0.000729995839610531, 0.001369139091664806, -0.003104863672730218, -0.012079500170405488, 0.013432967974271293, 0.011355752405099118, 0.00557683216773075, -0.01266538148479146, -0.011307202074196887, -0.024995520055776765, -0.00028198097614406947, 0.017187934580133124, -0.00909683166078068, 0.02009071018324171, -0.005395126992618238, 1.0959681065791926e-05, -0.007951700000845996, -0.004356519208045029, -0.004942400522415902, 0.005390415385896574, 0.006109451544449307, 0.005496939261228739, 0.019052102398648074, 0.004911057946832997, 0.013273182161279706, 0.0060828205756005005, -0.0014271126360858588, -0.005075555366596873, -0.010614796884412137, 0.00789372645644093, -0.0022793036388257804, 0.012261205345501125, 0.0032333069101655454, 0.00469801019613314, 0.006828487703022468, 0.003712664349222905, -0.008138116782725469, -0.003504328205249152, -0.009629451037518777, -0.011387094980675805, -0.005022293428913471, -0.004755983740559522, 0.008719286490371125, 0.007414369017386235, 0.003206675941347825, -0.007285925779949132, 0.008293190988974963, -0.0052087102107858385, 0.004085497912925007, -6.893322547352199e-05, -0.0004151358203268174, -0.0010809100412298989, 0.00304689012833137, -0.00307823270389207, 0.004032235975281573, 0.013619384756131225, 0.011675324031127587, 0.009251905867060373, 0.0073611070797188205, 0.0027805804399685385, 0.005683356043066468, 0.0021414371879053817, -0.005501650867957508, 0.016255850670885863, 0.0045914863207894285, -0.017086122311544827, -0.01687307456086362, 0.007733940643429804, 0.0032865688478382893, 0.012980241504088497, 0.0006767339019457808, -0.017059491342704902, -0.006779937372073164, 0.01625585067089741, -0.012345809858761214, -0.008084854845034073, 0.00288710431530248, -0.006726675434440388, -0.0012406958542339197, -0.013331155705692765, 0.011808478875315664, -0.001400481667260145, -0.010162070414233781, -0.016793181654336742, -0.00563480571213848, -0.005714698618643155, 0.009731263306100857, -0.015568157087900936, -0.0006015526021778683, 0.0024610088139151998, -0.010801213666278286, 0.005630094105420369, -0.000947755197037381, -0.0035043282052651392, 0.0037659262868894317, -0.00725929481112253, 0.006322499295142059, -0.005821222494025058, -0.003317911423437181, 0.0007033648707857054, 0.004405069538941042, 0.0016088178111974827, -0.002838553984398473, 0.007068166422540045, 0.009757894274954104, -0.005847853462831232, -0.004995662460109074, -0.004995662460085093, -0.002811923015542561, -0.0053951269926075796, -0.0024124584830147455, 0.010929656903722496, -0.013171369892691409, 0.0057099870118930696, 0.0037392953180717114, 0.008266560020147473, 0.014657992540741738, -0.010641427853289365, -0.0011075410100609417, -0.0012140648853877778, 0.009811156212618855, 0.007440999986232377, -0.004409781145723102, -0.0060076392758396935, 0.005896403793751226, 0.017720553956839247, -0.013144738923849708, -0.007498973530648989, 0.006056189606781892, 0.013353075067784381, 0.023792414851431687, 0.012713931815723, -0.023797126458164897, 0.0028871043153211318, 0.0077073096745747804, -0.011759928544404552, -0.004409781145702674, 0.0032066759413602597, -0.01298495311081993, -0.002652137202536764, -0.005847853462847219, -0.0035309591741281565, -4.230225661139286e-05, -0.010455011071427656, 0.007387738048584502, 0.005390415385879699, 0.0003039003382356853, 0.010317144620477947, 0.016575422296907227, 0.00975789427494167, -0.007685390312514251, 0.008506238739669492, 3.759064986130767e-05, -0.0067000444655871405, -0.01330452473686261, 0.009891049119129747, 0.002008282343733292, 0.009970942025642415, -0.0033978043299249805, -0.004196733395001928, 0.0028871043153140263, -0.0002553500073139148, 0.010663347215343677, -0.011866452419700302, 0.0029936281906453033, -0.016420348090641745, -0.0021727797634802926, 0.0013691390916727997, 0.019957555339052746, 0.005443677323555995, 0.0031800449725132296, -0.021746541857808666, 0.004831165040326546, -0.022758518673569483, -0.011546880793704695, -0.006087532182355027, -0.007072878029287466, -0.0048358766470579795, -0.0011874339165762748, 0.0005169480889364308, -0.008164747751550294, -0.0027586610778795873, 0.005709987011910833, -0.007046247060442212, -0.0003618738826425272, -0.006167425088855261, 0.011249228529771393, -9.556419431433483e-05, 0.007494261923899792, 0.007840464518774404, 0.005443677323560436, 0.009891049119134188, 0.0048844269779770855, 0.008026881300625455, -0.01378388217590043, 0.00027726936941530056, -0.01247896470296439, 0.004618117289632906, 0.007201321266708582, -0.03263860811165209, 0.014205266070529632, 0.004165390819432346, -0.001054279072369546, -0.015275216430687522, 0.009464953617738026, -0.01245233373410315, -0.011866452419709184, 0.008266560020131486, -0.008937045847778435, 0.001422401029333109, -0.008750629065922055, -0.004329888239180235, 0.007600785799255938, -0.002199410732334428, -0.0014271126360902997, 0.00256753268928378, 0.002194699125584343, -1.5671287815877122e-05, -0.014582811240972049, -0.017991575251965486, 0.011355752405114217, -0.0016934223244398083, -0.010668058822106197, 0.019158626273990897, -0.012345809858764767, -0.007578866437181198, -0.003877161768986781, 0.008479607770819797, 0.008319821957819329, 0.011595431124624689, 0.004005605006395463, -0.021187291512265283, -0.012505595671778558, 0.018386328177750322, 0.0009963055279493815, -0.006913092216274563, -0.010774582697434809, 0.011915002750639836, 0.007361107079727702, 0.011861740812955546, -0.011866452419737605, -0.0073924496553186, 0.0012093532786678907, -0.006779937372081157, -0.005155448273096219, 0.00800025033178553, -0.01852419462867072, 0.0063757612328085855, -0.012585488578270798, -0.003371173361106372, -0.004862507615906786, -0.010215332351885209, -0.01732580103106862, 0.011888371781832774, 0.006615439952323499, 0.013432967974304155, -0.0008146003528368695, 0.008426345833161264, -0.017272539093411865, -0.011387094980683798, -0.0061407941200428695, 0.0008631506837941672, 0.0006501029331094088, 0.006642070921171417, 0.002620794626960077, -0.01053490397792789, 0.011941633719470879, 0.007387738048564074, 0.009784525243770936, 0.0002506384005585005, 0.0041387598506013035, -0.02076119601088955, 0.013805801537979612, -0.0024390894518404593, -0.025927603965044455, -0.0010276481035393914, -0.006833199309754789, -0.007978330969709013, 0.009598108461945642, -0.001986362981635459, 0.008586131646170614, -0.01149361885602218, 0.017827077832189175, -0.0037440069247915986, 0.013912325413345528, -0.01618066937113305, 0.02275380706683361, 0.012420991158534456, -0.0010276481035438323, 0.014711254478421587, 0.0045914863208045276, 0.008266560020142144, 0.0231266406305366, -0.01072132075976917, -0.012798536328979537, -0.008910414878939399, 0.017880339769869025, 3.759064987729488e-05, -0.006060901213503556, -0.012745274391321892, 0.004112128881772037, 0.0002506384005673823, -0.014369763490269527, -0.004383150176863637, 0.011089442716729181, -0.003877161768991222, 0.007787202581105213, 0.009065489085212874, -0.018683980441678294, 0.0011560913409933704, -0.003131494641590571, -0.006833199309763671, -0.004116840488509688, -0.016367086152973442, -0.004516305021022404, -0.018364408815648048, 0.006295868326286147, 0.017507506206165147, 0.0027273185022957946, -0.011360464011836768, -0.013144738923845267, -0.0008412313216865641, -0.0012140648853682379, 0.002194699125609212, -0.016766550685526127, -0.00654025865254404, -0.004036947581988137, -0.014849120929343762, -0.002572244296022319, -0.006673413496751657, -0.0014271126360849706, 0.009438322648920305, -0.007312556748782839, 0.01993092437022348, 0.00914538199172199, 0.010317144620492158, 0.003366461754352734, -0.004329888239186452, 0.007627416768088757, -0.0007347074463597281, 0.0009696745591494249, 0.004112128881767596, 0.006721963827685862, 0.004511593414282089, 0.007041535453683245, 0.004378438570120657, -0.004356519208016607, -0.011600142731367669, 0.005363784417038886, -0.009336510380324015, -0.008830521972434724, -0.011333833043003061, -0.002838553984354064, 0.012154681470177842, -0.0027586610778769227, 0.017241196517816526, -0.013810513144748349, -0.0030249707662370895, -0.020148683727670758, -0.012692012453633161, 0.010796502059559288, -0.0003618738826611789, 0.015803124200688856, -0.004356519208036147, 0.011036180779060878, 0.0005702100265789767, 0.0032066759413487134, 0.0015821868423389063, 0.0005702100266047339, -0.011333833042997732, 0.029198501525093512, 0.007787202581089225, 0.006615439952337709, -0.006939723185099389, 0.0034463546608645146, 0.008772548428018112, -0.00291844689089249, 0.0004104242135927194, 0.009385060711251114, -0.0025456133271868353, -0.01032185622724402, -0.0017733152309604705, -0.008218009689209715, -0.014236608646116977, -0.004516305021024181, 0.0008897816526234337, 0.004298545663597331, -0.022332423172195526, -0.004782614709409216, 0.010050834932154196, 0.005417046354712518, 0.008666024552678842, -0.019296492724905967, -0.016979598436219767, -0.0035575901429645285, 0.000996305527961816, -0.0027586610778813636, 0.005124105697533743, 0.011169335623250731, -0.011094154323466832, 0.010982918841391687, 0.007654047736917136, -0.011493618856028398, -0.012905060204316143, 0.006429023170475112, 0.01260740794037396, -0.01655350293483604, 0.00839971486432134, -9.556419428768947e-05, -0.00600763927584147, 0.013166658285942212, -9.556419427791951e-05, 0.012474253096233845, 0.005337153448198073, -0.002226041701166359, -0.03261197714282282, 0.010929656903688745, 0.004112128881766708, -0.0015868984491040905, 6.422161871277865e-05, -0.012239285983407733, -0.0028651849532224105, 0.011062811747895474, 0.009704632337290242, -0.0017733152309666877, 0.0026474255958106596, 0.011728585968788785, -0.0041967333950188035, -0.012239285983424608, 0.011542169186934181, 0.017028148767127327, -0.009016938754299986, 0.016016171951386937, 0.009225274898235547, -0.016686657779000136, -0.007392449655293731, 0.0004370551824326441, 0.012420991158524686, -0.01602088355809883, 0.009837787181448121, 0.017560768143849437, 0.007201321266718352, -0.024036805177697573, -0.005528281836804538, -0.002785292046689314, 0.004138759850600415, 0.0010229364968097343, -0.006060901213515102, 0.002034913312555453, -0.00022871903847754282, 0.013566122818476245, 0.0007033648707848172, -0.004223364363854287, 0.021076056030167933, -0.009549558131007885, -0.0029983397974042703, -0.0052619721484488124, 0.003046890128327817, -0.018204623002640474, -0.006673413496756098, 0.00405886694410551, 0.003845819193395883, 0.00461811728964534, 0.013512860880783961, -0.009869129757025696, -0.001906470075130784, 0.003765926286901866, 0.012234574376667418, -0.0035309591741228274, -0.0021195178258066605, -0.012106131139254295, -0.00920335553612972, -0.005208710210786727, 0.01351286088079462, 0.004218652757107755, 0.008452976801978096, -0.015994252589273117, -0.0016667913556140945, 0.006056189606790774, -0.003983685644333157, -0.01215939307691194, -0.005608174743318983, 0.0033664617543553987, -0.00036187388264696807, -0.001586898449111196, 0.0021414371878956118, -0.005954377338166061, 0.022700545129155536, 0.0052306295728783425, 0.007627416768074546, 0.0032333069101957435, -0.007578866437164322, -0.00920335553613505, 0.01764066105034434, -0.008297902595741036, 0.004804534071499056, 0.028426203428852048, -0.003104863672743541, -0.006886461247426645, -0.0005216596956785224, 0.013246551192439782, -0.0045429359898703225, 3.759064987729488e-05, 0.0029137352841326347, -0.0042499953326720075, 0.0014224010293508726, -0.007738652250163014, -0.009363141349152393, -0.0022793036388177867, -0.005448388930290093, -0.028430915035586146, 0.015696600325348697, 0.006855118671851734, -0.023717233551673544, -0.008803891003600128, 0.013379706036610983, 0.006295868326314569, 0.000357162275907541, -0.004702721802887666, 0.015829755169526116, 0.0044849624454723624, 0.01308676537943132, 0.0069083806095058264, -0.007419080624133656, 0.005150736666355904, -0.01966932628861784, -0.014769228022836423, 0.005337153448212284, 0.0047779031026555785, 0.007068166422515176, -0.009389772317993206, -0.011253940136504603, -0.002971708828556352, -0.0007879693840191493, -0.0018798391062704312, 0.018519483021919747, -0.003877161768977899, -0.002066255888125035, 0.014231897039358898, -0.0044630430833754176, -0.009016938754289328, -0.002758661077884028, -0.009389772317994982, 0.0063757612328085855, -0.003983685644318946, -0.009522927162171513, -0.00417010242617355, -0.0013205887607528055, 0.003978974037573302, -0.007179401904600091, 0.003872450162238472, 0.0033930927231962116, -0.01615403840228513, 0.0046713792273092025, -0.018124730096132247, 0.0014490319981810273, -0.02092098182387403, -0.0022793036388204513, 0.002354484938589252, -0.005634805712144697, -0.005315234086096687, -0.00544838893030164, 0.009891049119119089, -0.003451066267606606, 0.007041535453704562, -0.02014868372765921, 0.014258528008203264, -0.0034244352987622406, 0.020143972120918896, 0.0015022939358440013, -0.0066734134967303405, -0.0065136276837209905, 0.014604730603067217, 0.005124105697519532, -0.0165535029348165, 0.008399714864303576, -0.010694689790965661, 0.012873717628740344, -0.004809245678212726, -0.005341865054941941, -0.009682712975171981, 0.01596291001368133, 0.015057457073264224, 0.004431700507785408, -0.005022293428922353, 0.0061893444509451, 0.0008365197149480252, -0.00941640328682869, 0.00195502040605966, 0.0026474255957795734, -0.010002284601223543, 0.00030390033824545526, 0.01298024150408672, 0.005976296700257677, 0.01375253960033529, -0.004383150176870743, -0.006859830278600043, 0.02003744824558762, -0.0039570546754941205, 0.014178635101699477, -0.007898438063196345, 0.00472464116498017, 0.005683356043062027, -0.005448388930294534, -0.003957054675475469, -0.000255350007305033, -0.00880389100360457, -0.014156715739612302, -0.007632128374826408, 0.011169335623240961, 0.0026740565646212744, -0.003397804329932086, -0.0064869967148943886, -0.015488264181395373, 0.00946495361776023, -0.005075555366595097, -0.006194056057696962, -0.009922391694714428, 0.0031800449725025715, -0.011813190482067526, 0.004192021788266054, 0.012607407940378401, -0.0008944932593708543, -0.0026255062336923984, -0.00909683166080466, 0.01372590863148293, 0.006828487702999375, -0.0005749216333441609, -0.006486996714887283, 0.0015555558735131925, 0.006375761232800592, 0.009651370399608616, -0.011919714357386368, -0.0027586610778662646, 0.007707309674588991, 0.005949665731436404, -0.008111485813872221, 0.012261205345502901, 0.0038458191933941066, 0.0018751274995496559, 0.0037659262869071952, -0.016500240997142868, -0.010561534946754492, 0.0035262475673683014, 0.0008631506838225889, -0.004676090834052182, -0.0020396249193108673, 0.0034197236920476826, 0.021555413469211082, -0.007072878029296348, -0.0033978043299311977, -0.005501650867960173, 0.010210620745168875, 0.010929656903718055, 0.0014224010293446554, 0.007893726456438266, 0.011382383373937266, -0.0015070055425985274, 0.006455654139297273, -0.01247896470294485, -0.017938313314275867, 0.004112128881752497, -0.017192646186866334, 0.0021680681567319837, -0.014209977677272612, 0.004964319884515511, 0.00957147749307996, 0.00786709548760367, -0.012692012453639379, -0.0050755553665879916, 0.0002240074317203522, 0.004032235975263809, -0.0038771617689841165, 0.021954878001750444, 0.0071480593290358385, 0.003686033380381204, -0.008431057439913126, -0.01189308338854822, 0.006082820575604941, -0.0019331010439671559, -0.004116840488491924, 0.01311339634824904, 0.006855118671845517, 0.003419723692019261, 0.014258528008193494, -0.008883783910109244, 0.014152004132856, -0.016260562277604862, 0.0026207946269547477, -0.003477697236442978, -0.007206032873455115, 0.0178803397698708, -0.004090209519674204, -0.004143471457347836, -0.016180669371124168, 0.012607407940380178, -0.00044176678915874845, -0.015727942900916503, -0.013624096362895521, -0.00014882613196398609, -0.01492901383583689, 0.006615439952326163, -0.00438315017685742, -0.021400339262925172, -0.0009477551970311637, -0.0008678622905309297, -0.00795170000085843, 0.004271914694768952, -0.001613529417928028, 0.017214565548980154, 0.004405069538966799, 0.005949665731434628, -0.013837144113578503, -0.025394984588323233, -0.023584078707467704, -0.018124730096147346, -0.009682712975188856, -0.022731887704726006, 0.0021680681567399773, 0.012128050501334364, -0.013544203456375747, -0.012718643422462428, -0.006992985122773021, -0.011307202074170242, 0.005550201198881055, 0.00310015206601566, -0.0016667913556043246, -0.0007080764775206916, 0.007840464518758417, 0.016122695826731537, -0.010401749133758464, -0.015701311932084572, -0.0024390894518457884, 0.017614030081508858, 0.008239929051309325, 0.01298024150408228, -0.0034510662675879544, 0.0008365197149622361, -0.01367735830057537, -0.007046247060440436, 0.02017060308975971, 0.011595431124602484, -0.004249995332679113, 0.0064023922016449575, -0.00025535000728993396, -0.018044837189644447, -0.0027852920467204, 6.422161871721954e-05, -0.013437679581019601, -0.009176724567318217, 0.005763248949588906, 0.015430290636968103, -0.007498973530641884, -0.015701311932086348, 0.001875127499540774, -0.0026521372025349876, 0.0008365197149400316, 0.0001174835563872989, 0.008266560020138591, -0.0031048636727391, 0.025097332324404142, 0.0053371534482051786, 0.005496939261212752, 0.006295868326303022, 0.013113396348280126, 0.015004195135586151, -0.006034270244692053, -0.011520249824847006, -0.011307202074186229, 0.006562178014653419, 0.002434377845118796, 0.01734772039316468, -0.018763873348198956, -0.0008944932593779598, 0.0088790723033636, -0.00393042370665686, 0.008213298082486276, 0.00453822438312379, 0.020969532154809123, 0.007946988394124332, -0.01865734947283837, 0.0037126643492140232, -0.005368496023783642, -0.01761874168826072, 0.012287836314333056, -0.006194056057694297, -0.006380472839569329, -0.0008146003528519685, -0.016074145495767134, 0.002247961063263304, -0.006726675434395979, 0.0013425081228346514, -0.0020129939504762717, -0.017991575251956604, 0.00027726936938687885, -0.01833777784682855, -0.003211387548085476, -0.005528281836797433, -0.012452333734120025, 0.004937688915674698, 0.014977564166771096, 0.016362374546248226, -0.004489674052210901, -0.002545613327200158, 0.006162713482123827, -0.008297902595715279, 0.006668701889993578, -0.0020928868569907166, 0.026828345298683942, 0.0028604733464838716, -0.0017999461997852961, 0.0025142707516083718, 0.005869772824931729, 0.008266560020136815, 0.0015821868423557817, 0.007520892892751263, 0.0025675326892766748, 0.00584314185609891, -0.008777260034769085, 0.004511593414287418, 0.010956287872578407, -0.0024390894518520057, 0.015084088042105037, -0.006194056057693409, 0.0025675326892962147, -0.0146627041474936, -0.0007613384151792246, 0.0028338423776563815, 0.004990950853326126, 0.013938956382168577, 0.00874591745920128, 0.019558090806524042, 0.003845819193425193, 0.006535547045826817, -1.5671287792784483e-05, -0.005022293428912583, 0.00019737646289375022, 0.00674859479653378, 0.023286426443527297, -0.000708076477518027, 0.0013158771539831804, 0.004911057946839215, -0.006220687026541327, 0.0020615442814051477, -0.0022793036388657484, -0.011786559513200068, 0.007733940643430692, -0.004729352771720485, -0.0030782327039267088, -0.0009743861658826347, 0.025017439417881704, -0.008723998097094565, -0.0002553500073210202, -0.0076321283748344015, -0.013943667988910668, -0.0020129939504860417, -0.008750629065937154, 0.0061627134821105045, 0.013752539600336178, 0.010769871090718475, 0.001475662967020952, 0.019025471429816143, 0.002594163658124593, 0.008719286490367573, -0.012984953110828812, -0.015195323524213045, 0.004751272133814766, -0.010827844635129757, -0.011972976295067994, -0.0068065683409335165, -0.0070462470604333305, 0.0022213300944100567, 0.005443677323553331, -0.00022871903847665465, 0.017161303611305634, -0.003797268862490988, 0.0008631506838003844, 0.004884426978002843, -0.012692012453640267, 0.006349130263965996, 0.005576832167728085, -0.011839821450886134, -0.0025189823583549042, 0.004351807601290503, 0.011595431124615807, 0.008026881300629007, -0.012292547921118668, -0.000335242913824807, -0.002971708828571451, 0.0026207946269547477, -0.021426970231772202, -0.019189968849575578, 0.02003744824557252, 0.03018384737201618, -0.007658759343674326, 0.01612269582671555, -0.01413008477076616, 0.008080143238293758, -0.03112064288801264, -0.0021727797634962798, 0.005816510887246551, -0.022651994798223996, -0.00944303425567572, -0.013970298957753258, 0.011968264688323238, -0.0003618738826745016, -0.005794591525164705, 0.007893726456447148, 0.0018751274995461031, 0.02142225862502567, -0.013703989269396644, 0.0025941636581219285, 0.0017419726553944415, 0.011488907249269431, -0.00808485484504562, -0.0010542790723864215, 0.018572744959585386, -0.006806568340934405, -0.002465720420679496, 0.007654047736920688, -0.010960999479304512, 0.009092120054054575, 0.022034770908271106, -0.009336510380316021, -0.004036947581976591, -0.0032113875480694887, -1.567128779988991e-05, 0.005230629572866796, -0.018071468158464832, -0.012585488578312543, 0.008532869708491653, 0.014897671260263756, -0.01500890674236377, 0.0005968409954286713, -0.003690744987130401, 0.014524837696562543, -0.011280571105347192, 0.010183989776306746, -0.0037706378936475105, -0.003238018516907637, -0.006167425088852596, -0.007605497405990036, -0.004090209519658217, 0.00810677420713457, 0.021022794092476538, 0.021475520562720618, 0.0031267830348253867, 0.010077465900955929, 0.00653554704581083, -0.003744006924818244, -0.0027053991402237187, -0.002891815922062335, 0.025842999451775484, -0.004303257270361627, -0.00930987941148409, -0.001001017134700355, 0.008426345833147053, 0.0023012230009387125, -0.0026521372025154477, 0.0005702100265958521, 0.0020349133125732166, -0.0008412313216927814, -0.0032380185169254005, -0.0013738506984148913, -0.010907737541608675, 0.02187498509524044, 0.009411691680084822, 0.006375761232802368, -0.001027648103566925, 0.011622062093464613, 0.001635448780035631, 0.004325176632451466, -0.00915009359847474, 0.006349130263963332, 0.007707309674615637, -0.0025189823583362525, 0.002034913312566111, 0.004884426978015277, 0.00144903199817481, 0.0036061404738783054, -0.004010316613165976, -0.01362409636287687, -0.004356519208031706, 0.010929656903718943, -0.005634805712156243, 0.0023278539697617617, 0.018146649458241626, 0.01985103146371081, 0.009065489085217315, 0.007680678705773936, 0.001049567465645218, -6.893322547174563e-05, 0.0033664617543678332, 0.0072013212667192406, 0.018972209492154946, 0.007121428360206572, 0.0002240074317372276, 0.0017419726553793424, -0.0007879693840351365, -0.007392449655313271, 0.01606943388902593, 0.012234574376662088, -0.010614796884440558, -0.020894350855062527, -0.0009211242282045617, 0.006349130263967773, -0.004862507615904121, 0.0018218655618840174, -0.004409781145702674, -0.009016938754284887, 0.014471575758896016, -0.011972976295060889, 0.006269237357448887, -0.011307202074177347, -0.001879839106294412, 0.0038458191933985475, 0.0011827223098102024, -0.0053418650549339475, 0.008852441334536998, -0.0022260417011370492, -0.004276626301526143, 0.013273182161284147, -0.004116840488492812, -0.0002819809761520631, -0.003770637893630635, 0.012341098252030669, 0.016495529390420316, 0.012847086659894202, -0.0037173759559658848, 0.005470308292382597, -0.014742597053996498, 0.010210620745169763, -0.011680035637869679, -0.005794591525170034, -0.0002553500073165793, 0.007068166422533828, 0.0009696745591289968, -0.0015868984490925442, 0.004032235975252263, 0.019398304993514692, 0.013006872472916875, -0.013624096362885751, 0.0039523430687467, -0.0023591965453650943, 0.001662079748857792, 0.012926979566411312, 0.003872450162218044, 0.006349130263967773, -0.006114163151174523, 0.015883017107181985, 0.0037659262868929844, -0.0022793036388373267, 0.014950933197915184, 0.008958965209879821, 0.006668701889993578, 0.023179902568192468, 0.0074942619239068975, -0.016287193246471432, 0.0030202591595172024, 0.006269237357474644, 0.0009696745591387668, -0.004090209519652888, 0.008772548428023441, -0.003184756579264203, -0.008537581315239073, 0.010903025934895894, 0.0031267830348440384, -0.0017200532932930557, -0.004782614709410993, -0.01040174913376557, 0.008479607770853548, 0.003233306910178868, -0.030108666072253598, 0.0069350115783528565, -0.004969031491245168, -0.0005216596956705288, -0.0010542790723633289, -0.007312556748800603, 0.016122695826731537, 0.0016887107177003813, -0.008963676816605926, -0.011147416261144016, 0.0063491302639864244, 0.00677522576534173, -0.006566889621401728, -0.0008944932593664134, -0.016952967467368296, 0.0010761984344673792, -0.005981008306998881, 0.023605998069567313, 0.00214143718791604, -0.01277190536013606, -0.001746684262126763, 0.0028072114088208977, 0.000863150683783509, -0.005901115400502199, 0.0011028294033108565, 0.00464474825845862, 0.007574154830418678, 0.0004903171200698608, 0.0018484965307203893, -0.015541526119063676, 0.006269237357468427, 0.00712142836019769, -0.0024657204206777195, -0.005261972148438154, -0.0020129939504593963, -0.007845176125522713, -0.0027320301090503207, 0.02049017471577841, 0.00019737646291595468, 0.0054969392612296275, 0.0033664617543678332, -0.007765283219006491, -0.0024657204206883776, 0.005257260541699615, 0.0036327714427102364, -0.005661436680973075, 0.011222597560919922, 0.008452976801985201, -0.00827127162689667, -0.0005749216333388318, -0.00046839775799778494, 0.010743240121885655, -0.024090067115346336, -0.004569566958732452, -0.00038850485149932723, 0.021368996687359143, -0.015701311932069473, 0.013938956382165024, 0.018466221084254997, -0.00648699671488373, 0.0019283894372215116, 0.00898559617871264, 0.005683356043062915, 0.006082820575618264, 0.017560768143853878, -0.005075555366585327, 0.009518215555413434, -0.00861747422174819, -0.011147416261149345, -0.0130914769861592, 0.019504828868856627, 0.019504828868859292, -0.0035842211117707024, 0.010290513651682431, 0.004724641164975729, 0.013353075067787046, 0.0046980101961455745, -0.008697367128273292, 0.001422401029342879, -0.016580133903661753, 0.0046713792272843335, 0.003712664349227346, 0.0027539494711472656, -0.000628183571008023, 0.004644748258470166, -0.014130084770782148, -0.00930987941148853, -0.005102186335425252, -0.006327210901868163, -0.01058816591558287, 0.013752539600316638, -0.004303257270352745, -0.013118107954995573, 0.00429854566363197, -0.008777260034770862, -0.010028915570035934, -0.004409781145696456, 0.011009549810228947, -0.00821800968920261, 0.0074143690173871235, -0.01921659981842616, -0.007099508998114956, -0.0016667913556158709, 0.014977564166761326, 0.0077073096746049785, 0.007014904484853091, -0.001027648103542056, -0.01423660864610099, 0.0014224010293251155, -0.02401017420884166, -0.0012939577918924527, -0.007472342561809064, -0.0037706378936421814, -0.00518207924193792, -0.003637483049472756, -0.003664114018279818, -0.01088110657280339, -0.02156012507596028, -0.0015070055426091855, 0.0038990811310721796, -0.005821222494001077, 0.0012093532786607852, -0.003690744987130401, 0.005976296700274553, 0.01388569444449761, 0.003659402411538615, -0.00648699671488373, 0.015057457073276659, 0.0033398307855234677, 0.005390415385889469, -0.019722588226295912, -0.01564804999440117, 0.004431700507789849, 0.009784525243765607, 0.019052102398665838, -0.00837779550222173, 0.0016887107177172567, -0.009975653632367631, 0.014418313821212614, 0.013219920223606962, 0.004618117289649781, 0.005470308292388815, 0.0034996165985177186, -0.015008906742362882, 0.01026388268283629, -0.012798536328969767, 0.004165390819435899, -0.004489674052224224, -0.002119517825809325, 0.015616707418833364, 0.007281214173231021, 0.0067219638276645455, -0.008910414878960715, 0.005816510887252768, 0.013326444098961332, -0.013224631830347278, 0.005097474728694706, -0.016020883558121035, 0.002008282343728851, -0.0007613384152049818, 1.095968105779832e-05, -0.01588772871391697, 0.014152004132859552, -0.0032912804546043617, -0.011466987887203572, 0.014471575758882693, -0.001080910041225458, -0.0050222934289196886, -0.0060875321823594675, -0.0031048636727613044, 6.422161872521315e-05, 0.007148059329038503, -0.006407103808376391, -0.007445711592985127, -0.012478964702943962, -0.0007347074463597281, -0.000441766789161413, 0.019744507588392857, 0.010556823340015953, 0.0024876397827791052, -0.008377795502217289, -0.0010010171347092367, -0.00867073615940761, -0.008404426471067872, -0.005048924397733856, 0.00376592628689032, 0.005044212791024627, -0.006087532182350586, -0.0006281835710142403, -0.0027320301090432153, 0.021022794092496078, -0.0060609012135328655, -0.012478964702963502, -0.017964944283148654, -0.003158125610402074, -0.0035575901429538703, 0.005709987011899287, -0.0013472197295891775, -0.0016401603867555181, -0.012186024045744759, -0.02576781815200313, -0.009443034255653515, -0.01064142785328226, -0.01098763044814799, -0.0039037927378444692, -0.005661436680980181, 0.003499616598539923, 0.0012892461851681247, 0.008213298082480058, 0.004032235975267362, -0.0019064700751449948, 0.02451145100999863, -0.012958322141991552, -0.0030249707662282077, -0.006353841870708088, -0.0015868984491076432, 0.007227952235554724, 0.003606140473872088, 0.013432967974285503, 0.007574154830400026, -0.009096831660792226, -0.004090209519658217, 0.013539491849633656, 0.009624739430773133, 0.012900348597578493, 0.011622062093467278, 0.0020615442814007068, -0.011253940136509044, 0.006429023170472448, -0.0009743861658764175, -0.014902382867000519, -0.00046839775799245587, -0.01471596608517256, 0.00022400743173456306, 0.008639393583838917, 0.014418313821211726, 0.0034463546608876072, 0.0110095498102325, -0.005261972148431937, 0.01686836295411087, 0.0068284877030011515, -0.020441624384849533, -0.006726675434417295, -0.000841231321715874, -0.01306484601733704, 0.010982918841413003, -0.009496296193342246, 0.0019017584684002387, -0.015195323524214821, -0.013490941518716326, -0.02009542178999979, -0.014769228022834646, 0.0070947973913773055, 0.01678847004759554, -0.010375118164915875, -0.0003885048514913336, 0.013885694444496721, 0.009757894274940782, -0.0030249707662370895, 0.007227952235553836, 0.014018849288672364, 0.023712521944911913, -0.028857010536964545, -0.00941640328682869, 0.010610085277704684, 0.006881749640673007, -0.007312556748795274, -0.021453601200604133, 0.004618117289648005, 0.003073521097167742, -0.0065668896213990635, -0.01373062023824101, 0.03479100498059484, -0.007605497405996253, -0.013517572487547369, 0.007440999986240371, -0.0025456133272072634, -0.010508273009093294, -0.01250559567178211, 0.0033131998166897603, 0.02059669859111768, -0.008324533564546321, -0.0023325655764940834, 0.0017419726553695725, -0.009043569723134581, -0.0068864612474284215, -0.01727253909338078, 0.0010495674656390008, -0.009096831660784233, -0.00611416315121005, -0.00523534117959823, -0.007552235468323509, 0.011435645311608233, 0.004245283725923699, -0.002891815922057006, -0.0013205887607421474, -0.015035537711183267, 0.018839054647967757, 0.009811156212641059, -0.010455011071414333, 0.0026740565646212744, 0.003765926286900978, 0.0023278539697662026, -0.00733918771763431, -0.004782614709410105, 0.0001973764628866448, 0.0037126643492166878, 0.003872450162237584, -0.02201285154617949, -0.015701311932059703, 0.0018218655618840174, 0.007973619362955375, 0.01218131243900622, 0.004298545663605324, 0.0074942619238917985, 0.01705477973596814, 0.00808014323829287, -0.0029450778597279736, 0.0032599378790134637, 0.006242606388628502, 0.01654879132806819, -0.0002553500073139148, 0.008452976802010959, 0.0072812141732141455, -0.010055546538885629, -0.004489674052195802, 0.007654047736928682, -0.004542935989882757, -0.012638750515972852, 0.0005702100266029575, -0.015248585461864472, -0.002012993950462949, -0.013490941518711885, 0.0005435790577665855, -0.01215939307691194, 0.007387738048582726, 0.0015821868423442353, -0.00547501989912913, 0.0068284877030064806, -0.002598875264853362, -0.00219941073232377, -0.0039037927378196002, 0.005843141856064271, 0.0025675326892908856, 0.0007299958396158601, 0.013006872472912434, -0.0006015526021636575, -0.0031314946415630374, 0.009598108461938537, 0.012793824722244551, 0.001262615216317542, -0.005261972148432825, 0.015403659668134395, -0.0015336365114091421, -0.007232663842284381, -0.008297902595715279, -0.01514206158653586, 0.0008897816526296509, -0.010348487196083944, -0.013517572487538487, -0.002918446890917359, 0.011169335623248955, -0.0025988752648720137, -0.00528860311728252, -0.00928324844263706, 0.007121428360211013, 0.007787202581098995, 0.004644748258459508, 0.00341972369203436, -0.007419080624143426, -0.00057492163333972, -0.012106131139255183, -0.0093098794114983, 0.004458331476612898, -0.012905060204296603, -0.016420348090652404, 0.000943043590303283, -0.003797268862472336, 0.0012359842474873872, -0.018817135285855713, 0.007946988394118115, -0.00203962491930465, 0.003472985629703551, -0.00851095034639826, 0.009970942025645968, 0.004911057946835662, 0.011302490467414827, -0.0007613384151898828, -0.012452333734138676, 0.0061627134821202745, 0.027866953083293566, -0.009016938754287551, 0.003419723692020149, -0.0087506290659487, -0.0007080764775109216, 0.0047246411649775055, 0.013885694444512708, -0.004170102426174438, 0.005203998604014437, 0.0028871043153149145, 0.009784525243794029, 0.0032333069101859735, -0.024782472305074243, 0.003393092723192659, -0.0024124584830156337, -0.006140794120044646, -0.020148683727667205, 0.010157358807492578, 0.014657992540747955, -0.0054483889302803235, -0.013490941518710109, -0.006726675434408413, -0.01263875051595953, -0.006433734777198552, -0.0002020880696482763, -0.007552235468329727, -0.01868398044167563, 0.002567532689302432, 6.422161870833776e-05, 0.006295868326311904, -0.017805158470117988, -0.009549558131007885, -0.007392449655286626, 0.02171519928223109, -0.01279853632896888, 0.01002420396332493, 0.013219920223596304, 0.0039257120998934525, 0.01034377558934274, 0.003819188224569281, -0.011067523354647335, -0.009922391694715316, 0.0004903171200911771, -0.006194056057714725, 0.004245283725945015, -0.008670736159412051, -0.01010880847654061, -0.0067266754344137425, -0.009043569723122147, 0.007254583204386655, -0.01186645241970119, 0.0025675326892855566, -0.0005749216333370555, -0.00424999533267556, 0.0036860333803776513, -0.0012673268230631862, -0.0072060328734533385, -0.005794591525145165, 0.0022213300944153858, 0.01649552939041321, 0.02384567678909022, 0.0028338423776608224, -0.006646782527892192, 0.020090710183255034, -0.0010542790723766515, -0.0028651849532277396, 0.00541704635470186, 0.014418313821222384, 0.01593627904487427, -0.01144035691837253, 0.002753949471139272, -0.014715966085151244, -0.007871807094347538, 0.0030735210971668536, -0.00896367681660415, 0.009837787181437463, 0.004911057946822339, -0.005847853462837449, 0.005923034762589374, 0.012607407940385507, -0.0013205887607679045, -0.005235341179608888, 0.0010229364968150634, -0.006300579933018469, -0.002465720420679496, 0.013779170569164556, 0.005417046354714294, 0.0014224010293499845, 0.004884426978000178, 0.018386328177761868, -0.01759211071942257, 0.010610085277680703, -0.009389772318000311, -0.0073125567487846155, 0.018093387520552007, -0.0031581256104056266, 0.018279804302424374, 0.014924302229093023, 0.029917537683623152, 0.005976296700259454, -0.0002819809761644976, 0.007707309674598761, -0.005421757961449281, -0.018763873348222937, 0.019371674024667662, -0.01072132075976473, 0.002141437187902717, -0.003930423706658637, 0.005124105697522197, 0.00821329808246496, 0.0014756629669987475, 0.012554146002720756, -0.00057492163333972, 0.002487639782782658, -0.007951700000853101, -0.009656082006342714, 0.009944311056808708, -0.0026787681713766887, -0.004676090834054847, 0.017986863645213624, 0.017640661050346118, -0.0036374830494541044, -0.0006814455086878723, 0.0017952345930325464, -0.0035043282052775737, 0.015483552574650616, -0.001134171978893761, -0.004516305021036615, -0.0017733152309356015, -0.0021461487946394797, -0.0039304237066577485, 0.00813340517597716, 0.0020082823437359565, -0.021613387013637464, -0.028617331817446967, -0.008218009689217709, -0.004036947581995243, 0.0013691390916852342, 0.01404548025750696, -0.0008678622905495814, -0.004782614709390565, 0.008506238739666827, 0.0003571622758995474, -0.00030861194497955324, 0.004112128881741839, -0.0033445423922753292, 0.005843141856076706, 0.006455654139314149, -0.008244640658070068, 0.0039789740375768545, -0.004782614709412769, -0.0011075410100405136, -0.007605497405993589, 0.007014904484866413, 0.01713467264246127, 0.0037392953180566124, 0.02246086640963174, -0.0066201515590522675, -0.009336510380341778, 0.00445833147662178, 0.0005435790577559274, -0.003770637893639517, 0.008506238739681038, -0.014822489960521601, -0.003184756579249992, 0.004378438570129539, 0.01356612281845937, 0.01231446728319252, 0.0025941636581325866, -0.003983685644339374, -0.0075256044994924665, -0.006726675434412854, -0.029070058287649303, 0.014737885447257959, 0.0045914863208240675, 0.0012892461851610193, 9.08525875367161e-05, -0.016393717121803597, -0.001986362981645229, -0.007525604499469374, 0.008985596178725075, 0.00930516780473667, 0.006482285108148744, -0.010401749133728266, 0.002088175250248625, 0.003313199816703971, 0.011355752405110664, 0.007068166422544486, -0.0018265771686056809, 0.003819188224560399, 0.006801856734178102, -0.01428987058379505, 0.007361107079745466, 0.014231897039366892, -0.004702721802899212, 0.007946988394098575, 0.002887104315303368, -0.0035842211117911305, -0.003983685644324275, 0.002088175250228197, 0.0038724501622393603, 0.00027726936939131974, -0.005022293428910807, 0.0037659262868983134, -0.008164747751538748, 0.009518215555423204, 0.004564855351979702, 0.006482285108144303, -0.00020208806964738812, -0.00012219516312672596, -0.0264069614040654, -0.0038771617689832283, -0.012665381484790572, 0.002327853969748439, -0.020201945665331955, -0.006140794120045534, 0.0089589652098514, -0.013890406051226378, -0.008084854845027856, 0.0068551186718428525, 0.021502151531529456, 0.00126261521631843, 0.000596840995417125, -0.005182079241929927, 0.01148890724928986, 0.006482285108152297, 0.0062958683262897, -0.021506863138286647, 0.0015289249046874787, -0.00259887526486402, 0.0026207946269485305, 0.0028072114087889233, -0.012052869201578886, 0.007867095487617881, 0.0029669972218195895, -0.010694689790949674, 0.006295868326278153, 0.007121428360199467, 0.0027273185022851365, -0.0035842211117902423, 0.007201321266729899, -0.0041701024261922015, 0.018226542364742748, 0.010743240121860786, 0.0005169480889133382, 0.013379706036627859, -0.01093436851046814, 0.010450299464672241, -0.006540258652564468, -0.0001221951631293905, -0.0023858275141872554, 0.007281214173229245, -0.0006548145398515004, -0.011307202074159584, -0.00752560449950046, 0.0028072114088102396, -0.0039037927378249293, -0.007845176125516495, 0.0005702100265914112, -0.0017200532932841739, -0.006300579933028239, 0.001182722309803097, 0.008213298082470288, -0.012718643422457099, 0.0009963055279786914, -0.0024657204206617322, -0.006167425088842826, 0.016735208109926347, -0.00654025865257335, -0.001400481667245046, -0.002705399140213949, 0.01543029063694945, -0.006380472839531137, -0.002119517825810213, 0.020197234058588087, -0.004303257270356298, -0.0031314946415834655, 0.007707309674593432, 0.000969674559120115, -0.0012406958542472424, 0.015350397730455434, -0.0012406958542623414, -0.01594099065158794, 0.012767193753386863, 0.002088175250243296, -0.00129395779190844, -0.0015868984490827742, 0.004538224383127343, -0.015727942900916503, -0.003957054675504779, -0.0011075410100707117, -0.004676090834046853, 0.00570998701191705, -0.0039037927378400283, 0.012580776971537588, 0.0016887107177030458, -0.017139384249196254, -0.014316501552621652, -0.0021727797634891743, 0.008825810365699738, 0.0009164126214713519, 0.011435645311616227, 0.01708141070481073, 0.0201972340585872, -0.008031592907393303, -0.005421757961460827, -0.008830521972431171, 0.003978974037578631, -0.0068065683409335165, -0.008803891003600128, 0.013406337005458902, 0.00025063840056471776, -0.0056348057121518025, 0.004777903102676007, -0.0054217579614590505, -0.018444301722151835, 0.0010229364968115107, -0.0038771617689796756, 0.012341098252026228, -6.89332254566466e-05, -0.008431057439902467, 0.008319821957837092, -0.02643359237290621, 0.006002927669103819, -0.00036187388266473164, 0.008106774207125689, -0.01689970552970088, 0.012820455691086252, 0.002887104315311362, -0.0018532081374651455, 0.006881749640698764, -0.0027320301090405508, -0.005821222493985978, 0.00863939358385224, -0.004223364363829418, 0.007174690297869546, 0.01481777835375997, 0.004564855351964603, -0.016154038402263815, 0.005709987011889517, -0.0064869967148890595, -0.00941640328682336, -0.011546880793694925, -0.008617474221765065, 0.008745917459195063, 0.013459598943113882, -0.0008678622905415878, -0.007099508998127391, 0.00254090172043675, -0.0029717088285439175, 0.007733940643422699, 0.018359697208917503, 0.009278536835902962, 0.011488907249283642, -0.030854333199655137, 0.011195966592076445, -0.002678768171378465, -0.0033179114234140883, 0.0017153416865394178, -0.00315812561041362, 0.008532869708504087, 0.004804534071479516, -0.00440978114568491, 0.008266560020130598, 0.002620794626956524, 0.017853708801026436, 0.004325176632436367, 0.0023811159074229593, 0.008985596178706423, -0.011253940136497498, -0.013757251207072052, 0.007973619362950934, -0.013437679581039141, 0.00195502040604012, 0.009065489085227085, -0.0019331010439485041, -0.017059491342699573, -0.0032646494857528907, -0.003717375955967661, 0.012048157594831466, -0.007152770935793029, 0.0017952345930520863, 0.0011294603721658802, -0.003264649485773319, 9.085258754648606e-05, -0.0023591965453464425, 0.008266560020165237, -0.019030183036543136, -0.014715966085146803, 0.0004903171200689727, -0.002785292046709742, -0.0062473179953643765, 0.0072013212667148, -0.01828451590914426, -0.008883783910095033, 0.009731263306124838, 0.026056047202463795, -0.002039624919303762, 0.007387738048549863, 0.012554146002710986, 0.015004195135605691, -0.005927746369335907, 0.02448482004115693, -0.013863775082411323, -0.004409781145689351, -0.0021727797634998325, -0.012878429235479771, -0.010561534946782913, 0.0008631506837915026, -0.002758661077887581, 9.085258755270331e-05, -0.01242570276525079, -0.0005216596956829633, 0.0010495674656363363, 0.013992218319875072, -0.008750629065933602, -0.014689335116320201, 0.010743240121869668, 0.005044212791003311, -0.003184756579243775, -0.009496296193339582, 0.008266560020121716, 0.005523570230058894, 0.004591486320802751, -0.005874484431645399, 0.007121428360195026, -0.008111485813875774, -0.0058744844316569456, -0.00768539031250004, -0.0045961979275581655, -0.003983685644339374, 0.019398304993513804, -0.012052869201560235, -0.008537581315236409, 0.014924302229095687, -0.012345809858763879, 0.0003305313070693927, 0.004884426978004619, 0.004618117289641788, -0.008803891003616116, 0.018626006897264347, -0.0077120212813373, 0.009278536835902074, 0.0019017584683913569, 0.014365051883548752, 0.0006501029331138497, 0.01439168285237269, 0.005070843759841459, 0.003339830785520803, -0.007871807094371519, -0.007099508998130055, 0.00025063840057359954, 0.02893219183672091, -0.006114163151192287, 0.017241196517798762, 0.01846622108425322, -0.004755983740562186, -0.004942400522403467, -0.019669326288625832, 0.01628248163972934, 0.0027805804399774203, -0.00166679135561143, 0.002141437187916928, -0.014023560895441989, -0.00611416315119051, 0.013885694444503827, -0.001613529417923587, -0.00827127162689667, -0.013624096362888416, -0.015062168680021415, -0.001107541010086699, 0.00539041538588414, -0.002598875264869349, -0.011786559513202732, -0.005208710210762746, -0.0033445423922779938, -0.0007613384151996527, 0.011808478875315664, -0.013304524736832413, -0.025075412962287658, -0.00414347145734606, 0.012793824722217018, 0.0037659262868938725, 0.010796502059542412, 0.0013957700605073953, -0.016686657779000136, 0.01244762212736461, 0.002966997221837353, 0.015590076449985446, -0.01660676487251056, -0.011999607263901702, 0.0006234719642748132, 0.003446354660876949, -0.0029717088285590165, 0.021315734749706827, -0.0067266754344190716, 0.003552878536208226, -0.0011075410100600536, -0.01887039722355688, 0.006215975419785913, 0.010689978184196036, -0.004915769553576865, 0.012660669878036046, -0.01165340466903686, 0.014018849288677693, 0.007946988394113674, -0.0008678622905300415, -0.004596197927559054, 0.0010761984344682674, 0.011062811747899914, 0.0011028294033170738, 0.008106774207131906, -0.016952967467363855, 0.0018218655618804647, -0.00148037457376482, 0.003978974037587513, -0.009043569723112377, 0.016468898421558187, -0.004196733395006369, 0.005017581822182926, 0.014418313821228601, -0.005235341179619546, -0.009522927162151085, 0.013193289254783025, -0.01271864342246598, 0.015430290636997412, 0.0006501029330996388, 0.016788470047610637, -0.006380472839538243, 0.010317144620519692, -0.0026521372025580803, -0.009656082006340938, -0.00638047283955423, -0.0011608029477319093, 0.0011294603721658802, 0.012154681470167183, 0.011648693062314308, -0.0017200532932806212, -0.0061940560576863035, 0.005923034762601809, -0.010641427853260055, -0.008164747751529866, 0.006162713482108728, 0.01692162489177651, 0.000969674559135214, 0.003526247567382512, -0.003424435298783557, 0.005203998604029536, -0.013144738923845267, -0.0037173759559800956, -0.006833199309744131, 0.012554146002695, -0.013730620238249891, -0.004809245678234042, -0.003024970766229096, 0.00035716227591464644, 0.006695332858816627, -0.007845176125522713, 0.020596698591110574, -0.010534903977933219, 0.0027006875334434355, -0.00922998650498208, 0.011249228529766064, 0.007867095487622322, -0.014769228022823988, -0.016739919716694196, 0.0027006875334496527, -0.020628041166695255, 0.011116073685582428, 0.01351286088079906, -0.0066467825279188375, 0.00291373528415928, 0.0024343778451010323, 0.006162713482109616, -0.015994252589250024, -0.002625506233684405, 0.010290513651677102, 0.016389005515048183, -0.008990307785456508, -0.004329888239183788, -0.0028385539844011376, -0.007445711592986903, -0.017858420407779185, 0.008745917459187957, -0.024675948429742967, -0.0014004816672583686, -0.006327210901881486, 0.002540901720457178, 0.0068018567341745495, 0.006588808983497785, -0.003823899831292721, 0.006056189606770346, 0.006002927669072733, 0.011116073685583316, -0.01713938424920869, 0.001262615216332641, 0.0018484965306955203, 0.005124105697503545, 0.015883017107177544, 0.0006767339019306817, 0.011409014342781632, -0.0009211242282072263, -0.0047559837405684036, -0.0008412313216981104, 0.003552878536202897, 0.014657992540746179, -0.020494886322529382, 0.0013158771540053849, -0.010721320759783382, -0.007019616091602288, 0.011089442716743392, -0.009229986504984744, 0.009757894274939893, 0.014524837696550108, 0.003526247567342544, 0.00882581036569885, 0.0033664617543482933, 0.01290034859756961, -0.013996929926587853, -0.00430325727035985, -0.021906327670818904, -0.015727942900916503, -0.009522927162175954, 0.010503561402353867, 0.0024077468762699894, -0.007232663842291487, 0.008213298082467624, -0.009869129757027473, 0.0028871043153291254, 0.012447622127375269, 0.0068817496406961, 0.008000250331794412, 0.003739295318079705, -0.02475584133626363, -0.00795170000085843, -0.0004950287268492559, 0.006695332858838832, 0.0004903171200991707, 0.002966997221806267, -0.0045429359898703225, 0.000410424213575844, 0.01662868423459063, 0.004511593414295412, -0.0007347074463757153, 0.006215975419801012, 0.0010229364968008525, -0.01647361002831982, 0.01788033976986725, 0.004884426977993961, 0.004698010196142022, -0.012186024045764299, -0.01141372594949619, -0.01575457386974488, -0.00915009359846497, -0.001080910041225458, -0.010321856227229809, -0.007552235468313739, 0.015749862263029435, 0.006429023170463566, 0.007574154830400914, -0.008644105190573015, 0.0026740565646328207, -0.010960999479308953, 0.014471575758878252, -0.010295225258408536, 0.01007746590100922, -0.012958322141988887, 0.0188923165856254, -0.001320588760740371, 0.007148059329042944, 0.009544846524256911, -0.006833199309761007, 0.0181999113958895, -0.017166015218029962, 0.007867095487607223, 0.008639393583849575, 0.014072111226361095, 0.007440999986235042, -0.00800496193853295, -0.004036947581975703, 0.01186174081294844, 0.005230629572841927, 0.018785792710295013, 0.006961642547193669, 0.018626006897280334, 0.01593627904486894, -0.001507005542591422, 0.004058866944088635, -0.0022526726700009547, 0.011382383373944371, -0.017778527501270958, 0.0036061404738880753, 0.009305167804749104, -0.0009211242282072263, 0.0018751274995327805, -0.009815867819399138, -0.0018532081374909026, -0.0013205887607332656, -0.005581543774471065, 0.0036061404738942926, 0.009731263306107962, 0.022247818658923002, -0.001240695854240137, 0.0034996165985337058, 0.013832432506826642, -0.014263239614944467, -0.0024124584829987583, 0.009118751022875848, -0.030082035103399463, 0.012314467283184527, -0.007685390312500928, 0.003552878536198456, 0.016708577141095304, -0.01042838010257885, 0.012900348597576716, -0.0011874339165691694, 0.0016354487800400719, 0.006535547045819712, -0.012638750515941766, 0.0017686036242148262, -0.005448388930289205, -0.0042233643638383, -0.0010010171347119012, -0.008377795502239493, 0.0019550204060578835, -0.012159393076932368, -0.023903650333520154, 0.001475662967015623, 0.013832432506822201, 0.007361107079727702, -0.004409781145698233, 0.007174690297882869, 0.005496939261218081, -0.002199410732329099, -0.023530816769801177, -0.015062168680016974, -0.005981008307019309, 0.000943043590288184, 0.010982918841373035, -0.003823899831309596, -0.009496296193336917, 0.014844409322590124, -0.007312556748813037, 0.010343775589339188, 0.0012359842474847227, -0.0008412313216963341, -0.0035842211117920186, -0.014050191864257044, -0.025634663307838146, 0.003526247567346097, 0.006988273516038923, -0.011067523354653552, -0.002705399140210396, -0.006806568340926411, 0.015829755169518123, 0.005630094105401717, -0.006779937372076716, -0.0011075410100467309, -0.015408371274888921, 0.005363784417033557, 0.023126640630504625, -0.0004417667891649657, 0.0004370551824184332, 0.00435180760126741, -0.0005216596956749697, 0.0023811159074345056, 0.010876394966063074, 0.0022213300944189385, 0.003073521097143761, 3.7590649874630344e-05, -0.00424999533268533, 0.010982918841378364, 0.007307845142062952, 0.01013072783865443, 0.013672646693797752, 0.015909648076008587, 0.018572744959598708, 0.006508916076977123, 0.003206675941346049, -0.008031592907371099, 0.0028604733464829835, 0.011595431124618472, 0.006295868326295029, 0.005763248949561373, -0.01700622940502594, -0.011653404669055512, 0.007867095487605447, 0.0035528785362108906, 0.01734772039315402, -0.014822489960504726, 0.013859063475653244, -0.026406961404085827, 0.0018218655618911228, 0.002327853969767091, -0.02281178061124134, 0.019105364336306607, -0.011520249824852336, 0.0032066759413345025, -0.0032912804545945917, 0.0007832577772814986, 0.0005435790577683619, 0.012128050501329035, 0.0013425081228506386, -0.00659352059021856, 0.007600785799262155, 0.005017581822173156, 0.004138759850624396, 0.0004104242135838376, -0.0074989735306632, -0.0031314946415932354, -0.02432974583488079, 0.006988273516022936, -0.015168692555374896, 0.00038379324474835386, -0.009283248442633507, -0.006700044465585364, 0.003899081131093496, 0.0032865688478542765, 0.020170603089752603, 0.005124105697519532, 0.0012359842474856109, -0.008031592907352447, 0.009012227147565, 0.0026740565646168335, 0.0028338423776563815, -4.230225663093279e-05, -0.01588772871395161, 0.007760571612257294, -0.005208710210768963, -0.005954377338172279, 0.02626909495314944, 0.012500884065052453, 0.001981651374892479, 0.0021148062190832206, 0.010796502059542412, 0.008239929051323536, -0.005341865054971251, 0.004245283725945903, 0.015989540982515038, -0.003504328205299778, 0.0005968409954606457, -0.0035043282052775737, -0.005261972148438154, 0.010903025934890564, -0.013198000861530446, 0.010157358807481032, -0.0043032572703651795, -0.005767960556329221, -0.021906327670814463, -0.0010010171347163421, 0.003899081131065074, -0.0015336365114393402, 0.009678001368441436, 0.004458331476619115, 0.011355752405092012, -0.005741329587491961, 0.004831165040318552, -0.004223364363847182, -0.002891815922050789, -0.01945627853793841, 0.0038990811310766205, -0.0038505308001486327, -0.014875751898154377, -0.005608174743307437, -0.019722588226266602, -0.008004961938525845, -0.0028918159220685524, 0.01335307506778971, 0.0020881752502548423, -0.0002553500073041448, 0.002753949471143713, 0.0005702100265878585, -0.005608174743316319, 0.008879072303371593, -0.015861097745093033, 0.0017686036242272607, -0.006540258652545816, 0.018972209492144287, 0.015004195135617238, -0.004303257270327876, -0.0072060328734480095, -0.0007613384151721192, 0.0220880328459252, -0.015248585461881348, -0.00496903149124428, 0.013113396348260586, 0.03420512366622663, 0.00267405656460884, 0.007760571612265288, 0.0143916828523869, 0.00997094202564952, 0.0002506384005798168, -0.008404426471066984, 0.004964319884503965, 0.007361107079729479, 0.007627416768080764, 0.011515538218113797, 0.003712664349233563, -0.007978330969685032, -0.003557590142972522, 0.0015289249046972486, -0.015514895150236185, -0.022332423172180427, 0.026482142703804, -0.006273948964197196, 0.004112128881738286, -0.0067533064032456736, 0.004724641164995269, -0.0015336365114473338, 0.0029936281906621787, -0.0017200532932859502, 0.006375761232794375, 0.0038990811310712914, 0.023685890976070212, -0.01434313252143049, 0.0005702100265851939, -0.008084854845032297, 0.006508916077001103, 0.019611352744208332, 0.015510183543489653, -0.007392449655290179, -0.01290506020431792, -0.00038850485148334, 0.0034197236920139318, -0.008377795502229723, -0.017112753280378534, -0.004782614709410105, -0.002385827514175709, -0.009762605881690867, -0.001240695854235696, -0.006859830278589385, 0.0026207946269440896, 0.013273182161266384, 0.012740562784564702, 0.012341098252017346, 0.010050834932131103, 0.00030390033822591533, -0.001427112636081418, 0.01090302593490211, -0.011440356918361871, -0.004170102426185096, 0.012687300846896399, -0.020042159852312835, 0.001875127499550544, -0.012345809858750556, 0.0019816513748951436, -0.006620151559070919, -0.005714698618654701, -0.004010316613151765, -0.00454293598987654, 0.005017581822175821, -0.012585488578292114, -0.005767960556330998, -0.009869129757039907, 0.0032333069101673217, -0.018683980441683623, 0.003606140473875641, 0.009731263306129279, 0.004671379227321637, -0.013251262799195196, -0.006060901213512437, -0.020335100509520032, 0.0059230347626053614, 0.001795234593035211, -0.008963676816626354, -0.007765283219004715, 0.003952343068730713, -0.0011608029477114812, 0.004458331476628885, 0.00842634583314883, -0.007312556748815702, 0.011089442716755826, 0.004964319884519064, -0.021799803795484074, 0.0012359842474856109, 0.01029051365166378, -0.006700044465593358, -0.004782614709383459, -0.01325126279919342, 0.004724641164988164, -0.002891815922077434, -0.00046839775799334404, -0.010401749133739813, 0.012261205345501125, 0.01122259756093058, 0.006775225765349724, 0.0007299958396043138, -0.002305934607680804, -0.008937045847789094, 0.00736110707972415, 0.005550201198868621, 0.01913199530516163, -0.0061674250888543725, -0.01676655068550037, -0.007019616091617387, 0.002088175250243296, 0.0008098887461347459, -0.00012219516313027867, 0.0025142707516012663, 0.0068551186718393, -0.004143471457324743, -0.003983685644323387, 0.003499616598515942, -0.005608174743312766, 0.003526247567350538, 0.0055768321677245325, -0.009229986504971421, 0.006721963827666322, -0.004596197927559942, 0.0039789740375768545, 0.012900348597575828, 0.003765926286871668, -0.02222589929684382, -0.009363141349155057, -0.02068130310437688, -0.012079500170397495, -0.017086122311540386, -0.009336510380329344, -0.007552235468340385, -0.0006814455086825433, -0.012958322141994216, 0.012314467283185415, -0.0071527709357797065, -0.016766550685493264, -0.008218009689233696, -0.012345809858756773, -0.009469665224501433, -0.0040369475820041245, 0.0024876397827808816, -0.014343132521462465, -0.007365818686493775, 0.014631361571919577, 0.008000250331782865, 0.020330388902770835, -0.004383150176866302, -0.01096099947929563, 0.00357950950503394, -0.003477697236421662, -0.003051601735070797, 0.005630094105384842, 0.003872450162237584, -0.015914359682758672, 0.011409014342774526, 0.000703364870763501, -0.015754573869748434, -0.021107398605737515, -0.01413008477076616, 0.01883905464796598, -0.0016135294179306925, -0.007206032873445345, 0.01476451641608545, 0.009385060711259996, -0.01828451590913449, -0.0020129939504709427, 0.0036327714426960256, -0.01623393130877826, 0.015137349979782222, -0.006566889621394623, -0.01037511816493808, 0.00672196382767698, 0.008319821957825546, 0.0019816513748800446, -0.017911682345455482, 0.010876394966069292, 0.003925712099910328, 0.024990808449025792, 0.005630094105386618, 0.007707309674577445, 0.0004370551824193214, -0.00432988823919267, -0.0008146003528795021, 0.01186174081297775, 0.0007033648707732709, -0.012026238232727415, -0.005208710210788503, 0.004112128881758714, -0.0004417667891640775, 0.010237251713998141, 0.008426345833163928, -0.011307202074177347, 0.004458331476605792, 0.0012892461851583548, -0.002998339797408711, -0.009443034255664173, 0.0026207946269698468, -0.002465720420666173, -0.0011874339165682812, -0.008084854845024303, -0.003238018516906749, 0.0027006875334745217, -0.013996929926588741, 0.00680185673416922, 0.0034197236920263663, -0.010295225258421858, 0.009837787181461444, -0.0038771617689832283, -0.002385827514185479, 0.008825810365714837, -0.0017466842621098877, 0.005230629572856138, 0.015137349979765347, -0.0010010171347190067, -0.0034776972364642944, 0.00027726936941530056, -0.009043569723122147, 0.002833842377634177, -0.0034244352987773397, 0.007627416768074546, 0.0008365197149595716, 0.010982918841401457, 0.007680678705764166, 0.00794698839412078, 0.00853286970850764, 0.015030826104440287, 0.02323316450587054, 0.009917680087952796, 0.006082820575618264, 0.0023811159074229593, 0.005763248949582689, -0.005261972148451477, -0.00044176678915075485, -0.010534903977949206, -0.005155448273097107, -0.0015070055426082973, -0.0073125567488192544, 0.016815101016411482, 0.009571477493086178, -0.0019331010439600504, -0.0024657204206821604, 0.009464953617747796, -0.002598875264857803, -0.0030516017350894487, 0.006056189606780116, -0.006833199309764559, -0.014396394459128103, -0.0005749216333557072, 0.0011560913409800477, -0.0065136276837209905, -0.00369074498713573, -0.00020208806964561177, 0.008479607770840225, 0.009012227147566776, -0.0025988752648755664, -0.0028385539843798213, 0.024990808449015134, -0.011759928544361031, -0.027898295658889793, -0.00219941073233354, -0.0003352429137954971, -0.0052886031172709735, 0.004884426978012613, 0.00437843857013398, -0.012106131139257847, 0.015297135792795125, 0.016175957764372306, 0.011382383373938154, 0.010663347215373875, -0.0029184468908951544, -0.00480924567820562, -6.893322546108749e-05, 0.008506238739663274, 0.004564855351971708, -0.004010316613157094, -0.007312556748789056, -0.007605497405979378, 0.013859063475666566, 0.008399714864318675, -0.0076853903125027045, -0.01210613113924186, -0.009815867819376045, 0.0010761984344540565, -0.011573511762528632, 0.01566996935649012, 0.002247961063268633, 0.0006234719642579378, -0.0008412313217185385, 0.010503561402355643, -0.008990307785458285, 0.011808478875305006, -0.002092886856993381, -0.015275216430709726, 0.0024343778451063613, 0.0013957700605180534, 0.011036180779070648, -0.012425702765275659, 0.010903025934889676, -0.010428380102569967, -0.013144738923855925, -0.010827844635096007, 0.007174690297874875, -0.010827844635121764, 0.007627416768095863, -0.012186024045740318, 0.0006501029330943098, 6.42216187065614e-05, -0.0009211242282045617, 0.009385060711242232, 0.007014904484855755, 0.019691245650696132, 0.008266560020117275, 0.003632771442704019, -0.004862507615915668, 0.006162713482103399, 0.006828487702995822, 0.005177367635201158, 0.014418313821227713, 0.0065089160769815635, -0.012106131139246301, -0.002838553984388703, -0.012878429235474442, -0.0025988752648613556, -0.00544838893029187, -0.010934368510469916, 0.02131573474969617, -0.020894350855044763, -0.015594788056751518, -0.001134171978878662, -0.009895760725872726, 0.005257260541700504, -0.011040892385813628, 0.01891894755445911, 0.0035528785362020088, -0.004489674052208237, -0.008218009689230144, -0.013943667988933761, -0.012878429235485989, -0.006806568340929076, 0.004192021788273159, -0.008191378720353804, 0.002434377845104585, -0.014023560895415343, 0.002887104315303368, -0.0001488261319471107, 0.00464474825848793, -0.0099490226635508, 0.005656725074237201, -0.012798536328986643, -0.005421757961448392, -0.003717375955961444, -0.003477697236442978, 0.0013691390916665824, 0.005523570230066888, 0.01076987109072114, 0.0002772693693806616, -0.009469665224504986, -0.018018206220799193, 0.0001973764628901975, 0.0053637844170415505, -0.0009211242282169962, 0.010130727838671305, 0.009544846524254247, 0.011036180779065319, 0.01937167402468809, -0.0016934223244495783, -0.009735974912864265, -0.004995662460093975, 0.0008098887461267523, -0.005235341179608888, -0.0025722442960187664, 0.009757894274949663, -0.0014004816672432696, -0.005767960556323892, -0.0019597320128079687, -0.006194056057714725, 0.0008631506837879499, -0.007791914187840199, -0.003717375955976543, -0.003024970766235313, -0.007285925779974889, -0.020281838571839295, 0.02469786779182659, -0.001693422324462901, -0.02251883995403947, -0.017805158470104665, 0.006455654139321254, -0.006913092216242589, 0.01140901434276742, -0.008351164533403121, -0.0021994107323264345, 0.0021946991255887838, 0.02307337869285142, 0.007387738048546311, 0.004671379227301209, 0.026881607236361127, 0.01364601572499513, 0.004937688915659599, -0.00528860311727275, -0.008271271626905552, -0.0029184468908907135, 0.010370406558172007, 0.01527050482396497, -0.007712021281349735, -0.009949022663533924, 0.010397037527002162, 0.005283891510526217, -0.006273948964220288, -0.0016401603867759462, -0.013624096362874205, -0.008830521972448047, 0.008000250331793524, -0.004809245678232266, -0.008084854845029632, -0.009682712975174645, -0.0015336365114269057, 0.004325176632454131, -0.009975653632380066, 0.004271914694759182, -0.011919714357391697, -0.005794591525162041, 0.005576832167737855, 0.0076806787057766, -0.012958322141975565, -0.005874484431668492, -0.012958322141997769, -0.00712613996695044, 0.0050974747286902655, 0.005896403793753002, 0.009944311056799826, -0.0084044264710732, -0.01349094151869501, -0.0017733152309657996, 0.004192021788275824, -0.008857152941309288, -0.0019597320128115214, -0.0052619721484488124, 0.02488428457367675, 0.0003305313070729454, 0.006535547045835699, -0.001586898449081886, 0.012234574376694063, -0.005368496023781866, 0.020836377310642362, 0.018705899803768133, -0.020681303104383986, -0.013783882175911977, 0.004884426977984191, -0.014529549303307299, -0.004143471457338066, -0.018737242379357255, 0.006136082513277685, 0.010397037527014596, -0.020308469540671226, 0.02051680568461922, 0.006615439952340374, 0.0028072114087951405, -0.01729917006223758, 0.010397037527004827, 0.00642902317046623, 0.0011028294032913166, 0.007361107079727702, -0.002705399140205067, -0.009229986504978527, -0.00749897353064366, -0.010747951728627747, -0.005368496023761438, -0.00723266384226573, 0.009278536835907403, -0.004303257270374949, -0.005288603117284296, -0.0032912804545928154, -0.00691309221626657, 0.0012359842474873872, -0.014130084770757279, 0.010450299464671353, -0.0030249707662264314, 0.001289246185154802, -0.005528281836802762, 0.007867095487611664, -0.0017200532932664103, 0.0026207946269476423, -0.005448388930294534, -0.010055546538867866, 0.022274449627789572, 0.0007299958396123074, -0.01319800086150913, 0.015936279044861834, -0.016819812623181996, -0.0031048636727373236, -0.004489674052202908, 0.02887892989907126, -0.0036108520806177324, -0.005741329587495514, -0.0010010171347181185, 0.017214565548970384, -0.013970298957757699, -0.01117404722998483, -0.0016667913556247527, -0.009309879411500965, 0.017960232676374588, 0.0029936281906568496, 0.017800446863371455, -0.013890406051219273, -0.000601552602191191, 0.0035795095050721315, -0.009949022663544582, 0.015456921605805363, 0.0029936281906515205, -0.007312556748793497, 0.005976296700259454, 0.0058165108872589855, -0.011600142731380991, -0.020654672135537844, 0.005390415385885028, -0.003451066267611047, 0.004804534071502609, -0.009283248442653047, -0.01399692992659407, 0.004112128881757826, 0.013832432506832859, -0.004463043083357654, -0.006859830278590273, 0.00041042421358739034, -0.01780515847009312, -0.0006548145398603822, 0.009757894274968315, 0.004911057946816122, -0.018976921098878385, -0.005741329587501731, 0.0021946991255719084, 0.009331798773552613, 0.009385060711246673, 0.006562178014635656, -0.0023059346076728104, -0.0043565192080139425, 0.004351807601294944, 0.00573661798073033, 0.014684623509571892, -0.009176724567319106, 0.013619384756133002, 0.00424528372594235, -1.567128778923177e-05, -0.007099508998130943, -0.010268594289568611, -0.007152770935793917, -0.00028198097615295126, -0.0037440069248066976, -0.005608174743311878, 0.011861740812979527, -0.00012219516313649592, 0.0025675326892811157, -0.0018798391063059583, 0.0013957700605136125, -0.0011075410100502836, -0.011094154323489036, -0.010881106572792731, -0.00417010242616378, 0.0045382243831308955, -0.0004683977580084431, -0.010108808476583242, 0.0028604733464820953, 0.006455654139301714, 0.006349130263995306, -0.009256617473811346, 0.005763248949574695, -0.0036108520806230615, 0.01122259756092614, 0.0005968409954277831, -0.015328478368354048, 0.012607407940391724, -0.009070200691970953, 0.0073877380485507516, -0.0026521372025349876, 0.011515538218108468, 0.00365940241154572, -0.0037173759559587793, 0.00890570327221507, -0.012692012453629609, 0.0029403662529832175, -0.015088799648869333, -0.012532226640623811, -0.0007879693840191493, 0.0037925572557364617, -0.00989576072588072, -0.0027053991401926325, -0.004436412114534605, 0.007014904484855755, 0.01074324012187855, -0.008990307785461837, -0.009043569723133693, -0.004010316613160647, -0.007046247060451094, -0.0029450778597235328, 0.029784382839475043, 0.010024203963318712, 0.011169335623250731, -0.014769228022820435, -0.02598086590269766, 0.010689978184196924, -0.008084854845031408, 0.00539041538587437, 0.010956287872568637, 0.005443677323541785, 0.018146649458218533, 0.014231897039364227, 0.006162713482119386, -0.024968889086940393, 0.008932334241019468, 0.002407746876283312, 0.0025675326892846684, -0.0027320301090334453, 0.00533715344821406, 0.02986427574597439, -0.0014803745737612672, -0.005661436680973075, 0.007041535453698344, 0.005417046354717847, -0.0058212224939984125, -0.014130084770758167, -0.003850530800150409, 0.012847086659903972, -0.00901693875428844, 0.0009164126214527002, 0.005257260541691622, 0.0008631506837852854, -0.007818545156683676, -0.011200678198819425, -0.005448388930279435, 0.004884426978023271, 0.0016088178111903773, -0.013837144113582944, -0.010348487196090161, -0.006726675434404861, -0.009549558131013214, 0.0013425081228488622, 0.004458331476613786, 0.002993628190654185, 0.007840464518774404, -4.230225661761011e-05, -0.007285925779936697, 0.008586131646174167, 0.0051507366663532395, -0.0066201515590673665, -0.005688067649818329, -0.0015336365114242412, 0.003100152066020989, 0.006535547045816159, -0.01985574307044846, -0.0001488261319844142, 0.010024203963312495, -0.001773315230953365, -0.01727253909339943, 0.005150736666360345, -0.01311810795500623, 0.010210620745138677, -0.015541526119053906, -0.017192646186893867, -0.0024923513895407368, 0.011222597560934133, -0.008910414878942952, -0.001347219729587401, 0.0059230347625955915, -0.010588165915603298, 0.012980241504071621, 0.00046368615126723967, -0.00837779550224127, 0.00046368615125214063, -0.009735974912858048, -0.003983685644311841, 0.006988273516022048, -0.0038505308001486327, -0.013544203456381076, 0.013459598943122764, -0.007259294811134076, -0.013917037020074297, 0.004671379227310091, 0.00019737646289375022, -0.012585488578269022, 0.0016354487800329665, 0.006429023170479553, -0.006486996714886395, -0.006753306403243897, -0.0044364121145283875, -0.006407103808375503, -0.014822489960502061, 0.0013691390916701351, 0.009864418150291598, -0.013464310549866632, 0.0027273185022957946, 0.014391682852378018, 0.010743240121871445, -0.010188701383065712, 0.0029669972218338003, -0.007791914187849969, -0.02414332905302352, -0.02278514964239786, 0.01955809080652582, 0.006136082513282126, -0.004649459865192718, 0.007361107079723261, -0.016873074560857404, 0.00017074549405915462, 0.006801856734167444, -0.0037440069248004804, -0.011706666606675853, 0.005017581822176709, -0.025980865902693218, -0.006673413496748104, -0.003344542392254013, 0.005736617980751646, 0.024245141321623365, -0.007978330969684144, -0.013917037020059198, -0.015861097745078823, 0.023872307757950573, 9.085258753405157e-05, 0.0016620797488648975, 0.01348622991194759, 0.005843141856090028, 0.011835109844133385, 0.004351807601270963, 0.003499616598539923, -0.0036907449871419473, -0.010721320759775388, -0.010455011071416997, 0.009944311056810484, 0.0072812141732336855, 0.015110719010961837, 0.0017952345930316582, -0.001560267480265054, -0.015994252589269564, -0.004915769553582194, 0.004990950853335896, -0.01050827300910484, -0.0065935205902354355, 0.005283891510535099, 0.0017153416865420823, -0.010268594289568611, -0.009975653632365855, 0.004804534071480404, 0.004351807601293167, -0.006167425088857925, 0.00104956746563456, -0.014396394459120998, -0.0007080764775349024, -0.012612119547129375, -0.003983685644308288, 0.004085497912939218, -0.008537581315241738, -0.009682712975189744, -0.00659352059022833, -0.0006814455086772142, -0.0011341719789044191, -0.004862507615892575, 0.008373083895505395, 0.0038724501622446894, -0.009762605881703301, 0.018972209492139847, -0.010534903977925225, -0.005981008307019309, -0.0019597320127910933, -0.00944303425565618, 0.00035716227591908734, -0.004809245678247365, -0.02377049548932586, -0.016020883558111265, 0.0023278539697493272, -0.01745895587525581, -0.0014004816672459341, -0.000175457100810128, -0.0020662558881321402, -0.00760549740599803, -0.007552235468311075, -0.004915769553576865, -0.0035842211117822487, 0.007148059329039391, -0.00259887526487379, -0.011972976295075988, 0.001395770060506507, -0.011227309167672672, -0.005954377338175831, 0.010183989776324509, -0.0026521372025207768, 0.004591486320792981, -0.013863775082384677, 0.005283891510530658, 0.02357936710073627, 0.008985596178723299, -0.007951700000861095, 0.019824400494868222, 0.005816510887250104, -0.0009477551970569209, 0.009598108461942978, -0.0029983397974149284, 0.0077339406434315805, -4.2302256632709145e-05, -0.00017545710081545707, -0.005634805712160684, -0.01484912092931534, -0.026513485279415328, 0.002807211408788035, -0.005927746369346565, 0.010130727838641107, 0.0018218655618831292, 0.005150736666351463, -0.007871807094351091, -0.01330452473686261, 0.005736617980750758, -0.018470932691003306, 0.01681510101643635, 0.011622062093471719, -0.005315234086116227, -0.012079500170403712, 0.006615439952320834, 0.011249228529746524, -0.0036641140182824827, -0.003744006924794263, 0.014498206727743934, -0.0023591965453375607, -0.00603427024467873, 0.0030468901283251526, -0.02432974583487546, -0.004755983740561298, 0.017534137175007736, -0.0034244352987817805, -0.003983685644318058, 0.004937688915672922, 0.0004636861512494761, -0.0024390894518209194, -0.003504328205278462, 0.008293190988977628, 0.0027539494711223966, -0.0016934223244389202, -0.0008412313216945577, 0.005789879918427943, -0.012292547921130215, -0.011120785292318303, -0.019403016600250567, -0.010002284601222655, 0.013353075067786158, 0.008666024552675289, -0.0006281835710124639, -0.0011608029477230275, 0.004618117289653334, -0.005182079241933479, -0.015062168680016974, -0.013011584079671401, -0.009256617473830886, 0.012847086659896867, -0.0018798391062828657, 0.008958965209891367, -0.019216599818403957, -0.009336510380310692, -0.013171369892679863, -0.008617474221758847, -0.006753306403244785, 0.010556823340027499, 0.0073078451420505175, 0.0062159754197983474, 0.013140027317106728, 0.007041535453711667, 0.0040322359752700265, 0.0024077468762806475, 0.011036180779071536, -0.002918446890873838, -0.010321856227236914, -0.00459619792755106, 0.007520892892729947, 0.001715341686535865, -0.006700044465573818, 0.001715341686540306, -0.0005482906645175589, 0.013193289254762597, -0.005794591525145165, -0.0014803745737514973, 0.006189344450958423, 0.020223865027437782, -0.011493618856024845, 0.009411691680077716, -0.011946345326215635, 0.00448496244545904, 0.00030390033824634344, -0.01719264618685834, -0.015994252589284663, 0.00823992905129245, 0.010130727838656206, 0.008319821957811335, -0.0008412313216998868, -0.00430325727036962, 0.0034996165985532457, -0.013917037020079626, 0.019238519180503566, 0.01116933562325162, 0.00837308389549829, -0.005182079241929927, -0.007791914187838422, 0.004511593414306958, 0.0034729856296999984, -0.003238018516952934, 0.01138238337395503, -0.0020129939504744954, 0.006056189606769458, 0.008719286490363132, -0.0011608029477514492, 0.003632771442707572, 0.004990950853346554, -0.008564212284081663, 0.020676591497631236, -1.567128778834359e-05, -0.00363748304946121, -0.013544203456370418, 0.0052838915105413164, 0.024032093570953705, 0.00019737646290440836, -0.012798536328987531, 0.0025409017204394146, -0.004995662460092198, -0.005741329587500843, 0.0068284877030162505, 0.003899081131074844, -0.005208710210769851, -0.0010542790723917506, -0.015408371274882704, -0.003184756579255321, 0.0007033648707519546, 0.014950933197925842, 0.007494261923909562, -0.011387094980689128, -0.0188171352858717, -0.009895760725853187, 0.011701954999970177, 0.0058964037937592195, -0.004090209519678645, 0.001715341686540306, -0.01535510933721973, 0.002700687533456758, -0.011626773700210258, 0.01242099115852291, -0.018550825597519527, 0.013725908631477601, 0.00030390033824634344, 0.019478197900006933, 0.007041535453690351, 0.0004104242135776204, 0.007174690297883757, 0.0066154399523279395, -0.002891815922041019, 0.002700687533450541, 0.0006501029330960861, 0.0010761984344691555, 0.0013957700605091716, -0.018311146877978857, 0.012021526625994206, -0.0036108520806141797, 0.021981508970583263, -0.019056814005389278, 0.005736617980728553, -0.0029450778597235328, -0.014662704147482053, -0.007392449655299949, -0.0011608029477336856, -0.00329128045458571, -0.011573511762530408, 0.0052838915105413164, -0.006939723185089619, 0.003952343068755582, 0.013619384756132114, 0.010663347215383645, 0.009358429742400531, 0.015030826104432293, 0.01590964807600681, -0.009229986504980303, -0.0004950287268314923, 0.006668701889988249, -0.015115430617700376, 0.00770730967461386, 0.014578099634237063, -0.011759928544377019, -0.0064337347772056575, 0.007387738048563186, -0.002252672669996514, -0.0053951269926022505, -0.0014271126360885233, -0.009229986504992738, 0.009651370399618386, -0.004835876647061532, 0.0015555558735229624, 0.0007033648707803764, 0.007281214173223027, -0.004276626301530584, 0.0034729856297071038, 0.01649552939041765, 0.02200813993941786, -0.02414332905300487, -4.230225664603182e-05, 0.008452976801993195, 0.013273182161266384, 0.004245283725914817, -0.01492901383584222, 0.002008282343718193, -0.004196733395014363, 0.022700545129175964, -0.011813190482053315, 0.023712521944907472, 0.010769871090716698, -0.01138709498067847, 0.005816510887253656, -0.006593520590212343, -0.003903792737814271, 0.007867095487614328, -0.002412458483006752, -0.007925069032025611, 0.00951821555542054, -0.0024124584830147455, 0.008346452926676129, 0.007014904484869078, -0.0037440069248155794, -0.008324533564555203, 0.003952343068723607, -0.006060901213524872, 0.00448496244545904, -0.0011341719789008664, -0.016260562277611967, 0.0037925572557204745, 0.009731263306112403, 0.004937688915677363, -0.005767960556321228, 0.002807211408802246, -0.0012673268230578572, -0.006194056057690744, -0.004356519208021936, 0.012447622127371716, -0.0014803745737639318, -0.008377795502242158, 0.010769871090712257, -0.0037173759559685493, 0.01809338752055556, -0.006194056057709396, -0.00757886643717498, -0.0037440069247862695, -0.0075522354683190684, -0.00598100830700421, 0.003206675941346937, -0.0007879693840155966, -0.01551489515024329, -0.006966354153933096, 0.0044849624454723624, -0.0113072020741809, 0.010370406558186218, 0.0074676309550749664, -0.007126139966966427, 0.008666024552698381, -0.0008678622905415878, 0.010157358807489025, -0.01277190536013606, -0.002146148794660796, -0.024436269710199632, -0.0016135294179315807, 0.008825810365697961, 0.01758739911268048, 0.010556823340045263, -0.001214064885423305, -0.00891041487895361, 0.02491091554251046, 0.0025409017204580664, 0.003313199816718182, -0.00544838893030164, 0.003206675941336279, -0.03362395395857298, -0.006886461247434639, 0.00576324894958713, 0.0014224010293544254, 0.005097474728694706, -0.004196733394992158, 0.0023811159074345056, -0.009389772317988765, -0.006566889621399952, 0.002088175250237967, -0.009869129757071882, -0.01612740743343899, -0.019749219195127843, 0.012767193753403738, -0.0025189823583700033, -0.01181319048204621, -0.015807835807418513, 0.0010229364968248333, -0.017672003625936128, -0.009789236850537009, 0.006562178014661413, -0.016926336498526595, 0.0029936281906568496, -0.008910414878958939, -0.009842498788182219, -0.011626773700206705, -0.008670736159418269, -0.01394366798890978, 0.0025941636581228167, 0.006162713482103399, 0.004724641165000598, 0.009038858116393378, 0.0005968409954526521, -0.029070058287653744, -0.001080910041225458, -0.012186024045759858, -0.011387094980684687, 0.015962910013704423, -0.0054483889302856525, -0.003211387548076594, -0.012319178889934612, -0.0025189823583504634, 0.0024610088139276343, 0.009811156212622407, -0.001613529417928028, 0.018945578523287487, -0.011360464011844762, -0.0010542790724059614, -0.021107398605751726, -0.01175992854439123, 0.005230629572861467, 0.004351807601270075, -0.0038238998313149253, -0.0045695669587164645, -0.0035309591741130575, 0.013965587351000508, 0.013246551192416689, 0.010157358807470374, -0.003930423706640873, 0.0007566268084495675, 0.008053512269456498, 0.023313057412378768, -0.011307202074181788, -0.0014004816672681386, 0.004857796009169135, -0.019403016600240797, 0.0025142707516128127, -0.0051021863354341335, -0.003930423706662189, 0.008293190988985621, -0.011493618856029286, 0.003073521097169518, -0.0003618738826576262, -0.017645372657100644, 0.0027805804399676504, 0.010104096869822499, -0.018710611410510225, -0.004516305021026845, -0.002891815922061447, -0.0035842211117866896, 0.009464953617772665, -0.010561534946762485, -0.0006281835710160166, 0.0014490319981899091, -0.001560267480280153, -0.0063272109018841505, 0.0018484965307266066, -0.021773172826642373, 0.006988273516036259, 0.003686033380380316, 0.0057099870118930696, 0.0024077468762699894, 0.014631361571911583, 0.011435645311593134, 0.002061544281402483, 0.012261205345526882, -0.019003552067726304, -0.008803891003615227, 0.0045914863208089685, 0.0011294603721410112, -0.004969031491232734, 0.006002927669103819, -0.015408371274892474, 0.005257260541694286, 0.017001517798297172, 0.011222597560907488, -0.011972976295067106, -4.230225661228104e-05, -0.007818545156690782, 0.0054703082923683866, -0.0014271126360885233, 0.01375253960031042, 0.004804534071473299, 0.0027539494711472656, 0.002274592032074807, -0.0036907449871375064, 0.0015555558735247388, 0.005816510887250992, 0.0005702100266065102, 0.006748594796502694, 0.004351807601285174, 0.010290513651666444, 0.004777903102676007, -0.003797268862481218, 0.009172012960541487, -0.007232663842302145, 0.0030468901283358107, 0.009198643929389405, -0.0032380185169254005, 0.017986863645218953, 0.011888371781829221, 0.0002772693693895434, 0.008719286490331157, 0.00443170050781827, 0.0008365197149799997, 0.005390415385872593, 0.00046368615125924606, 0.00033053130707205725, 0.012367729220851054, 0.019824400494857564, 0.011728585968802108, -0.0012406958542330315, -0.00933651038033112, -0.0011075410100511718, 0.008293190988967858, 0.009198643929400063, 0.007227952235537849, -0.008937045847768665, -0.002439089451848453, -0.011866452419724283, -0.005102186335428804, -0.013304524736864387, 0.006508916077001103, 1.0959681061351034e-05, -0.0035575901429503176, 0.021022794092498742, 0.0031534140036768576, -0.007712021281342629, 0.0053105224793768, 0.00219469912558079, 0.001129460372125024, 0.008905703272188426, 0.012420991158538897, -0.008963676816613031, 0.00914538199173176, 0.008452976802004741, 0.008932334241036344, 0.0068817496406792245, -0.002492351389530967, 0.007680678705757948, -0.012345809858759438, 0.010290513651675326, -0.014955644804675927, -0.01197297629505023, -0.019429647569094932, 0.012101419532502433, 0.014924302229101905, -0.003238018516917407, -0.016127407433442542, -0.0044097811457017855, 0.010130727838626008, 0.007387738048552528, -0.01564804999440561, 0.002407746876298411, 0.001715341686526095, -0.01703286037386409, -0.006327210901873492, -0.0008412313217025513, 0.0027006875334674163, 0.014764516416101436, -0.018604087535185165, -0.019163337880724995, -0.004196733395036567, 0.01524387385511261, -0.0005749216333486018, 0.008186667113647239, 0.0011560913409969231, 0.0035528785362215487, -0.01727253909339499, 0.0002240074317372276, 0.0024610088139329633, -0.017405693937558198, 0.015563445481149074, -0.0026255062337128265, 0.001875127499535445, 0.007121428360211901, -0.011573511762501987, 0.005603463136564457, 0.011675324031138246, -0.0007347074463419645, -0.00313149464158613, -0.0016135294179226989, 0.0025941636581210403, -0.008857152941280866, 0.0065355470458081655, -0.014556180272159658, 0.027866953083294455, -0.006966354153942866, 0.010237251713995477, 0.007547523861583194, 0.0051773676351798414, -0.0071527709357948055, -0.00315812561041362, 0.006748594796497365, 0.020596698591130114, 0.0018484965307115075, -0.0011075410100485072, 0.012181312439000003, 0.005523570230052677, 0.015030826104456274, 0.004405069538943707, -0.005048924397755172, 0.005843141856070488, 0.011994895657161386, 0.0019017584684011268, -0.015008906742342454, 0.0009430435903015066, -0.007365818686484005, 0.0029936281906612905, 0.009065489085226197, 0.006908380609514708, 0.016042802920217092, 0.0050442127910068635, -0.016260562277613744, 0.001662079748862233, 0.016255850670880534, 0.0030468901283260408, -0.013304524736826195, 0.015536814512316255, -0.0002819809761520631, 0.010610085277694026, 0.010370406558176448, 0.0011827223098261896, 0.006881749640702317, 0.004085497912910796, 0.00014411452520857182, 0.008852441334547656, 0.0013425081228302105, -0.0008944932593877297, 0.01428515897703253, -0.010801213666295162, -0.0032646494857928587, 0.017321089424315872, -0.011546880793695813, 0.00525726054170228, 0.007574154830409796, -0.0048891385847325, 0.002887104315307809, -0.013304524736849288, -0.0035842211117671496, -0.005182079241929927, -0.008857152941292412, -0.0069397231850816254, 0.015297135792789796, 0.005949665731432852, 0.01694825586061821, -0.007365818686468906, 0.019424935962336853, -0.0030516017350796787, 0.010237251713984818, 0.006908380609500497, -0.008404426471085635, -0.004249995332672896, 0.0077073096745952085, 0.007387738048581838, -0.013650727331719459, 0.009970942025626428, -0.022092744452679725, -0.012692012453619839, 0.007440999986229713, 0.01340633700544469, -0.0009211242282178844, -0.011546880793686931, -0.018417670753329674, -0.0044364121145434865, 6.422161871810772e-05, -0.01122730916767356, 0.004538224383150435, -0.0008944932593770716, -0.017166015218058384, 0.010130727838656206, 0.008053512269456498, -0.0002819809761502867, 0.009731263306117732, -0.002625506233695063, 0.00552357023006067, -0.0014537436049275598, -0.006859830278587609, -0.0021994107323326517, 0.013725908631467831, -0.0023059346076594878, -0.009256617473814899, 0.0024610088139294106, 0.00011748355637042351, 0.009944311056808708, -0.013517572487533158, 0.006402392201655616, 0.01351286088080883, 0.012074788563674943, -0.008191378720376896, -0.0029717088285750037, 0.0020615442814095886, -0.003238018516942276, 0.008266560020148361, 0.006349130263952674, 0.011808478875313, 0.0031800449725016833, -0.006566889621399952, -0.005874484431653393, 0.008506238739648175, 0.013619384756140995, 0.010130727838663312, -0.014156715739611414, -0.004835876647068638, -0.023663971613990142, 0.0008897816526216573, -0.007818545156667689, 0.0054436773235613245, 0.0006234719642810305, -0.009389772317986989, -0.011733297575549528, -0.011227309167665567, 0.008160036144806426, -0.01572794290092272, -0.0018798391063068465, -1.5671287778573628e-05, 0.009305167804733117, 0.0021414371879195926, 0.005603463136578668, 0.00200828234373418, -0.003344542392273553, 0.010769871090683836, 0.013805801537984053, -0.009469665224484558, 0.010956287872541992, 0.012873717628746562, 0.008133405175946073, 0.010104096869808288, 0.008852441334542327, -0.001560267480255284, 0.00238111590743717, 0.0006767339019484453, 0.011675324031113377, 0.001315877154000944, -0.007871807094340433, -0.012931691173167614, 0.02413861744628054, -0.009070200691966512, 0.011275859498597107, 0.008958965209877157, -0.0036641140183073517, -0.001746684262106335, -0.014050191864253492, -0.007898438063190127, -0.016899705529699105, 0.009385060711271542, 0.0025409017204625073, -0.0020129939504514027, -0.01791168234545637, 1.0959681040034752e-05, -0.00475598374056041, -0.01921659981839241, -0.026247175591048943, 0.005816510887277637, -0.014103453801942223, 0.011968264688333896, -0.006247317995370594, 0.0010229364968026289, 0.0004903171200751899, -0.007925069032035381, 0.004032235975235388, 0.014524837696565207, -0.006566889621397287, -0.0005749216333352791, -0.006992985122779238, -0.0060342702446813945, -0.00853758131523552, 0.011275859498590002, 0.000330531307105808, 0.0005968409954224541, -0.013038215048495339, 0.01452483769654922, 0.00011748355639529251, -0.006939723185102942, -0.004489674052207349, -0.0015070055425905338, -0.022172637359185288, 0.012527515033855074, 0.021715199282239972, 0.015190611917455854, -0.023078090299593512, 0.007121428360213677, 0.0025142707516074836, -0.007312556748800603, 0.004857796009172688, -0.004170102426169997, 0.0005435790577763555, 0.003632771442712013, 0.006695332858812186, 0.0033398307855332376, 0.0014756629670218402, 0.009997572994473458, -0.000468397757988015, 0.030929514499407063, 0.007840464518793056, 0.004990950853349219, 0.0004903171200787426, 0.003845819193396771, -0.0035575901429458767, 0.009997572994474346, -0.001826577168626109, -0.008324533564562309, 0.014018849288691904, 0.0007033648707839291, -0.002598875264869349, -0.01442302542796181, 0.029118608618579955, 0.004911057946841879, 0.00011748355638196983, 0.004671379227302097, -0.0073924496553194885, 0.00714805932903495, 0.0058964037937441205, 0.00272731850229313, -0.0005482906645051244, 0.004325176632450578, 0.021368996687358255, -0.0014803745737630436, -0.001054279072383757, -0.012079500170413482, 0.011755216937627821, -0.007951700000852213, 0.003925712099911216, 0.01590964807603079, -0.018364408815658706, 0.0076007857992532735, -0.018950290130040237, 0.013539491849629215, 0.0038724501622393603, 0.001848496530708843, 0.0048045340714875096, -0.0163404551841424, 0.008452976801994971, -0.009682712975202179, -0.011094154323476602, 0.0025142707516110363, 0.0042719146947947095, 0.0016088178111965945, 0.0065089160769868926, -0.0032113875480899168, -0.00353095917413615, 0.011275859498593555, -0.0012673268230658508, 0.007654047736912695, -0.0005482906645069008, -0.01189308338856776, 3.759064987551852e-05, 0.012953610535258342, 0.00816003614479488, 0.012793824722214353, -0.00310486367275864, -0.01138709498069268, -0.016899705529722198, 0.00504421279101841, 0.01045029946469267, 0.007414369017400446, -0.01556815708787429, 0.016708577141110403, -0.008058223876190596, -0.0019863629816496697, 0.004112128881758714, 0.0047779031026706775, -0.004649459865227357, 0.0181200184894017, -0.004036947581993466, 0.0008631506837959435, 0.016815101016454115, 0.009678001368444988, 0.0006234719642792541, -0.0012406958542490187, 0.002327853969768867, 0.009012227147533913, 0.0041387598506013035, 0.00025063840055761233, -0.01114741626116178, 0.022540759316145298, -0.01492901383584222, 0.002620794626950307, 0.0011827223098466177, -0.006700044465557831, -0.0012939577918951173, 0.010556823340030164, 0.008452976802011847, -0.006593520590223001, 0.005390415385891245, -0.009123462629633039, -0.016766550685513693, 0.007014904484875295, 0.0037925572557240272, -0.008457688408742392, 0.004564855351959274, -0.007019616091604952, -0.004489674052209125, -0.010934368510471693, -0.01197297629506, -0.005075555366583551, 0.003925712099912992, -0.0076853903125027045, -0.011280571105330317, -0.003291280454586598, -0.0014004816672512632, -0.008564212284095873, -0.004995662460078876, -0.010588165915609515, 0.0010495674656265663, -0.009682712975181751, -0.0031048636727559753, 0.00845297680198076, -0.00030861194499998135, -0.0014004816672317233, 0.014152004132862217, 0.006455654139305267, 0.00573661798074987, -0.0027586610778760345, -0.012186024045774069, -0.001453743604938218, -0.0039037927378107184, 0.018972209492145176, 0.0169482558606191, -0.009842498788204423, 0.0021148062190983197, 0.0023278539697511036, -0.007525604499483585, 0.0027273185023055646, 0.00997094202564952, -0.0037706378936341878, 0.021235841843186165, 0.005550201198875726, 0.006535547045821488, 0.0030202591594727934, -0.0028119230155487784, -0.0019597320127777706, -0.005048924397756949, 0.008266560020130598, -4.2302256627380075e-05, 0.007733940643424475, 0.005017581822189143, -0.003344542392278882, -0.0007347074463615044, 0.031169193218937075, -0.009443034255657068, 0.015243873855123269, -0.01958943338209007, 0.005097474728687601, 0.006295868326295029, -0.007472342561817058, -0.006007639275850352, -0.0006015526021823092, -0.017405693937568856, 0.0008365197149480252, -0.005981008307005986, -0.012239285983414838, 0.005683356043090448, 0.006721963827681421, 0.00493768891567381, 0.014897671260258427, 0.02136899668738579, 0.008905703272197307, -0.013544203456378412, -0.009629451037514336, -0.013064846017325493, -0.018124730096143793, -0.010614796884429012, 0.004831165040339869, 0.009464953617775329, -0.009922391694716204, -0.0028385539843966967, -0.022545470922879396, -0.011999607263914136, -0.02030846954067478, -0.007259294811135852, -0.005767960556326557, -1.5671287785679056e-05, 0.003978974037575078, -0.0061407941200082305, 0.003180044972494578, -0.001507005542596751, 0.01319328925478036, -0.010108808476570807, 0.0054170463547098535, -0.006327210901877045, -0.0051554482731202, -0.0006015526021601048, -0.0029450778597110983, 0.014604730603062777, 0.00163544878005073, 0.005523570230049124, 0.015510183543478995, -0.010028915570043928, 0.010024203963289402, 0.004857796009157589, -0.00760549740599803, 0.03468448110525646, 0.007281214173228356, -0.0386838380373673, 0.025816368482951546, 0.011382383373944371, -0.028777117630463422, -0.019376385631408866, -0.004702721802889442, -0.007978330969687697, 0.014125373164040944, 0.0028871043152989273, 0.013326444098944457, -0.016074145495776904, 0.004618117289638235, 0.00765404773693934, -0.02017531469650624, 0.0027539494711081858, -0.005395126992630672, -0.005022293428925906, 0.003233306910173539, -0.012718643422463316, 0.012900348597567834, -0.0024657204206972594, -0.005235341179605335, -0.0017999461997968424, -0.011040892385813628, 0.004964319884495083, -0.002119517825833306, 0.01870589980378856, 0.02387230775791238, 0.0025409017204474083, -0.010055546538894511, -0.007445711592964699, 0.0064290231704866585, -0.0064869967148943886, -0.006486996714881066, -0.006806568340926411, -0.006753306403254555, 0.011302490467419268, 0.011089442716731845, -0.003051601735100107, -0.010055546538900728, 0.018519483021935734, 0.012527515033878167, -0.005847853462831232, -0.008750629065925608, -0.003158125610407403, -0.004622828896375886, -0.006007639275857457, 0.006775225765339066, 0.0031267830348333803, -0.010002284601235978, 0.011382383373937266, -0.018231253971482175, 0.0070947973913870754, 0.0015022939358519949, -0.010348487196087497, 0.0034463546608645146, -0.0049424005224096845, -0.004862507615905898, 0.006082820575604053, -0.021826434764292024, 0.008080143238298199, -0.0020662558881525683, 0.034471433354579695, 0.015749862263006342, 0.0024343778450983677, 0.008000250331797965, 0.021448889593865594, 0.009864418150275611, 0.008053512269456498, 0.0022213300944136094, -0.003637483049466539, -0.006194056057702291, 0.002301223000911179, 0.00789372645644626, 0.009385060711263549, -0.005581543774474618, -0.0017999461997861843, 0.0030202591595092088, 0.007574154830412461, 0.00435180760126741, -0.01285179826663807, -0.012478964702953732, -0.0014803745737639318, -0.004915769553570648, 0.013992218319852867, 0.011009549810231611, 0.025017439417885257, 0.006429023170484882, 0.005017581822185591, -0.0003352429138159252, 0.020090710183240823, 0.004325176632439032, 0.003579509505055256, 0.0097845252437887, -0.008324533564549874, -0.0020129939504647254, 0.016628684234584412, -0.012825167297823903, 0.006429023170498205, 0.0065089160769717935, 0.014018849288668811, 0.00014411452522100632, 0.011701954999960407, -6.89332254770747e-05, 0.01039703752699861, -0.008271271626879795, -0.010907737541651308, -0.0015070055426003037, 0.00858613164616795, -0.00731255674879705, -0.012905060204316143, -0.008404426471061655, -0.0029450778597270855, 0.009811156212609973, 0.01143564531160468, 0.024831022636011113, -0.0021195178258155423, 0.012687300846882188, 0.023685890976070212, 0.0003837932447430248, 0.001022936496823057, 0.0013425081228302105, 0.004724641164974841, 0.008426345833157711, -0.011813190482039104, -0.005688067649831652, 0.004964319884510182, -0.002439089451852894, 0.0065621780146400965, -0.006966354153945531, -0.005448388930290093, -0.016180669371110845, -0.011999607263910583, 0.016282481639713353, -0.02379712645815868, -0.008004961938532063, -0.0051820792419343675, -0.0006814455086976423, 0.006988273516016719, -0.0007080764775242443, 0.00041042421357406766, 0.002700687533471857, 0.003579509505049927, -0.00491576955356976, -0.007312556748797938, 0.005683356043043375, -0.0012939577919013345, 0.01298024150409205, 0.0019283894372117416, 0.011222597560895053, -0.010508273009084412, -0.009363141349163051, -0.0008678622905140543, 0.008213298082461407, 0.02573647557644332, 0.008106774207138123, -0.004889138584763586, -0.008164747751540524, 0.00903885811638272, -0.004063578550843161, -0.0010276481035464968, -0.00941640328682869, -0.014050191864269479, -0.012931691173153403, 0.009678001368444988, 0.013459598943118323, -0.018737242379371466, -0.0030516017350734614, 0.008719286490349809, 0.013246551192443334, -0.018923659161214523, -0.007312556748795274, -0.009443034255652627, -0.0013738506984015686, -0.015967621620442962, 0.012367729220846613, 0.010397037527003938, -0.0021195178258075487, -0.009389772317982548, -0.007525604499494243, -0.012292547921096464, 0.00022400743172390492, 0.008133405175961173, -0.005501650867955732, 0.0037392953180805932, 0.007600785799242615, -0.004835876647065085, 0.0020615442814095886, 0.014205266070534961, -0.010907737541629992, 0.021209210874345352, -0.021666648951296885, 0.007973619362954487, 0.021661937344547688, 0.0110361807790893, 0.006056189606768569, 0.005470308292380821, 0.01588301710719353, 0.007867095487602782, 0.003472985629693781, 0.0022213300944384784, -0.00654025865256358, 0.008559500677342236, 0.009944311056799826, -0.0014803745737559382, -0.008271271626891341, -0.007818545156690782, -0.004063578550810298, -0.010534903977927002, 0.008000250331791747, -0.016899705529675124, -0.010028915570045704, -0.017858420407795172, 0.009731263306116844, 0.004458331476637767, -0.01109415432347749, 0.012820455691086252, 0.007201321266705918, 0.0052838915105413164, -0.0003618738826576262, 0.013885694444489616, 0.004218652757102426, 0.004378438570108223, -0.012558857609448637, -0.016606764872492796, 0.007414369017411104, 0.0057366179807640805, -0.002865184953220634, 0.006136082513283014, -0.00012219516312850232, -0.0037972688624696715, 0.0023278539697608736, 0.010343775589345405, 0.0021414371879098226, 0.007893726456442707, 0.012048157594825248, -0.008590843252910041, -0.0015602674802739358, -0.0022260417011681355, 0.005310522479391899, 0.006375761232807697, -0.008830521972427618, 0.014258528008201488, 0.008905703272189314, 0.010689978184180049, 0.007840464518759305, 0.001395770060505619, -0.02195958960848987, -0.007871807094344874, -0.015062168680025856, 0.027121285955902685, -0.001080910041225458, 0.0028072114088111277, -0.010082177507711343, 0.0020615442814007068, -0.014929013835833338, -0.0029717088285732274, -0.01021533235191363, -0.005368496023777425, -0.004116840488507023, -0.0029184468908942662, -0.01942964756908072, 0.008053512269451168, 0.006535547045815271, -0.0012673268230809498, 0.017480875237343874, 0.00823992905131643, 0.012394360189696307, 0.008745917459195063, 0.0034729856296866757, -0.010668058822123072, 0.0031267830348191694, 0.004990950853330567, 0.007281214173215922, -0.000654814539849724, -0.008723998097113217, -0.0010809100412183525, 0.0076007857992435035, -0.0006015526021796447, -0.006273948964214959, -0.00776528321900205, -0.014822489960489627, 0.006322499295142059, 0.003526247567376295, 0.017214565548960614, -0.0008412313216936695, -0.013677358300563824, -0.0058212224939930834, 0.01300687247291954, 0.018652637866103383, 0.00017074549404849648, -0.005048924397756949, 0.008799179396880241, 0.01987766243257294, 0.0032865688478382893, -0.0023325655764985243, 0.005203998604025095, -0.010401749133732707, -0.009203355536143043, -0.006779937372086486, 0.02049017471577752, -0.002146148794659908, -0.008644105190586338, 0.004378438570132204, 0.013219920223612291, 0.004112128881754273, 0.007467630955050986, 0.017161303611301193, 0.0024077468762744303, 0.007920357425279079, 0.012074788563653627, -0.009389772317990541, 0.002540901720457178, 0.010317144620518803, 0.0008365197149524661, -0.020388362447178565, 0.011355752405099118, 0.0019017584683984623, 0.0018751274995514322, -0.006726675434432394, 0.003472985629697334, -0.002652137202536764, -0.005954377338192707, -0.001080910041221017, -0.00478261470941721, -0.0007879693840209256, 0.0028338423776324007, 0.0012093532786625616, -0.00800496193851874, -1.5671287784790877e-05, 0.0005702100266091747, -0.009602820068685958, 0.0019017584684046795, -0.00683319930974946, -0.011493618856024845, -0.008457688408734398, 0.0022745920320783597, -0.0035043282052926727, -0.0008944932593619725, 0.00909212005406701, -0.029709201539724006, 0.011675324031122258, -0.011839821450871035, -0.008111485813852681, 0.00789372645644626, 0.004831165040331875, 0.0221146638147669, -0.009309879411487643, -0.0024923513895354077, 0.003313199816697754, 0.003845819193415423, 0.00038379324475634746, 0.017773815894538636, 0.0005169480889177791, -0.003104863672733771, -0.004436412114555921, -0.0045429359898703225, -0.006060901213527536, 0.0037925572557249154, 0.010636716246544609, -0.005528281836796545, 0.005203998604018878, -0.003903792737808942, -0.013118107954998237, -0.010614796884440558, -0.021107398605756167, 0.005257260541703168, -0.022651994798223996, -0.0194296475690674, 0.005070843759867216, 0.001315877153991174, -0.014556180272142782, -0.01370398926938421, -0.005741329587499067, -0.010960999479300071, -0.0005749216333468254, 0.005363784417048656, 0.002594163658123705, 0.011462276280453487, -0.005182079241945914, -0.018497563659836125, 0.012287836314359701, -0.005954377338158956, 0.003659402411540391, -0.007925069032044263, -0.014476287365609686, -0.013730620238229463, 0.001022936496807958, -0.0035309591741192747, 0.01612269582671555, -0.0035309591741023993, -0.005235341179600006, 0.0006501029330934216, 0.004271914694776058, -0.010641427853295582, -0.006353841870690324, 0.0020082823437306274, 0.00523062957287479, 0.025789737514116062, -0.002385827514169492, 0.013406337005457125, -0.0006281835710204575, -0.016766550685508363, 0.002780580439949887, -0.005395126992620902, 0.004618117289663104, -0.00696635415393132, 0.004964319884495083, 0.02211466381477134, -0.000841231321706104, 0.0005968409954153486, 0.01399221831983688, 0.013725908631485595, 0.0163091126085666, 0.01103618077906443, -0.004969031491265596, 0.004538224383134448, 0.002940366252981441, -0.00403694758197215, -0.009256617473797135, -0.013251262799162333, -0.0035309591741121693, 0.009997572994481452, -0.00148037457374528, -0.010481642040248929, -0.00944303425566595, -1.56712877839027e-05, -0.01160014273135257, -0.0017466842621223222, -0.0020928868569995984, 0.004990950853333231, 0.005070843759837906, 0.025842999451780813, 0.0026474255958044424, -0.004116840488521234, 0.012261205345509119, 0.007440999986231489, 0.003180044972510565, 0.023100009661690457, -0.0068065683409335165, 0.014737885447244636, 0.0018218655618733592, 0.00041042421357495584, 0.008879072303365376, -0.011280571105329429, 0.004671379227307426, 0.007680678705740185, 0.00022400743173811577, 0.006349130263978431, -0.007871807094367078, 0.007440999986224384, 0.005443677323555995, -0.0004417667891525312, 0.0009963055279698096, -0.002092886856977394, -0.00020208806963406545, 0.002061544281402483, -0.009389772317992318, 0.009438322648909647, 0.004058866944072648, -0.016500240997143756, -0.011813190482048874, -0.008590843252931357, -0.012239285983418391, -0.00832453356456142, -0.005981008307021973, -0.013517572487533158, 0.012554146002707434, 0.0044849624454528225, 0.004192021788271383, -0.0030249707662273195, 0.002061544281411365, -0.007339187717647633, -0.007871807094359973, 0.00613608251327058, -0.005421757961475038, -0.006646782527906403, -0.01101426141697992, 0.016122695826717326, -0.012745274391312122, 0.021661937344555682, -0.013517572487538487, -0.0007347074463277536, -0.0011608029477292447, 0.005603463136565345, 0.004618117289639123, 0.005683356043081567, -0.0006281835710231221, 0.00714805932905449, -0.008777260034756651, -0.0042766263015234784, -0.010747951728602878, 0.00043705518242909136, -0.015940990651605702, -0.008777260034755763, -0.00315812561041362, 0.011542169186947504, -0.009762605881701525, 0.006828487703034902, -0.0072060328734533385, 0.0044849624454528225, -0.010827844635118211, -0.007925069032038046, 0.011116073685560224, -0.011919714357402356, -0.005208710210784062, 0.00411212888174628, -0.010348487196075062, -0.007605497406006911, -0.006646782527911732, 0.020942901185991403, -0.018790504317022894, -0.011466987887172486, 0.008239929051291561, -0.008937045847783764, -0.005767960556311458, 0.013779170569173438, 0.008452976801998524, 0.006402392201630747, -0.01892365916122074, 0.0020082823437297392, -0.009656082006361366, 0.00046368615126013424, -0.00076133841520587, 0.0038191882245417474, -0.02129381538759123, 0.01580312420066754, -0.01056153494675982, 0.021076056030143953, -0.006486996714891724, -0.005288603117275414, 0.013938956382167689, -0.007578866437163434, 0.002514270751625247, 0.014285158977044077, 0.015163980948612377, 0.0009963055279591515, -0.000175457100810128, -0.008644105190600548, -0.0007613384151978764, 0.002727318502306453, 0.0049909508533385605, -0.010268594289562394, 0.013832432506862169, 0.017534137175007736, 0.001688710717699493, -0.016766550685513693, -0.003770637893629747, -0.00994902266353126, 0.0074409999862234955, -0.011946345326239616, 0.014018849288682134, -0.0038771617689929982, 0.0006501029331218433, 0.004058866944100181, -0.00494240052240702, 0.005789879918402185, 0.009651370399600623, 0.004431700507812941, -0.0175921107194128, -0.005315234086135767, -0.009576189099851362, -0.0028918159220587825, 0.014125373164011634, 0.010743240121881215, -0.011174047229997264, -0.002066255888145463, -0.004436412114534605, 0.0018218655618857937, -0.0230514593307527, 0.002194699125595889, 0.0024876397827791052, -0.015621419025590555, -0.0010010171347225594, 0.008612762615000769, -0.004622828896380327, 0.004431700507796954, -0.0005216596956740815, 0.01220794340784348, -0.012372440827583375, -0.02856406987978044, -0.008537581315253284, -0.0149023828670094, -0.0011075410100538363, -0.008031592907357776, -0.0030249707662459713, 1.0959681051581072e-05, 0.0043518076012993845, 0.006908380609516485, -0.006460365746043806, -0.009229986504978527, -0.009922391694704658, -0.0033179114234460627, -0.0043831501768556436, 0.004271914694781387, 0.009997572994483228, -0.01610077646463104, -0.009336510380324015, -0.0021195178258111014, 0.012261205345514448, -0.008777260034779744, -0.009549558131018543, -0.007019616091612946, 0.017321089424330083, -0.0029184468908898253, 0.007627416768081652, 0.007707309674607643, -0.01223928598342372, -0.0026255062337074975, -0.0001488261319719797, 0.003978974037577743, 0.0033930927232113106, -0.01926986175608736, 0.0029137352841459574, -0.010881106572787402, -0.00046839775799245587, -0.008990307785452067, 0.007707309674598761, 0.004671379227332295, -0.015781204838559937, -0.003530959174114834, -0.003238018516931618, -0.01926986175605716, 0.007973619362957152, 0.0008365197149604597, 0.0016088178111965945, -0.009203355536143931, -0.010188701383064824, -0.000601552602176092, -0.0016401603867768344, -0.012132762108089779, -0.008670736159419157, 0.006961642547184788, -0.015940990651595044, -0.004729352771716933, 0.013832432506830195, -0.01668665777899836, -0.019189968849591565, -0.010668058822115967, -0.0027320301090432153, -0.01737906296874936, 0.0008897816526509672, 0.007148059329042944, 0.016309112608554166, 0.0014224010293286682, 0.009598108461935873, -0.009789236850529903, -0.003664114018313569, 0.020277126965092762, -0.005155448273094443, -0.008004961938530286, 0.0012093532786519035, -0.007498973530649877, -0.015355109337218842, 0.007946988394106569, 0.011275859498606877, -0.01652687196599878, -0.0016667913555981073, 0.007840464518777068, 0.010849763997216044, 0.0025675326893050965, 0.005923034762568946, 0.00017074549405737827, 0.0012626152163486282, -0.0018265771686349908, 0.007227952235556501, -0.0033445423922620066, -0.009709343944016346, 0.005976296700259454, 0.007547523861572536, 0.022301080596620615, 0.0025409017204527373, -0.02164001798246673, -0.010934368510473469, -0.022944935455429416, 0.01673520810993434, -0.00563480571213848, 0.0046181172896604394, -0.004649459865208705, -0.0175654797505862, -0.006300579933046002, -0.015940990651624354, -0.002705399140194409, 0.01628248163972401, 0.022993485786342305, -0.005128817304259847, 0.00413875985058354, -0.0068331993097450194, 0.0015022939358457776, -0.010588165915593528, 0.0031267830348289394, -0.006966354153925991, 0.004671379227300321, -0.02116066054341914, 0.018386328177729006, -0.007765283219020702, -0.0033179114234238583, -0.005581543774462183, -0.007578866437147447, 0.01830643527124387, -0.004702721802888554, 0.0057632489495711425, -0.009389772317978107, -0.006114163151186958, 0.00901222714752592, 0.001102829403312633, 0.013752539600318414, -0.011546880793688707, -0.0023325655765056297, 0.013006872472934639, 0.014604730603067217, 0.005230629572865908, 0.015563445481163285, -0.007685390312517804, -0.016633395841327392, 0.012261205345514448, -0.0032912804545874863, -0.01447628736561235, 0.011648693062285886, -0.011040892385804746, 0.006242606388613403, 0.015456921605808915, -0.013783882175903983, -0.01383714411355097, 0.019584721775364855, 0.003952343068732489, 0.002807211408788035, 0.006988273516016719, 0.002327853969758209, -0.01942964756909582, 0.0038458191933976593, 0.01652216035924603, 0.018173280427094873, 0.004538224383122014, -0.001320588760744812, -0.018257884940309665, 0.019131995305155414, -0.0004417667891694066, -0.0015602674802739358, 0.008532869708509416, 0.006615439952321722, 0.0032333069101602163, 0.0070149044848424325, 0.006801856734167444, -0.0013738506984157794, -0.00989576072588072, -0.00038850485150199177, -0.003477697236437649, 0.011968264688316133, -0.0033711733610983785, -0.025847711058513134, -0.019562802413265246, 0.000277269369412636, 0.010689978184204918, -0.003877161768997439, -0.010614796884440558, -0.0204948863225356, -0.004090209519659105, 0.007121428360218118, -0.006486996714889948, -0.008857152941271984, -0.0007080764775295734, 0.012980241504085832, -0.0031581256104145083, 0.005709987011919715, 0.0004370551824557367, 0.007041535453671699, 0.007148059329039391, -0.0036108520806292788, -0.015381740306053437, -0.01287842923549487, -0.005688067649816553, 0.004192021788270495, -0.010668058822101756, -0.0005482906644997954, -0.03490224046270107, -0.01194634532622807, -0.005981008306977564, 0.016229219702037945, 0.000357162275907541, 0.010556823340008847, -0.002279303638849761, -0.003797268862471448, -0.0011075410100644945, 0.009997572994484116, -0.013917037020050316, -0.005954377338183825, -0.017139384249230893, -0.0013738506984193322, 0.011488907249272984, -0.007578866437142118, 0.011888371781816787, 0.008532869708510304, -0.0030516017350734614, 0.009837787181457891, -0.010960999479290301, -0.02486236521158869, -0.02891027247463729, -0.012958322141972012, -0.002918446890877391, 0.02171519928222132, -0.017618741688249173, 0.0020881752502521778, 0.0020349133125776575, 0.005310522479362589, 0.0018218655618653656, 0.0034729856296999984, -0.007498973530648101, 0.0033398307855270204, 0.014178635101695924, -0.0018265771686136745, -0.014502918334467374, -0.011067523354631348, 0.006375761232786381, 0.00850623873966061, 0.006269237357459545, 0.011116073685578876, -0.004809245678233154, -0.011786559513208061, -0.0052087102107556404, 0.008932334241025686, -0.010960999479311617, -0.013837144113573174, -0.010348487196083944, 0.01809338752055112, 0.01843959011542129, 0.014631361571907142, 0.006855118671840188, 0.005070843759859223, -0.013198000861511794, 0.01005083493213732, 0.026721821423349112, -0.004862507615903233, -0.020414993416020266, 0.012287836314365919, -0.016233931308801353, 0.012287836314351708, -0.021959589608479213, 0.009172012960548592, -0.008910414878949169, -0.006726675434408413, 0.0005968409954340004, -0.027871664690055198, 0.0058431418561006865, 0.006828487703015362, 0.014631361571899149, -0.02110739860574906, 0.0008897816526305391, 0.0025941636581210403, 0.005177367635205599, 0.007787202581085673, 0.0019816513748782683, -0.006140794120011783, -0.002865184953234845, -0.010188701383074594, -0.0036907449871135256, 0.010823133028408982, -0.015461633212558112, 0.0093051678047269, -0.010827844635127093, 0.016522160359254023, -0.006273948964207854, -0.008750629065935378, 0.0061627134821300444, 0.007760571612242195, -0.00542175796146438, 0.0024343778451072495, 0.006322499295138506, 0.0024077468762611076, 0.001582186842352229, 0.003579509505049039, -0.01873724237937413, 0.0023544849385919164, 1.095968105246925e-05, 0.0027006875334594227, 0.0045648553519628265, -0.0013738506984264376, -0.00896367681659882, 0.006988273516022936, 0.009731263306109739, -0.006779937372075828, 0.01945156693118477, 0.002913735284153063, 0.006961642547183899, 0.020410281809278175, -0.012106131139238308, -0.00643373477720921, 0.004831165040325658, -0.01671328874784095, 0.00823992905131199, 0.0038458191934127584, -0.012079500170397495, -0.01128057110534364, 0.01540365966812196, -0.009070200691978947, -0.0008944932593752952, 0.006828487703029573, 0.010982918841396128, -0.0034510662676039416, 0.017294458455475947, -0.01303821504849445, -0.012585488578293003, -0.005874484431654281, -0.007498973530652542, -0.0028119230155585484, 0.0070947973913924045, -0.0040902095196670984, -6.89332254566466e-05, -0.00036187388265229714, 0.01785370880102022, -0.005128817304266953, -0.011493618856021293, -0.00821800968921682, -0.0033978043299249805, -0.0005216596956767461, 0.0070415354537143315, 0.0052838915105466455, 0.008080143238299975, 0.002407746876293082, 0.015030826104435846, -0.011946345326244945, -0.00464945986521581, -0.022838411580083928, 0.004964319884508406, -0.026034127840379284, -0.004489674052203796, -0.004942400522427448, 0.0009430435903023948, -0.016367086152969, 0.03207464615934974, 0.00991768008796523, -0.010854475603959024, 0.01716130361129853, 0.020223865027428012, 0.011595431124622024, 0.010210620745165322, -0.002465720420671502, -0.004755983740563963, 0.0028072114088093514, -0.008084854845039402, -0.009602820068678852, 0.006508916076998439, -0.002492351389511427, 0.004511593414293635, 0.008612762615001657, -0.014316501552607441, 0.0074676309550749664, -0.019083444974194563, 0.0027273185022886892, -0.016446979059463906, -0.0010542790723864215, -0.012372440827604692, -0.002359196545367759, -0.012878429235477995, 0.01266066987804848, 0.008905703272195531, 0.00200828234373418, 0.0021680681567568527, -0.0013205887607359301, -0.005847853462818797, -0.003397804329936527, -0.011546880793690484, -0.006327210901877933, 3.759064989417027e-05, -0.003850530800130869, 0.007440999986236818, -0.003690744987131289, -0.016660026810172646, -0.0027852920467026365, -0.00659352059024787, 0.004857796009167359, 0.0016354487800382955, -0.0033711733611037076, -0.004276626301521702, -0.009709343944025228, 0.004591486320790317, -0.01761874168825006, -0.010268594289578381, 0.006349130263968661, 0.001741972655377566, 0.0016088178111832718, -0.022039482514999875, 0.008772548428033211, 0.000623471964273925, 0.004245283725921034, 0.004271914694770729, -0.0027053991402121724, 0.009864418150287158, 0.004564855351981478, 0.015323766761653701, 0.013699277662630571, -0.005075555366615525, 0.008239929051301331, -0.01106752335465, -0.006886461247424869, -0.0013472197295607558, 0.01782707783221671, 0.019877662432559617, -0.00813811678270504, -0.003770637893635076, -0.009735974912840284, -0.008617474221769506, -0.0015070055425940865, -0.00057492163334949, 0.017001517798296284, 0.008373083895490296, -0.0017200532932877266, -0.01476922802283731, 0.007227952235544066, 0.0032333069101762035, 0.00981115621261619, -0.007472342561822387, -0.0128517982666434, -0.014929013835851102, 0.01553681451233846, 0.0077605716122679524, -0.016793181654354505, -0.000734707446344629, 0.006615439952303959, 0.005017581822176709, -0.007419080624132768, 0.0018751274995585376, 0.003472985629703551, -0.002785292046709742, 0.006748594796501806, -0.0058212224940081825, 0.010343775589335635, 0.0026207946269325433, -0.010428380102591284, -0.006779937372074052, -0.0017466842620983414, -0.006779937372082934, 0.003393092723183777, -0.000308611945013304, -0.006007639275833476, -0.015088799648840912, -0.004729352771718709, 0.002966997221832912, -0.004409781145693792, -0.007951700000855766, -0.003317911423417641, 0.014578099634246833, 0.010743240121882103, 0.0028338423776377297, 0.0012892461851556902, 0.0118084788752979, -0.007179401904613414, -0.0077120212813390765, -0.005767960556323004, -0.006460365746066898, 0.01079650205957261, 0.006002927669114477, -0.006593520590246982, -0.0006814455087047477, -0.0058744844316569456, 0.022594021253800278, -0.01887039722353734, -0.003184756579249992, -0.009629451037516112, -0.023770495489324084, -0.004010316613169529, -0.004889138584738717, 0.0025675326892953265, 0.01071660915304129, -0.0016135294179422388, 0.0018218655618849056, -0.0037440069247773877, -0.011600142731341911, 0.006029558637929533, -0.018470932690994424, -0.011999607263905254, -0.014103453801928012, -0.0015868984491032023, 0.018093387520542237, -0.0071794019046214075, 0.0007832577773143612, -0.005235341179606223, -0.024462900679055544, -0.005208710210790279, 0.013832432506838188, 0.0010229364968052934, 0.029491442182288274, 0.002061544281422023, -0.006700044465580035, 0.010050834932158637, -0.0048092456782447, 0.004857796009168247, -0.015142061586512767, -0.021134029574589874, -0.008697367128271516, -0.009762605881696196, -0.02049488632253027, -0.02371723355165134, -0.0016934223244469138, -0.002918446890878279, 0.006615439952354585, -0.01309147698617874, 0.009678001368427225, 0.0048844269780019545, -0.01652687196597835, 0.0078670954875939, 0.0024876397827453545, -0.010854475603954583, 0.00025063840055761233, 0.013752539600330849, -0.013783882175911089, -0.015275216430691962, 0.0030202591594870043, 0.0009164126214722401, 0.0008897816526056701, 0.017347720393153132, 0.008293190988978516, 0.0028338423776510524, 0.0022745920320925705, 0.005949665731429299, -0.003744006924784493, 0.006349130263963332, -0.00033524291382569515, -0.006327210901867275, -0.0027586610778920218, -0.0072859257799677835, -0.009869129757038131, 0.003712664349227346, -0.007126139966959322, 0.006162713482111393, 0.015430290636961885, -0.0013738506984051213, -0.00544838893029187, 0.008905703272204413, 0.01231446728317298, 0.0033398307855367904, 0.010024203963318712, -0.005102186335422587, 0.0008631506838066016, 0.009438322648911424, 0.006482285108171837, -0.006167425088848155, -0.003477697236436761, 0.007867095487614328, -0.012798536328990195, 0.012420991158525574, 0.006908380609519149, 0.007334476110900212, -0.006380472839553342, 0.002993628190669284, -0.011280571105317883, 0.032873575224442675, 0.008133405175976272, 0.006695332858833503, -0.012239285983434378, 0.001875127499545215, 0.0011028294033046393, -0.01199960726389726, 0.00011748355638818708, 0.007201321266710359, 0.013459598943125428, -0.0006548145398452832, 0.0005435790577683619, -0.008697367128255529, 0.005257260541713826, -0.0027852920467283937, -0.008377795502223506, 0.00014411452522367085, -0.017725265563598214, -0.024942258118088034, -0.004596197927549284, 0.004112128881748056, 0.00728121417321681, -0.019695957257460428, -0.007232663842284381, -0.016233931308813787, 0.018652637866112265, -0.006540258652580455, -0.004569566958719129, 0.015616707418818265, 0.019078733367494216, -0.011946345326243168, -0.011733297575553081, -0.01053490397792789, 0.023259795474697142, -0.004596197927555501, 0.009784525243796693, -0.008218009689215933, -0.0011874339165638403, 0.011329121436256528, -0.005767960556318563, -0.006327210901872604, -0.008670736159430703, -0.013624096362898186, -0.009895760725877167, -0.020122052758821063, -0.004649459865210481, -0.00446304308338874, 0.005363784417047768, -0.002811923015546114, 0.0005435790577852373, 0.00022400743172568127, -0.013730620238232127, -0.007632128374823743, 0.007014904484849538, 0.006695332858837055, 0.002354484938589252, 0.002674056564629268, -1.5671287786567234e-05, -0.004303257270351857, -0.0012140648854073177, 0.010530192371178693, 0.010317144620483276, -0.0017999461997906252, 0.007201321266711247, -0.01335778667453269, -0.0022526726699902966, 0.01194163371946999, -0.004969031491242504, -0.015674680963254417, 0.0005169480889364308, -0.009869129757046124, 0.003872450162242913, 0.010130727838670417, 0.004484962445456375, 0.0058431418560696, 0.009438322648914088, 0.003499616598549693, -0.00057492163333972, 0.0013691390916505952, 0.010343775589332083, -0.009629451037524106, -0.012665381484779914, 0.003739295318050395, 0.015962910013678666, 0.006322499295131401, -0.006167425088864142, 0.006668701889989137, 0.0008365197149622361, -0.0012939577919057754, -0.0009211242281894627, 0.009624739430771356, 0.013832432506833747, -0.00853758131524085, 0.005763248949572919, -0.011493618856016852, -0.009496296193338694, 0.0033398307855216913, 0.002221330094420715, -0.0004683977580075549, 0.015723231294171747, -0.0018798391062970765, -0.0036641140182718246, 0.002434377845100144, 0.01098291884138991, -0.02017531469648315, -0.0063804728395524535, 0.003925712099881906, 0.009118751022886507, -0.009416403286830466, 3.7590649895946626e-05, 0.015856386138350942, -0.0038238998313060435, -0.006460365746054464, 0.009385060711273319, 0.013379706036638517, -0.00347769723646163, 0.007627416768094086, -0.00867073615943248, 0.005709987011914386, 0.0037925572557293563, 0.0007033648707848172, 0.014072111226357542, -0.0006548145398292959, 0.0040854979129383295, -0.01266538148479146, -0.016180669371117062, -0.0027053991402024025, -0.008084854845047396, -0.011200678198808767, -0.00630057993302735, -0.0051288173042811636, -0.03093422610615537, -0.00451630502103928, -1.5671287780349985e-05, 0.014897671260265533, -0.005155448273097107, -0.0006548145398550531, -0.012612119547132039, -0.009549558131015878, -0.0017466842621152168, -0.005235341179605335, -0.00012219516313560774, -0.013331155705694542, 0.0004104242135971603, 0.0046447482584577315, -0.0027320301090432153, -0.017458955875238935, -0.004090209519676868, 0.007867095487609888, -0.016739919716669327, 0.008559500677372434, -0.005528281836787663, -0.00238582751418015, -0.005954377338174055, 0.0021680681567515236, 0.0065888089834817976, -0.004063578550843161, 0.0026740565646061754, 0.014072111226342443, -0.01130720207415159, 0.012527515033875503, 0.00472464116498017, 0.006429023170447579, 0.008373083895486744, 0.0018751274995647549, 0.00025063840055317144, -0.00885715294127376, -0.013703989269399308, -0.00044176678916763024, 0.005257260541698727, 0.013646015724968485, -0.0017999461998083888, -0.010268594289565058, -0.0031581256104207256, -0.021347077325264863, 0.005683356043066468, -0.00675330640325722, 0.0003571622759155346, 0.012793824722221459, 0.012554146002703881, -0.004542935989875652, 0.0032066759413504897, 0.0060029276691153655, -0.002732030109060979, 0.009917680087953684, 0.0033131998166808785, -0.039509398071283286, -0.019509540475591614, 0.005843141856074041, -0.002439089451849341, -0.013544203456389958, 0.00794698839412522, -0.015541526119074334, 0.005843141856082035, 3.7590649891505734e-05, -0.0003618738826540735, 0.0037126643492353395, 0.0024077468762717658, 0.005630094105381289, -0.003184756579254433, -0.011333833043011055, 0.0031800449725079005, 0.007361107079725038, 0.004298545663630193, -0.0010809100412290107, -0.01074795172860643, -0.021320446356432043, -0.005927746369341236, -0.008404426471055437, 0.005763248949597788, 0.0014490319981872446, -0.004489674052210901, 0.02469786779183547, 0.0026474255957857906, -0.007259294811133188, -0.004116840488507911, -0.000681445508676326, -0.0006548145398523886, 0.00027726936939931335, -0.0031581256104047384, -0.0011874339165602876, 0.004591486320811633, 0.001129460372144564, 0.0002772693693895434, -0.009123462629640144, -0.007179401904603644, 0.0067485947965160165, 0.003526247567386065, -0.00984249878823018, 0.00291373528416905, -0.0002553500073254611, 0.003579509505039269, 0.010982918841403233, -0.005288603117273638, -0.016020883558106824, -0.007738652250166567, 0.009305167804757986, 0.008026881300617461, -0.0062739489642158475, 0.014604730603062777, 0.00232785396976265, -0.0048625076159094505, 0.021022794092488972, -0.0013472197295989474, -0.003184756579258874, 0.018972209492131853, -0.005102186335443015, -0.00728592577995002, 0.007281214173223027, 0.01569660032534781, 0.006935011578364403, -0.00789843806319901, -0.003664114018287812, -0.014050191864248163, -0.005075555366595097, 0.008586131646167061, -0.004995662460090422, 0.0007033648707626128, 0.00850623873968015, 0.001235984247476729, 0.013539491849637209, -0.004755983740558634, -0.011413725949513953, -0.015301847399551427, 0.011888371781804352, 0.0029669972218151486, -0.002732030109031669, -0.0041434714573354015, -0.015701311932073914, 0.00432517663245946, 0.010503561402355643, -0.0048092456782464765, -0.01271864342245621, -0.00022871903849619457, -0.011413725949513953, 0.001582186842361999, -0.009789236850518357, 0.01758739911268048, -0.00025535000731036206, 0.008692655521514325, -0.010588165915597969, -0.005315234086101128, -0.009256617473802464, -0.011200678198811431, -0.0063272109018592815, -0.0033179114234398455, -0.00036187388265229714, -0.005288603117287849, -0.0028385539843771568, 0.004351807601295832, 0.006801856734192313, 0.01596291001367156, 0.015909648076015692, -0.014076822833104963, 0.009065489085217315, 0.006029558637918875, 0.008133405175976272, -0.004915769553557325, -0.006273948964195419, -0.0006015526021840856, 0.006455654139299938, -0.0027320301090449917, -0.009150093598475628, 0.007494261923911338, -0.005981008307024638, 0.0036860333803829803, 0.0022745920320783597, -0.008484319377583205, -0.02017531469649647, 0.011488907249293412, -0.0027053991402219424, 0.0043518076012896145, -0.016393717121808038, -0.01671328874785427, 9.085258753938064e-05, -0.0006814455086905369, 0.012128050501342358, -0.0148757518981677, -0.008803891003631215, -0.0050489243977658305, 0.0025142707516208063, 0.008799179396852708, -0.007259294811124306, -0.005661436680976628, -0.007206032873450674, -0.0025189823583762205, -0.0032912804545990326, 0.002887104315316691, 0.0007566268084682193, -0.00933651038031691, 0.0070947973913870754, 0.018386328177752986, -0.005315234086115339, -0.013251262799190755, -0.010321856227244908, 0.0020349133125829866, 0.006881749640668566, -0.001533636511438452, 0.008213298082464071, -0.004489674052195802, -0.028857010536968097, -0.007845176125516495, 0.026242463984311293, -0.0059543773381767195, 0.009598108461925214, 0.007547523861592076, 0.00019737646291151378, -0.00044176678918272927, -0.000281980976146734, 0.0005702100266082866, -0.0065668896213990635, -0.005901115400511081, -0.004356519208045029, -0.007312556748813037, 0.005763248949585353, -0.0009477551970444864, 0.018173280427061123, 0.01321992022362295, 0.005017581822164274, -4.230225662826825e-05, -0.004596197927526191, -0.002598875264863132, -0.007845176125507614, -0.010934368510474357, -0.008111485813873998, 0.003899081131069515, 0.0025409017204642836, -0.0033445423922762174, -0.006593520590217672, 0.016868362954103766, 0.0037659262868974253, 0.002540901720451849, -0.005901115400481771, -0.004622828896383879, 0.017853708801061963, 0.005017581822182038, 0.0156433383876724, 0.012554146002701216, -0.007498973530651654, -0.0016135294179457915, -0.004409781145693792, -0.001400481667245046, -0.0007347074463739389, 0.006801856734168332, -0.007126139966954881, 0.010743240121872333, -0.003717375955967661, 0.01234109825203511, -0.006886461247442632, 0.013219920223606074, 0.0005968409954260068, -0.001826577168621668, -0.01223928598341395, -0.008004961938506305, 0.016948255860617323, 0.013859063475671007, 0.0011560913409942586, -0.008564212284098538, 0.0001441145252263354, 0.01817328042706734, 0.005923034762611579, -0.01247896470292087, -0.023291138050281823, -0.0024124584830058637, -0.01338441764337972, -0.016713288747837396, -0.005022293428916136, -0.018177992033802326, -0.013118107955000013, 0.0033398307855234677, 0.03287357522443557, 0.014791147384920933, 0.01678847004760442, -0.005528281836796545, 0.0027006875334745217, 0.012527515033878167, -0.0014803745737621554, 0.011062811747908796, -0.003557590142966305, 0.004591486320811633, 0.0040322359752549275, -0.012159393076913716, 0.012181312439007108, -0.0006015526021929674, -0.005102186335417258, -0.010082177507714007, -0.012106131139238308, -0.00584785346283212, -0.0145561802721339, -0.0031847565792517685, -0.01761874168824118, -0.0039304237066577485, 0.0019017584683878042, -0.001080910041205918, 0.0027006875334691927, -0.010588165915600634, 0.013699277662643006, 0.012527515033873726, 0.002381115907446052, 0.0010229364968203924, 0.003819188224570169, 0.009464953617757565, 0.004884426977994849, 0.004591486320812521, -0.008670736159428927, -0.006992985122783679, -0.012958322141988887, -0.003770637893654616, -0.00472935277171338, 0.0009696745591289968, 0.019531459837685006, -0.014689335116319313, 0.006482285108148744, 0.0028871043153095854, 0.002647425595778685, 0.0007832577772814986, -0.008910414878947392, 0.005337153448195409, 0.0169482558606191, 0.0012892461851663484, -0.0046760908340583995, -0.0020662558881472393, -0.0010542790723766515, -0.0013472197295802957, 0.015004195135595921, 0.004058866944073536, 0.004484962445442164, -0.006726675434417295, 0.018066756551729846, -0.003477697236467847, -0.00273203010904588, -0.00012219516312850232, 0.024990808449030233, 0.006855118671847293, -0.0003086119449804414, -0.00201299395046739, 0.004351807601256752, -0.01500890674233002, 0.0048045340715070495, 0.009704632337285801, 0.0117019549999684, 0.003978974037594618, -0.015461633212563441, 0.013752539600319302, 0.010689978184195148, -0.0032912804545990326, -0.008537581315246179, 0.0016354487800276374, 0.0013425081228355396, -0.008218009689201722, 0.0020615442813944895, 0.006029558637940191, 0.001156091340986265, 0.011302490467434367, 0.01590964807603701, -0.011653404669032419, 0.005363784417053985, -0.015248585461866249, 0.0019017584684135613, 0.02504407038668699, 0.009305167804748216, 0.01303350344177634, -0.009709343944021676, -0.023956912271155595, 0.001981651374886262, 0.012767193753391304, 0.019238519180483138, -0.012372440827606468, -0.011706666606715821, -0.0024923513895300786, -0.005261972148441707, 0.01830643527125364, -0.005102186335415482, 0.004591486320815186, -0.003877161768971682, 0.006189344450965528, 0.00017074549405915462, 0.029677858964129555, -0.008191378720378673, 0.00688174964070587, -0.0023591965453313435, -0.0037440069247924868, -0.004329888239193558, -0.007712021281328418, -0.01745895587526025, 0.00805351226946538, 0.004618117289608037, -0.012106131139256071, -0.004782614709383459, -0.002332565576512735, -0.005102186335446568, 0.023366319350051512, -0.001347219729582072, 0.007893726456441819, 0.0038458191934021, 0.002407746876268213, 0.002434377845109026, 0.006109451544435984, -0.01056153494677492, 0.002807211408808463, -0.005235341179616881, 0.013965587351011166, -0.0034244352987773397, 0.01353949184965142, -0.022012851546161727, 0.01969124565070679, -0.008111485813889097, 0.021635306375732632, -0.000574921633334391, 0.011488907249272984, 0.0034996165985310412, 0.0007299958396167483, 0.0022745920320863533, -0.0034510662676128234, -0.012478964702937745, -0.0051554482731024365, 0.013539491849630991, 0.009598108461927879, -0.005767960556311458, 0.005949665731423082, -0.01064142785327249, -0.0063538418707160815, -0.00033524291381858973, 0.002540901720441191, 0.004564855351959274, -0.008244640658080726, -0.004755983740549752, 0.011435645311621556, 0.011116073685560224, 0.008266560020130598, 0.014604730603094751, 0.014950933197938276, -0.017405693937579514, 0.0026474255957857906, 0.0067219638276698745, -0.005528281836824966, -0.00720603287348176, 0.005310522479375912, 0.004777903102653802, -0.013251262799184538, -0.022811780611233345, 0.016894993922911716, -0.0020129939504851535, -0.006913092216272787, 0.0002772693694188533, -0.0005749216333414964, 0.00041042421357140313, -0.01652687196599345, 0.00017074549406892459, 0.009997572994480564, 0.0014490319981677047, -0.011999607263890155, 0.012154681470176065, 0.006082820575607606, 0.007227952235546731, 0.0026207946269485305, 0.0057366179807401, -0.00036187388265584985, 0.011781847906472187, -0.004596197927543955, -0.0049956624600726585, 0.0045115934142945235, 0.006375761232810362, -0.013703989269404637, 0.0001707454940680364, 0.013512860880793731, 0.006242606388625838, -0.01631382421531047, 0.0025409017204349738, 0.01175521693765269, 0.004085497912925007, -0.006034270244701823, 0.002860473346481207, 0.004698010196147351, -0.00294507785972975, -0.008990307785450291, -0.002865184953219746, 0.004298545663608877, -0.011946345326220076, -0.0017733152309409306, 0.007254583204392873, 0.026535404641514937, -0.006007639275850352, 0.009518215555439191, -0.0035043282052873437, 0.007387738048564962, 0.0072279522355458425, -0.014076822833104075, -0.010055546538887405]\n"
     ]
    }
   ],
   "source": [
    "# The difference in the means for Permutation1 (0.001103) now looks hugely different to our observed difference of 0.14206. \n",
    "# It's sure starting to look like our observed difference is significant, and that the Null is false; platform does impact on ratings\n",
    "# But to be sure, let's create 10,000 permutations, calculate the mean ratings for Google and Apple apps and the difference between these for each one, and then take the average of all of these differences.\n",
    "# Let's create a vector with the differences - that will be the distibution of the Null.\n",
    "\n",
    "# First, make a list called difference.\n",
    "difference = []\n",
    "\n",
    "# Now make a for loop that does the following 10,000 times:\n",
    "# 1. makes a permutation of the 'Rating' as you did above\n",
    "# 2. calculates the difference in the mean rating for apple and the mean rating for google. \n",
    "for i in range(10000):\n",
    "    \n",
    "    df['Permutation1'] = np.random.permutation(df.Rating)\n",
    "    mean_apple = df[df.platform == 'apple'].Permutation1.mean()    \n",
    "    mean_google = df[df.platform == 'google'].Permutation1.mean()\n",
    "    #difference[i-0] = (mean_google - mean_apple)\n",
    "    difference.append(mean_google - mean_apple)\n",
    "\n",
    "\n",
    "print(difference)\n",
    "\n",
    "\n",
    "    "
   ]
  },
  {
   "cell_type": "code",
   "execution_count": 283,
   "metadata": {
    "colab": {},
    "colab_type": "code",
    "id": "VlzpYTkYFcv_"
   },
   "outputs": [
    {
     "data": {
      "image/png": "[encoded data removed]",
      "text/plain": [
       "<Figure size 432x288 with 1 Axes>"
      ]
     },
     "metadata": {
      "needs_background": "light"
     },
     "output_type": "display_data"
    }
   ],
   "source": [
    "# Make a variable called 'histo', and assign to it the result of plotting a histogram of the difference list. \n",
    "histo = plt.hist(difference)"
   ]
  },
  {
   "cell_type": "code",
   "execution_count": 295,
   "metadata": {
    "colab": {},
    "colab_type": "code",
    "id": "KhqgDFd3FcwB"
   },
   "outputs": [
    {
     "data": {
      "text/plain": [
       "0.14206054745123442"
      ]
     },
     "execution_count": 295,
     "metadata": {},
     "output_type": "execute_result"
    }
   ],
   "source": [
    "# Now make a variable called obs_difference, and assign it the result of the mean of our 'apple' variable and the mean of our 'google variable'\n",
    "\n",
    "obs_difference = google.mean() - apple.mean()\n",
    "\n",
    "\n",
    "# Make this difference absolute with the built-in abs() function. \n",
    "result = abs(obs_difference)\n",
    "\n",
    "# Print out this value; it should be 0.1420605474512291. \n",
    "result"
   ]
  },
  {
   "cell_type": "markdown",
   "metadata": {
    "colab_type": "text",
    "id": "QUNuuSgDFcwE"
   },
   "source": [
    "## Stage 4 -  Evaluating and concluding\n",
    "### 4a. What is our conclusion?"
   ]
  },
  {
   "cell_type": "code",
   "execution_count": null,
   "metadata": {
    "colab": {},
    "colab_type": "code",
    "id": "XMQHnqx1FcwF"
   },
   "outputs": [],
   "source": [
    "'''\n",
    "What do we know? \n",
    "\n",
    "Recall: The p-value of our observed data is just the proportion of the data given the null that's at least as extreme as that observed data.\n",
    "\n",
    "As a result, we're going to count how many of the differences in our difference list are at least as extreme as our observed difference.\n",
    "\n",
    "If less than or equal to 5% of them are, then we will reject the Null. \n",
    "'''\n",
    "_ _ _"
   ]
  },
  {
   "cell_type": "markdown",
   "metadata": {
    "colab_type": "text",
    "id": "4RTofY9wFcwI"
   },
   "source": [
    "### 4b. What is our decision?\n",
    "So actually, zero differences are at least as extreme as our observed difference!\n",
    "\n",
    "So the p-value of our observed data is 0. \n",
    "\n",
    "It doesn't matter which significance level we pick; our observed data is statistically significant, and we reject the Null.\n",
    "\n",
    "We conclude that platform does impact on ratings. Specifically, we should advise our client to integrate **only Google Play** into their operating system interface. "
   ]
  },
  {
   "cell_type": "markdown",
   "metadata": {
    "colab_type": "text",
    "id": "Cu_eh7fTFcwJ"
   },
   "source": [
    "### 4c. Other statistical tests, and next steps\n",
    "The test we used here is the Permutation test. This was appropriate because our data were not normally distributed! \n",
    "\n",
    "As we've seen in Professor Spiegelhalter's book, there are actually many different statistical tests, all with different assumptions. How many of these different statistical tests can you remember? How much do you remember about what the appropriate conditions are under which to use them? \n",
    "\n",
    "Make a note of your answers to these questions, and discuss them with your mentor at your next call. \n"
   ]
  }
 ],
 "metadata": {
  "colab": {
   "collapsed_sections": [
    "5fbRq2MZFcvq",
    "4RTofY9wFcwI",
    "Cu_eh7fTFcwJ"
   ],
   "name": "Springboard Apps project - Tier 3 - Complete.ipynb",
   "provenance": []
  },
  "kernelspec": {
   "display_name": "Python 3",
   "language": "python",
   "name": "python3"
  },
  "language_info": {
   "codemirror_mode": {
    "name": "ipython",
    "version": 3
   },
   "file_extension": ".py",
   "mimetype": "text/x-python",
   "name": "python",
   "nbconvert_exporter": "python",
   "pygments_lexer": "ipython3",
   "version": "3.8.5"
  }
 },
 "nbformat": 4,
 "nbformat_minor": 1
}
