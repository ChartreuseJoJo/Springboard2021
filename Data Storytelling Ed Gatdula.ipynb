{
 "cells": [
  {
   "cell_type": "markdown",
   "metadata": {},
   "source": [
    "# Import Modules"
   ]
  },
  {
   "cell_type": "code",
   "execution_count": 156,
   "metadata": {},
   "outputs": [],
   "source": [
    "import numpy as np\n",
    "import pandas as pd\n",
    "import matplotlib as plt\n",
    "import seaborn as sns\n",
    "\n",
    "%matplotlib inline"
   ]
  },
  {
   "cell_type": "code",
   "execution_count": 157,
   "metadata": {
    "scrolled": true
   },
   "outputs": [
    {
     "name": "stdout",
     "output_type": "stream",
     "text": [
      "Data Storytelling Ed Gatdula.ipynb \u001b[34mdog owner dataset\u001b[m\u001b[m\r\n"
     ]
    }
   ],
   "source": [
    "!ls"
   ]
  },
  {
   "cell_type": "markdown",
   "metadata": {},
   "source": [
    "# Data Wrangling\n",
    "\n",
    "## 1.  Import datasets.  Translate german column names to english equivalent\n",
    "\n",
    "ALTER -> Age\n",
    "GESCHLECHT -> Gender\n",
    "STADTKREIS -> City District\n",
    "RASSE1 -> Dog's Primary Breed\n",
    "RASSE2 -> Dog's Secondary Breed\n",
    "GEBURTSJAHR_HUND -> Dog's Year of Birth\n",
    "GESCHLECHT_HUND -> Dog's Gender\n",
    "HUNDEFARBE -> Dog's Color\n",
    "HALTER_ID -> Age ID\n",
    "STADTQUARTIER -> City Quarter\n",
    "RASSE1_MISCHLING -> Mixed Breed\n",
    "RASSENTYP -> Breed Type"
   ]
  },
  {
   "cell_type": "code",
   "execution_count": 158,
   "metadata": {},
   "outputs": [
    {
     "data": {
      "text/html": [
       "<div>\n",
       "<style scoped>\n",
       "    .dataframe tbody tr th:only-of-type {\n",
       "        vertical-align: middle;\n",
       "    }\n",
       "\n",
       "    .dataframe tbody tr th {\n",
       "        vertical-align: top;\n",
       "    }\n",
       "\n",
       "    .dataframe thead th {\n",
       "        text-align: right;\n",
       "    }\n",
       "</style>\n",
       "<table border=\"1\" class=\"dataframe\">\n",
       "  <thead>\n",
       "    <tr style=\"text-align: right;\">\n",
       "      <th></th>\n",
       "      <th>HALTER_ID</th>\n",
       "      <th>ALTER</th>\n",
       "      <th>GESCHLECHT</th>\n",
       "      <th>STADTKREIS</th>\n",
       "      <th>STADTQUARTIER</th>\n",
       "      <th>RASSE1</th>\n",
       "      <th>RASSE1_MISCHLING</th>\n",
       "      <th>RASSE2</th>\n",
       "      <th>RASSE2_MISCHLING</th>\n",
       "      <th>RASSENTYP</th>\n",
       "      <th>GEBURTSJAHR_HUND</th>\n",
       "      <th>GESCHLECHT_HUND</th>\n",
       "      <th>HUNDEFARBE</th>\n",
       "    </tr>\n",
       "  </thead>\n",
       "  <tbody>\n",
       "    <tr>\n",
       "      <th>0</th>\n",
       "      <td>126</td>\n",
       "      <td>51-60</td>\n",
       "      <td>m</td>\n",
       "      <td>9.0</td>\n",
       "      <td>92.0</td>\n",
       "      <td>Welsh Terrier</td>\n",
       "      <td>NaN</td>\n",
       "      <td>NaN</td>\n",
       "      <td>NaN</td>\n",
       "      <td>K</td>\n",
       "      <td>2011</td>\n",
       "      <td>w</td>\n",
       "      <td>schwarz/braun</td>\n",
       "    </tr>\n",
       "    <tr>\n",
       "      <th>1</th>\n",
       "      <td>574</td>\n",
       "      <td>61-70</td>\n",
       "      <td>w</td>\n",
       "      <td>2.0</td>\n",
       "      <td>23.0</td>\n",
       "      <td>Cairn Terrier</td>\n",
       "      <td>NaN</td>\n",
       "      <td>NaN</td>\n",
       "      <td>NaN</td>\n",
       "      <td>K</td>\n",
       "      <td>2002</td>\n",
       "      <td>w</td>\n",
       "      <td>brindle</td>\n",
       "    </tr>\n",
       "    <tr>\n",
       "      <th>2</th>\n",
       "      <td>695</td>\n",
       "      <td>41-50</td>\n",
       "      <td>m</td>\n",
       "      <td>6.0</td>\n",
       "      <td>63.0</td>\n",
       "      <td>Labrador Retriever</td>\n",
       "      <td>NaN</td>\n",
       "      <td>NaN</td>\n",
       "      <td>NaN</td>\n",
       "      <td>I</td>\n",
       "      <td>2012</td>\n",
       "      <td>w</td>\n",
       "      <td>braun</td>\n",
       "    </tr>\n",
       "    <tr>\n",
       "      <th>3</th>\n",
       "      <td>893</td>\n",
       "      <td>61-70</td>\n",
       "      <td>w</td>\n",
       "      <td>7.0</td>\n",
       "      <td>71.0</td>\n",
       "      <td>Mittelschnauzer</td>\n",
       "      <td>NaN</td>\n",
       "      <td>NaN</td>\n",
       "      <td>NaN</td>\n",
       "      <td>I</td>\n",
       "      <td>2010</td>\n",
       "      <td>w</td>\n",
       "      <td>schwarz</td>\n",
       "    </tr>\n",
       "    <tr>\n",
       "      <th>4</th>\n",
       "      <td>1177</td>\n",
       "      <td>51-60</td>\n",
       "      <td>m</td>\n",
       "      <td>10.0</td>\n",
       "      <td>102.0</td>\n",
       "      <td>Shih Tzu</td>\n",
       "      <td>NaN</td>\n",
       "      <td>NaN</td>\n",
       "      <td>NaN</td>\n",
       "      <td>K</td>\n",
       "      <td>2011</td>\n",
       "      <td>m</td>\n",
       "      <td>schwarz/weiss</td>\n",
       "    </tr>\n",
       "    <tr>\n",
       "      <th>...</th>\n",
       "      <td>...</td>\n",
       "      <td>...</td>\n",
       "      <td>...</td>\n",
       "      <td>...</td>\n",
       "      <td>...</td>\n",
       "      <td>...</td>\n",
       "      <td>...</td>\n",
       "      <td>...</td>\n",
       "      <td>...</td>\n",
       "      <td>...</td>\n",
       "      <td>...</td>\n",
       "      <td>...</td>\n",
       "      <td>...</td>\n",
       "    </tr>\n",
       "    <tr>\n",
       "      <th>6975</th>\n",
       "      <td>128471</td>\n",
       "      <td>21-30</td>\n",
       "      <td>w</td>\n",
       "      <td>8.0</td>\n",
       "      <td>83.0</td>\n",
       "      <td>Tibetan Spaniel</td>\n",
       "      <td>NaN</td>\n",
       "      <td>NaN</td>\n",
       "      <td>NaN</td>\n",
       "      <td>K</td>\n",
       "      <td>2007</td>\n",
       "      <td>w</td>\n",
       "      <td>braun/beige</td>\n",
       "    </tr>\n",
       "    <tr>\n",
       "      <th>6976</th>\n",
       "      <td>128471</td>\n",
       "      <td>21-30</td>\n",
       "      <td>w</td>\n",
       "      <td>8.0</td>\n",
       "      <td>83.0</td>\n",
       "      <td>Rottweiler</td>\n",
       "      <td>NaN</td>\n",
       "      <td>NaN</td>\n",
       "      <td>NaN</td>\n",
       "      <td>I</td>\n",
       "      <td>2014</td>\n",
       "      <td>m</td>\n",
       "      <td>schwarz/rot</td>\n",
       "    </tr>\n",
       "    <tr>\n",
       "      <th>6977</th>\n",
       "      <td>128479</td>\n",
       "      <td>51-60</td>\n",
       "      <td>w</td>\n",
       "      <td>6.0</td>\n",
       "      <td>63.0</td>\n",
       "      <td>Lagotto Romagnolo</td>\n",
       "      <td>Mischling</td>\n",
       "      <td>NaN</td>\n",
       "      <td>NaN</td>\n",
       "      <td>I</td>\n",
       "      <td>2007</td>\n",
       "      <td>m</td>\n",
       "      <td>weiss/grau</td>\n",
       "    </tr>\n",
       "    <tr>\n",
       "      <th>6978</th>\n",
       "      <td>128482</td>\n",
       "      <td>21-30</td>\n",
       "      <td>w</td>\n",
       "      <td>9.0</td>\n",
       "      <td>91.0</td>\n",
       "      <td>Yorkshire Terrier</td>\n",
       "      <td>NaN</td>\n",
       "      <td>NaN</td>\n",
       "      <td>NaN</td>\n",
       "      <td>K</td>\n",
       "      <td>2015</td>\n",
       "      <td>w</td>\n",
       "      <td>schwarz/braun/grau</td>\n",
       "    </tr>\n",
       "    <tr>\n",
       "      <th>6979</th>\n",
       "      <td>128485</td>\n",
       "      <td>21-30</td>\n",
       "      <td>w</td>\n",
       "      <td>7.0</td>\n",
       "      <td>74.0</td>\n",
       "      <td>Magyar Viszla</td>\n",
       "      <td>NaN</td>\n",
       "      <td>NaN</td>\n",
       "      <td>NaN</td>\n",
       "      <td>I</td>\n",
       "      <td>2014</td>\n",
       "      <td>w</td>\n",
       "      <td>gelb</td>\n",
       "    </tr>\n",
       "  </tbody>\n",
       "</table>\n",
       "<p>6980 rows × 13 columns</p>\n",
       "</div>"
      ],
      "text/plain": [
       "      HALTER_ID  ALTER GESCHLECHT  STADTKREIS  STADTQUARTIER  \\\n",
       "0           126  51-60          m         9.0           92.0   \n",
       "1           574  61-70          w         2.0           23.0   \n",
       "2           695  41-50          m         6.0           63.0   \n",
       "3           893  61-70          w         7.0           71.0   \n",
       "4          1177  51-60          m        10.0          102.0   \n",
       "...         ...    ...        ...         ...            ...   \n",
       "6975     128471  21-30          w         8.0           83.0   \n",
       "6976     128471  21-30          w         8.0           83.0   \n",
       "6977     128479  51-60          w         6.0           63.0   \n",
       "6978     128482  21-30          w         9.0           91.0   \n",
       "6979     128485  21-30          w         7.0           74.0   \n",
       "\n",
       "                  RASSE1 RASSE1_MISCHLING RASSE2  RASSE2_MISCHLING RASSENTYP  \\\n",
       "0          Welsh Terrier              NaN    NaN               NaN         K   \n",
       "1          Cairn Terrier              NaN    NaN               NaN         K   \n",
       "2     Labrador Retriever              NaN    NaN               NaN         I   \n",
       "3        Mittelschnauzer              NaN    NaN               NaN         I   \n",
       "4               Shih Tzu              NaN    NaN               NaN         K   \n",
       "...                  ...              ...    ...               ...       ...   \n",
       "6975     Tibetan Spaniel              NaN    NaN               NaN         K   \n",
       "6976          Rottweiler              NaN    NaN               NaN         I   \n",
       "6977   Lagotto Romagnolo        Mischling    NaN               NaN         I   \n",
       "6978   Yorkshire Terrier              NaN    NaN               NaN         K   \n",
       "6979       Magyar Viszla              NaN    NaN               NaN         I   \n",
       "\n",
       "      GEBURTSJAHR_HUND GESCHLECHT_HUND          HUNDEFARBE  \n",
       "0                 2011               w       schwarz/braun  \n",
       "1                 2002               w             brindle  \n",
       "2                 2012               w               braun  \n",
       "3                 2010               w             schwarz  \n",
       "4                 2011               m       schwarz/weiss  \n",
       "...                ...             ...                 ...  \n",
       "6975              2007               w         braun/beige  \n",
       "6976              2014               m         schwarz/rot  \n",
       "6977              2007               m          weiss/grau  \n",
       "6978              2015               w  schwarz/braun/grau  \n",
       "6979              2014               w                gelb  \n",
       "\n",
       "[6980 rows x 13 columns]"
      ]
     },
     "execution_count": 158,
     "metadata": {},
     "output_type": "execute_result"
    }
   ],
   "source": [
    "pd.read_csv('./dog owner dataset/20151001hundehalter.csv')"
   ]
  },
  {
   "cell_type": "code",
   "execution_count": 159,
   "metadata": {},
   "outputs": [
    {
     "name": "stdout",
     "output_type": "stream",
     "text": [
      "number of columns: 13.\n"
     ]
    },
    {
     "data": {
      "text/html": [
       "<div>\n",
       "<style scoped>\n",
       "    .dataframe tbody tr th:only-of-type {\n",
       "        vertical-align: middle;\n",
       "    }\n",
       "\n",
       "    .dataframe tbody tr th {\n",
       "        vertical-align: top;\n",
       "    }\n",
       "\n",
       "    .dataframe thead th {\n",
       "        text-align: right;\n",
       "    }\n",
       "</style>\n",
       "<table border=\"1\" class=\"dataframe\">\n",
       "  <thead>\n",
       "    <tr style=\"text-align: right;\">\n",
       "      <th></th>\n",
       "      <th>age_id</th>\n",
       "      <th>age</th>\n",
       "      <th>gender_owner</th>\n",
       "      <th>city_district</th>\n",
       "      <th>city_quarter</th>\n",
       "      <th>primary_breed</th>\n",
       "      <th>primary_breed_mix</th>\n",
       "      <th>secondary_breed</th>\n",
       "      <th>secondary_breed_mix</th>\n",
       "      <th>breed_type</th>\n",
       "      <th>birth_year</th>\n",
       "      <th>gender_dog</th>\n",
       "      <th>dog_color</th>\n",
       "    </tr>\n",
       "  </thead>\n",
       "  <tbody>\n",
       "    <tr>\n",
       "      <th>4956</th>\n",
       "      <td>116490</td>\n",
       "      <td>31-40</td>\n",
       "      <td>w</td>\n",
       "      <td>12.0</td>\n",
       "      <td>122.0</td>\n",
       "      <td>Pekingese</td>\n",
       "      <td>NaN</td>\n",
       "      <td>NaN</td>\n",
       "      <td>NaN</td>\n",
       "      <td>K</td>\n",
       "      <td>2011</td>\n",
       "      <td>m</td>\n",
       "      <td>tricolor</td>\n",
       "    </tr>\n",
       "  </tbody>\n",
       "</table>\n",
       "</div>"
      ],
      "text/plain": [
       "      age_id    age gender_owner  city_district  city_quarter primary_breed  \\\n",
       "4956  116490  31-40            w           12.0         122.0     Pekingese   \n",
       "\n",
       "     primary_breed_mix secondary_breed  secondary_breed_mix breed_type  \\\n",
       "4956               NaN             NaN                  NaN          K   \n",
       "\n",
       "      birth_year gender_dog dog_color  \n",
       "4956        2011          m  tricolor  "
      ]
     },
     "execution_count": 159,
     "metadata": {},
     "output_type": "execute_result"
    }
   ],
   "source": [
    "# import 2015 data\n",
    "df_2015 = pd.read_csv('./dog owner dataset/20151001hundehalter.csv')\n",
    "print(\"number of columns: {}.\".format(len(df_2015.columns)))\n",
    "\n",
    "# rework german column names to english\n",
    "german = df_2015.columns.to_list()\n",
    "new_names = ['age_id', 'age', 'gender_owner', 'city_district', 'city_quarter', 'primary_breed', 'primary_breed_mix',\n",
    "             'secondary_breed', 'secondary_breed_mix', 'breed_type', 'birth_year', 'gender_dog', 'dog_color']\n",
    "df_2015 = df_2015.rename(columns = dict(list(zip(german, new_names))))\n",
    "df_2015.sample()"
   ]
  },
  {
   "cell_type": "code",
   "execution_count": 160,
   "metadata": {},
   "outputs": [
    {
     "data": {
      "text/html": [
       "<div>\n",
       "<style scoped>\n",
       "    .dataframe tbody tr th:only-of-type {\n",
       "        vertical-align: middle;\n",
       "    }\n",
       "\n",
       "    .dataframe tbody tr th {\n",
       "        vertical-align: top;\n",
       "    }\n",
       "\n",
       "    .dataframe thead th {\n",
       "        text-align: right;\n",
       "    }\n",
       "</style>\n",
       "<table border=\"1\" class=\"dataframe\">\n",
       "  <thead>\n",
       "    <tr style=\"text-align: right;\">\n",
       "      <th></th>\n",
       "      <th>age_id</th>\n",
       "      <th>age</th>\n",
       "      <th>gender_owner</th>\n",
       "      <th>city_district</th>\n",
       "      <th>city_quarter</th>\n",
       "      <th>primary_breed</th>\n",
       "      <th>primary_breed_mix</th>\n",
       "      <th>secondary_breed</th>\n",
       "      <th>secondary_breed_mix</th>\n",
       "      <th>breed_type</th>\n",
       "      <th>birth_year</th>\n",
       "      <th>gender_dog</th>\n",
       "      <th>dog_color</th>\n",
       "    </tr>\n",
       "  </thead>\n",
       "  <tbody>\n",
       "    <tr>\n",
       "      <th>0</th>\n",
       "      <td>126</td>\n",
       "      <td>51-60</td>\n",
       "      <td>m</td>\n",
       "      <td>9.0</td>\n",
       "      <td>92.0</td>\n",
       "      <td>Welsh Terrier</td>\n",
       "      <td>NaN</td>\n",
       "      <td>NaN</td>\n",
       "      <td>NaN</td>\n",
       "      <td>K</td>\n",
       "      <td>2011</td>\n",
       "      <td>w</td>\n",
       "      <td>schwarz/braun</td>\n",
       "    </tr>\n",
       "    <tr>\n",
       "      <th>1</th>\n",
       "      <td>171</td>\n",
       "      <td>61-70</td>\n",
       "      <td>m</td>\n",
       "      <td>3.0</td>\n",
       "      <td>31.0</td>\n",
       "      <td>Berner Sennenhund</td>\n",
       "      <td>NaN</td>\n",
       "      <td>NaN</td>\n",
       "      <td>NaN</td>\n",
       "      <td>I</td>\n",
       "      <td>2009</td>\n",
       "      <td>m</td>\n",
       "      <td>tricolor</td>\n",
       "    </tr>\n",
       "    <tr>\n",
       "      <th>2</th>\n",
       "      <td>574</td>\n",
       "      <td>61-70</td>\n",
       "      <td>w</td>\n",
       "      <td>2.0</td>\n",
       "      <td>23.0</td>\n",
       "      <td>Cairn Terrier</td>\n",
       "      <td>NaN</td>\n",
       "      <td>NaN</td>\n",
       "      <td>NaN</td>\n",
       "      <td>K</td>\n",
       "      <td>2002</td>\n",
       "      <td>w</td>\n",
       "      <td>brindle</td>\n",
       "    </tr>\n",
       "    <tr>\n",
       "      <th>3</th>\n",
       "      <td>695</td>\n",
       "      <td>41-50</td>\n",
       "      <td>m</td>\n",
       "      <td>6.0</td>\n",
       "      <td>63.0</td>\n",
       "      <td>Labrador Retriever</td>\n",
       "      <td>NaN</td>\n",
       "      <td>NaN</td>\n",
       "      <td>NaN</td>\n",
       "      <td>I</td>\n",
       "      <td>2012</td>\n",
       "      <td>w</td>\n",
       "      <td>braun</td>\n",
       "    </tr>\n",
       "    <tr>\n",
       "      <th>4</th>\n",
       "      <td>893</td>\n",
       "      <td>61-70</td>\n",
       "      <td>w</td>\n",
       "      <td>7.0</td>\n",
       "      <td>71.0</td>\n",
       "      <td>Mittelschnauzer</td>\n",
       "      <td>NaN</td>\n",
       "      <td>NaN</td>\n",
       "      <td>NaN</td>\n",
       "      <td>I</td>\n",
       "      <td>2010</td>\n",
       "      <td>w</td>\n",
       "      <td>schwarz</td>\n",
       "    </tr>\n",
       "  </tbody>\n",
       "</table>\n",
       "</div>"
      ],
      "text/plain": [
       "   age_id    age gender_owner  city_district  city_quarter  \\\n",
       "0     126  51-60            m            9.0          92.0   \n",
       "1     171  61-70            m            3.0          31.0   \n",
       "2     574  61-70            w            2.0          23.0   \n",
       "3     695  41-50            m            6.0          63.0   \n",
       "4     893  61-70            w            7.0          71.0   \n",
       "\n",
       "        primary_breed primary_breed_mix secondary_breed  secondary_breed_mix  \\\n",
       "0       Welsh Terrier               NaN             NaN                  NaN   \n",
       "1   Berner Sennenhund               NaN             NaN                  NaN   \n",
       "2       Cairn Terrier               NaN             NaN                  NaN   \n",
       "3  Labrador Retriever               NaN             NaN                  NaN   \n",
       "4     Mittelschnauzer               NaN             NaN                  NaN   \n",
       "\n",
       "  breed_type  birth_year gender_dog      dog_color  \n",
       "0          K        2011          w  schwarz/braun  \n",
       "1          I        2009          m       tricolor  \n",
       "2          K        2002          w        brindle  \n",
       "3          I        2012          w          braun  \n",
       "4          I        2010          w        schwarz  "
      ]
     },
     "execution_count": 160,
     "metadata": {},
     "output_type": "execute_result"
    }
   ],
   "source": [
    "# import 2016 data\n",
    "df_2016 = pd.read_csv('./dog owner dataset/20160307hundehalter.csv')\n",
    "df_2016\n",
    "\n",
    "# rework german column names to english\n",
    "df_2016 = df_2016.rename(columns = dict(list(zip(german, new_names))))\n",
    "df_2016.head()"
   ]
  },
  {
   "cell_type": "code",
   "execution_count": 161,
   "metadata": {},
   "outputs": [
    {
     "data": {
      "text/html": [
       "<div>\n",
       "<style scoped>\n",
       "    .dataframe tbody tr th:only-of-type {\n",
       "        vertical-align: middle;\n",
       "    }\n",
       "\n",
       "    .dataframe tbody tr th {\n",
       "        vertical-align: top;\n",
       "    }\n",
       "\n",
       "    .dataframe thead th {\n",
       "        text-align: right;\n",
       "    }\n",
       "</style>\n",
       "<table border=\"1\" class=\"dataframe\">\n",
       "  <thead>\n",
       "    <tr style=\"text-align: right;\">\n",
       "      <th></th>\n",
       "      <th>age_id</th>\n",
       "      <th>age</th>\n",
       "      <th>gender_owner</th>\n",
       "      <th>city_district</th>\n",
       "      <th>city_quarter</th>\n",
       "      <th>primary_breed</th>\n",
       "      <th>primary_breed_mix</th>\n",
       "      <th>secondary_breed</th>\n",
       "      <th>secondary_breed_mix</th>\n",
       "      <th>breed_type</th>\n",
       "      <th>birth_year</th>\n",
       "      <th>gender_dog</th>\n",
       "      <th>dog_color</th>\n",
       "    </tr>\n",
       "  </thead>\n",
       "  <tbody>\n",
       "    <tr>\n",
       "      <th>0</th>\n",
       "      <td>126</td>\n",
       "      <td>61-70</td>\n",
       "      <td>m</td>\n",
       "      <td>9.0</td>\n",
       "      <td>92.0</td>\n",
       "      <td>Welsh Terrier</td>\n",
       "      <td>NaN</td>\n",
       "      <td>NaN</td>\n",
       "      <td>NaN</td>\n",
       "      <td>K</td>\n",
       "      <td>2011</td>\n",
       "      <td>w</td>\n",
       "      <td>schwarz/braun</td>\n",
       "    </tr>\n",
       "    <tr>\n",
       "      <th>1</th>\n",
       "      <td>171</td>\n",
       "      <td>61-70</td>\n",
       "      <td>m</td>\n",
       "      <td>3.0</td>\n",
       "      <td>31.0</td>\n",
       "      <td>Berner Sennenhund</td>\n",
       "      <td>NaN</td>\n",
       "      <td>NaN</td>\n",
       "      <td>NaN</td>\n",
       "      <td>I</td>\n",
       "      <td>2009</td>\n",
       "      <td>m</td>\n",
       "      <td>tricolor</td>\n",
       "    </tr>\n",
       "    <tr>\n",
       "      <th>2</th>\n",
       "      <td>574</td>\n",
       "      <td>61-70</td>\n",
       "      <td>w</td>\n",
       "      <td>2.0</td>\n",
       "      <td>23.0</td>\n",
       "      <td>Mischling gross</td>\n",
       "      <td>NaN</td>\n",
       "      <td>NaN</td>\n",
       "      <td>NaN</td>\n",
       "      <td>I</td>\n",
       "      <td>2013</td>\n",
       "      <td>w</td>\n",
       "      <td>schwarz</td>\n",
       "    </tr>\n",
       "    <tr>\n",
       "      <th>3</th>\n",
       "      <td>695</td>\n",
       "      <td>41-50</td>\n",
       "      <td>m</td>\n",
       "      <td>6.0</td>\n",
       "      <td>63.0</td>\n",
       "      <td>Labrador Retriever</td>\n",
       "      <td>NaN</td>\n",
       "      <td>NaN</td>\n",
       "      <td>NaN</td>\n",
       "      <td>I</td>\n",
       "      <td>2012</td>\n",
       "      <td>w</td>\n",
       "      <td>braun</td>\n",
       "    </tr>\n",
       "    <tr>\n",
       "      <th>4</th>\n",
       "      <td>893</td>\n",
       "      <td>61-70</td>\n",
       "      <td>w</td>\n",
       "      <td>7.0</td>\n",
       "      <td>71.0</td>\n",
       "      <td>Mittelschnauzer</td>\n",
       "      <td>NaN</td>\n",
       "      <td>NaN</td>\n",
       "      <td>NaN</td>\n",
       "      <td>I</td>\n",
       "      <td>2010</td>\n",
       "      <td>w</td>\n",
       "      <td>schwarz</td>\n",
       "    </tr>\n",
       "  </tbody>\n",
       "</table>\n",
       "</div>"
      ],
      "text/plain": [
       "   age_id    age gender_owner  city_district  city_quarter  \\\n",
       "0     126  61-70            m            9.0          92.0   \n",
       "1     171  61-70            m            3.0          31.0   \n",
       "2     574  61-70            w            2.0          23.0   \n",
       "3     695  41-50            m            6.0          63.0   \n",
       "4     893  61-70            w            7.0          71.0   \n",
       "\n",
       "        primary_breed primary_breed_mix secondary_breed  secondary_breed_mix  \\\n",
       "0       Welsh Terrier               NaN             NaN                  NaN   \n",
       "1   Berner Sennenhund               NaN             NaN                  NaN   \n",
       "2     Mischling gross               NaN             NaN                  NaN   \n",
       "3  Labrador Retriever               NaN             NaN                  NaN   \n",
       "4     Mittelschnauzer               NaN             NaN                  NaN   \n",
       "\n",
       "  breed_type  birth_year gender_dog      dog_color  \n",
       "0          K        2011          w  schwarz/braun  \n",
       "1          I        2009          m       tricolor  \n",
       "2          I        2013          w        schwarz  \n",
       "3          I        2012          w          braun  \n",
       "4          I        2010          w        schwarz  "
      ]
     },
     "execution_count": 161,
     "metadata": {},
     "output_type": "execute_result"
    }
   ],
   "source": [
    "# import 2017 data\n",
    "df_2017 = pd.read_csv('./dog owner dataset/20170308hundehalter.csv')\n",
    "df_2017\n",
    "\n",
    "# rework german column names to english\n",
    "df_2017 = df_2017.rename(columns = dict(list(zip(german, new_names))))\n",
    "df_2017.head()"
   ]
  },
  {
   "cell_type": "code",
   "execution_count": 162,
   "metadata": {},
   "outputs": [
    {
     "data": {
      "text/html": [
       "<div>\n",
       "<style scoped>\n",
       "    .dataframe tbody tr th:only-of-type {\n",
       "        vertical-align: middle;\n",
       "    }\n",
       "\n",
       "    .dataframe tbody tr th {\n",
       "        vertical-align: top;\n",
       "    }\n",
       "\n",
       "    .dataframe thead th {\n",
       "        text-align: right;\n",
       "    }\n",
       "</style>\n",
       "<table border=\"1\" class=\"dataframe\">\n",
       "  <thead>\n",
       "    <tr style=\"text-align: right;\">\n",
       "      <th></th>\n",
       "      <th>HUNDERASSE</th>\n",
       "      <th>HUNDERASSENTYP_KURZ</th>\n",
       "      <th>HUNDERASSENTYP</th>\n",
       "    </tr>\n",
       "  </thead>\n",
       "  <tbody>\n",
       "    <tr>\n",
       "      <th>0</th>\n",
       "      <td>Affenpinscher</td>\n",
       "      <td>K</td>\n",
       "      <td>Kleinwüchsig</td>\n",
       "    </tr>\n",
       "    <tr>\n",
       "      <th>1</th>\n",
       "      <td>Afghane</td>\n",
       "      <td>I</td>\n",
       "      <td>Rassentypenliste I</td>\n",
       "    </tr>\n",
       "    <tr>\n",
       "      <th>2</th>\n",
       "      <td>Afghanischer Windhund</td>\n",
       "      <td>I</td>\n",
       "      <td>Rassentypenliste I</td>\n",
       "    </tr>\n",
       "    <tr>\n",
       "      <th>3</th>\n",
       "      <td>Airedale Terrier</td>\n",
       "      <td>I</td>\n",
       "      <td>Rassentypenliste I</td>\n",
       "    </tr>\n",
       "    <tr>\n",
       "      <th>4</th>\n",
       "      <td>Akita Inu</td>\n",
       "      <td>I</td>\n",
       "      <td>Rassentypenliste I</td>\n",
       "    </tr>\n",
       "    <tr>\n",
       "      <th>...</th>\n",
       "      <td>...</td>\n",
       "      <td>...</td>\n",
       "      <td>...</td>\n",
       "    </tr>\n",
       "    <tr>\n",
       "      <th>356</th>\n",
       "      <td>Zwergpudel</td>\n",
       "      <td>K</td>\n",
       "      <td>Kleinwüchsig</td>\n",
       "    </tr>\n",
       "    <tr>\n",
       "      <th>357</th>\n",
       "      <td>Zwergrauhaardackel</td>\n",
       "      <td>K</td>\n",
       "      <td>Kleinwüchsig</td>\n",
       "    </tr>\n",
       "    <tr>\n",
       "      <th>358</th>\n",
       "      <td>Zwergschnauzer</td>\n",
       "      <td>K</td>\n",
       "      <td>Kleinwüchsig</td>\n",
       "    </tr>\n",
       "    <tr>\n",
       "      <th>359</th>\n",
       "      <td>Zwergspitz</td>\n",
       "      <td>K</td>\n",
       "      <td>Kleinwüchsig</td>\n",
       "    </tr>\n",
       "    <tr>\n",
       "      <th>360</th>\n",
       "      <td>lunde</td>\n",
       "      <td>NaN</td>\n",
       "      <td>NaN</td>\n",
       "    </tr>\n",
       "  </tbody>\n",
       "</table>\n",
       "<p>361 rows × 3 columns</p>\n",
       "</div>"
      ],
      "text/plain": [
       "                HUNDERASSE HUNDERASSENTYP_KURZ      HUNDERASSENTYP\n",
       "0            Affenpinscher                   K        Kleinwüchsig\n",
       "1                  Afghane                   I  Rassentypenliste I\n",
       "2    Afghanischer Windhund                   I  Rassentypenliste I\n",
       "3         Airedale Terrier                   I  Rassentypenliste I\n",
       "4                Akita Inu                   I  Rassentypenliste I\n",
       "..                     ...                 ...                 ...\n",
       "356             Zwergpudel                   K        Kleinwüchsig\n",
       "357     Zwergrauhaardackel                   K        Kleinwüchsig\n",
       "358         Zwergschnauzer                   K        Kleinwüchsig\n",
       "359             Zwergspitz                   K        Kleinwüchsig\n",
       "360                  lunde                 NaN                 NaN\n",
       "\n",
       "[361 rows x 3 columns]"
      ]
     },
     "execution_count": 162,
     "metadata": {},
     "output_type": "execute_result"
    }
   ],
   "source": [
    "pd.read_csv('./dog owner dataset/zuordnungstabellehunderassehundetyp.csv')"
   ]
  },
  {
   "cell_type": "markdown",
   "metadata": {},
   "source": [
    "# Exploratory Data Analysis\n",
    "\n",
    "Three dataframes, one for each year: df_2015, df_2016, and df_2017.\n"
   ]
  },
  {
   "cell_type": "markdown",
   "metadata": {},
   "source": [
    "## df_2015 EDA"
   ]
  },
  {
   "cell_type": "code",
   "execution_count": 163,
   "metadata": {},
   "outputs": [
    {
     "name": "stdout",
     "output_type": "stream",
     "text": [
      "<class 'pandas.core.frame.DataFrame'>\n",
      "RangeIndex: 6980 entries, 0 to 6979\n",
      "Data columns (total 13 columns):\n",
      " #   Column               Non-Null Count  Dtype  \n",
      "---  ------               --------------  -----  \n",
      " 0   age_id               6980 non-null   int64  \n",
      " 1   age                  6978 non-null   object \n",
      " 2   gender_owner         6980 non-null   object \n",
      " 3   city_district        6978 non-null   float64\n",
      " 4   city_quarter         6978 non-null   float64\n",
      " 5   primary_breed        6980 non-null   object \n",
      " 6   primary_breed_mix    668 non-null    object \n",
      " 7   secondary_breed      537 non-null    object \n",
      " 8   secondary_breed_mix  0 non-null      float64\n",
      " 9   breed_type           6806 non-null   object \n",
      " 10  birth_year           6980 non-null   int64  \n",
      " 11  gender_dog           6980 non-null   object \n",
      " 12  dog_color            6980 non-null   object \n",
      "dtypes: float64(3), int64(2), object(8)\n",
      "memory usage: 709.0+ KB\n"
     ]
    },
    {
     "data": {
      "text/plain": [
       "(6980, 13)"
      ]
     },
     "execution_count": 163,
     "metadata": {},
     "output_type": "execute_result"
    }
   ],
   "source": [
    "df_2015.info()\n",
    "\n",
    "df_2015.shape"
   ]
  },
  {
   "cell_type": "markdown",
   "metadata": {},
   "source": [
    "## age"
   ]
  },
  {
   "cell_type": "code",
   "execution_count": 164,
   "metadata": {},
   "outputs": [],
   "source": [
    "# redefine 'age' as categorical with 9 subcategories\n",
    "df_2015['age']= pd.Categorical(df_2015['age'], categories=['11-20',\n",
    " '21-30','31-40','41-50','51-60','61-70','71-80','81-90','91-100'], ordered = True)"
   ]
  },
  {
   "cell_type": "code",
   "execution_count": 265,
   "metadata": {},
   "outputs": [
    {
     "data": {
      "image/png": "[encoded data removed]",
      "text/plain": [
       "<Figure size 439.25x360 with 1 Axes>"
      ]
     },
     "metadata": {
      "needs_background": "light"
     },
     "output_type": "display_data"
    }
   ],
   "source": [
    "# chart plot of 'age'\n",
    "\n",
    "ax = sns.catplot(x='age', data=df_2015, kind='count', hue='gender_owner')\n",
    "\n",
    "\n",
    "# Add a title\n",
    "ax.fig.suptitle(\"Dog Owner Count by Age Group in 2015\")\n",
    "# Update the axis labels\n",
    "ax.set_axis_labels(\"Age Group\", \"# of Dog Owners\")\n",
    "\n",
    "#plot save\n",
    "\n",
    "ax.savefig('dog_owner_age_group.png');"
   ]
  },
  {
   "cell_type": "code",
   "execution_count": 166,
   "metadata": {},
   "outputs": [
    {
     "data": {
      "text/plain": [
       "51-60     1512\n",
       "41-50     1491\n",
       "31-40     1266\n",
       "61-70     1043\n",
       "21-30      786\n",
       "71-80      644\n",
       "81-90      179\n",
       "11-20       41\n",
       "91-100      16\n",
       "Name: age, dtype: int64"
      ]
     },
     "execution_count": 166,
     "metadata": {},
     "output_type": "execute_result"
    }
   ],
   "source": [
    "df_2015['age'].value_counts()"
   ]
  },
  {
   "cell_type": "code",
   "execution_count": 167,
   "metadata": {},
   "outputs": [
    {
     "data": {
      "text/plain": [
       "51-60     1500\n",
       "41-50     1492\n",
       "31-40     1293\n",
       "61-70     1011\n",
       "21-30      762\n",
       "71-80      640\n",
       "81-90      173\n",
       "11-20       41\n",
       "91-100      16\n",
       "Name: age, dtype: int64"
      ]
     },
     "execution_count": 167,
     "metadata": {},
     "output_type": "execute_result"
    }
   ],
   "source": [
    "df_2016['age'].value_counts()"
   ]
  },
  {
   "cell_type": "code",
   "execution_count": 176,
   "metadata": {},
   "outputs": [
    {
     "data": {
      "text/plain": [
       "51-60     1547\n",
       "41-50     1489\n",
       "31-40     1383\n",
       "61-70     1041\n",
       "21-30      789\n",
       "71-80      673\n",
       "81-90      172\n",
       "11-20       45\n",
       "91-100      15\n",
       "Name: age, dtype: int64"
      ]
     },
     "execution_count": 176,
     "metadata": {},
     "output_type": "execute_result"
    }
   ],
   "source": [
    "df_2017['age'].value_counts()"
   ]
  },
  {
   "cell_type": "code",
   "execution_count": 231,
   "metadata": {},
   "outputs": [
    {
     "data": {
      "image/png": "[encoded data removed]",
      "text/plain": [
       "<Figure size 439.25x360 with 1 Axes>"
      ]
     },
     "metadata": {
      "needs_background": "light"
     },
     "output_type": "display_data"
    }
   ],
   "source": [
    "# redefine 'age' as categorical with 9 subcategories\n",
    "df_2016['age']= pd.Categorical(df_2016['age'], categories=['11-20',\n",
    " '21-30','31-40','41-50','51-60','61-70','71-80','81-90','91-100'], ordered = True)\n",
    "\n",
    "# chart plot of 'age'\n",
    "ax = sns.catplot(x='age', data=df_2016, kind='count',hue='gender_owner', palette=sns.color_palette(\"Set2\"))\n",
    "\n",
    "# Add a title\n",
    "ax.fig.suptitle(\"Dog Owner Count by Age Group in 2016\")\n",
    "# Update the axis labels\n",
    "ax.set_axis_labels(\"Age Group\", \"# of Dog Owners\");"
   ]
  },
  {
   "cell_type": "code",
   "execution_count": 169,
   "metadata": {},
   "outputs": [
    {
     "data": {
      "text/plain": [
       "51-60     1547\n",
       "41-50     1489\n",
       "31-40     1383\n",
       "61-70     1041\n",
       "21-30      789\n",
       "71-80      673\n",
       "81-90      172\n",
       "11-20       45\n",
       "91-100      15\n",
       "Name: age, dtype: int64"
      ]
     },
     "execution_count": 169,
     "metadata": {},
     "output_type": "execute_result"
    }
   ],
   "source": [
    "df_2017['age'].value_counts()"
   ]
  },
  {
   "cell_type": "code",
   "execution_count": 170,
   "metadata": {},
   "outputs": [
    {
     "data": {
      "image/png": "[encoded data removed]",
      "text/plain": [
       "<Figure size 360x360 with 1 Axes>"
      ]
     },
     "metadata": {
      "needs_background": "light"
     },
     "output_type": "display_data"
    }
   ],
   "source": [
    "# redefine 'age' as categorical with 9 subcategories\n",
    "df_2017['age']= pd.Categorical(df_2017['age'], categories=['11-20',\n",
    " '21-30','31-40','41-50','51-60','61-70','71-80','81-90','91-100'], ordered = True)\n",
    "\n",
    "# chart plot of 'age'\n",
    "ax = sns.catplot(x='age', data=df_2017, kind='count',palette=sns.color_palette(\"Set2\"))\n",
    "\n",
    "# Add a title\n",
    "ax.fig.suptitle(\"Dog Owner Count by Age Group in 2017\")\n",
    "# Update the axis labels\n",
    "ax.set_axis_labels(\"Age Group\", \"# of Dog Owners\");"
   ]
  },
  {
   "cell_type": "markdown",
   "metadata": {},
   "source": [
    "## 'gender_owner'"
   ]
  },
  {
   "cell_type": "code",
   "execution_count": 171,
   "metadata": {},
   "outputs": [
    {
     "data": {
      "text/plain": [
       "Index(['age_id', 'age', 'gender_owner', 'city_district', 'city_quarter',\n",
       "       'primary_breed', 'primary_breed_mix', 'secondary_breed',\n",
       "       'secondary_breed_mix', 'breed_type', 'birth_year', 'gender_dog',\n",
       "       'dog_color'],\n",
       "      dtype='object')"
      ]
     },
     "execution_count": 171,
     "metadata": {},
     "output_type": "execute_result"
    }
   ],
   "source": [
    "df_2015.columns"
   ]
  },
  {
   "cell_type": "code",
   "execution_count": 172,
   "metadata": {},
   "outputs": [
    {
     "data": {
      "text/plain": [
       "w    4782\n",
       "m    2198\n",
       "Name: gender_owner, dtype: int64"
      ]
     },
     "execution_count": 172,
     "metadata": {},
     "output_type": "execute_result"
    }
   ],
   "source": [
    "df_2015.gender_owner.value_counts()"
   ]
  },
  {
   "cell_type": "code",
   "execution_count": 173,
   "metadata": {},
   "outputs": [
    {
     "data": {
      "text/plain": [
       "w    4766\n",
       "m    2164\n",
       "Name: gender_owner, dtype: int64"
      ]
     },
     "execution_count": 173,
     "metadata": {},
     "output_type": "execute_result"
    }
   ],
   "source": [
    "df_2016.gender_owner.value_counts()"
   ]
  },
  {
   "cell_type": "code",
   "execution_count": 174,
   "metadata": {},
   "outputs": [
    {
     "data": {
      "text/plain": [
       "w    4958\n",
       "m    2197\n",
       "Name: gender_owner, dtype: int64"
      ]
     },
     "execution_count": 174,
     "metadata": {},
     "output_type": "execute_result"
    }
   ],
   "source": [
    "df_2017.gender_owner.value_counts()"
   ]
  },
  {
   "cell_type": "code",
   "execution_count": null,
   "metadata": {},
   "outputs": [],
   "source": []
  },
  {
   "cell_type": "markdown",
   "metadata": {},
   "source": [
    "## city_district city_quarter"
   ]
  },
  {
   "cell_type": "code",
   "execution_count": 270,
   "metadata": {},
   "outputs": [
    {
     "data": {
      "text/plain": [
       "CategoricalDtype(categories=[1.0, 2.0, 3.0, 4.0, 5.0, 6.0, 7.0, 8.0, 9.0, 10.0, 11.0,\n",
       "                  12.0],\n",
       "                 ordered=False)"
      ]
     },
     "execution_count": 270,
     "metadata": {},
     "output_type": "execute_result"
    }
   ],
   "source": [
    "df_2015['city_district'] = df_2015['city_district'].astype('category')\n",
    "\n",
    "df_2015.city_district.value_counts()\n",
    "df_2015.city_district.dtype"
   ]
  },
  {
   "cell_type": "code",
   "execution_count": 183,
   "metadata": {},
   "outputs": [
    {
     "data": {
      "text/plain": [
       "92.0     545\n",
       "101.0    466\n",
       "119.0    405\n",
       "111.0    394\n",
       "115.0    359\n",
       "74.0     344\n",
       "21.0     298\n",
       "91.0     284\n",
       "31.0     274\n",
       "61.0     270\n",
       "72.0     244\n",
       "71.0     230\n",
       "63.0     219\n",
       "122.0    213\n",
       "34.0     210\n",
       "102.0    209\n",
       "24.0     181\n",
       "42.0     175\n",
       "73.0     167\n",
       "123.0    164\n",
       "33.0     156\n",
       "44.0     139\n",
       "83.0     125\n",
       "82.0     123\n",
       "23.0     121\n",
       "81.0     117\n",
       "121.0    112\n",
       "52.0     110\n",
       "51.0      98\n",
       "11.0      61\n",
       "41.0      56\n",
       "13.0      29\n",
       "14.0      19\n",
       "12.0       8\n",
       "4.0        1\n",
       "2.0        1\n",
       "6.0        1\n",
       "Name: city_quarter, dtype: int64"
      ]
     },
     "execution_count": 183,
     "metadata": {},
     "output_type": "execute_result"
    }
   ],
   "source": [
    "# Each city_quarter value is unique to a city_district.  example:  city_quarter = 13.0 is found only in \n",
    "# city_district = 1.0\n",
    "df_2016.city_quarter.value_counts()"
   ]
  },
  {
   "cell_type": "code",
   "execution_count": 198,
   "metadata": {},
   "outputs": [
    {
     "data": {
      "text/plain": [
       "11.0    61\n",
       "13.0    29\n",
       "14.0    19\n",
       "12.0     8\n",
       "Name: city_quarter, dtype: int64"
      ]
     },
     "execution_count": 198,
     "metadata": {},
     "output_type": "execute_result"
    }
   ],
   "source": [
    "df_2016.loc[df_2016['city_district'] == 1.0]['city_quarter'].value_counts()"
   ]
  },
  {
   "cell_type": "code",
   "execution_count": 215,
   "metadata": {},
   "outputs": [
    {
     "data": {
      "text/plain": [
       "city_district\n",
       "1.0    29\n",
       "Name: city_quarter, dtype: int64"
      ]
     },
     "execution_count": 215,
     "metadata": {},
     "output_type": "execute_result"
    }
   ],
   "source": [
    "df_2016[df_2016['city_quarter'] == 13.0].groupby('city_district')['city_quarter'].count()"
   ]
  },
  {
   "cell_type": "code",
   "execution_count": 279,
   "metadata": {},
   "outputs": [
    {
     "data": {
      "image/png": "[encoded data removed]",
      "text/plain": [
       "<Figure size 439.25x360 with 1 Axes>"
      ]
     },
     "metadata": {
      "needs_background": "light"
     },
     "output_type": "display_data"
    }
   ],
   "source": [
    "# what is the ratio of men to women in each district\n",
    "\n",
    "# chart plot of 'age'\n",
    "ax = sns.catplot(x='city_district', data=df_2015, kind='count', hue = 'gender_owner',\n",
    "                 palette=sns.color_palette(\"Set2\"))\n",
    "\n",
    "# Add a title\n",
    "ax.fig.suptitle(\"Dog Owner Count by City_District in 2015\")\n",
    "# Update the axis labels\n",
    "ax.set_axis_labels(\"City District\", \"# of Dog Owners\")\n",
    "ax.savefig('district_gender.png');"
   ]
  },
  {
   "cell_type": "markdown",
   "metadata": {},
   "source": [
    "## primary_breed"
   ]
  },
  {
   "cell_type": "code",
   "execution_count": 228,
   "metadata": {},
   "outputs": [
    {
     "data": {
      "text/plain": [
       "0            Welsh Terrier\n",
       "1            Cairn Terrier\n",
       "2       Labrador Retriever\n",
       "3          Mittelschnauzer\n",
       "4                 Shih Tzu\n",
       "               ...        \n",
       "6975       Tibetan Spaniel\n",
       "6976            Rottweiler\n",
       "6977     Lagotto Romagnolo\n",
       "6978     Yorkshire Terrier\n",
       "6979         Magyar Viszla\n",
       "Name: primary_breed, Length: 6980, dtype: object"
      ]
     },
     "execution_count": 228,
     "metadata": {},
     "output_type": "execute_result"
    }
   ],
   "source": [
    "df_2015['primary_breed']"
   ]
  },
  {
   "cell_type": "markdown",
   "metadata": {},
   "source": [
    "## primary_breed_mix"
   ]
  },
  {
   "cell_type": "markdown",
   "metadata": {},
   "source": [
    "## secondary_breed"
   ]
  },
  {
   "cell_type": "markdown",
   "metadata": {},
   "source": [
    "## secondary_breed_mix"
   ]
  },
  {
   "cell_type": "markdown",
   "metadata": {},
   "source": [
    "## breed type"
   ]
  },
  {
   "cell_type": "code",
   "execution_count": 267,
   "metadata": {},
   "outputs": [
    {
     "data": {
      "image/png": "[encoded data removed]",
      "text/plain": [
       "<Figure size 423.875x360 with 1 Axes>"
      ]
     },
     "metadata": {
      "needs_background": "light"
     },
     "output_type": "display_data"
    }
   ],
   "source": [
    "df_2015['breed_type']\n",
    "\n",
    "# chart plot of 'breed_type'\n",
    "\n",
    "ax = sns.catplot(x='gender_owner', data=df_2015, kind='count', hue='breed_type')\n",
    "\n",
    "\n",
    "# Add a title\n",
    "ax.fig.suptitle(\"Which Breed Types Preferred by Gender?\")\n",
    "# Update the axis labels\n",
    "ax.set_axis_labels(\"Owner Gender\", \"Count\")\n",
    "\n",
    "ax.savefig('gender_breed_type.png');"
   ]
  },
  {
   "cell_type": "code",
   "execution_count": 269,
   "metadata": {},
   "outputs": [
    {
     "data": {
      "image/png": "[encoded data removed]",
      "text/plain": [
       "<Figure size 431.5x360 with 1 Axes>"
      ]
     },
     "metadata": {
      "needs_background": "light"
     },
     "output_type": "display_data"
    }
   ],
   "source": [
    "# chart plot of 'breed_type'\n",
    "\n",
    "ax = sns.catplot(x='breed_type', data=df_2015, kind='count', hue='age')\n",
    "\n",
    "\n",
    "# Add a title\n",
    "ax.fig.suptitle(\"Do Different Age Groups Prefer Particular Dog Breed Types?\")\n",
    "# Update the axis labels\n",
    "ax.set_axis_labels(\"Breed Type\", \"Count\")\n",
    "ax.savefig('age_breed_type.png');"
   ]
  },
  {
   "cell_type": "code",
   "execution_count": 245,
   "metadata": {},
   "outputs": [
    {
     "data": {
      "text/html": [
       "<div>\n",
       "<style scoped>\n",
       "    .dataframe tbody tr th:only-of-type {\n",
       "        vertical-align: middle;\n",
       "    }\n",
       "\n",
       "    .dataframe tbody tr th {\n",
       "        vertical-align: top;\n",
       "    }\n",
       "\n",
       "    .dataframe thead th {\n",
       "        text-align: right;\n",
       "    }\n",
       "</style>\n",
       "<table border=\"1\" class=\"dataframe\">\n",
       "  <thead>\n",
       "    <tr style=\"text-align: right;\">\n",
       "      <th></th>\n",
       "      <th>age_id</th>\n",
       "      <th>age</th>\n",
       "      <th>gender_owner</th>\n",
       "      <th>city_district</th>\n",
       "      <th>city_quarter</th>\n",
       "      <th>primary_breed</th>\n",
       "      <th>primary_breed_mix</th>\n",
       "      <th>secondary_breed</th>\n",
       "      <th>secondary_breed_mix</th>\n",
       "      <th>breed_type</th>\n",
       "      <th>birth_year</th>\n",
       "      <th>gender_dog</th>\n",
       "      <th>dog_color</th>\n",
       "    </tr>\n",
       "  </thead>\n",
       "  <tbody>\n",
       "    <tr>\n",
       "      <th>0</th>\n",
       "      <td>126</td>\n",
       "      <td>51-60</td>\n",
       "      <td>m</td>\n",
       "      <td>9.0</td>\n",
       "      <td>92.0</td>\n",
       "      <td>Welsh Terrier</td>\n",
       "      <td>NaN</td>\n",
       "      <td>NaN</td>\n",
       "      <td>NaN</td>\n",
       "      <td>K</td>\n",
       "      <td>2011</td>\n",
       "      <td>w</td>\n",
       "      <td>schwarz/braun</td>\n",
       "    </tr>\n",
       "    <tr>\n",
       "      <th>1</th>\n",
       "      <td>574</td>\n",
       "      <td>61-70</td>\n",
       "      <td>w</td>\n",
       "      <td>2.0</td>\n",
       "      <td>23.0</td>\n",
       "      <td>Cairn Terrier</td>\n",
       "      <td>NaN</td>\n",
       "      <td>NaN</td>\n",
       "      <td>NaN</td>\n",
       "      <td>K</td>\n",
       "      <td>2002</td>\n",
       "      <td>w</td>\n",
       "      <td>brindle</td>\n",
       "    </tr>\n",
       "    <tr>\n",
       "      <th>4</th>\n",
       "      <td>1177</td>\n",
       "      <td>51-60</td>\n",
       "      <td>m</td>\n",
       "      <td>10.0</td>\n",
       "      <td>102.0</td>\n",
       "      <td>Shih Tzu</td>\n",
       "      <td>NaN</td>\n",
       "      <td>NaN</td>\n",
       "      <td>NaN</td>\n",
       "      <td>K</td>\n",
       "      <td>2011</td>\n",
       "      <td>m</td>\n",
       "      <td>schwarz/weiss</td>\n",
       "    </tr>\n",
       "    <tr>\n",
       "      <th>5</th>\n",
       "      <td>4004</td>\n",
       "      <td>61-70</td>\n",
       "      <td>w</td>\n",
       "      <td>3.0</td>\n",
       "      <td>34.0</td>\n",
       "      <td>Dackel</td>\n",
       "      <td>NaN</td>\n",
       "      <td>NaN</td>\n",
       "      <td>NaN</td>\n",
       "      <td>K</td>\n",
       "      <td>2010</td>\n",
       "      <td>m</td>\n",
       "      <td>braun</td>\n",
       "    </tr>\n",
       "    <tr>\n",
       "      <th>6</th>\n",
       "      <td>4050</td>\n",
       "      <td>41-50</td>\n",
       "      <td>w</td>\n",
       "      <td>11.0</td>\n",
       "      <td>111.0</td>\n",
       "      <td>Bichon frisé</td>\n",
       "      <td>NaN</td>\n",
       "      <td>NaN</td>\n",
       "      <td>NaN</td>\n",
       "      <td>K</td>\n",
       "      <td>2012</td>\n",
       "      <td>m</td>\n",
       "      <td>weiss</td>\n",
       "    </tr>\n",
       "    <tr>\n",
       "      <th>...</th>\n",
       "      <td>...</td>\n",
       "      <td>...</td>\n",
       "      <td>...</td>\n",
       "      <td>...</td>\n",
       "      <td>...</td>\n",
       "      <td>...</td>\n",
       "      <td>...</td>\n",
       "      <td>...</td>\n",
       "      <td>...</td>\n",
       "      <td>...</td>\n",
       "      <td>...</td>\n",
       "      <td>...</td>\n",
       "      <td>...</td>\n",
       "    </tr>\n",
       "    <tr>\n",
       "      <th>6971</th>\n",
       "      <td>128458</td>\n",
       "      <td>21-30</td>\n",
       "      <td>w</td>\n",
       "      <td>8.0</td>\n",
       "      <td>81.0</td>\n",
       "      <td>Französische Bulldogge</td>\n",
       "      <td>NaN</td>\n",
       "      <td>NaN</td>\n",
       "      <td>NaN</td>\n",
       "      <td>K</td>\n",
       "      <td>2014</td>\n",
       "      <td>m</td>\n",
       "      <td>choco</td>\n",
       "    </tr>\n",
       "    <tr>\n",
       "      <th>6972</th>\n",
       "      <td>128459</td>\n",
       "      <td>61-70</td>\n",
       "      <td>w</td>\n",
       "      <td>11.0</td>\n",
       "      <td>115.0</td>\n",
       "      <td>Mischling klein</td>\n",
       "      <td>NaN</td>\n",
       "      <td>NaN</td>\n",
       "      <td>NaN</td>\n",
       "      <td>K</td>\n",
       "      <td>2015</td>\n",
       "      <td>w</td>\n",
       "      <td>tricolor</td>\n",
       "    </tr>\n",
       "    <tr>\n",
       "      <th>6973</th>\n",
       "      <td>128460</td>\n",
       "      <td>31-40</td>\n",
       "      <td>w</td>\n",
       "      <td>9.0</td>\n",
       "      <td>91.0</td>\n",
       "      <td>Mischling klein</td>\n",
       "      <td>NaN</td>\n",
       "      <td>NaN</td>\n",
       "      <td>NaN</td>\n",
       "      <td>K</td>\n",
       "      <td>2015</td>\n",
       "      <td>m</td>\n",
       "      <td>schwarz/braun</td>\n",
       "    </tr>\n",
       "    <tr>\n",
       "      <th>6975</th>\n",
       "      <td>128471</td>\n",
       "      <td>21-30</td>\n",
       "      <td>w</td>\n",
       "      <td>8.0</td>\n",
       "      <td>83.0</td>\n",
       "      <td>Tibetan Spaniel</td>\n",
       "      <td>NaN</td>\n",
       "      <td>NaN</td>\n",
       "      <td>NaN</td>\n",
       "      <td>K</td>\n",
       "      <td>2007</td>\n",
       "      <td>w</td>\n",
       "      <td>braun/beige</td>\n",
       "    </tr>\n",
       "    <tr>\n",
       "      <th>6978</th>\n",
       "      <td>128482</td>\n",
       "      <td>21-30</td>\n",
       "      <td>w</td>\n",
       "      <td>9.0</td>\n",
       "      <td>91.0</td>\n",
       "      <td>Yorkshire Terrier</td>\n",
       "      <td>NaN</td>\n",
       "      <td>NaN</td>\n",
       "      <td>NaN</td>\n",
       "      <td>K</td>\n",
       "      <td>2015</td>\n",
       "      <td>w</td>\n",
       "      <td>schwarz/braun/grau</td>\n",
       "    </tr>\n",
       "  </tbody>\n",
       "</table>\n",
       "<p>4205 rows × 13 columns</p>\n",
       "</div>"
      ],
      "text/plain": [
       "      age_id    age gender_owner  city_district  city_quarter  \\\n",
       "0        126  51-60            m            9.0          92.0   \n",
       "1        574  61-70            w            2.0          23.0   \n",
       "4       1177  51-60            m           10.0         102.0   \n",
       "5       4004  61-70            w            3.0          34.0   \n",
       "6       4050  41-50            w           11.0         111.0   \n",
       "...      ...    ...          ...            ...           ...   \n",
       "6971  128458  21-30            w            8.0          81.0   \n",
       "6972  128459  61-70            w           11.0         115.0   \n",
       "6973  128460  31-40            w            9.0          91.0   \n",
       "6975  128471  21-30            w            8.0          83.0   \n",
       "6978  128482  21-30            w            9.0          91.0   \n",
       "\n",
       "               primary_breed primary_breed_mix secondary_breed  \\\n",
       "0              Welsh Terrier               NaN             NaN   \n",
       "1              Cairn Terrier               NaN             NaN   \n",
       "4                   Shih Tzu               NaN             NaN   \n",
       "5                     Dackel               NaN             NaN   \n",
       "6               Bichon frisé               NaN             NaN   \n",
       "...                      ...               ...             ...   \n",
       "6971  Französische Bulldogge               NaN             NaN   \n",
       "6972         Mischling klein               NaN             NaN   \n",
       "6973         Mischling klein               NaN             NaN   \n",
       "6975         Tibetan Spaniel               NaN             NaN   \n",
       "6978       Yorkshire Terrier               NaN             NaN   \n",
       "\n",
       "      secondary_breed_mix breed_type  birth_year gender_dog  \\\n",
       "0                     NaN          K        2011          w   \n",
       "1                     NaN          K        2002          w   \n",
       "4                     NaN          K        2011          m   \n",
       "5                     NaN          K        2010          m   \n",
       "6                     NaN          K        2012          m   \n",
       "...                   ...        ...         ...        ...   \n",
       "6971                  NaN          K        2014          m   \n",
       "6972                  NaN          K        2015          w   \n",
       "6973                  NaN          K        2015          m   \n",
       "6975                  NaN          K        2007          w   \n",
       "6978                  NaN          K        2015          w   \n",
       "\n",
       "               dog_color  \n",
       "0          schwarz/braun  \n",
       "1                brindle  \n",
       "4          schwarz/weiss  \n",
       "5                  braun  \n",
       "6                  weiss  \n",
       "...                  ...  \n",
       "6971               choco  \n",
       "6972            tricolor  \n",
       "6973       schwarz/braun  \n",
       "6975         braun/beige  \n",
       "6978  schwarz/braun/grau  \n",
       "\n",
       "[4205 rows x 13 columns]"
      ]
     },
     "execution_count": 245,
     "metadata": {},
     "output_type": "execute_result"
    }
   ],
   "source": [
    "df_2015[df_2015['breed_type']=='K']"
   ]
  },
  {
   "cell_type": "code",
   "execution_count": 266,
   "metadata": {},
   "outputs": [
    {
     "data": {
      "text/html": [
       "<div>\n",
       "<style scoped>\n",
       "    .dataframe tbody tr th:only-of-type {\n",
       "        vertical-align: middle;\n",
       "    }\n",
       "\n",
       "    .dataframe tbody tr th {\n",
       "        vertical-align: top;\n",
       "    }\n",
       "\n",
       "    .dataframe thead th {\n",
       "        text-align: right;\n",
       "    }\n",
       "</style>\n",
       "<table border=\"1\" class=\"dataframe\">\n",
       "  <thead>\n",
       "    <tr style=\"text-align: right;\">\n",
       "      <th></th>\n",
       "      <th>age_id</th>\n",
       "      <th>age</th>\n",
       "      <th>gender_owner</th>\n",
       "      <th>city_district</th>\n",
       "      <th>city_quarter</th>\n",
       "      <th>primary_breed</th>\n",
       "      <th>primary_breed_mix</th>\n",
       "      <th>secondary_breed</th>\n",
       "      <th>secondary_breed_mix</th>\n",
       "      <th>breed_type</th>\n",
       "      <th>birth_year</th>\n",
       "      <th>gender_dog</th>\n",
       "      <th>dog_color</th>\n",
       "    </tr>\n",
       "  </thead>\n",
       "  <tbody>\n",
       "    <tr>\n",
       "      <th>2</th>\n",
       "      <td>695</td>\n",
       "      <td>41-50</td>\n",
       "      <td>m</td>\n",
       "      <td>6.0</td>\n",
       "      <td>63.0</td>\n",
       "      <td>Labrador Retriever</td>\n",
       "      <td>NaN</td>\n",
       "      <td>NaN</td>\n",
       "      <td>NaN</td>\n",
       "      <td>I</td>\n",
       "      <td>2012</td>\n",
       "      <td>w</td>\n",
       "      <td>braun</td>\n",
       "    </tr>\n",
       "    <tr>\n",
       "      <th>3</th>\n",
       "      <td>893</td>\n",
       "      <td>61-70</td>\n",
       "      <td>w</td>\n",
       "      <td>7.0</td>\n",
       "      <td>71.0</td>\n",
       "      <td>Mittelschnauzer</td>\n",
       "      <td>NaN</td>\n",
       "      <td>NaN</td>\n",
       "      <td>NaN</td>\n",
       "      <td>I</td>\n",
       "      <td>2010</td>\n",
       "      <td>w</td>\n",
       "      <td>schwarz</td>\n",
       "    </tr>\n",
       "    <tr>\n",
       "      <th>8</th>\n",
       "      <td>4203</td>\n",
       "      <td>41-50</td>\n",
       "      <td>w</td>\n",
       "      <td>2.0</td>\n",
       "      <td>21.0</td>\n",
       "      <td>Labrador Retriever</td>\n",
       "      <td>NaN</td>\n",
       "      <td>Leonberger</td>\n",
       "      <td>NaN</td>\n",
       "      <td>I</td>\n",
       "      <td>2005</td>\n",
       "      <td>w</td>\n",
       "      <td>braun/schwarz</td>\n",
       "    </tr>\n",
       "    <tr>\n",
       "      <th>9</th>\n",
       "      <td>4215</td>\n",
       "      <td>41-50</td>\n",
       "      <td>w</td>\n",
       "      <td>8.0</td>\n",
       "      <td>81.0</td>\n",
       "      <td>Bergamasker</td>\n",
       "      <td>Mischling</td>\n",
       "      <td>NaN</td>\n",
       "      <td>NaN</td>\n",
       "      <td>I</td>\n",
       "      <td>2004</td>\n",
       "      <td>w</td>\n",
       "      <td>schwarz</td>\n",
       "    </tr>\n",
       "    <tr>\n",
       "      <th>10</th>\n",
       "      <td>4215</td>\n",
       "      <td>41-50</td>\n",
       "      <td>w</td>\n",
       "      <td>8.0</td>\n",
       "      <td>81.0</td>\n",
       "      <td>Border Collie</td>\n",
       "      <td>Mischling</td>\n",
       "      <td>NaN</td>\n",
       "      <td>NaN</td>\n",
       "      <td>I</td>\n",
       "      <td>2001</td>\n",
       "      <td>m</td>\n",
       "      <td>schwarz</td>\n",
       "    </tr>\n",
       "    <tr>\n",
       "      <th>...</th>\n",
       "      <td>...</td>\n",
       "      <td>...</td>\n",
       "      <td>...</td>\n",
       "      <td>...</td>\n",
       "      <td>...</td>\n",
       "      <td>...</td>\n",
       "      <td>...</td>\n",
       "      <td>...</td>\n",
       "      <td>...</td>\n",
       "      <td>...</td>\n",
       "      <td>...</td>\n",
       "      <td>...</td>\n",
       "      <td>...</td>\n",
       "    </tr>\n",
       "    <tr>\n",
       "      <th>6967</th>\n",
       "      <td>128445</td>\n",
       "      <td>41-50</td>\n",
       "      <td>w</td>\n",
       "      <td>10.0</td>\n",
       "      <td>101.0</td>\n",
       "      <td>Grosspudel</td>\n",
       "      <td>NaN</td>\n",
       "      <td>NaN</td>\n",
       "      <td>NaN</td>\n",
       "      <td>I</td>\n",
       "      <td>2015</td>\n",
       "      <td>m</td>\n",
       "      <td>silber</td>\n",
       "    </tr>\n",
       "    <tr>\n",
       "      <th>6974</th>\n",
       "      <td>128462</td>\n",
       "      <td>21-30</td>\n",
       "      <td>w</td>\n",
       "      <td>5.0</td>\n",
       "      <td>52.0</td>\n",
       "      <td>Old Englische Bulldogge</td>\n",
       "      <td>NaN</td>\n",
       "      <td>NaN</td>\n",
       "      <td>NaN</td>\n",
       "      <td>I</td>\n",
       "      <td>2015</td>\n",
       "      <td>m</td>\n",
       "      <td>weiss gestromt</td>\n",
       "    </tr>\n",
       "    <tr>\n",
       "      <th>6976</th>\n",
       "      <td>128471</td>\n",
       "      <td>21-30</td>\n",
       "      <td>w</td>\n",
       "      <td>8.0</td>\n",
       "      <td>83.0</td>\n",
       "      <td>Rottweiler</td>\n",
       "      <td>NaN</td>\n",
       "      <td>NaN</td>\n",
       "      <td>NaN</td>\n",
       "      <td>I</td>\n",
       "      <td>2014</td>\n",
       "      <td>m</td>\n",
       "      <td>schwarz/rot</td>\n",
       "    </tr>\n",
       "    <tr>\n",
       "      <th>6977</th>\n",
       "      <td>128479</td>\n",
       "      <td>51-60</td>\n",
       "      <td>w</td>\n",
       "      <td>6.0</td>\n",
       "      <td>63.0</td>\n",
       "      <td>Lagotto Romagnolo</td>\n",
       "      <td>Mischling</td>\n",
       "      <td>NaN</td>\n",
       "      <td>NaN</td>\n",
       "      <td>I</td>\n",
       "      <td>2007</td>\n",
       "      <td>m</td>\n",
       "      <td>weiss/grau</td>\n",
       "    </tr>\n",
       "    <tr>\n",
       "      <th>6979</th>\n",
       "      <td>128485</td>\n",
       "      <td>21-30</td>\n",
       "      <td>w</td>\n",
       "      <td>7.0</td>\n",
       "      <td>74.0</td>\n",
       "      <td>Magyar Viszla</td>\n",
       "      <td>NaN</td>\n",
       "      <td>NaN</td>\n",
       "      <td>NaN</td>\n",
       "      <td>I</td>\n",
       "      <td>2014</td>\n",
       "      <td>w</td>\n",
       "      <td>gelb</td>\n",
       "    </tr>\n",
       "  </tbody>\n",
       "</table>\n",
       "<p>2576 rows × 13 columns</p>\n",
       "</div>"
      ],
      "text/plain": [
       "      age_id    age gender_owner  city_district  city_quarter  \\\n",
       "2        695  41-50            m            6.0          63.0   \n",
       "3        893  61-70            w            7.0          71.0   \n",
       "8       4203  41-50            w            2.0          21.0   \n",
       "9       4215  41-50            w            8.0          81.0   \n",
       "10      4215  41-50            w            8.0          81.0   \n",
       "...      ...    ...          ...            ...           ...   \n",
       "6967  128445  41-50            w           10.0         101.0   \n",
       "6974  128462  21-30            w            5.0          52.0   \n",
       "6976  128471  21-30            w            8.0          83.0   \n",
       "6977  128479  51-60            w            6.0          63.0   \n",
       "6979  128485  21-30            w            7.0          74.0   \n",
       "\n",
       "                primary_breed primary_breed_mix secondary_breed  \\\n",
       "2          Labrador Retriever               NaN             NaN   \n",
       "3             Mittelschnauzer               NaN             NaN   \n",
       "8          Labrador Retriever               NaN      Leonberger   \n",
       "9                 Bergamasker         Mischling             NaN   \n",
       "10              Border Collie         Mischling             NaN   \n",
       "...                       ...               ...             ...   \n",
       "6967               Grosspudel               NaN             NaN   \n",
       "6974  Old Englische Bulldogge               NaN             NaN   \n",
       "6976               Rottweiler               NaN             NaN   \n",
       "6977        Lagotto Romagnolo         Mischling             NaN   \n",
       "6979            Magyar Viszla               NaN             NaN   \n",
       "\n",
       "      secondary_breed_mix breed_type  birth_year gender_dog       dog_color  \n",
       "2                     NaN          I        2012          w           braun  \n",
       "3                     NaN          I        2010          w         schwarz  \n",
       "8                     NaN          I        2005          w   braun/schwarz  \n",
       "9                     NaN          I        2004          w         schwarz  \n",
       "10                    NaN          I        2001          m         schwarz  \n",
       "...                   ...        ...         ...        ...             ...  \n",
       "6967                  NaN          I        2015          m          silber  \n",
       "6974                  NaN          I        2015          m  weiss gestromt  \n",
       "6976                  NaN          I        2014          m     schwarz/rot  \n",
       "6977                  NaN          I        2007          m      weiss/grau  \n",
       "6979                  NaN          I        2014          w            gelb  \n",
       "\n",
       "[2576 rows x 13 columns]"
      ]
     },
     "execution_count": 266,
     "metadata": {},
     "output_type": "execute_result"
    }
   ],
   "source": [
    "df_2015[df_2015['breed_type']=='I']"
   ]
  },
  {
   "cell_type": "markdown",
   "metadata": {},
   "source": [
    "## birth_year"
   ]
  },
  {
   "cell_type": "markdown",
   "metadata": {},
   "source": [
    "## gender_dog"
   ]
  },
  {
   "cell_type": "code",
   "execution_count": 281,
   "metadata": {},
   "outputs": [
    {
     "data": {
      "image/png": "[encoded data removed]",
      "text/plain": [
       "<Figure size 427.25x360 with 1 Axes>"
      ]
     },
     "metadata": {
      "needs_background": "light"
     },
     "output_type": "display_data"
    }
   ],
   "source": [
    "# chart plot of 'age'\n",
    "\n",
    "ax = sns.catplot(x='gender_owner', data=df_2015, kind='count', hue='gender_dog')\n",
    "\n",
    "\n",
    "# Add a title\n",
    "ax.fig.suptitle(\"Do Female Owners Prefer Female Dogs?\")\n",
    "# Update the axis labels\n",
    "ax.set_axis_labels(\"Owner Gender\", \"Count\")\n",
    "ax.savefig('gender_gender.png');"
   ]
  },
  {
   "cell_type": "code",
   "execution_count": 282,
   "metadata": {},
   "outputs": [
    {
     "data": {
      "image/png": "[encoded data removed]",
      "text/plain": [
       "<Figure size 423.875x360 with 1 Axes>"
      ]
     },
     "metadata": {
      "needs_background": "light"
     },
     "output_type": "display_data"
    }
   ],
   "source": [
    "# chart plot of 'age'\n",
    "\n",
    "ax = sns.catplot(x='gender_owner', data=df_2015, kind='count', hue='breed_type')\n",
    "\n",
    "\n",
    "# Add a title\n",
    "ax.fig.suptitle(\"Do Female Owners Prefer Female Dogs?\")\n",
    "# Update the axis labels\n",
    "ax.set_axis_labels(\"Owner Gender\", \"Count\")\n",
    "ax.savefig('gender_breed.png');"
   ]
  },
  {
   "cell_type": "code",
   "execution_count": null,
   "metadata": {},
   "outputs": [],
   "source": []
  },
  {
   "cell_type": "code",
   "execution_count": null,
   "metadata": {},
   "outputs": [],
   "source": []
  },
  {
   "cell_type": "markdown",
   "metadata": {},
   "source": [
    "## dog_color"
   ]
  },
  {
   "cell_type": "code",
   "execution_count": 250,
   "metadata": {},
   "outputs": [
    {
     "data": {
      "text/plain": [
       "169"
      ]
     },
     "execution_count": 250,
     "metadata": {},
     "output_type": "execute_result"
    }
   ],
   "source": [
    "df_2015['dog_color'].nunique()"
   ]
  },
  {
   "cell_type": "code",
   "execution_count": 255,
   "metadata": {},
   "outputs": [
    {
     "data": {
      "text/plain": [
       "schwarz             764\n",
       "tricolor            669\n",
       "weiss               544\n",
       "braun               530\n",
       "schwarz/weiss       443\n",
       "                   ... \n",
       "orange Schimmel       1\n",
       "mahagoni/weiss        1\n",
       "rotblond              1\n",
       "gold/schwarz          1\n",
       "grau/braun/weiss      1\n",
       "Name: dog_color, Length: 169, dtype: int64"
      ]
     },
     "execution_count": 255,
     "metadata": {},
     "output_type": "execute_result"
    }
   ],
   "source": [
    "df_2015['dog_color'].value_counts()"
   ]
  },
  {
   "cell_type": "code",
   "execution_count": 254,
   "metadata": {},
   "outputs": [
    {
     "data": {
      "text/plain": [
       "2354"
      ]
     },
     "execution_count": 254,
     "metadata": {},
     "output_type": "execute_result"
    }
   ],
   "source": [
    "df_2015[\"dog_color\"].str.contains(\"schwarz\", regex=False).sum()"
   ]
  },
  {
   "cell_type": "code",
   "execution_count": 261,
   "metadata": {},
   "outputs": [
    {
     "data": {
      "text/plain": [
       "0             [schwarz, braun]\n",
       "1                    [brindle]\n",
       "2                      [braun]\n",
       "3                    [schwarz]\n",
       "4             [schwarz, weiss]\n",
       "                 ...          \n",
       "6975            [braun, beige]\n",
       "6976            [schwarz, rot]\n",
       "6977             [weiss, grau]\n",
       "6978    [schwarz, braun, grau]\n",
       "6979                    [gelb]\n",
       "Name: dog_color, Length: 6980, dtype: object"
      ]
     },
     "execution_count": 261,
     "metadata": {},
     "output_type": "execute_result"
    }
   ],
   "source": [
    "df_2015['dog_color'].str.split('/')"
   ]
  },
  {
   "cell_type": "code",
   "execution_count": null,
   "metadata": {},
   "outputs": [],
   "source": []
  },
  {
   "cell_type": "code",
   "execution_count": null,
   "metadata": {},
   "outputs": [],
   "source": []
  },
  {
   "cell_type": "code",
   "execution_count": null,
   "metadata": {},
   "outputs": [],
   "source": []
  },
  {
   "cell_type": "code",
   "execution_count": null,
   "metadata": {},
   "outputs": [],
   "source": []
  },
  {
   "cell_type": "code",
   "execution_count": null,
   "metadata": {},
   "outputs": [],
   "source": []
  },
  {
   "cell_type": "code",
   "execution_count": null,
   "metadata": {},
   "outputs": [],
   "source": []
  },
  {
   "cell_type": "code",
   "execution_count": null,
   "metadata": {},
   "outputs": [],
   "source": [
    "# for unique values within each columns\n",
    "columns = df_2015.columns.to_list()\n",
    "columns\n",
    "\n",
    "for name in columns:b\n",
    "    print(\"column name: {} --> number of unique values: {}\".format(name, df_2015[name].nunique()))\n"
   ]
  },
  {
   "cell_type": "code",
   "execution_count": null,
   "metadata": {},
   "outputs": [],
   "source": [
    "# dtype of each column\n",
    "columns = df_2015.columns.to_list()\n",
    "columns\n",
    "\n",
    "for name in columns:\n",
    "    print(\"column name: {} ->  dtype: {}\".format(name, df_2015[name].dtype))\n"
   ]
  },
  {
   "cell_type": "markdown",
   "metadata": {},
   "source": [
    "## 'age' category"
   ]
  },
  {
   "cell_type": "code",
   "execution_count": null,
   "metadata": {},
   "outputs": [],
   "source": [
    "\n",
    "\n"
   ]
  },
  {
   "cell_type": "code",
   "execution_count": null,
   "metadata": {},
   "outputs": [],
   "source": []
  },
  {
   "cell_type": "code",
   "execution_count": null,
   "metadata": {},
   "outputs": [],
   "source": []
  },
  {
   "cell_type": "code",
   "execution_count": null,
   "metadata": {},
   "outputs": [],
   "source": [
    "# check for NaN missing values in each column \n",
    "\n",
    "columns = df_2015.columns.to_list()\n",
    "columns\n",
    "\n",
    "for name in columns:\n",
    "    print(\"column name: {} --> number of missing, NaN values: {}\".format(name, df_2015[name].isna().sum()))"
   ]
  },
  {
   "cell_type": "code",
   "execution_count": null,
   "metadata": {},
   "outputs": [],
   "source": [
    "# value counts include NaN values.  dropna=False \n",
    "df_2015['breed_type'].value_counts(dropna=False)"
   ]
  },
  {
   "cell_type": "markdown",
   "metadata": {},
   "source": [
    "# Story Outline:\n",
    "\n",
    "## Changes in ownership behavior over a three year period, 2015-2017.\n",
    "## Ownership patterns?\n",
    "## Age distribution?"
   ]
  },
  {
   "cell_type": "code",
   "execution_count": null,
   "metadata": {},
   "outputs": [],
   "source": []
  },
  {
   "cell_type": "code",
   "execution_count": null,
   "metadata": {},
   "outputs": [],
   "source": []
  },
  {
   "cell_type": "code",
   "execution_count": null,
   "metadata": {},
   "outputs": [],
   "source": []
  },
  {
   "cell_type": "code",
   "execution_count": null,
   "metadata": {},
   "outputs": [],
   "source": []
  }
 ],
 "metadata": {
  "kernelspec": {
   "display_name": "Python 3",
   "language": "python",
   "name": "python3"
  },
  "language_info": {
   "codemirror_mode": {
    "name": "ipython",
    "version": 3
   },
   "file_extension": ".py",
   "mimetype": "text/x-python",
   "name": "python",
   "nbconvert_exporter": "python",
   "pygments_lexer": "ipython3",
   "version": "3.8.5"
  },
  "toc": {
   "base_numbering": 1,
   "nav_menu": {},
   "number_sections": true,
   "sideBar": true,
   "skip_h1_title": false,
   "title_cell": "Table of Contents",
   "title_sidebar": "Contents",
   "toc_cell": false,
   "toc_position": {},
   "toc_section_display": true,
   "toc_window_display": true
  },
  "varInspector": {
   "cols": {
    "lenName": 16,
    "lenType": 16,
    "lenVar": 40
   },
   "kernels_config": {
    "python": {
     "delete_cmd_postfix": "",
     "delete_cmd_prefix": "del ",
     "library": "var_list.py",
     "varRefreshCmd": "print(var_dic_list())"
    },
    "r": {
     "delete_cmd_postfix": ") ",
     "delete_cmd_prefix": "rm(",
     "library": "var_list.r",
     "varRefreshCmd": "cat(var_dic_list()) "
    }
   },
   "types_to_exclude": [
    "module",
    "function",
    "builtin_function_or_method",
    "instance",
    "_Feature"
   ],
   "window_display": false
  }
 },
 "nbformat": 4,
 "nbformat_minor": 4
}
